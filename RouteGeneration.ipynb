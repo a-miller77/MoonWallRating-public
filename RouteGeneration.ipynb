{
 "cells": [
  {
   "cell_type": "code",
   "execution_count": 2,
   "id": "d12172ff",
   "metadata": {},
   "outputs": [],
   "source": [
    "from preprocessing import vocab_size, add_start_stop\n",
    "from sklearn.model_selection import train_test_split\n",
    "from sklearn.metrics import confusion_matrix\n",
    "from IPython.display import clear_output\n",
    "from tensorflow.keras import layers\n",
    "import matplotlib.pyplot as plt\n",
    "from tensorflow import keras\n",
    "import tensorflow as tf\n",
    "import seaborn as sns\n",
    "import numpy as np\n",
    "import pickle"
   ]
  },
  {
   "cell_type": "markdown",
   "id": "20e1e3f4",
   "metadata": {},
   "source": [
    "### Import the Data"
   ]
  },
  {
   "cell_type": "code",
   "execution_count": 3,
   "id": "470e08f1",
   "metadata": {},
   "outputs": [],
   "source": [
    "with open('./data/train_preprocessed_routes', 'rb') as f:\n",
    "    X_train = pickle.load(f)['X']\n",
    "with open('./data/test_preprocessed_routes', 'rb') as f:\n",
    "    X_test = pickle.load(f)['X']\n",
    "with open('./data/val_preprocessed_routes', 'rb') as f:\n",
    "    X_val = pickle.load(f)['X']"
   ]
  },
  {
   "cell_type": "code",
   "execution_count": 7,
   "id": "a79a432b",
   "metadata": {},
   "outputs": [],
   "source": [
    "X_train = np.apply_along_axis(add_start_stop, 1, X_train)\n",
    "X_test = np.apply_along_axis(add_start_stop, 1, X_train)\n",
    "X_val = np.apply_along_axis(add_start_stop, 1, X_train)"
   ]
  },
  {
   "cell_type": "code",
   "execution_count": 8,
   "id": "bd6171f0",
   "metadata": {},
   "outputs": [],
   "source": [
    "y_train = np.hstack((X_train[:, 1:], np.zeros((len(X_train), 1))))\n",
    "y_test = np.hstack((X_test[:, 1:], np.zeros((len(X_test), 1))))\n",
    "y_val = np.hstack((X_val[:, 1:], np.zeros((len(X_val), 1))))"
   ]
  },
  {
   "cell_type": "markdown",
   "id": "0020e732",
   "metadata": {},
   "source": [
    "### Model Definition"
   ]
  },
  {
   "cell_type": "code",
   "execution_count": 10,
   "id": "1a2ef423",
   "metadata": {},
   "outputs": [],
   "source": [
    "def positional_encoding(length, depth):\n",
    "    depth = depth/2\n",
    "\n",
    "    positions = np.arange(length)[:, np.newaxis]     # (seq, 1)\n",
    "    depths = np.arange(depth)[np.newaxis, :]/depth   # (1, depth)\n",
    "\n",
    "    angle_rates = 1 / (10000**depths)         # (1, depth)\n",
    "    angle_rads = positions * angle_rates      # (pos, depth)\n",
    "\n",
    "    pos_encoding = np.concatenate(\n",
    "      [np.sin(angle_rads), np.cos(angle_rads)],\n",
    "      axis=-1) \n",
    "\n",
    "    return tf.cast(pos_encoding, dtype=tf.float32)"
   ]
  },
  {
   "cell_type": "code",
   "execution_count": 11,
   "id": "37373c5f",
   "metadata": {},
   "outputs": [],
   "source": [
    "class PositionalEmbedding(tf.keras.layers.Layer):\n",
    "    def __init__(self, vocab_size, d_model):\n",
    "        super().__init__()\n",
    "        self.d_model = d_model\n",
    "        self.embedding = tf.keras.layers.Embedding(vocab_size, d_model, mask_zero=True) \n",
    "        self.pos_encoding = positional_encoding(length=2048, depth=d_model)\n",
    "\n",
    "    def compute_mask(self, *args, **kwargs):\n",
    "        return self.embedding.compute_mask(*args, **kwargs)\n",
    "\n",
    "    def call(self, x):\n",
    "        length = tf.shape(x)[1]\n",
    "        x = self.embedding(x)\n",
    "        # This factor sets the relative scale of the embedding and positonal_encoding.\n",
    "        x *= tf.math.sqrt(tf.cast(self.d_model, tf.float32))\n",
    "        x = x + self.pos_encoding[tf.newaxis, :length, :]\n",
    "        return x"
   ]
  },
  {
   "cell_type": "code",
   "execution_count": 12,
   "id": "5109efed",
   "metadata": {},
   "outputs": [],
   "source": [
    "class BaseAttention(tf.keras.layers.Layer):\n",
    "    def __init__(self, **kwargs):\n",
    "        super().__init__()\n",
    "        self.mha = tf.keras.layers.MultiHeadAttention(**kwargs)\n",
    "        self.layernorm = tf.keras.layers.LayerNormalization()\n",
    "        self.add = tf.keras.layers.Add()\n",
    "\n",
    "class CausalSelfAttention(BaseAttention):\n",
    "    def call(self, x):\n",
    "        attn_output = self.mha(\n",
    "            query=x,\n",
    "            value=x,\n",
    "            key=x,\n",
    "            use_causal_mask = True)\n",
    "        x = self.add([x, attn_output])\n",
    "        x = self.layernorm(x)\n",
    "        return x"
   ]
  },
  {
   "cell_type": "code",
   "execution_count": 13,
   "id": "48809d7b",
   "metadata": {},
   "outputs": [],
   "source": [
    "class FeedForward(tf.keras.layers.Layer):\n",
    "    def __init__(self, d_model, dff, dropout_rate=0.1):\n",
    "        super().__init__()\n",
    "        self.seq = tf.keras.Sequential([\n",
    "          tf.keras.layers.Dense(dff, activation='relu'),\n",
    "          tf.keras.layers.Dense(d_model),\n",
    "          tf.keras.layers.Dropout(dropout_rate)\n",
    "        ])\n",
    "        self.add = tf.keras.layers.Add()\n",
    "        self.layer_norm = tf.keras.layers.LayerNormalization()\n",
    "\n",
    "    def call(self, x):\n",
    "        x = self.add([x, self.seq(x)])\n",
    "        x = self.layer_norm(x) \n",
    "        return x"
   ]
  },
  {
   "cell_type": "code",
   "execution_count": 14,
   "id": "a9de6470",
   "metadata": {},
   "outputs": [],
   "source": [
    "class DecoderLayer(tf.keras.layers.Layer):\n",
    "    def __init__(self,\n",
    "               *,\n",
    "               d_model,\n",
    "               num_heads,\n",
    "               dff,\n",
    "               dropout_rate=0.1):\n",
    "        super(DecoderLayer, self).__init__()\n",
    "\n",
    "        self.causal_self_attention = CausalSelfAttention(\n",
    "            num_heads=num_heads,\n",
    "            key_dim=d_model,\n",
    "            dropout=dropout_rate)\n",
    "\n",
    "        self.ffn = FeedForward(d_model, dff)\n",
    "\n",
    "    def call(self, x):\n",
    "        x = self.causal_self_attention(x=x)\n",
    "\n",
    "        x = self.ffn(x)  # Shape `(batch_size, seq_len, d_model)`.\n",
    "        return x"
   ]
  },
  {
   "cell_type": "code",
   "execution_count": 15,
   "id": "d27eb7db",
   "metadata": {},
   "outputs": [],
   "source": [
    "class Decoder(tf.keras.layers.Layer):\n",
    "    def __init__(self, *, num_layers, d_model, num_heads, dff, vocab_size,\n",
    "               dropout_rate=0.1):\n",
    "        super(Decoder, self).__init__()\n",
    "\n",
    "        self.d_model = d_model\n",
    "        self.num_layers = num_layers\n",
    "\n",
    "        self.pos_embedding = PositionalEmbedding(vocab_size=vocab_size,\n",
    "                                                 d_model=d_model)\n",
    "        self.dropout = tf.keras.layers.Dropout(dropout_rate)\n",
    "        self.dec_layers = [\n",
    "            DecoderLayer(d_model=d_model, num_heads=num_heads,\n",
    "                         dff=dff, dropout_rate=dropout_rate)\n",
    "            for _ in range(num_layers)]\n",
    "\n",
    "        self.last_attn_scores = None\n",
    "\n",
    "    def call(self, x):\n",
    "        # `x` is token-IDs shape (batch, target_seq_len)\n",
    "        x = self.pos_embedding(x)  # (batch_size, target_seq_len, d_model)\n",
    "\n",
    "        x = self.dropout(x)\n",
    "\n",
    "        for i in range(self.num_layers):\n",
    "            x  = self.dec_layers[i](x)\n",
    "\n",
    "        # The shape of x is (batch_size, target_seq_len, d_model).\n",
    "        return x"
   ]
  },
  {
   "cell_type": "code",
   "execution_count": 16,
   "id": "47d63b66",
   "metadata": {},
   "outputs": [],
   "source": [
    "class DecoderGenerator(tf.keras.Model):\n",
    "    def __init__(self, *, num_layers, d_model, num_heads, dff, vocab_size, dropout_rate=0.1):\n",
    "        super().__init__()\n",
    "        \n",
    "        self.decoder = Decoder(num_layers=num_layers, d_model=d_model, num_heads=num_heads, dff=dff, vocab_size=vocab_size, dropout_rate=dropout_rate)\n",
    "        self.final_layer = tf.keras.layers.Dense(vocab_size, activation='softmax')\n",
    "\n",
    "    def call(self, x):\n",
    "        x = self.decoder(x)\n",
    "        logits = self.final_layer(x)\n",
    "\n",
    "        try:\n",
    "            del logits._keras_mask\n",
    "        except AttributeError:\n",
    "            pass\n",
    "\n",
    "        return logits"
   ]
  },
  {
   "cell_type": "code",
   "execution_count": 17,
   "id": "f29b595d",
   "metadata": {},
   "outputs": [],
   "source": [
    "class CustomSchedule(tf.keras.optimizers.schedules.LearningRateSchedule):\n",
    "    def __init__(self, d_model, warmup_steps=4000):\n",
    "        super().__init__()\n",
    "\n",
    "        self.d_model = d_model\n",
    "        self.d_model = tf.cast(self.d_model, tf.float32)\n",
    "\n",
    "        self.warmup_steps = warmup_steps\n",
    "\n",
    "    def __call__(self, step):\n",
    "        step = tf.cast(step, dtype=tf.float32)\n",
    "        arg1 = tf.math.rsqrt(step)\n",
    "        arg2 = step * (self.warmup_steps ** -1.5)\n",
    "\n",
    "        return tf.math.rsqrt(self.d_model) * tf.math.minimum(arg1, arg2)"
   ]
  },
  {
   "cell_type": "code",
   "execution_count": 18,
   "id": "9a43d63a",
   "metadata": {},
   "outputs": [],
   "source": [
    "def masked_loss(label, pred):\n",
    "    mask = label != 0\n",
    "    loss_object = tf.keras.losses.SparseCategoricalCrossentropy(\n",
    "        from_logits=False, reduction='none')\n",
    "    loss = loss_object(label, pred)\n",
    "\n",
    "    mask = tf.cast(mask, dtype=loss.dtype)\n",
    "    loss *= mask\n",
    "\n",
    "    loss = tf.reduce_sum(loss)/tf.reduce_sum(mask)\n",
    "    return loss\n",
    "\n",
    "def masked_accuracy(label, pred):\n",
    "    pred = tf.argmax(pred, axis=2)\n",
    "    label = tf.cast(label, pred.dtype)\n",
    "    match = label == pred\n",
    "\n",
    "    mask = label != 0\n",
    "\n",
    "    match = match & mask\n",
    "\n",
    "    match = tf.cast(match, dtype=tf.float32)\n",
    "    mask = tf.cast(mask, dtype=tf.float32)\n",
    "    return tf.reduce_sum(match)/tf.reduce_sum(mask)"
   ]
  },
  {
   "cell_type": "markdown",
   "id": "f62a4c04",
   "metadata": {},
   "source": [
    "### Model Training"
   ]
  },
  {
   "cell_type": "code",
   "execution_count": 24,
   "id": "b5ce8eb8",
   "metadata": {},
   "outputs": [],
   "source": [
    "num_layers = 8\n",
    "d_model = 128\n",
    "dff = 512\n",
    "num_heads = 4\n",
    "dropout_rate = 0.1\n",
    "epochs = 100\n",
    "batch_size = 64"
   ]
  },
  {
   "cell_type": "code",
   "execution_count": 25,
   "id": "404169da",
   "metadata": {},
   "outputs": [],
   "source": [
    "train_dataset = tf.data.Dataset.from_tensor_slices((X_train, y_train)).batch(batch_size)\n",
    "val_dataset = tf.data.Dataset.from_tensor_slices((X_val, y_val)).batch(batch_size)"
   ]
  },
  {
   "cell_type": "code",
   "execution_count": 26,
   "id": "bae5032b",
   "metadata": {},
   "outputs": [],
   "source": [
    "learning_rate = CustomSchedule(d_model)\n",
    "optimizer = tf.keras.optimizers.Adam(learning_rate, beta_1=0.9, beta_2=0.98, epsilon=1e-9)"
   ]
  },
  {
   "cell_type": "code",
   "execution_count": 27,
   "id": "8d267228",
   "metadata": {},
   "outputs": [],
   "source": [
    "model = DecoderGenerator(\n",
    "    num_layers=num_layers,\n",
    "    d_model=d_model,\n",
    "    num_heads=num_heads,\n",
    "    dff=dff,\n",
    "    vocab_size=vocab_size\n",
    ")"
   ]
  },
  {
   "cell_type": "code",
   "execution_count": 28,
   "id": "7e79a8b3",
   "metadata": {},
   "outputs": [],
   "source": [
    "model.compile(\n",
    "    loss=masked_loss,\n",
    "    optimizer=optimizer,\n",
    "    metrics=[masked_accuracy]\n",
    ")"
   ]
  },
  {
   "cell_type": "code",
   "execution_count": 46,
   "id": "f2b1e652",
   "metadata": {},
   "outputs": [
    {
     "name": "stdout",
     "output_type": "stream",
     "text": [
      "Epoch 1/100\n",
      "298/298 [==============================] - 14s 46ms/step - loss: 1.0297 - masked_accuracy: 0.6899 - val_loss: 4.5019 - val_masked_accuracy: 0.5705\n",
      "Epoch 2/100\n",
      "298/298 [==============================] - 14s 46ms/step - loss: 1.0292 - masked_accuracy: 0.6897 - val_loss: 4.5886 - val_masked_accuracy: 0.5554\n",
      "Epoch 3/100\n",
      "298/298 [==============================] - 14s 46ms/step - loss: 1.0283 - masked_accuracy: 0.6900 - val_loss: 5.8389 - val_masked_accuracy: 0.3856\n",
      "Epoch 4/100\n",
      "298/298 [==============================] - 14s 46ms/step - loss: 1.0239 - masked_accuracy: 0.6906 - val_loss: 4.4390 - val_masked_accuracy: 0.5707\n",
      "Epoch 5/100\n",
      "298/298 [==============================] - 14s 46ms/step - loss: 1.0197 - masked_accuracy: 0.6925 - val_loss: 4.6178 - val_masked_accuracy: 0.5424\n",
      "Epoch 6/100\n",
      "298/298 [==============================] - 14s 46ms/step - loss: 1.0199 - masked_accuracy: 0.6920 - val_loss: 4.5740 - val_masked_accuracy: 0.5566\n",
      "Epoch 7/100\n",
      "298/298 [==============================] - 14s 46ms/step - loss: 1.0196 - masked_accuracy: 0.6919 - val_loss: 4.6895 - val_masked_accuracy: 0.5440\n",
      "Epoch 8/100\n",
      "298/298 [==============================] - 14s 46ms/step - loss: 1.0176 - masked_accuracy: 0.6928 - val_loss: 4.5365 - val_masked_accuracy: 0.5615\n",
      "Epoch 9/100\n",
      "298/298 [==============================] - 14s 46ms/step - loss: 1.0116 - masked_accuracy: 0.6934 - val_loss: 4.7535 - val_masked_accuracy: 0.5520\n",
      "Epoch 10/100\n",
      "298/298 [==============================] - 14s 46ms/step - loss: 1.0143 - masked_accuracy: 0.6937 - val_loss: 4.8082 - val_masked_accuracy: 0.5518\n",
      "Epoch 11/100\n",
      "298/298 [==============================] - 14s 46ms/step - loss: 1.0080 - masked_accuracy: 0.6960 - val_loss: 4.6957 - val_masked_accuracy: 0.5522\n",
      "Epoch 12/100\n",
      "298/298 [==============================] - 14s 46ms/step - loss: 1.0093 - masked_accuracy: 0.6954 - val_loss: 4.7763 - val_masked_accuracy: 0.5508\n",
      "Epoch 13/100\n",
      "298/298 [==============================] - 14s 46ms/step - loss: 1.0079 - masked_accuracy: 0.6955 - val_loss: 4.6170 - val_masked_accuracy: 0.5701\n",
      "Epoch 14/100\n",
      "298/298 [==============================] - 14s 46ms/step - loss: 1.0034 - masked_accuracy: 0.6957 - val_loss: 6.0736 - val_masked_accuracy: 0.4027\n",
      "Epoch 15/100\n",
      "298/298 [==============================] - 14s 46ms/step - loss: 1.0055 - masked_accuracy: 0.6957 - val_loss: 5.9111 - val_masked_accuracy: 0.4193\n",
      "Epoch 16/100\n",
      "298/298 [==============================] - 14s 47ms/step - loss: 1.0014 - masked_accuracy: 0.6969 - val_loss: 6.6487 - val_masked_accuracy: 0.3739\n",
      "Epoch 17/100\n",
      "298/298 [==============================] - 14s 46ms/step - loss: 1.0004 - masked_accuracy: 0.6975 - val_loss: 4.8311 - val_masked_accuracy: 0.5619\n",
      "Epoch 18/100\n",
      "298/298 [==============================] - 14s 46ms/step - loss: 0.9974 - masked_accuracy: 0.6978 - val_loss: 4.7177 - val_masked_accuracy: 0.5746\n",
      "Epoch 19/100\n",
      "298/298 [==============================] - 14s 46ms/step - loss: 0.9968 - masked_accuracy: 0.6983 - val_loss: 4.7505 - val_masked_accuracy: 0.5653\n",
      "Epoch 20/100\n",
      "298/298 [==============================] - 14s 46ms/step - loss: 0.9964 - masked_accuracy: 0.6987 - val_loss: 6.5523 - val_masked_accuracy: 0.3495\n",
      "Epoch 21/100\n",
      "298/298 [==============================] - 14s 46ms/step - loss: 0.9938 - masked_accuracy: 0.6993 - val_loss: 4.8012 - val_masked_accuracy: 0.5611\n",
      "Epoch 22/100\n",
      "298/298 [==============================] - 14s 46ms/step - loss: 0.9921 - masked_accuracy: 0.6996 - val_loss: 4.8405 - val_masked_accuracy: 0.5671\n",
      "Epoch 23/100\n",
      "298/298 [==============================] - 14s 46ms/step - loss: 0.9923 - masked_accuracy: 0.6991 - val_loss: 4.6862 - val_masked_accuracy: 0.5672\n",
      "Epoch 24/100\n",
      "298/298 [==============================] - 14s 46ms/step - loss: 0.9909 - masked_accuracy: 0.6999 - val_loss: 4.8921 - val_masked_accuracy: 0.5559\n",
      "Epoch 25/100\n",
      "298/298 [==============================] - 14s 46ms/step - loss: 0.9887 - masked_accuracy: 0.7004 - val_loss: 4.8121 - val_masked_accuracy: 0.5747\n",
      "Epoch 26/100\n",
      "298/298 [==============================] - 14s 46ms/step - loss: 0.9896 - masked_accuracy: 0.7005 - val_loss: 4.6447 - val_masked_accuracy: 0.5729\n",
      "Epoch 27/100\n",
      "298/298 [==============================] - 14s 46ms/step - loss: 0.9866 - masked_accuracy: 0.7013 - val_loss: 4.6791 - val_masked_accuracy: 0.5748\n",
      "Epoch 28/100\n",
      "298/298 [==============================] - 14s 46ms/step - loss: 0.9835 - masked_accuracy: 0.7020 - val_loss: 4.6431 - val_masked_accuracy: 0.5719\n",
      "Epoch 29/100\n",
      "298/298 [==============================] - 14s 46ms/step - loss: 0.9871 - masked_accuracy: 0.7018 - val_loss: 4.7191 - val_masked_accuracy: 0.5492\n",
      "Epoch 30/100\n",
      "298/298 [==============================] - 14s 46ms/step - loss: 0.9828 - masked_accuracy: 0.7017 - val_loss: 4.8075 - val_masked_accuracy: 0.5288\n",
      "Epoch 31/100\n",
      "298/298 [==============================] - 14s 46ms/step - loss: 0.9809 - masked_accuracy: 0.7028 - val_loss: 4.7368 - val_masked_accuracy: 0.5689\n",
      "Epoch 32/100\n",
      "298/298 [==============================] - 14s 46ms/step - loss: 0.9781 - masked_accuracy: 0.7043 - val_loss: 4.7116 - val_masked_accuracy: 0.5706\n",
      "Epoch 33/100\n",
      "298/298 [==============================] - 14s 46ms/step - loss: 0.9792 - masked_accuracy: 0.7036 - val_loss: 4.6254 - val_masked_accuracy: 0.5707\n",
      "Epoch 34/100\n",
      "298/298 [==============================] - 14s 47ms/step - loss: 0.9781 - masked_accuracy: 0.7046 - val_loss: 7.1475 - val_masked_accuracy: 0.2926\n",
      "Epoch 35/100\n",
      "298/298 [==============================] - 14s 46ms/step - loss: 0.9750 - masked_accuracy: 0.7047 - val_loss: 6.9886 - val_masked_accuracy: 0.3745\n",
      "Epoch 36/100\n",
      "298/298 [==============================] - 14s 46ms/step - loss: 0.9734 - masked_accuracy: 0.7045 - val_loss: 4.8309 - val_masked_accuracy: 0.5680\n",
      "Epoch 37/100\n",
      "298/298 [==============================] - 14s 46ms/step - loss: 0.9710 - masked_accuracy: 0.7060 - val_loss: 7.1568 - val_masked_accuracy: 0.3042\n",
      "Epoch 38/100\n",
      "298/298 [==============================] - 14s 46ms/step - loss: 0.9711 - masked_accuracy: 0.7057 - val_loss: 7.0321 - val_masked_accuracy: 0.3003\n",
      "Epoch 39/100\n",
      "298/298 [==============================] - 14s 46ms/step - loss: 0.9717 - masked_accuracy: 0.7052 - val_loss: 7.1226 - val_masked_accuracy: 0.3670\n",
      "Epoch 40/100\n",
      "298/298 [==============================] - 14s 46ms/step - loss: 0.9697 - masked_accuracy: 0.7061 - val_loss: 6.4341 - val_masked_accuracy: 0.3801\n",
      "Epoch 41/100\n",
      "298/298 [==============================] - 14s 46ms/step - loss: 0.9693 - masked_accuracy: 0.7059 - val_loss: 4.6409 - val_masked_accuracy: 0.5626\n",
      "Epoch 42/100\n",
      "298/298 [==============================] - 14s 46ms/step - loss: 0.9682 - masked_accuracy: 0.7061 - val_loss: 4.8514 - val_masked_accuracy: 0.5472\n",
      "Epoch 43/100\n",
      "298/298 [==============================] - 14s 46ms/step - loss: 0.9671 - masked_accuracy: 0.7065 - val_loss: 4.8396 - val_masked_accuracy: 0.5590\n",
      "Epoch 44/100\n",
      "298/298 [==============================] - 14s 46ms/step - loss: 0.9656 - masked_accuracy: 0.7069 - val_loss: 6.7379 - val_masked_accuracy: 0.3739\n",
      "Epoch 45/100\n",
      "298/298 [==============================] - 14s 46ms/step - loss: 0.9651 - masked_accuracy: 0.7073 - val_loss: 4.9620 - val_masked_accuracy: 0.5332\n",
      "Epoch 46/100\n",
      "298/298 [==============================] - 14s 46ms/step - loss: 0.9648 - masked_accuracy: 0.7075 - val_loss: 4.7877 - val_masked_accuracy: 0.5538\n",
      "Epoch 47/100\n",
      "298/298 [==============================] - 14s 46ms/step - loss: 0.9618 - masked_accuracy: 0.7090 - val_loss: 6.9688 - val_masked_accuracy: 0.3602\n",
      "Epoch 48/100\n",
      "298/298 [==============================] - 14s 46ms/step - loss: 0.9621 - masked_accuracy: 0.7084 - val_loss: 7.5401 - val_masked_accuracy: 0.3177\n",
      "Epoch 49/100\n",
      "298/298 [==============================] - 14s 46ms/step - loss: 0.9627 - masked_accuracy: 0.7073 - val_loss: 7.2439 - val_masked_accuracy: 0.3572\n",
      "Epoch 50/100\n",
      "298/298 [==============================] - 14s 46ms/step - loss: 0.9599 - masked_accuracy: 0.7088 - val_loss: 7.5154 - val_masked_accuracy: 0.3458\n",
      "Epoch 51/100\n",
      "298/298 [==============================] - 14s 46ms/step - loss: 0.9583 - masked_accuracy: 0.7091 - val_loss: 7.6083 - val_masked_accuracy: 0.3538\n",
      "Epoch 52/100\n",
      "298/298 [==============================] - 14s 46ms/step - loss: 0.9588 - masked_accuracy: 0.7093 - val_loss: 7.4987 - val_masked_accuracy: 0.3769\n",
      "Epoch 53/100\n",
      "298/298 [==============================] - 14s 46ms/step - loss: 0.9613 - masked_accuracy: 0.7092 - val_loss: 7.1669 - val_masked_accuracy: 0.3712\n",
      "Epoch 54/100\n",
      "298/298 [==============================] - 14s 46ms/step - loss: 0.9597 - masked_accuracy: 0.7099 - val_loss: 6.4614 - val_masked_accuracy: 0.3746\n",
      "Epoch 55/100\n",
      "298/298 [==============================] - 14s 46ms/step - loss: 0.9556 - masked_accuracy: 0.7103 - val_loss: 4.8299 - val_masked_accuracy: 0.5545\n",
      "Epoch 56/100\n",
      "298/298 [==============================] - 14s 46ms/step - loss: 0.9553 - masked_accuracy: 0.7101 - val_loss: 6.8132 - val_masked_accuracy: 0.3864\n",
      "Epoch 57/100\n",
      "298/298 [==============================] - 14s 46ms/step - loss: 0.9528 - masked_accuracy: 0.7105 - val_loss: 6.9957 - val_masked_accuracy: 0.3525\n",
      "Epoch 58/100\n",
      "298/298 [==============================] - 14s 46ms/step - loss: 0.9528 - masked_accuracy: 0.7106 - val_loss: 6.5359 - val_masked_accuracy: 0.3628\n",
      "Epoch 59/100\n",
      "298/298 [==============================] - 14s 46ms/step - loss: 0.9541 - masked_accuracy: 0.7105 - val_loss: 6.9210 - val_masked_accuracy: 0.3544\n",
      "Epoch 60/100\n",
      "298/298 [==============================] - 14s 46ms/step - loss: 0.9511 - masked_accuracy: 0.7108 - val_loss: 6.8051 - val_masked_accuracy: 0.3756\n",
      "Epoch 61/100\n",
      "298/298 [==============================] - 14s 46ms/step - loss: 0.9513 - masked_accuracy: 0.7108 - val_loss: 6.5931 - val_masked_accuracy: 0.4019\n",
      "Epoch 62/100\n",
      "298/298 [==============================] - 14s 46ms/step - loss: 0.9492 - masked_accuracy: 0.7123 - val_loss: 4.7208 - val_masked_accuracy: 0.5679\n",
      "Epoch 63/100\n",
      "298/298 [==============================] - 14s 46ms/step - loss: 0.9511 - masked_accuracy: 0.7104 - val_loss: 6.1037 - val_masked_accuracy: 0.4042\n",
      "Epoch 64/100\n",
      "298/298 [==============================] - 14s 46ms/step - loss: 0.9492 - masked_accuracy: 0.7122 - val_loss: 6.9764 - val_masked_accuracy: 0.3649\n",
      "Epoch 65/100\n",
      "298/298 [==============================] - 14s 47ms/step - loss: 0.9461 - masked_accuracy: 0.7118 - val_loss: 6.6520 - val_masked_accuracy: 0.3854\n",
      "Epoch 66/100\n",
      "298/298 [==============================] - 14s 46ms/step - loss: 0.9472 - masked_accuracy: 0.7123 - val_loss: 6.5291 - val_masked_accuracy: 0.3633\n",
      "Epoch 67/100\n",
      "298/298 [==============================] - 14s 46ms/step - loss: 0.9453 - masked_accuracy: 0.7130 - val_loss: 7.0843 - val_masked_accuracy: 0.3180\n",
      "Epoch 68/100\n",
      "298/298 [==============================] - 14s 46ms/step - loss: 0.9464 - masked_accuracy: 0.7130 - val_loss: 5.8307 - val_masked_accuracy: 0.4590\n",
      "Epoch 69/100\n",
      "298/298 [==============================] - 14s 46ms/step - loss: 0.9435 - masked_accuracy: 0.7135 - val_loss: 6.8014 - val_masked_accuracy: 0.3677\n",
      "Epoch 70/100\n",
      "298/298 [==============================] - 14s 46ms/step - loss: 0.9448 - masked_accuracy: 0.7129 - val_loss: 6.7621 - val_masked_accuracy: 0.3357\n",
      "Epoch 71/100\n",
      "298/298 [==============================] - 14s 46ms/step - loss: 0.9442 - masked_accuracy: 0.7136 - val_loss: 6.6758 - val_masked_accuracy: 0.3823\n",
      "Epoch 72/100\n",
      "298/298 [==============================] - 14s 46ms/step - loss: 0.9429 - masked_accuracy: 0.7135 - val_loss: 6.9314 - val_masked_accuracy: 0.3005\n",
      "Epoch 73/100\n",
      "298/298 [==============================] - 14s 46ms/step - loss: 0.9405 - masked_accuracy: 0.7143 - val_loss: 6.7537 - val_masked_accuracy: 0.3736\n",
      "Epoch 74/100\n",
      "298/298 [==============================] - 14s 46ms/step - loss: 0.9404 - masked_accuracy: 0.7136 - val_loss: 6.7851 - val_masked_accuracy: 0.3588\n",
      "Epoch 75/100\n",
      "298/298 [==============================] - 14s 46ms/step - loss: 0.9412 - masked_accuracy: 0.7134 - val_loss: 6.7822 - val_masked_accuracy: 0.3736\n",
      "Epoch 76/100\n",
      "298/298 [==============================] - 14s 46ms/step - loss: 0.9387 - masked_accuracy: 0.7148 - val_loss: 6.8084 - val_masked_accuracy: 0.3750\n",
      "Epoch 77/100\n",
      "298/298 [==============================] - 14s 46ms/step - loss: 0.9388 - masked_accuracy: 0.7146 - val_loss: 7.0726 - val_masked_accuracy: 0.3878\n",
      "Epoch 78/100\n",
      "298/298 [==============================] - 14s 46ms/step - loss: 0.9385 - masked_accuracy: 0.7143 - val_loss: 6.6128 - val_masked_accuracy: 0.3862\n",
      "Epoch 79/100\n",
      "298/298 [==============================] - 14s 46ms/step - loss: 0.9384 - masked_accuracy: 0.7147 - val_loss: 6.7685 - val_masked_accuracy: 0.3935\n",
      "Epoch 80/100\n",
      "298/298 [==============================] - 14s 46ms/step - loss: 0.9365 - masked_accuracy: 0.7151 - val_loss: 4.8505 - val_masked_accuracy: 0.5571\n",
      "Epoch 81/100\n",
      "298/298 [==============================] - 14s 46ms/step - loss: 0.9341 - masked_accuracy: 0.7153 - val_loss: 6.8118 - val_masked_accuracy: 0.3711\n",
      "Epoch 82/100\n",
      "298/298 [==============================] - 14s 46ms/step - loss: 0.9370 - masked_accuracy: 0.7148 - val_loss: 7.0923 - val_masked_accuracy: 0.3625\n",
      "Epoch 83/100\n",
      "298/298 [==============================] - 14s 46ms/step - loss: 0.9322 - masked_accuracy: 0.7166 - val_loss: 6.9976 - val_masked_accuracy: 0.3661\n",
      "Epoch 84/100\n",
      "298/298 [==============================] - 14s 46ms/step - loss: 0.9353 - masked_accuracy: 0.7157 - val_loss: 6.9296 - val_masked_accuracy: 0.3567\n",
      "Epoch 85/100\n",
      "298/298 [==============================] - 14s 46ms/step - loss: 0.9340 - masked_accuracy: 0.7162 - val_loss: 6.4835 - val_masked_accuracy: 0.4093\n",
      "Epoch 86/100\n",
      "298/298 [==============================] - 14s 46ms/step - loss: 0.9322 - masked_accuracy: 0.7167 - val_loss: 6.2500 - val_masked_accuracy: 0.4307\n",
      "Epoch 87/100\n",
      "298/298 [==============================] - 14s 46ms/step - loss: 0.9331 - masked_accuracy: 0.7159 - val_loss: 6.5060 - val_masked_accuracy: 0.4143\n",
      "Epoch 88/100\n",
      "298/298 [==============================] - 14s 46ms/step - loss: 0.9318 - masked_accuracy: 0.7168 - val_loss: 7.0562 - val_masked_accuracy: 0.3950\n",
      "Epoch 89/100\n",
      "298/298 [==============================] - 14s 46ms/step - loss: 0.9318 - masked_accuracy: 0.7164 - val_loss: 6.7075 - val_masked_accuracy: 0.3832\n",
      "Epoch 90/100\n",
      "298/298 [==============================] - 14s 46ms/step - loss: 0.9307 - masked_accuracy: 0.7169 - val_loss: 4.9806 - val_masked_accuracy: 0.5508\n",
      "Epoch 91/100\n",
      "298/298 [==============================] - 14s 47ms/step - loss: 0.9301 - masked_accuracy: 0.7169 - val_loss: 6.3218 - val_masked_accuracy: 0.3901\n",
      "Epoch 92/100\n",
      "298/298 [==============================] - 14s 46ms/step - loss: 0.9310 - masked_accuracy: 0.7167 - val_loss: 6.2030 - val_masked_accuracy: 0.4277\n",
      "Epoch 93/100\n",
      "298/298 [==============================] - 14s 46ms/step - loss: 0.9293 - masked_accuracy: 0.7168 - val_loss: 6.2169 - val_masked_accuracy: 0.4087\n",
      "Epoch 94/100\n",
      "298/298 [==============================] - 14s 46ms/step - loss: 0.9282 - masked_accuracy: 0.7170 - val_loss: 6.9422 - val_masked_accuracy: 0.3861\n",
      "Epoch 95/100\n",
      "298/298 [==============================] - 14s 46ms/step - loss: 0.9260 - masked_accuracy: 0.7180 - val_loss: 7.1262 - val_masked_accuracy: 0.3914\n",
      "Epoch 96/100\n",
      "298/298 [==============================] - 14s 46ms/step - loss: 0.9286 - masked_accuracy: 0.7177 - val_loss: 4.8626 - val_masked_accuracy: 0.5583\n",
      "Epoch 97/100\n",
      "298/298 [==============================] - 14s 46ms/step - loss: 0.9274 - masked_accuracy: 0.7172 - val_loss: 6.5925 - val_masked_accuracy: 0.3931\n",
      "Epoch 98/100\n",
      "298/298 [==============================] - 14s 46ms/step - loss: 0.9271 - masked_accuracy: 0.7184 - val_loss: 6.7450 - val_masked_accuracy: 0.3934\n",
      "Epoch 99/100\n",
      "298/298 [==============================] - 14s 46ms/step - loss: 0.9246 - masked_accuracy: 0.7184 - val_loss: 6.8750 - val_masked_accuracy: 0.3774\n",
      "Epoch 100/100\n",
      "298/298 [==============================] - 14s 46ms/step - loss: 0.9243 - masked_accuracy: 0.7183 - val_loss: 6.5321 - val_masked_accuracy: 0.3853\n"
     ]
    }
   ],
   "source": [
    "history = model.fit(\n",
    "    train_dataset,\n",
    "    epochs=epochs,\n",
    "    validation_data=val_dataset\n",
    ")"
   ]
  },
  {
   "cell_type": "markdown",
   "id": "e53ae026",
   "metadata": {},
   "source": [
    "### Training Plots"
   ]
  },
  {
   "cell_type": "code",
   "execution_count": 30,
   "id": "1bc3537a",
   "metadata": {},
   "outputs": [
    {
     "data": {
      "text/plain": [
       "<matplotlib.legend.Legend at 0x7f03a61f5700>"
      ]
     },
     "execution_count": 30,
     "metadata": {},
     "output_type": "execute_result"
    },
    {
     "data": {
      "image/png": "[encoded data removed]",
      "text/plain": [
       "<Figure size 432x288 with 1 Axes>"
      ]
     },
     "metadata": {
      "needs_background": "light"
     },
     "output_type": "display_data"
    }
   ],
   "source": [
    "plt.title('Accuracy')\n",
    "plt.xlabel('Epochs')\n",
    "plt.ylabel('Accuracy')\n",
    "plt.plot(range(1, epochs+1), history.history['masked_accuracy'], label='Train Accuracy')\n",
    "plt.plot(range(1, epochs+1), history.history['val_masked_accuracy'], label='Validation Accuracy')\n",
    "plt.legend()"
   ]
  },
  {
   "cell_type": "code",
   "execution_count": 31,
   "id": "bc5a6f86",
   "metadata": {},
   "outputs": [
    {
     "data": {
      "text/plain": [
       "<matplotlib.legend.Legend at 0x7f03a607d6a0>"
      ]
     },
     "execution_count": 31,
     "metadata": {},
     "output_type": "execute_result"
    },
    {
     "data": {
      "image/png": "[encoded data removed]",
      "text/plain": [
       "<Figure size 432x288 with 1 Axes>"
      ]
     },
     "metadata": {
      "needs_background": "light"
     },
     "output_type": "display_data"
    }
   ],
   "source": [
    "plt.title('Loss')\n",
    "plt.xlabel('Epochs')\n",
    "plt.ylabel('Loss')\n",
    "plt.plot(range(1, epochs+1), history.history['loss'], label='Train Loss')\n",
    "plt.plot(range(1, epochs+1), history.history['val_loss'], label='Validation Loss')\n",
    "plt.legend()"
   ]
  },
  {
   "cell_type": "code",
   "execution_count": 32,
   "id": "2982a3dc",
   "metadata": {},
   "outputs": [],
   "source": [
    "from preprocessing import *"
   ]
  },
  {
   "cell_type": "code",
   "execution_count": 33,
   "id": "f39113d4",
   "metadata": {},
   "outputs": [],
   "source": [
    "test_route = ['V5', '40°', 'FFHSO']\n",
    "test_route = list(map(lambda s: hold_to_idx[s], test_route))\n",
    "test_route = [1] + test_route\n",
    "l = len(test_route)\n",
    "test_route += [0]*(22-l)"
   ]
  },
  {
   "cell_type": "code",
   "execution_count": 34,
   "id": "90573438",
   "metadata": {},
   "outputs": [
    {
     "data": {
      "text/plain": [
       "[1, 13, 5, 7, 0, 0, 0, 0, 0, 0, 0, 0, 0, 0, 0, 0, 0, 0, 0, 0, 0, 0]"
      ]
     },
     "execution_count": 34,
     "metadata": {},
     "output_type": "execute_result"
    }
   ],
   "source": [
    "test_route"
   ]
  },
  {
   "cell_type": "code",
   "execution_count": 40,
   "id": "71dcfcfc",
   "metadata": {},
   "outputs": [],
   "source": [
    "def create_route(initial_sequence) -> list:\n",
    "    route = initial_sequence.copy()\n",
    "    for i in tf.range(np.argmin(initial_sequence)-1, len(initial_sequence)-1):\n",
    "        predictions = model.predict([route])\n",
    "        predictions = predictions[:, -1:, :]\n",
    "        predicted_id = np.argmax(predictions, axis=-1)\n",
    "        route[i+1] = predicted_id[0][0]\n",
    "        \n",
    "        if predicted_id == 3:\n",
    "            break\n",
    "            \n",
    "    return route"
   ]
  },
  {
   "cell_type": "code",
   "execution_count": 41,
   "id": "a33c029e",
   "metadata": {},
   "outputs": [
    {
     "name": "stdout",
     "output_type": "stream",
     "text": [
      "1/1 [==============================] - 0s 49ms/step\n",
      "1/1 [==============================] - 0s 46ms/step\n",
      "1/1 [==============================] - 0s 45ms/step\n",
      "1/1 [==============================] - 0s 43ms/step\n",
      "1/1 [==============================] - 0s 46ms/step\n",
      "1/1 [==============================] - 0s 46ms/step\n",
      "1/1 [==============================] - 0s 48ms/step\n",
      "1/1 [==============================] - 0s 46ms/step\n",
      "1/1 [==============================] - 0s 45ms/step\n",
      "1/1 [==============================] - 0s 47ms/step\n",
      "1/1 [==============================] - 0s 46ms/step\n",
      "1/1 [==============================] - 0s 46ms/step\n",
      "1/1 [==============================] - 0s 46ms/step\n",
      "1/1 [==============================] - 0s 44ms/step\n",
      "1/1 [==============================] - 0s 45ms/step\n",
      "1/1 [==============================] - 0s 45ms/step\n",
      "1/1 [==============================] - 0s 49ms/step\n",
      "1/1 [==============================] - 0s 45ms/step\n"
     ]
    },
    {
     "data": {
      "text/plain": [
       "[1,\n",
       " 13,\n",
       " 5,\n",
       " 7,\n",
       " 166,\n",
       " 143,\n",
       " 143,\n",
       " 58,\n",
       " 58,\n",
       " 58,\n",
       " 58,\n",
       " 58,\n",
       " 76,\n",
       " 76,\n",
       " 76,\n",
       " 76,\n",
       " 76,\n",
       " 76,\n",
       " 145,\n",
       " 76,\n",
       " 76,\n",
       " 141]"
      ]
     },
     "execution_count": 41,
     "metadata": {},
     "output_type": "execute_result"
    }
   ],
   "source": [
    "create_route(test_route)"
   ]
  }
 ],
 "metadata": {
  "kernelspec": {
   "display_name": "Python 3 (ipykernel)",
   "language": "python",
   "name": "python3"
  },
  "language_info": {
   "codemirror_mode": {
    "name": "ipython",
    "version": 3
   },
   "file_extension": ".py",
   "mimetype": "text/x-python",
   "name": "python",
   "nbconvert_exporter": "python",
   "pygments_lexer": "ipython3",
   "version": "3.8.10"
  }
 },
 "nbformat": 4,
 "nbformat_minor": 5
}
