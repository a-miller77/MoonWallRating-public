{
 "cells": [
  {
   "cell_type": "code",
   "execution_count": 2,
   "metadata": {
    "scrolled": false
   },
   "outputs": [
    {
     "name": "stderr",
     "output_type": "stream",
     "text": [
      "2023-04-01 00:00:33.755642: I tensorflow/core/platform/cpu_feature_guard.cc:193] This TensorFlow binary is optimized with oneAPI Deep Neural Network Library (oneDNN) to use the following CPU instructions in performance-critical operations:  AVX2 AVX512F AVX512_VNNI FMA\n",
      "To enable them in other operations, rebuild TensorFlow with the appropriate compiler flags.\n",
      "2023-04-01 00:00:33.864700: I tensorflow/core/util/port.cc:104] oneDNN custom operations are on. You may see slightly different numerical results due to floating-point round-off errors from different computation orders. To turn them off, set the environment variable `TF_ENABLE_ONEDNN_OPTS=0`.\n",
      "2023-04-01 00:00:35.660216: W tensorflow/compiler/xla/stream_executor/platform/default/dso_loader.cc:64] Could not load dynamic library 'libnvinfer.so.7'; dlerror: libnvinfer.so.7: cannot open shared object file: No such file or directory; LD_LIBRARY_PATH: /usr/local/cuda/extras/CUPTI/lib64:/usr/local/cuda/compat/lib:/usr/local/nvidia/lib:/usr/local/nvidia/lib64:/.singularity.d/libs\n",
      "2023-04-01 00:00:35.660281: W tensorflow/compiler/xla/stream_executor/platform/default/dso_loader.cc:64] Could not load dynamic library 'libnvinfer_plugin.so.7'; dlerror: libnvinfer_plugin.so.7: cannot open shared object file: No such file or directory; LD_LIBRARY_PATH: /usr/local/cuda/extras/CUPTI/lib64:/usr/local/cuda/compat/lib:/usr/local/nvidia/lib:/usr/local/nvidia/lib64:/.singularity.d/libs\n",
      "2023-04-01 00:00:35.660288: W tensorflow/compiler/tf2tensorrt/utils/py_utils.cc:38] TF-TRT Warning: Cannot dlopen some TensorRT libraries. If you would like to use Nvidia GPU with TensorRT, please make sure the missing libraries mentioned above are installed properly.\n"
     ]
    }
   ],
   "source": [
    "from sklearn.model_selection import train_test_split\n",
    "from sklearn.metrics import confusion_matrix\n",
    "from tensorflow.keras import layers\n",
    "import matplotlib.pyplot as plt\n",
    "from tensorflow import keras\n",
    "import tensorflow as tf\n",
    "import seaborn as sns\n",
    "import pandas as pd\n",
    "import numpy as np"
   ]
  },
  {
   "cell_type": "markdown",
   "metadata": {},
   "source": [
    "### Import and Preprocess the Data"
   ]
  },
  {
   "cell_type": "code",
   "execution_count": 1,
   "metadata": {
    "scrolled": true
   },
   "outputs": [
    {
     "ename": "NameError",
     "evalue": "name 'pd' is not defined",
     "output_type": "error",
     "traceback": [
      "\u001b[0;31m---------------------------------------------------------------------------\u001b[0m",
      "\u001b[0;31mNameError\u001b[0m                                 Traceback (most recent call last)",
      "Input \u001b[0;32mIn [1]\u001b[0m, in \u001b[0;36m<cell line: 1>\u001b[0;34m()\u001b[0m\n\u001b[0;32m----> 1\u001b[0m routeImport \u001b[38;5;241m=\u001b[39m \u001b[43mpd\u001b[49m\u001b[38;5;241m.\u001b[39mread_json(\u001b[38;5;124m'\u001b[39m\u001b[38;5;124m./data/route_data.json\u001b[39m\u001b[38;5;124m'\u001b[39m)\n\u001b[1;32m      2\u001b[0m \u001b[38;5;28;01mfor\u001b[39;00m i \u001b[38;5;129;01min\u001b[39;00m \u001b[38;5;28mrange\u001b[39m(\u001b[38;5;241m12\u001b[39m, \u001b[38;5;241m15\u001b[39m):\n\u001b[1;32m      3\u001b[0m     routeImport \u001b[38;5;241m=\u001b[39m routeImport[routeImport\u001b[38;5;241m.\u001b[39mGrade \u001b[38;5;241m!=\u001b[39m i]\n",
      "\u001b[0;31mNameError\u001b[0m: name 'pd' is not defined"
     ]
    }
   ],
   "source": [
    "routeImport = pd.read_json('./data/route_data.json')\n",
    "for i in range(12, 15):\n",
    "    routeImport = routeImport[routeImport.Grade != i]\n",
    "routeImport = routeImport[routeImport.MoonBoardHoldSetup == 'MoonBoard Masters 2017']\n",
    "sns.countplot(x='Grade', data=routeImport)\n",
    "routeImport = routeImport[routeImport.RepeatText != 'Be the first to repeat this problem']\n",
    "#routeImport = routeImport[routeImport.Grade != 11]"
   ]
  },
  {
   "cell_type": "code",
   "execution_count": 65,
   "metadata": {},
   "outputs": [
    {
     "name": "stdout",
     "output_type": "stream",
     "text": [
      "Grade  IsBenchmark\n",
      "2      False           733\n",
      "       True             28\n",
      "3      False          7159\n",
      "       True             73\n",
      "4      False          2868\n",
      "       True             66\n",
      "5      False          4581\n",
      "       True             95\n",
      "6      False          2391\n",
      "       True             41\n",
      "7      False          1594\n",
      "       True             25\n",
      "8      False          1386\n",
      "       True             39\n",
      "9      False           403\n",
      "       True             35\n",
      "10     False           158\n",
      "       True             20\n",
      "11     False            48\n",
      "       True              5\n",
      "Name: IsBenchmark, dtype: int64\n"
     ]
    }
   ],
   "source": [
    "#If re-running all cells, run this instead of re-importing the data, its faster\n",
    "df = routeImport.copy()\n",
    "print(df.groupby('Grade')['IsBenchmark'].value_counts())"
   ]
  },
  {
   "cell_type": "code",
   "execution_count": 4,
   "metadata": {
    "scrolled": true
   },
   "outputs": [
    {
     "data": {
      "text/plain": [
       "<AxesSubplot:xlabel='Grade', ylabel='count'>"
      ]
     },
     "execution_count": 4,
     "metadata": {},
     "output_type": "execute_result"
    },
    {
     "data": {
      "image/png": "[encoded data removed]",
      "text/plain": [
       "<Figure size 432x288 with 1 Axes>"
      ]
     },
     "metadata": {
      "needs_background": "light"
     },
     "output_type": "display_data"
    }
   ],
   "source": [
    "sns.countplot(x='Grade', data=df)"
   ]
  },
  {
   "cell_type": "code",
   "execution_count": 5,
   "metadata": {},
   "outputs": [
    {
     "name": "stdout",
     "output_type": "stream",
     "text": [
      "Grade  IsBenchmark\n",
      "2      False           733\n",
      "       True             28\n",
      "3      False          7159\n",
      "       True             73\n",
      "4      False          2868\n",
      "       True             66\n",
      "5      False          4581\n",
      "       True             95\n",
      "6      False          2391\n",
      "       True             41\n",
      "7      False          1594\n",
      "       True             25\n",
      "8      False          1386\n",
      "       True             39\n",
      "9      False           403\n",
      "       True             35\n",
      "10     False           158\n",
      "       True             20\n",
      "Name: IsBenchmark, dtype: int64\n"
     ]
    }
   ],
   "source": [
    "print(df.groupby('Grade')['IsBenchmark'].value_counts())"
   ]
  },
  {
   "cell_type": "code",
   "execution_count": 6,
   "metadata": {},
   "outputs": [],
   "source": [
    "def data_sampling(dataframe):\n",
    "    over_bench_mult = 2.2;\n",
    "    under_bench_mult = 1.5;\n",
    "\n",
    "    smp2 = dataframe[dataframe.Grade == 2]\n",
    "    smp3 = dataframe[dataframe.Grade == 3]\n",
    "    smp4 = dataframe[dataframe.Grade == 4]\n",
    "    smp5 = dataframe[dataframe.Grade == 5]\n",
    "    smp6 = dataframe[dataframe.Grade == 6]\n",
    "    smp7 = dataframe[dataframe.Grade == 7]\n",
    "    smp8 = dataframe[dataframe.Grade == 8]\n",
    "    smp9 = dataframe[dataframe.Grade == 9]\n",
    "    smp10 = dataframe[dataframe.Grade == 10]\n",
    "\n",
    "    under_3 = pd.concat([smp3[smp3.IsBenchmark != True].sample(frac=.73), \n",
    "                     smp3[smp3.IsBenchmark == True].sample(frac=under_bench_mult, replace=True)])\n",
    "    under_5 = pd.concat([smp5[smp5.IsBenchmark != True].sample(frac=.77), \n",
    "                     smp5[smp5.IsBenchmark == True].sample(frac=under_bench_mult, replace=True)])\n",
    "\n",
    "    over_2 = smp2.sample(frac=2, replace=True)\n",
    "    over_4 = pd.concat([smp4.sample(frac=1.4, replace=True), \n",
    "                    smp4[smp4.IsBenchmark == True].sample(frac=over_bench_mult, replace=True)])\n",
    "    over_6 = pd.concat([smp6.sample(frac=1.2, replace=True), \n",
    "                    smp6[smp6.IsBenchmark == True].sample(frac=over_bench_mult, replace=True)])\n",
    "    over_7 = pd.concat([smp7.sample(frac=1.5, replace=True), \n",
    "                    smp7[smp7.IsBenchmark == True].sample(frac=over_bench_mult, replace=True)])\n",
    "    over_8 = pd.concat([smp8.sample(frac=1.3, replace=True), \n",
    "                    smp8[smp8.IsBenchmark == True].sample(frac=over_bench_mult, replace=True)])\n",
    "    over_9 = pd.concat([smp9.sample(frac=2.1, replace=True), \n",
    "                    smp9[smp9.IsBenchmark == True].sample(frac=over_bench_mult, replace=True)])\n",
    "    over_10 = smp10.sample(frac=3.5, replace=True)\n",
    "\n",
    "    return pd.concat([over_2, under_3, over_4, under_5, over_6, over_7, over_8, over_9, over_10])\n",
    "\n",
    "def sample_train_df(X_train):\n",
    "    return data_sampling(X_train)\n",
    "\n",
    "def showcase_sampled_train_split(dataframe=routeImport.copy()):\n",
    "    sns.countplot(x='Grade', data=data_sampling(dataframe.sample(frac=0.8)))"
   ]
  },
  {
   "cell_type": "code",
   "execution_count": 7,
   "metadata": {},
   "outputs": [
    {
     "data": {
      "image/png": "[encoded data removed]",
      "text/plain": [
       "<Figure size 432x288 with 1 Axes>"
      ]
     },
     "metadata": {
      "needs_background": "light"
     },
     "output_type": "display_data"
    }
   ],
   "source": [
    "#display what the train set will look like\n",
    "showcase_sampled_train_split(df)"
   ]
  },
  {
   "cell_type": "code",
   "execution_count": 8,
   "metadata": {},
   "outputs": [
    {
     "data": {
      "text/plain": [
       "<AxesSubplot:xlabel='Grade', ylabel='count'>"
      ]
     },
     "execution_count": 8,
     "metadata": {},
     "output_type": "execute_result"
    },
    {
     "data": {
      "image/png": "[encoded data removed]",
      "text/plain": [
       "<Figure size 432x288 with 1 Axes>"
      ]
     },
     "metadata": {
      "needs_background": "light"
     },
     "output_type": "display_data"
    }
   ],
   "source": [
    "#the data has not been modified yet\n",
    "sns.countplot(x='Grade', data=df)"
   ]
  },
  {
   "cell_type": "code",
   "execution_count": 9,
   "metadata": {
    "scrolled": true
   },
   "outputs": [],
   "source": [
    "#Undersample to n\n",
    "#n = 5000\n",
    "#mask = df.groupby('Grade')['Grade'].transform('count') >= n\n",
    "#df = pd.concat((df[mask].groupby('Grade').sample(n=n), df[~mask]), ignore_index=True)"
   ]
  },
  {
   "cell_type": "code",
   "execution_count": 10,
   "metadata": {},
   "outputs": [],
   "source": [
    "#Oversample to n\n",
    "#n = 1000\n",
    "#mask = df.groupby('Grade')['Grade'].transform('count') <= n\n",
    "#df = pd.concat((df[mask].groupby('Grade').sample(frac=3.5, replace=True), df[~mask]), ignore_index=True)\n",
    "\n",
    "#n = 2000\n",
    "#mask = df.groupby('Grade')['Grade'].transform('count') <= n\n",
    "#df = pd.concat((df[mask].groupby('Grade').sample(frac=2.0, replace=True), df[~mask]), ignore_index=True)"
   ]
  },
  {
   "cell_type": "code",
   "execution_count": 11,
   "metadata": {},
   "outputs": [],
   "source": [
    "#chooseGrades = 3500\n",
    "#mask = df.groupby('Grade')['Grade'].transform('count') <= chooseGrades\n",
    "#df = df[df.RepeatText != 'Be the first to repeat this problem']\n",
    "#for class_index, group in df.groupby('class'):\n",
    "    #lst.append(group.sample(n-len(group), replace=True))\n",
    "#frame_new = pd.concat(lst)\n",
    "#new_df = pd.concat((df[mask], df)\n",
    "#print(df.groupby('Grade')['IsBenchmark'].value_counts())\n",
    "#sns.countplot(x='Grade', data=df.groupby('Grade')['IsBenchmark'])"
   ]
  },
  {
   "cell_type": "code",
   "execution_count": 12,
   "metadata": {
    "scrolled": true
   },
   "outputs": [
    {
     "name": "stdout",
     "output_type": "stream",
     "text": [
      "Grade  Grade\n",
      "2      2        1522\n",
      "3      3        5336\n",
      "4      4        4253\n",
      "5      5        3669\n",
      "6      6        3008\n",
      "7      7        2483\n",
      "8      8        1938\n",
      "9      9         997\n",
      "10     10        623\n",
      "Name: Grade, dtype: int64\n"
     ]
    }
   ],
   "source": [
    "print(data_sampling(df).groupby('Grade')['Grade'].value_counts())"
   ]
  },
  {
   "cell_type": "code",
   "execution_count": 13,
   "metadata": {
    "scrolled": false
   },
   "outputs": [
    {
     "name": "stdout",
     "output_type": "stream",
     "text": [
      "Grade  IsBenchmark\n",
      "2      False          1463\n",
      "       True             59\n",
      "3      False          5226\n",
      "       True            110\n",
      "4      False          4015\n",
      "       True            238\n",
      "5      False          3527\n",
      "       True            142\n",
      "6      False          2871\n",
      "       True            137\n",
      "7      False          2390\n",
      "       True             93\n",
      "8      False          1797\n",
      "       True            141\n",
      "9      False           855\n",
      "       True            142\n",
      "10     False           561\n",
      "       True             62\n",
      "Name: IsBenchmark, dtype: int64\n"
     ]
    }
   ],
   "source": [
    "print(data_sampling(df).groupby('Grade')['IsBenchmark'].value_counts())"
   ]
  },
  {
   "cell_type": "code",
   "execution_count": 14,
   "metadata": {
    "scrolled": true
   },
   "outputs": [],
   "source": [
    "#print(df.groupby('Method')['Method'].value_counts())"
   ]
  },
  {
   "cell_type": "code",
   "execution_count": 15,
   "metadata": {
    "scrolled": true
   },
   "outputs": [],
   "source": [
    "df.head()"
   ]
  },
  {
   "cell_type": "markdown",
   "metadata": {},
   "source": [
    "### Formatting Input"
   ]
  },
  {
   "cell_type": "code",
   "execution_count": 16,
   "metadata": {},
   "outputs": [],
   "source": [
    "def get_x_y(hold: dict):\n",
    "    x = ord(hold['Position'][0]) - 64\n",
    "    y = int(hold['Position'][1:])\n",
    "    return x, y\n",
    "\n",
    "def get_closest_hold(current_hold: dict, valid_holds: list) -> dict:\n",
    "    x1, y1 = get_x_y(current_hold)\n",
    "    distances = list(map(lambda hold: ((x1 - get_x_y(hold)[0])**2 + (y1 - get_x_y(hold)[1])**2)**0.5, valid_holds))\n",
    "    return valid_holds[np.argmin(distances)]\n",
    "\n",
    "def get_next_hold(current_hold: dict, holds: list) -> dict:\n",
    "    x, y = get_x_y(current_hold)\n",
    "    min_y = 19\n",
    "    for hold in holds:\n",
    "        x2, y2 = get_x_y(hold)\n",
    "        if y2 <= min_y and y2 >= y:\n",
    "            min_y = y2\n",
    "    valid_holds = [hold for hold in holds if get_x_y(hold)[1] == min_y]\n",
    "    return get_closest_hold(current_hold, valid_holds)"
   ]
  },
  {
   "cell_type": "code",
   "execution_count": 17,
   "metadata": {},
   "outputs": [],
   "source": [
    "def sort_hand_holds(moves: list, sorted_holds = []) -> list:\n",
    "    holds = moves.copy()\n",
    "\n",
    "    if len(sorted_holds) == 0:\n",
    "        sorted_holds = [hold for hold in holds if hold['IsStart']]\n",
    "        holds = [hold for hold in holds if hold['IsStart'] == False]\n",
    "\n",
    "    if sorted_holds[-1]['IsEnd']:\n",
    "        return list(map(lambda x: x['Position'], sorted_holds))\n",
    "    \n",
    "    next_hold = get_next_hold(sorted_holds[-1], holds)\n",
    "    sorted_holds.append(next_hold)\n",
    "    holds.remove(next_hold)\n",
    "\n",
    "    return sort_hand_holds(holds, sorted_holds)"
   ]
  },
  {
   "cell_type": "code",
   "execution_count": 18,
   "metadata": {},
   "outputs": [],
   "source": [
    "def format_input(route) -> list:\n",
    "    climbing_methods = {\n",
    "        'Feet follow hands': 'FFH',\n",
    "        'Feet follow hands + screw ons': 'FFHSO',\n",
    "        'Footless + kickboard': 'FLKB',\n",
    "        'Screw ons only': 'SOO'\n",
    "    }\n",
    "    \n",
    "    config = route.MoonboardConfiguration[:3]\n",
    "    method = climbing_methods[route.Method]\n",
    "    sorted_holds = sort_hand_holds(route.Moves)\n",
    "    #repeatNum = route.RepeatText[:1]\n",
    "    \n",
    "    return [config, method] + sorted_holds"
   ]
  },
  {
   "cell_type": "code",
   "execution_count": 19,
   "metadata": {},
   "outputs": [],
   "source": [
    "hold_to_idx = {\n",
    "    '[PAD]': 0, \n",
    "    '[START]': 1, \n",
    "    '[END]': 2\n",
    "}\n",
    "vocab_size = len(hold_to_idx)\n",
    "\n",
    "def tokenize_holds(holds):\n",
    "    def hold_to_idx_emplace(hold):\n",
    "        global vocab_size\n",
    "        if hold not in hold_to_idx:\n",
    "            hold_to_idx[hold] = vocab_size\n",
    "            vocab_size += 1\n",
    "        return hold_to_idx[hold]\n",
    "    \n",
    "    return list(map(hold_to_idx_emplace, holds))"
   ]
  },
  {
   "cell_type": "code",
   "execution_count": 20,
   "metadata": {},
   "outputs": [],
   "source": [
    "def tokenize_df(dataframe, verbose=True):\n",
    "    inputs = [format_input(route) for _, route in dataframe.iterrows()]\n",
    "    tokenized_inputs = [tokenize_holds(x) for x in inputs]\n",
    "    idx_to_hold = {v: k for k, v in hold_to_idx.items()}\n",
    "    \n",
    "    #Pad route inputs to be the same length\n",
    "    max_len = 0\n",
    "    for h in tokenized_inputs:\n",
    "        max_len = max(max_len, len(h))\n",
    "    max_len += 2 # PADDING for eventual START and END tokens during training\n",
    "\n",
    "    for i in range(len(tokenized_inputs)):\n",
    "        l = len(tokenized_inputs[i])\n",
    "        tokenized_inputs[i] += [0]*(max_len-l)\n",
    "    \n",
    "    if(verbose):\n",
    "        print(\"Tokenized input example:\")\n",
    "        print(tokenized_inputs[0])\n",
    "        print([idx_to_hold[i] for i in tokenized_inputs[0]])\n",
    "    \n",
    "    return np.array(tokenized_inputs)"
   ]
  },
  {
   "cell_type": "code",
   "execution_count": 21,
   "metadata": {},
   "outputs": [],
   "source": [
    "def tokenize_train_test_val_df(X_train, X_test, X_val):\n",
    "    return tokenize_df(X_train), tokenize_df(X_test, verbose=False), tokenize_df(X_val, verbose=False)"
   ]
  },
  {
   "cell_type": "code",
   "execution_count": 22,
   "metadata": {},
   "outputs": [],
   "source": [
    "#tokenized_inputs = [tokenize_holds(x) for x in inputs]"
   ]
  },
  {
   "cell_type": "code",
   "execution_count": 23,
   "metadata": {},
   "outputs": [],
   "source": [
    "#idx_to_hold = {v: k for k, v in hold_to_idx.items()}"
   ]
  },
  {
   "cell_type": "markdown",
   "metadata": {},
   "source": [
    "Pad route inputs to be the same length."
   ]
  },
  {
   "cell_type": "code",
   "execution_count": 24,
   "metadata": {},
   "outputs": [],
   "source": [
    "#max_len = 0\n",
    "#for h in tokenized_inputs:\n",
    "#    max_len = max(max_len, len(h))\n",
    "#max_len += 2 # PADDING for eventual START and END tokens during training\n",
    "\n",
    "#for i in range(len(tokenized_inputs)):\n",
    "#    l = len(tokenized_inputs[i])\n",
    "#    tokenized_inputs[i] += [0]*(max_len-l)"
   ]
  },
  {
   "cell_type": "markdown",
   "metadata": {},
   "source": [
    "Tokenized input example:"
   ]
  },
  {
   "cell_type": "code",
   "execution_count": 25,
   "metadata": {},
   "outputs": [],
   "source": [
    "#print(tokenized_inputs[0])"
   ]
  },
  {
   "cell_type": "code",
   "execution_count": 26,
   "metadata": {},
   "outputs": [],
   "source": [
    "#print([idx_to_hold[i] for i in tokenized_inputs[0]])"
   ]
  },
  {
   "cell_type": "markdown",
   "metadata": {},
   "source": [
    "### Train Test Split"
   ]
  },
  {
   "cell_type": "code",
   "execution_count": 27,
   "metadata": {},
   "outputs": [],
   "source": [
    "#X = np.array(tokenized_inputs)\n",
    "#y = df.Grade.to_numpy()-2"
   ]
  },
  {
   "cell_type": "code",
   "execution_count": 28,
   "metadata": {
    "scrolled": true
   },
   "outputs": [],
   "source": [
    "#def split_train_test():\n",
    "    #X, y = create_X_y()\n",
    "    \n",
    "    #X_train, X_test, y_train, y_test = train_test_split(X, y, test_size=0.1, stratify=y)\n",
    "    #print(\"train, test: \", len(X_train), len(X_test))\n",
    "    #return X_train, X_test, y_train, y_test"
   ]
  },
  {
   "cell_type": "code",
   "execution_count": 29,
   "metadata": {},
   "outputs": [],
   "source": [
    "def split_train_test_val(sampling):\n",
    "    X = df\n",
    "    y = df.Grade.to_numpy()-2\n",
    "    \n",
    "    if(sampling):\n",
    "        train_ratio = 0.8\n",
    "        #validation_ratio = (1-train_ratio)/2 = 0.1\n",
    "        #test_ratio = (1-train_ratio)/2 = 0.1\n",
    "    else:\n",
    "        train_ratio = 0.9 # ^2 = 0.81\n",
    "        #validation_ratio = train_ratio * validation_split = 0.09\n",
    "        #test_ratio = 1-train_ratio = 0.1\n",
    "    \n",
    "    # if sampling, train is 80% of the entire data set, test is now 20% of the dataset\n",
    "    # if not sampling, train is 90%, test is 10%\n",
    "    # X_train and X_test are DataFrames of routes, y_train and y_test are numpy arrays of grades\n",
    "    X_train, X_test, y_train, y_test = train_test_split(X, y, test_size=(1 - train_ratio), stratify=y)\n",
    "    \n",
    "    if(sampling):\n",
    "        # test is now half the remaining dataset, or 10% of the initial data set\n",
    "        # validation is now half the remaining dataset, or 10% of the initial data set\n",
    "        # X_val and X_test are DataFrames of routes, y_val and y_test are numpy arrays of grades\n",
    "        X_val, X_test, y_val, y_test = train_test_split(X_test, y_test, test_size=0.5, stratify=y_test) \n",
    "    else:\n",
    "        X_val = pd.DataFrame(np.zeros(0))\n",
    "        y_val = np.zeros(0)\n",
    "    print(\"X train, test, val (base): \", len(X_train), len(X_test), len(X_val))\n",
    "    print(\"y train, test, val (base): \", len(y_train), len(y_test), len(y_val))\n",
    "    \n",
    "    if(sampling):\n",
    "        # over and undersample the train dataset\n",
    "        X_train = sample_train_df(X_train)\n",
    "    \n",
    "        print(\"X train, test, val (sampled): \", len(X_train), len(X_test), len(X_val))\n",
    "        print(\"y train, test, val (sampled): \", len(y_train), len(y_test), len(y_val))\n",
    "    \n",
    "        tr_y = X_train.Grade.to_numpy()-2\n",
    "    \n",
    "        X_train, t, y_train, t = train_test_split(X_train, tr_y, test_size=0.0005, stratify=tr_y)\n",
    "    \n",
    "        print(\"X train, test, val (resized): \", len(X_train), len(X_test), len(X_val))\n",
    "        print(\"y train, test, val (resized): \", len(y_train), len(y_test), len(y_val))\n",
    "    else:\n",
    "        print(\"X train, test, val (current): \", len(X_train), len(X_test), len(X_val))\n",
    "        print(\"y train, test, val (current): \", len(y_train), len(y_test), len(y_val))\n",
    "        temp_trainX, temp_valX, temp_trainy, temp_valy = train_test_split(X_train, y_train, test_size=0.1)\n",
    "        print(\"X train, test, val (runtime): \", len(temp_trainX), len(X_test), len(temp_valX))\n",
    "        print(\"y train, test, val (runtime): \", len(temp_trainy), len(y_test), len(temp_valy))\n",
    "    \n",
    "    return X_train, X_test, X_val, y_train, y_test, y_val"
   ]
  },
  {
   "cell_type": "code",
   "execution_count": 30,
   "metadata": {},
   "outputs": [],
   "source": [
    "# test\n",
    "#X_train, X_test, X_val, y_train, y_test, y_val = split_train_test_val(False)"
   ]
  },
  {
   "cell_type": "markdown",
   "metadata": {},
   "source": [
    "### Model Definition"
   ]
  },
  {
   "cell_type": "code",
   "execution_count": 31,
   "metadata": {},
   "outputs": [],
   "source": [
    "def positional_encoding(length, depth):\n",
    "    depth = depth/2\n",
    "\n",
    "    positions = np.arange(length)[:, np.newaxis]     # (seq, 1)\n",
    "    depths = np.arange(depth)[np.newaxis, :]/depth   # (1, depth)\n",
    "\n",
    "    angle_rates = 1 / (10000**depths)         # (1, depth)\n",
    "    angle_rads = positions * angle_rates      # (pos, depth)\n",
    "\n",
    "    pos_encoding = np.concatenate(\n",
    "      [np.sin(angle_rads), np.cos(angle_rads)],\n",
    "      axis=-1) \n",
    "\n",
    "    return tf.cast(pos_encoding, dtype=tf.float32)"
   ]
  },
  {
   "cell_type": "code",
   "execution_count": 32,
   "metadata": {},
   "outputs": [],
   "source": [
    "class PositionalEmbedding(tf.keras.layers.Layer):\n",
    "    def __init__(self, vocab_size, d_model):\n",
    "        super().__init__()\n",
    "        self.d_model = d_model\n",
    "        self.embedding = tf.keras.layers.Embedding(vocab_size, d_model, mask_zero=True) \n",
    "        self.pos_encoding = positional_encoding(length=2048, depth=d_model)\n",
    "\n",
    "    def compute_mask(self, *args, **kwargs):\n",
    "        return self.embedding.compute_mask(*args, **kwargs)\n",
    "\n",
    "    def call(self, x):\n",
    "        length = tf.shape(x)[1]\n",
    "        x = self.embedding(x)\n",
    "        # This factor sets the relative scale of the embedding and positonal_encoding.\n",
    "        x *= tf.math.sqrt(tf.cast(self.d_model, tf.float32))\n",
    "        x = x + self.pos_encoding[tf.newaxis, :length, :]\n",
    "        return x"
   ]
  },
  {
   "cell_type": "code",
   "execution_count": 33,
   "metadata": {
    "scrolled": true
   },
   "outputs": [
    {
     "name": "stderr",
     "output_type": "stream",
     "text": [
      "2023-03-07 18:51:31.813815: I tensorflow/core/platform/cpu_feature_guard.cc:193] This TensorFlow binary is optimized with oneAPI Deep Neural Network Library (oneDNN) to use the following CPU instructions in performance-critical operations:  AVX2 AVX512F AVX512_VNNI FMA\n",
      "To enable them in other operations, rebuild TensorFlow with the appropriate compiler flags.\n",
      "2023-03-07 18:51:33.099774: I tensorflow/core/common_runtime/gpu/gpu_device.cc:1613] Created device /job:localhost/replica:0/task:0/device:GPU:0 with 13635 MB memory:  -> device: 0, name: Tesla T4, pci bus id: 0000:60:00.0, compute capability: 7.5\n",
      "2023-03-07 18:51:33.101658: I tensorflow/core/common_runtime/gpu/gpu_device.cc:1613] Created device /job:localhost/replica:0/task:0/device:GPU:1 with 13635 MB memory:  -> device: 1, name: Tesla T4, pci bus id: 0000:61:00.0, compute capability: 7.5\n"
     ]
    },
    {
     "name": "stdout",
     "output_type": "stream",
     "text": [
      "Tokenized input example:\n",
      "[3, 4, 5, 6, 7, 8, 9, 10, 11, 0, 0, 0, 0, 0, 0, 0, 0, 0, 0, 0]\n",
      "['40°', 'FFH', 'D4', 'H5', 'F8', 'F12', 'C14', 'F17', 'F18', '[PAD]', '[PAD]', '[PAD]', '[PAD]', '[PAD]', '[PAD]', '[PAD]', '[PAD]', '[PAD]', '[PAD]', '[PAD]']\n"
     ]
    }
   ],
   "source": [
    "embed_holds = PositionalEmbedding(vocab_size=vocab_size, d_model=512)\n",
    "X = np.array(tokenize_df(df))\n",
    "emb = embed_holds(X[:100])"
   ]
  },
  {
   "cell_type": "code",
   "execution_count": 34,
   "metadata": {},
   "outputs": [],
   "source": [
    "class BaseAttention(tf.keras.layers.Layer):\n",
    "    def __init__(self, **kwargs):\n",
    "        super().__init__()\n",
    "        self.mha = tf.keras.layers.MultiHeadAttention(**kwargs)\n",
    "        self.layernorm = tf.keras.layers.LayerNormalization()\n",
    "        self.add = tf.keras.layers.Add()\n",
    "\n",
    "class GlobalSelfAttention(BaseAttention):\n",
    "    def call(self, x):\n",
    "        attn_output = self.mha(\n",
    "            query=x,\n",
    "            value=x,\n",
    "            key=x)\n",
    "        x = self.add([x, attn_output])\n",
    "        x = self.layernorm(x)\n",
    "        return x"
   ]
  },
  {
   "cell_type": "code",
   "execution_count": 35,
   "metadata": {
    "scrolled": true
   },
   "outputs": [
    {
     "name": "stdout",
     "output_type": "stream",
     "text": [
      "(100, 20, 512)\n",
      "(100, 20, 512)\n"
     ]
    },
    {
     "name": "stderr",
     "output_type": "stream",
     "text": [
      "2023-03-07 18:51:41.831269: I tensorflow/compiler/xla/stream_executor/cuda/cuda_dnn.cc:428] Loaded cuDNN version 8401\n"
     ]
    }
   ],
   "source": [
    "sample_gsa = GlobalSelfAttention(num_heads=2, key_dim=512)\n",
    "\n",
    "print(emb.shape)\n",
    "print(sample_gsa(emb).shape)"
   ]
  },
  {
   "cell_type": "code",
   "execution_count": 36,
   "metadata": {},
   "outputs": [],
   "source": [
    "class FeedForward(tf.keras.layers.Layer):\n",
    "    def __init__(self, d_model, dff, dropout_rate=0.1):\n",
    "        super().__init__()\n",
    "        self.seq = tf.keras.Sequential([\n",
    "          tf.keras.layers.Dense(dff, activation='relu'),\n",
    "          tf.keras.layers.Dense(d_model),\n",
    "          tf.keras.layers.Dropout(dropout_rate)\n",
    "        ])\n",
    "        self.add = tf.keras.layers.Add()\n",
    "        self.layer_norm = tf.keras.layers.LayerNormalization()\n",
    "\n",
    "    def call(self, x):\n",
    "        x = self.add([x, self.seq(x)])\n",
    "        x = self.layer_norm(x) \n",
    "        return x"
   ]
  },
  {
   "cell_type": "code",
   "execution_count": 37,
   "metadata": {},
   "outputs": [
    {
     "name": "stdout",
     "output_type": "stream",
     "text": [
      "(100, 20, 512)\n",
      "(100, 20, 512)\n"
     ]
    }
   ],
   "source": [
    "sample_ffn = FeedForward(512, 2048)\n",
    "\n",
    "print(emb.shape)\n",
    "print(sample_ffn(emb).shape)"
   ]
  },
  {
   "cell_type": "code",
   "execution_count": 38,
   "metadata": {},
   "outputs": [],
   "source": [
    "class EncoderLayer(tf.keras.layers.Layer):\n",
    "    def __init__(self,*, d_model, num_heads, dff, dropout_rate=0.1):\n",
    "        super().__init__()\n",
    "\n",
    "        self.self_attention = GlobalSelfAttention(\n",
    "            num_heads=num_heads,\n",
    "            key_dim=d_model,\n",
    "            dropout=dropout_rate)\n",
    "\n",
    "        self.ffn = FeedForward(d_model, dff)\n",
    "\n",
    "    def call(self, x):\n",
    "        x = self.self_attention(x)\n",
    "        x = self.ffn(x)\n",
    "        return x"
   ]
  },
  {
   "cell_type": "code",
   "execution_count": 39,
   "metadata": {},
   "outputs": [
    {
     "name": "stdout",
     "output_type": "stream",
     "text": [
      "(100, 20, 512)\n",
      "(100, 20, 512)\n"
     ]
    }
   ],
   "source": [
    "sample_encoder_layer = EncoderLayer(d_model=512, num_heads=8, dff=2048)\n",
    "\n",
    "print(emb.shape)\n",
    "print(sample_encoder_layer(emb).shape)"
   ]
  },
  {
   "cell_type": "code",
   "execution_count": 40,
   "metadata": {},
   "outputs": [],
   "source": [
    "class Encoder(tf.keras.layers.Layer):\n",
    "    def __init__(self, *, num_layers, d_model, num_heads,\n",
    "               dff, vocab_size, dropout_rate=0.1):\n",
    "        super().__init__()\n",
    "\n",
    "        self.d_model = d_model\n",
    "        self.num_layers = num_layers\n",
    "\n",
    "        self.pos_embedding = PositionalEmbedding(\n",
    "            vocab_size=vocab_size, d_model=d_model)\n",
    "\n",
    "        self.enc_layers = [\n",
    "            EncoderLayer(d_model=d_model,\n",
    "                         num_heads=num_heads,\n",
    "                         dff=dff,\n",
    "                         dropout_rate=dropout_rate)\n",
    "            for _ in range(num_layers)]\n",
    "        self.dropout = tf.keras.layers.Dropout(dropout_rate)\n",
    "\n",
    "    def call(self, x):\n",
    "        # `x` is token-IDs shape: (batch, seq_len)\n",
    "        x = self.pos_embedding(x)  # Shape `(batch_size, seq_len, d_model)`.\n",
    "\n",
    "        # Add dropout.\n",
    "        x = self.dropout(x)\n",
    "\n",
    "        for i in range(self.num_layers):\n",
    "            x = self.enc_layers[i](x)\n",
    "\n",
    "        return x  # Shape `(batch_size, seq_len, d_model)`."
   ]
  },
  {
   "cell_type": "code",
   "execution_count": 41,
   "metadata": {},
   "outputs": [
    {
     "name": "stdout",
     "output_type": "stream",
     "text": [
      "(100, 20)\n",
      "(100, 20, 512)\n"
     ]
    }
   ],
   "source": [
    "# Instantiate the encoder.\n",
    "sample_encoder = Encoder(num_layers=4,\n",
    "                         d_model=512,\n",
    "                         num_heads=8,\n",
    "                         dff=2048,\n",
    "                         vocab_size=vocab_size)\n",
    "\n",
    "sample_encoder_output = sample_encoder(X[:100], training=False)\n",
    "\n",
    "# Print the shape.\n",
    "print(X[:100].shape)\n",
    "print(sample_encoder_output.shape)  # Shape `(batch_size, input_seq_len, d_model)`."
   ]
  },
  {
   "cell_type": "code",
   "execution_count": 42,
   "metadata": {},
   "outputs": [],
   "source": [
    "class EncoderClassifier(tf.keras.Model):\n",
    "    def __init__(self, *, num_layers, d_model, num_heads, dff, vocab_size, num_classes, dropout_rate=0.1):\n",
    "        super().__init__()\n",
    "        self.encoder = Encoder(num_layers=num_layers, d_model=d_model, num_heads=num_heads, dff=dff, \\\n",
    "                               vocab_size=vocab_size, dropout_rate=dropout_rate)\n",
    "        self.seq = tf.keras.Sequential([\n",
    "          tf.keras.layers.Dense(256, activation='relu'),\n",
    "          tf.keras.layers.Dense(128, activation='relu'),\n",
    "          tf.keras.layers.Dropout(dropout_rate)\n",
    "        ])\n",
    "        self.final_layer = tf.keras.layers.Dense(num_classes, activation='softmax')\n",
    "\n",
    "    def call(self, x):\n",
    "        x = self.encoder(x)\n",
    "        x = self.seq(x)\n",
    "        logits = self.final_layer(x[:, 0, :])\n",
    "\n",
    "        try:\n",
    "            del logits._keras_mask\n",
    "        except AttributeError:\n",
    "            pass\n",
    "\n",
    "        return logits"
   ]
  },
  {
   "cell_type": "code",
   "execution_count": 44,
   "metadata": {},
   "outputs": [],
   "source": [
    "class CustomSchedule(tf.keras.optimizers.schedules.LearningRateSchedule):\n",
    "    def __init__(self, d_model, warmup_steps=4000):\n",
    "        super().__init__()\n",
    "\n",
    "        self.d_model = d_model\n",
    "        self.d_model = tf.cast(self.d_model, tf.float32)\n",
    "\n",
    "        self.warmup_steps = warmup_steps\n",
    "\n",
    "    def __call__(self, step):\n",
    "        step = tf.cast(step, dtype=tf.float32)\n",
    "        arg1 = tf.math.rsqrt(step)\n",
    "        arg2 = step * (self.warmup_steps ** -1.5)\n",
    "        result = tf.math.rsqrt(self.d_model) * tf.math.minimum(arg1, arg2)\n",
    "        return result\n",
    "    \n",
    "    def get_config(self):\n",
    "        return {\n",
    "            \"d_model\": self.d_model,\n",
    "            \"warmup_steps\": self.warmup_steps,\n",
    "        }\n",
    "    \n",
    "    def from_config(cls, config):\n",
    "         return cls(**config)"
   ]
  },
  {
   "cell_type": "code",
   "execution_count": 45,
   "metadata": {},
   "outputs": [],
   "source": [
    "#Doesn't work, don't run\n",
    "class MultiGPU(tf.keras.optimizers.schedules.LearningRateSchedule):    \n",
    "    def __init__(self, d_model, step_stages, step_mult, epochs_step):\n",
    "        super().__init__()\n",
    "        \n",
    "        init_lr = np.array([\n",
    "            #1-20: good, slightly high\n",
    "            step_stages[0] * (4000 ** -1.5),\n",
    "            #20-75: low\n",
    "            step_stages[1] * (4000 ** -1.5),\n",
    "            #75-120: good\n",
    "            step_stages[2] * step_mult ** tf.math.floor(step_stages[2] / epochs_step),\n",
    "            #120-200: low\n",
    "            step_stages[3] * 0.08 * (4000 ** -1.5)])\n",
    "\n",
    "        self.d_model = d_model\n",
    "        self.d_model = tf.cast(self.d_model, tf.float32)\n",
    "\n",
    "        self.step_stages = step_stages\n",
    "        self.step_mult = step_mult\n",
    "        self.epochs_step = epochs_step\n",
    "        self.init_lr = init_lr\n",
    "        \n",
    "\n",
    "    def __call__(self, step):\n",
    "        step = tf.cast(step, dtype=tf.float32)\n",
    "        #print(step)\n",
    "        #print(step.numpy)\n",
    "        #print(np.array(step))\n",
    "        step_stages = self.step_stages\n",
    "        step_mult = self.step_mult\n",
    "        epochs_step = self.epochs_step\n",
    "        init_lr = self.init_lr\n",
    "        \n",
    "        #0-20: good, slightly high\n",
    "        if np.array(step) < step_stages[1]:\n",
    "            arg = step * (4000 ** -1.5)\n",
    "        #20-75: low\n",
    "        elif np.array(step) < step_stages[2]:\n",
    "            initial = tf.cast(init_lr[1], dtype=tf.float32)\n",
    "            arg = initial * step_mult[0] ** tf.math.floor(step / epochs_step)\n",
    "        #75-120: good\n",
    "        elif np.array(step) < step_stages[3]:\n",
    "            arg = step * (4000 ** -1.5)\n",
    "        #120+: low\n",
    "        elif np.array(step) < step_stages[4]:\n",
    "            initial =  tf.cast(init_lr[3], dtype=tf.float32)\n",
    "            arg = initial * step_mult[1] ** tf.math.floor(step / epochs_step)\n",
    "                    \n",
    "        #arg1 = tf.math.rsqrt(step)\n",
    "        #arg2 = step * (self.warmup_steps ** -1.5)\n",
    "        return tf.math.rsqrt(self.d_model) * tf.cast(arg, tf.float32)\n",
    "    \n",
    "    def get_config(self):\n",
    "        return {\n",
    "            \"d_model\" : self.d_model,\n",
    "            \"step_stages\" : self.step_stages,\n",
    "            \"step_mult\" : self.step_mult,\n",
    "            \"epochs_step\" : self.epochs_step,\n",
    "            \"init_lr\" : self.init_lr,\n",
    "        }\n",
    "    \n",
    "    def from_config(cls, config):\n",
    "         return cls(**config)"
   ]
  },
  {
   "cell_type": "markdown",
   "metadata": {},
   "source": [
    "### Model Training"
   ]
  },
  {
   "cell_type": "code",
   "execution_count": 95,
   "metadata": {},
   "outputs": [],
   "source": [
    "num_layers = 4\n",
    "d_model = 128\n",
    "dff = 2048\n",
    "num_heads = 8\n",
    "dropout_rate = 0.4\n",
    "epochs = 50\n",
    "num_classes = df.Grade.nunique()\n",
    "global_batch = 256"
   ]
  },
  {
   "cell_type": "code",
   "execution_count": 48,
   "metadata": {},
   "outputs": [],
   "source": [
    "multi_gpu = False #If true, distrubutes over all GPUS allocated. If false, runs on 1 gpu\n",
    "sampling = True #If true, the train dataset will be over/under sampled. If false -> model.fit(validation_split = 0.1)\n",
    "global_batch = 64"
   ]
  },
  {
   "cell_type": "code",
   "execution_count": 49,
   "metadata": {
    "scrolled": true
   },
   "outputs": [
    {
     "name": "stdout",
     "output_type": "stream",
     "text": [
      "X train, test, val (base):  17356 2170 2169\n",
      "y train, test, val (base):  17356 2170 2169\n",
      "X train, test, val (sampled):  19076 2170 2169\n",
      "y train, test, val (sampled):  17356 2170 2169\n",
      "X train, test, val (resized):  19066 2170 2169\n",
      "y train, test, val (resized):  19066 2170 2169\n",
      "\n",
      "\n",
      "Tokenized input example:\n",
      "[3, 4, 19, 59, 129, 63, 39, 115, 73, 0, 0, 0, 0, 0, 0, 0, 0, 0, 0, 0]\n",
      "['40°', 'FFH', 'F4', 'E8', 'I10', 'G11', 'H14', 'E15', 'H18', '[PAD]', '[PAD]', '[PAD]', '[PAD]', '[PAD]', '[PAD]', '[PAD]', '[PAD]', '[PAD]', '[PAD]', '[PAD]']\n",
      "\n",
      "\n",
      "X train, test, val (shape):  (19066, 20) (2170, 18) (2169, 18)\n",
      "y train, test, val (shape):  (19066,) (2170,) (2169,)\n"
     ]
    }
   ],
   "source": [
    "#split up training sets\n",
    "X_train, X_test, X_val, y_train, y_test, y_val = split_train_test_val(sampling)\n",
    "\n",
    "# train, test, and val are now tokenized\n",
    "print(\"\\n\")\n",
    "X_train, X_test, X_val = tokenize_train_test_val_df(X_train, X_test, X_val)\n",
    "print(\"\\n\")\n",
    "print(\"X train, test, val (shape): \", np.shape(X_train), np.shape(X_test), np.shape(X_val))\n",
    "print(\"y train, test, val (shape): \", np.shape(y_train), np.shape(y_test), np.shape(y_val))\n",
    "\n",
    "if(sampling or multi_gpu):\n",
    "    train_dataset = tf.data.Dataset.from_tensor_slices((X_train, y_train)).batch(global_batch)\n",
    "    if(multi_gpu and not sampling):\n",
    "        X_train, X_val, y_train, y_val = train_test_split(X_train, y_train, test_size=0.1)\n",
    "    val_dataset = tf.data.Dataset.from_tensor_slices((X_val, y_val)).batch(global_batch)"
   ]
  },
  {
   "cell_type": "code",
   "execution_count": 52,
   "metadata": {},
   "outputs": [],
   "source": [
    "def get_compiled_model():    \n",
    "    #if(multi_gpu):\n",
    "        #learning_rate = MultiGPU(d_model, \n",
    "                         #step_stages=np.array([1, 20, 75, 120, 200]), \n",
    "                         #step_mult=np.array([1.3, 1.2]), \n",
    "                         #epochs_step=10.0)\n",
    "    #else:\n",
    "    learning_rate = CustomSchedule(d_model)\n",
    "        \n",
    "    optimizer = tf.keras.optimizers.Adam(learning_rate, beta_1=0.9, beta_2=0.98, epsilon=1e-9)\n",
    "    \n",
    "    model = EncoderClassifier(\n",
    "        num_layers=num_layers,\n",
    "        d_model=d_model,\n",
    "        num_heads=num_heads,\n",
    "        dff=dff,\n",
    "        vocab_size=vocab_size,\n",
    "        num_classes=num_classes,\n",
    "        dropout_rate=dropout_rate\n",
    "    )\n",
    "    \n",
    "    model.compile(\n",
    "            loss=tf.keras.losses.SparseCategoricalCrossentropy(),\n",
    "            optimizer=optimizer,\n",
    "            metrics=['accuracy'])\n",
    "    \n",
    "    return model"
   ]
  },
  {
   "cell_type": "code",
   "execution_count": 53,
   "metadata": {},
   "outputs": [],
   "source": [
    "def define_workers(strategy):\n",
    "    replicas = strategy.num_replicas_in_sync\n",
    "    replica_batch = global_batch/replicas\n",
    "    return replicas, replica_batch"
   ]
  },
  {
   "cell_type": "code",
   "execution_count": 54,
   "metadata": {},
   "outputs": [],
   "source": [
    "def distribute_dataset(strategy):\n",
    "    #train_dataset = tf.data.Dataset.from_tensor_slices((X_train, y_train)).batch(global_batch)\n",
    "    #val_dataset = tf.data.Dataset.from_tensor_slices((X_val, y_val)).batch(global_batch)\n",
    "    #train_dataset = train_dataset.batch(global_batch)\n",
    "    #val_dataset = val_dataset.batch(global_batch)\n",
    "\n",
    "    train_dist = strategy.experimental_distribute_dataset(train_dataset)\n",
    "    val_dist = strategy.experimental_distribute_dataset(val_dataset)\n",
    "    return train_dist, val_dist"
   ]
  },
  {
   "cell_type": "code",
   "execution_count": 101,
   "metadata": {},
   "outputs": [],
   "source": [
    "if(multi_gpu):\n",
    "    #Create a MirroredStrategy.\n",
    "    strategy = tf.distribute.MirroredStrategy()\n",
    "    print(\"Number of devices: {}\".format(strategy.num_replicas_in_sync))\n",
    "\n",
    "    #Open a strategy scope.\n",
    "    with strategy.scope():\n",
    "        #Everything that creates variables should be under the strategy scope.\n",
    "        #In general this is only model construction & `compile()`.\n",
    "        model = get_compiled_model()\n",
    "\n",
    "    replicas, replica_batch = define_workers(strategy)\n",
    "    train_dist, val_dist = distribute_dataset(strategy)\n",
    "else:\n",
    "    model = get_compiled_model()"
   ]
  },
  {
   "cell_type": "code",
   "execution_count": 102,
   "metadata": {},
   "outputs": [
    {
     "name": "stdout",
     "output_type": "stream",
     "text": [
      "Epoch 1/50\n",
      "75/75 [==============================] - 18s 105ms/step - loss: 2.2245 - accuracy: 0.1660 - val_loss: 1.8465 - val_accuracy: 0.3333\n",
      "Epoch 2/50\n",
      "75/75 [==============================] - 6s 76ms/step - loss: 2.0223 - accuracy: 0.2094 - val_loss: 1.8550 - val_accuracy: 0.3195\n",
      "Epoch 3/50\n",
      "75/75 [==============================] - 6s 77ms/step - loss: 1.8673 - accuracy: 0.2746 - val_loss: 1.4663 - val_accuracy: 0.4071\n",
      "Epoch 4/50\n",
      "75/75 [==============================] - 6s 77ms/step - loss: 1.5932 - accuracy: 0.3568 - val_loss: 1.3411 - val_accuracy: 0.4463\n",
      "Epoch 5/50\n",
      "75/75 [==============================] - 6s 78ms/step - loss: 1.5134 - accuracy: 0.3817 - val_loss: 1.3139 - val_accuracy: 0.4610\n",
      "Epoch 6/50\n",
      "75/75 [==============================] - 6s 78ms/step - loss: 1.4648 - accuracy: 0.3955 - val_loss: 1.2951 - val_accuracy: 0.4504\n",
      "Epoch 7/50\n",
      "75/75 [==============================] - 6s 78ms/step - loss: 1.4470 - accuracy: 0.3945 - val_loss: 1.2893 - val_accuracy: 0.4421\n",
      "Epoch 8/50\n",
      "75/75 [==============================] - 6s 78ms/step - loss: 1.4174 - accuracy: 0.4079 - val_loss: 1.2977 - val_accuracy: 0.4509\n",
      "Epoch 9/50\n",
      "75/75 [==============================] - 6s 78ms/step - loss: 1.4113 - accuracy: 0.4073 - val_loss: 1.2788 - val_accuracy: 0.4712\n",
      "Epoch 10/50\n",
      "75/75 [==============================] - 6s 79ms/step - loss: 1.3999 - accuracy: 0.4073 - val_loss: 1.2976 - val_accuracy: 0.4652\n",
      "Epoch 11/50\n",
      "75/75 [==============================] - 6s 78ms/step - loss: 1.3850 - accuracy: 0.4171 - val_loss: 1.2695 - val_accuracy: 0.4643\n",
      "Epoch 12/50\n",
      "75/75 [==============================] - 6s 79ms/step - loss: 1.3715 - accuracy: 0.4250 - val_loss: 1.2658 - val_accuracy: 0.4597\n",
      "Epoch 13/50\n",
      "75/75 [==============================] - 6s 78ms/step - loss: 1.3542 - accuracy: 0.4260 - val_loss: 1.2888 - val_accuracy: 0.4680\n",
      "Epoch 14/50\n",
      "75/75 [==============================] - 6s 78ms/step - loss: 1.3533 - accuracy: 0.4275 - val_loss: 1.2593 - val_accuracy: 0.4670\n",
      "Epoch 15/50\n",
      "75/75 [==============================] - 6s 78ms/step - loss: 1.3433 - accuracy: 0.4351 - val_loss: 1.2882 - val_accuracy: 0.4560\n",
      "Epoch 16/50\n",
      "75/75 [==============================] - 6s 78ms/step - loss: 1.3371 - accuracy: 0.4314 - val_loss: 1.2632 - val_accuracy: 0.4680\n",
      "Epoch 17/50\n",
      "75/75 [==============================] - 6s 79ms/step - loss: 1.3275 - accuracy: 0.4381 - val_loss: 1.2565 - val_accuracy: 0.4675\n",
      "Epoch 18/50\n",
      "75/75 [==============================] - 6s 78ms/step - loss: 1.3193 - accuracy: 0.4442 - val_loss: 1.2649 - val_accuracy: 0.4620\n",
      "Epoch 19/50\n",
      "75/75 [==============================] - 6s 79ms/step - loss: 1.3124 - accuracy: 0.4424 - val_loss: 1.2539 - val_accuracy: 0.4795\n",
      "Epoch 20/50\n",
      "75/75 [==============================] - 6s 78ms/step - loss: 1.3073 - accuracy: 0.4480 - val_loss: 1.2411 - val_accuracy: 0.4855\n",
      "Epoch 21/50\n",
      "75/75 [==============================] - 6s 79ms/step - loss: 1.3019 - accuracy: 0.4501 - val_loss: 1.2578 - val_accuracy: 0.4786\n",
      "Epoch 22/50\n",
      "75/75 [==============================] - 6s 79ms/step - loss: 1.2987 - accuracy: 0.4503 - val_loss: 1.2616 - val_accuracy: 0.4615\n",
      "Epoch 23/50\n",
      "75/75 [==============================] - 6s 78ms/step - loss: 1.2947 - accuracy: 0.4548 - val_loss: 1.2634 - val_accuracy: 0.4707\n",
      "Epoch 24/50\n",
      "75/75 [==============================] - 6s 78ms/step - loss: 1.2934 - accuracy: 0.4500 - val_loss: 1.2526 - val_accuracy: 0.4703\n",
      "Epoch 25/50\n",
      "75/75 [==============================] - 6s 79ms/step - loss: 1.2807 - accuracy: 0.4562 - val_loss: 1.2703 - val_accuracy: 0.4753\n",
      "Epoch 26/50\n",
      "75/75 [==============================] - 6s 78ms/step - loss: 1.2729 - accuracy: 0.4602 - val_loss: 1.2537 - val_accuracy: 0.4670\n",
      "Epoch 27/50\n",
      "75/75 [==============================] - 6s 78ms/step - loss: 1.2632 - accuracy: 0.4645 - val_loss: 1.2858 - val_accuracy: 0.4689\n",
      "Epoch 28/50\n",
      "75/75 [==============================] - 6s 79ms/step - loss: 1.2648 - accuracy: 0.4615 - val_loss: 1.2640 - val_accuracy: 0.4836\n",
      "Epoch 29/50\n",
      "75/75 [==============================] - 6s 78ms/step - loss: 1.2538 - accuracy: 0.4621 - val_loss: 1.2359 - val_accuracy: 0.4892\n",
      "Epoch 30/50\n",
      "75/75 [==============================] - 6s 79ms/step - loss: 1.2566 - accuracy: 0.4631 - val_loss: 1.2306 - val_accuracy: 0.4832\n",
      "Epoch 31/50\n",
      "75/75 [==============================] - 6s 78ms/step - loss: 1.2394 - accuracy: 0.4696 - val_loss: 1.2210 - val_accuracy: 0.4998\n",
      "Epoch 32/50\n",
      "75/75 [==============================] - 6s 78ms/step - loss: 1.2376 - accuracy: 0.4701 - val_loss: 1.2120 - val_accuracy: 0.4822\n",
      "Epoch 33/50\n",
      "75/75 [==============================] - 6s 78ms/step - loss: 1.2243 - accuracy: 0.4739 - val_loss: 1.2174 - val_accuracy: 0.4882\n",
      "Epoch 34/50\n",
      "75/75 [==============================] - 6s 78ms/step - loss: 1.2234 - accuracy: 0.4801 - val_loss: 1.2163 - val_accuracy: 0.4910\n",
      "Epoch 35/50\n",
      "75/75 [==============================] - 6s 78ms/step - loss: 1.2205 - accuracy: 0.4823 - val_loss: 1.2376 - val_accuracy: 0.4869\n",
      "Epoch 36/50\n",
      "75/75 [==============================] - 6s 78ms/step - loss: 1.2081 - accuracy: 0.4845 - val_loss: 1.2125 - val_accuracy: 0.4952\n",
      "Epoch 37/50\n",
      "75/75 [==============================] - 6s 78ms/step - loss: 1.2093 - accuracy: 0.4841 - val_loss: 1.2210 - val_accuracy: 0.4799\n",
      "Epoch 38/50\n",
      "75/75 [==============================] - 6s 78ms/step - loss: 1.1937 - accuracy: 0.4847 - val_loss: 1.2223 - val_accuracy: 0.4956\n",
      "Epoch 39/50\n",
      "75/75 [==============================] - 6s 78ms/step - loss: 1.1823 - accuracy: 0.4894 - val_loss: 1.2201 - val_accuracy: 0.4846\n",
      "Epoch 40/50\n",
      "75/75 [==============================] - 6s 78ms/step - loss: 1.1851 - accuracy: 0.4918 - val_loss: 1.2510 - val_accuracy: 0.4901\n",
      "Epoch 41/50\n",
      "75/75 [==============================] - 6s 78ms/step - loss: 1.1810 - accuracy: 0.4888 - val_loss: 1.2379 - val_accuracy: 0.4850\n",
      "Epoch 42/50\n",
      "75/75 [==============================] - 6s 78ms/step - loss: 1.1735 - accuracy: 0.4993 - val_loss: 1.2498 - val_accuracy: 0.4822\n",
      "Epoch 43/50\n",
      "75/75 [==============================] - 6s 78ms/step - loss: 1.1711 - accuracy: 0.4973 - val_loss: 1.2729 - val_accuracy: 0.4707\n",
      "Epoch 44/50\n",
      "75/75 [==============================] - 6s 78ms/step - loss: 1.1713 - accuracy: 0.4983 - val_loss: 1.2268 - val_accuracy: 0.4790\n",
      "Epoch 45/50\n",
      "75/75 [==============================] - 6s 78ms/step - loss: 1.1625 - accuracy: 0.4986 - val_loss: 1.2463 - val_accuracy: 0.4869\n",
      "Epoch 46/50\n",
      "75/75 [==============================] - 6s 78ms/step - loss: 1.1525 - accuracy: 0.4964 - val_loss: 1.2782 - val_accuracy: 0.4919\n",
      "Epoch 47/50\n",
      "75/75 [==============================] - 6s 78ms/step - loss: 1.1652 - accuracy: 0.5000 - val_loss: 1.2371 - val_accuracy: 0.4850\n",
      "Epoch 48/50\n",
      "75/75 [==============================] - 6s 78ms/step - loss: 1.1595 - accuracy: 0.5072 - val_loss: 1.2614 - val_accuracy: 0.4749\n",
      "Epoch 49/50\n",
      "75/75 [==============================] - 6s 78ms/step - loss: 1.1576 - accuracy: 0.5029 - val_loss: 1.2372 - val_accuracy: 0.4726\n",
      "Epoch 50/50\n",
      "75/75 [==============================] - 6s 78ms/step - loss: 1.1645 - accuracy: 0.4945 - val_loss: 1.2617 - val_accuracy: 0.4818\n"
     ]
    }
   ],
   "source": [
    "if(multi_gpu):\n",
    "    #Havings issues, something are not correct, doesn't return correct data. Evalutes in very little time though\n",
    "    history = model.fit(train_dist, batch_size=replica_batch, epochs=epochs, \n",
    "                        validation_data=val_dist, steps_per_epoch=replicas*25, validation_steps=replicas*25, verbose=1)\n",
    "elif(sampling):\n",
    "    history = model.fit(train_dataset, batch_size=global_batch, epochs=epochs, validation_data=val_dataset, verbose=1)\n",
    "else:\n",
    "    history = model.fit(X_train, batch_size=global_batch, epochs=epochs, validation_split=0.1, verbose=1)"
   ]
  },
  {
   "cell_type": "code",
   "execution_count": null,
   "metadata": {},
   "outputs": [],
   "source": [
    "#model.save(\"1gpu_batch64_epoch150_dmodel164_drop25\")"
   ]
  },
  {
   "cell_type": "code",
   "execution_count": null,
   "metadata": {},
   "outputs": [],
   "source": [
    "#model = tf.saved_model.load(\"1gpu_batch48_epoch300_dmodel64_drop25\")"
   ]
  },
  {
   "cell_type": "markdown",
   "metadata": {},
   "source": [
    "# Keras Tuner"
   ]
  },
  {
   "cell_type": "code",
   "execution_count": 58,
   "metadata": {},
   "outputs": [],
   "source": [
    "import keras_tuner\n",
    "# Variables:\n",
    "\n",
    "#constant\n",
    "num_classes = df.Grade.nunique()\n",
    "epochs = 30\n",
    "global_batch = 64\n",
    "# not used in this iteration:\n",
    "\n",
    "# modular\n",
    "# num_layers   =  2    -  12,   step 2   ->  6  options\n",
    "# d_model      =  64   -  1024, step 64  ->  15 options\n",
    "# dff          =  256  -  2048, step 256 ->  7  options\n",
    "# num_heads    =  2    -  12,   step 2   ->  6  options\n",
    "# dropout_rate =  0.1  -  0.5,  step 0.1 ->  5  options\n",
    "# warmup_steps =  2000 -  6000, step 500 ->  9  options\n",
    "# global_batch =  16   -  128,  step 16  ->  7  options\n",
    "\n",
    "\n",
    "# learning_rate = CustomSchedule(d_model, warmup_steps=warmup_steps)\n",
    "# ptimizer = tf.keras.optimizers.Adam(learning_rate, beta_1=0.9, beta_2=0.98, epsilon=1e-9)"
   ]
  },
  {
   "cell_type": "code",
   "execution_count": 60,
   "metadata": {},
   "outputs": [],
   "source": [
    "def build_model(hp):\n",
    "    num_layers = hp.Int(\"num_layers\", min_value=2, max_value=12, step=2)\n",
    "    d_model = hp.Int(\"d_model\", min_value=64, max_value=1024, step=64)\n",
    "    dff = hp.Int(\"dff\", min_value=256, max_value=2048, step=256)\n",
    "    num_heads = hp.Int(\"num_heads\", min_value=2, max_value=12, step=2)\n",
    "    dropout_rate = hp.Float(\"dropout_rate\", min_value=0.1, max_value=0.5, step=0.1)\n",
    "    warmup_steps = hp.Int(\"warmup_steps\", min_value=2000, max_value=6000, step=250)\n",
    "    global_batch = hp.Int(\"global_batch\", min_value=16, max_value=128, step=16)\n",
    "    \n",
    "    num_classes = df.Grade.nunique()\n",
    "    \n",
    "    learning_rate = CustomSchedule(d_model, warmup_steps=warmup_steps)\n",
    "    optimizer = tf.keras.optimizers.Adam(learning_rate, beta_1=0.9, beta_2=0.98, epsilon=1e-9)\n",
    "    \n",
    "    model = EncoderClassifier(\n",
    "        num_layers=num_layers,\n",
    "        d_model=d_model,\n",
    "        num_heads=num_heads,\n",
    "        dff=dff,\n",
    "        vocab_size=vocab_size,\n",
    "        num_classes=num_classes,\n",
    "        dropout_rate=dropout_rate\n",
    "    )\n",
    "    \n",
    "    model.compile(\n",
    "            loss=tf.keras.losses.SparseCategoricalCrossentropy(),\n",
    "            optimizer=optimizer,\n",
    "            metrics=['accuracy'])\n",
    "    \n",
    "    return model"
   ]
  },
  {
   "cell_type": "code",
   "execution_count": 61,
   "metadata": {},
   "outputs": [],
   "source": [
    "tuner = keras_tuner.RandomSearch(\n",
    "    build_model,\n",
    "    objective='val_loss',\n",
    "    max_trials=10)"
   ]
  },
  {
   "cell_type": "code",
   "execution_count": 62,
   "metadata": {},
   "outputs": [
    {
     "name": "stdout",
     "output_type": "stream",
     "text": [
      "Trial 2 Complete [00h 00m 02s]\n",
      "\n",
      "Best val_loss So Far: None\n",
      "Total elapsed time: 00h 00m 04s\n",
      "\n",
      "Search: Running Trial #3\n",
      "\n",
      "Value             |Best Value So Far |Hyperparameter\n",
      "8                 |?                 |num_layers\n",
      "576               |?                 |d_model\n",
      "512               |?                 |dff\n",
      "6                 |?                 |num_heads\n",
      "0.1               |?                 |dropout_rate\n",
      "5000              |?                 |warmup_steps\n",
      "64                |?                 |global_batch\n",
      "\n",
      "Epoch 1/10\n"
     ]
    },
    {
     "name": "stderr",
     "output_type": "stream",
     "text": [
      "Traceback (most recent call last):\n",
      "  File \"/home/milleraa/.local/lib/python3.8/site-packages/keras_tuner/engine/base_tuner.py\", line 266, in _try_run_and_update_trial\n",
      "    self._run_and_update_trial(trial, *fit_args, **fit_kwargs)\n",
      "  File \"/home/milleraa/.local/lib/python3.8/site-packages/keras_tuner/engine/base_tuner.py\", line 231, in _run_and_update_trial\n",
      "    results = self.run_trial(trial, *fit_args, **fit_kwargs)\n",
      "  File \"/home/milleraa/.local/lib/python3.8/site-packages/keras_tuner/engine/tuner.py\", line 287, in run_trial\n",
      "    obj_value = self._build_and_fit_model(trial, *args, **copied_kwargs)\n",
      "  File \"/home/milleraa/.local/lib/python3.8/site-packages/keras_tuner/engine/tuner.py\", line 214, in _build_and_fit_model\n",
      "    results = self.hypermodel.fit(hp, model, *args, **kwargs)\n",
      "  File \"/home/milleraa/.local/lib/python3.8/site-packages/keras_tuner/engine/hypermodel.py\", line 144, in fit\n",
      "    return model.fit(*args, **kwargs)\n",
      "  File \"/home/milleraa/.local/lib/python3.8/site-packages/keras/utils/traceback_utils.py\", line 70, in error_handler\n",
      "    raise e.with_traceback(filtered_tb) from None\n",
      "  File \"/tmp/__autograph_generated_filev71w8peq.py\", line 15, in tf__train_function\n",
      "    retval_ = ag__.converted_call(ag__.ld(step_function), (ag__.ld(self), ag__.ld(iterator)), None, fscope)\n",
      "ValueError: in user code:\n",
      "\n",
      "    File \"/home/milleraa/.local/lib/python3.8/site-packages/keras/engine/training.py\", line 1249, in train_function  *\n",
      "        return step_function(self, iterator)\n",
      "    File \"/home/milleraa/.local/lib/python3.8/site-packages/keras/engine/training.py\", line 1233, in step_function  **\n",
      "        outputs = model.distribute_strategy.run(run_step, args=(data,))\n",
      "    File \"/home/milleraa/.local/lib/python3.8/site-packages/keras/engine/training.py\", line 1222, in run_step  **\n",
      "        outputs = model.train_step(data)\n",
      "    File \"/home/milleraa/.local/lib/python3.8/site-packages/keras/engine/training.py\", line 1025, in train_step\n",
      "        self._validate_target_and_loss(y, loss)\n",
      "    File \"/home/milleraa/.local/lib/python3.8/site-packages/keras/engine/training.py\", line 979, in _validate_target_and_loss\n",
      "        raise ValueError(\n",
      "\n",
      "    ValueError: Target data is missing. Your model was compiled with loss=<keras.losses.SparseCategoricalCrossentropy object at 0x7fae19a50430>, and therefore expects target data to be provided in `fit()`.\n",
      "\n"
     ]
    },
    {
     "ename": "RuntimeError",
     "evalue": "Number of consecutive failures excceeded the limit of 3.\nTraceback (most recent call last):\n  File \"/home/milleraa/.local/lib/python3.8/site-packages/keras_tuner/engine/base_tuner.py\", line 266, in _try_run_and_update_trial\n    self._run_and_update_trial(trial, *fit_args, **fit_kwargs)\n  File \"/home/milleraa/.local/lib/python3.8/site-packages/keras_tuner/engine/base_tuner.py\", line 231, in _run_and_update_trial\n    results = self.run_trial(trial, *fit_args, **fit_kwargs)\n  File \"/home/milleraa/.local/lib/python3.8/site-packages/keras_tuner/engine/tuner.py\", line 287, in run_trial\n    obj_value = self._build_and_fit_model(trial, *args, **copied_kwargs)\n  File \"/home/milleraa/.local/lib/python3.8/site-packages/keras_tuner/engine/tuner.py\", line 214, in _build_and_fit_model\n    results = self.hypermodel.fit(hp, model, *args, **kwargs)\n  File \"/home/milleraa/.local/lib/python3.8/site-packages/keras_tuner/engine/hypermodel.py\", line 144, in fit\n    return model.fit(*args, **kwargs)\n  File \"/home/milleraa/.local/lib/python3.8/site-packages/keras/utils/traceback_utils.py\", line 70, in error_handler\n    raise e.with_traceback(filtered_tb) from None\n  File \"/tmp/__autograph_generated_filev71w8peq.py\", line 15, in tf__train_function\n    retval_ = ag__.converted_call(ag__.ld(step_function), (ag__.ld(self), ag__.ld(iterator)), None, fscope)\nValueError: in user code:\n\n    File \"/home/milleraa/.local/lib/python3.8/site-packages/keras/engine/training.py\", line 1249, in train_function  *\n        return step_function(self, iterator)\n    File \"/home/milleraa/.local/lib/python3.8/site-packages/keras/engine/training.py\", line 1233, in step_function  **\n        outputs = model.distribute_strategy.run(run_step, args=(data,))\n    File \"/home/milleraa/.local/lib/python3.8/site-packages/keras/engine/training.py\", line 1222, in run_step  **\n        outputs = model.train_step(data)\n    File \"/home/milleraa/.local/lib/python3.8/site-packages/keras/engine/training.py\", line 1025, in train_step\n        self._validate_target_and_loss(y, loss)\n    File \"/home/milleraa/.local/lib/python3.8/site-packages/keras/engine/training.py\", line 979, in _validate_target_and_loss\n        raise ValueError(\n\n    ValueError: Target data is missing. Your model was compiled with loss=<keras.losses.SparseCategoricalCrossentropy object at 0x7fae19a50430>, and therefore expects target data to be provided in `fit()`.\n\n",
     "output_type": "error",
     "traceback": [
      "\u001b[0;31m---------------------------------------------------------------------------\u001b[0m",
      "\u001b[0;31mRuntimeError\u001b[0m                              Traceback (most recent call last)",
      "Input \u001b[0;32mIn [62]\u001b[0m, in \u001b[0;36m<cell line: 1>\u001b[0;34m()\u001b[0m\n\u001b[0;32m----> 1\u001b[0m \u001b[43mtuner\u001b[49m\u001b[38;5;241;43m.\u001b[39;49m\u001b[43msearch\u001b[49m\u001b[43m(\u001b[49m\u001b[43mX_train\u001b[49m\u001b[43m,\u001b[49m\u001b[43m \u001b[49m\u001b[43mepochs\u001b[49m\u001b[38;5;241;43m=\u001b[39;49m\u001b[38;5;241;43m10\u001b[39;49m\u001b[43m,\u001b[49m\u001b[43m \u001b[49m\u001b[43mvalidation_data\u001b[49m\u001b[38;5;241;43m=\u001b[39;49m\u001b[43mval_dataset\u001b[49m\u001b[43m)\u001b[49m\n\u001b[1;32m      2\u001b[0m best_model \u001b[38;5;241m=\u001b[39m tuner\u001b[38;5;241m.\u001b[39mget_best_models()[\u001b[38;5;241m0\u001b[39m]\n",
      "File \u001b[0;32m~/.local/lib/python3.8/site-packages/keras_tuner/engine/base_tuner.py:227\u001b[0m, in \u001b[0;36mBaseTuner.search\u001b[0;34m(self, *fit_args, **fit_kwargs)\u001b[0m\n\u001b[1;32m    225\u001b[0m     \u001b[38;5;28mself\u001b[39m\u001b[38;5;241m.\u001b[39mon_trial_begin(trial)\n\u001b[1;32m    226\u001b[0m     \u001b[38;5;28mself\u001b[39m\u001b[38;5;241m.\u001b[39m_try_run_and_update_trial(trial, \u001b[38;5;241m*\u001b[39mfit_args, \u001b[38;5;241m*\u001b[39m\u001b[38;5;241m*\u001b[39mfit_kwargs)\n\u001b[0;32m--> 227\u001b[0m     \u001b[38;5;28;43mself\u001b[39;49m\u001b[38;5;241;43m.\u001b[39;49m\u001b[43mon_trial_end\u001b[49m\u001b[43m(\u001b[49m\u001b[43mtrial\u001b[49m\u001b[43m)\u001b[49m\n\u001b[1;32m    228\u001b[0m \u001b[38;5;28mself\u001b[39m\u001b[38;5;241m.\u001b[39mon_search_end()\n",
      "File \u001b[0;32m~/.local/lib/python3.8/site-packages/keras_tuner/engine/base_tuner.py:331\u001b[0m, in \u001b[0;36mBaseTuner.on_trial_end\u001b[0;34m(self, trial)\u001b[0m\n\u001b[1;32m    325\u001b[0m \u001b[38;5;28;01mdef\u001b[39;00m \u001b[38;5;21mon_trial_end\u001b[39m(\u001b[38;5;28mself\u001b[39m, trial):\n\u001b[1;32m    326\u001b[0m     \u001b[38;5;124;03m\"\"\"Called at the end of a trial.\u001b[39;00m\n\u001b[1;32m    327\u001b[0m \n\u001b[1;32m    328\u001b[0m \u001b[38;5;124;03m    Args:\u001b[39;00m\n\u001b[1;32m    329\u001b[0m \u001b[38;5;124;03m        trial: A `Trial` instance.\u001b[39;00m\n\u001b[1;32m    330\u001b[0m \u001b[38;5;124;03m    \"\"\"\u001b[39;00m\n\u001b[0;32m--> 331\u001b[0m     \u001b[38;5;28;43mself\u001b[39;49m\u001b[38;5;241;43m.\u001b[39;49m\u001b[43moracle\u001b[49m\u001b[38;5;241;43m.\u001b[39;49m\u001b[43mend_trial\u001b[49m\u001b[43m(\u001b[49m\u001b[43mtrial\u001b[49m\u001b[43m)\u001b[49m\n\u001b[1;32m    332\u001b[0m     \u001b[38;5;66;03m# Display needs the updated trial scored by the Oracle.\u001b[39;00m\n\u001b[1;32m    333\u001b[0m     \u001b[38;5;28mself\u001b[39m\u001b[38;5;241m.\u001b[39m_display\u001b[38;5;241m.\u001b[39mon_trial_end(\u001b[38;5;28mself\u001b[39m\u001b[38;5;241m.\u001b[39moracle\u001b[38;5;241m.\u001b[39mget_trial(trial\u001b[38;5;241m.\u001b[39mtrial_id))\n",
      "File \u001b[0;32m~/.local/lib/python3.8/site-packages/keras_tuner/engine/oracle.py:108\u001b[0m, in \u001b[0;36msynchronized.<locals>.wrapped_func\u001b[0;34m(*args, **kwargs)\u001b[0m\n\u001b[1;32m    106\u001b[0m     LOCKS[oracle]\u001b[38;5;241m.\u001b[39macquire()\n\u001b[1;32m    107\u001b[0m     THREADS[oracle] \u001b[38;5;241m=\u001b[39m thread_name\n\u001b[0;32m--> 108\u001b[0m ret_val \u001b[38;5;241m=\u001b[39m \u001b[43mfunc\u001b[49m\u001b[43m(\u001b[49m\u001b[38;5;241;43m*\u001b[39;49m\u001b[43margs\u001b[49m\u001b[43m,\u001b[49m\u001b[43m \u001b[49m\u001b[38;5;241;43m*\u001b[39;49m\u001b[38;5;241;43m*\u001b[39;49m\u001b[43mkwargs\u001b[49m\u001b[43m)\u001b[49m\n\u001b[1;32m    109\u001b[0m \u001b[38;5;28;01mif\u001b[39;00m need_acquire:\n\u001b[1;32m    110\u001b[0m     THREADS[oracle] \u001b[38;5;241m=\u001b[39m \u001b[38;5;28;01mNone\u001b[39;00m\n",
      "File \u001b[0;32m~/.local/lib/python3.8/site-packages/keras_tuner/engine/oracle.py:435\u001b[0m, in \u001b[0;36mOracle.end_trial\u001b[0;34m(self, trial)\u001b[0m\n\u001b[1;32m    433\u001b[0m \u001b[38;5;28;01mif\u001b[39;00m \u001b[38;5;129;01mnot\u001b[39;00m \u001b[38;5;28mself\u001b[39m\u001b[38;5;241m.\u001b[39m_retry(trial):\n\u001b[1;32m    434\u001b[0m     \u001b[38;5;28mself\u001b[39m\u001b[38;5;241m.\u001b[39mend_order\u001b[38;5;241m.\u001b[39mappend(trial\u001b[38;5;241m.\u001b[39mtrial_id)\n\u001b[0;32m--> 435\u001b[0m     \u001b[38;5;28;43mself\u001b[39;49m\u001b[38;5;241;43m.\u001b[39;49m\u001b[43m_check_consecutive_failures\u001b[49m\u001b[43m(\u001b[49m\u001b[43m)\u001b[49m\n\u001b[1;32m    437\u001b[0m \u001b[38;5;28mself\u001b[39m\u001b[38;5;241m.\u001b[39m_save_trial(trial)\n\u001b[1;32m    438\u001b[0m \u001b[38;5;28mself\u001b[39m\u001b[38;5;241m.\u001b[39msave()\n",
      "File \u001b[0;32m~/.local/lib/python3.8/site-packages/keras_tuner/engine/oracle.py:387\u001b[0m, in \u001b[0;36mOracle._check_consecutive_failures\u001b[0;34m(self)\u001b[0m\n\u001b[1;32m    385\u001b[0m     consecutive_failures \u001b[38;5;241m=\u001b[39m \u001b[38;5;241m0\u001b[39m\n\u001b[1;32m    386\u001b[0m \u001b[38;5;28;01mif\u001b[39;00m consecutive_failures \u001b[38;5;241m==\u001b[39m \u001b[38;5;28mself\u001b[39m\u001b[38;5;241m.\u001b[39mmax_consecutive_failed_trials:\n\u001b[0;32m--> 387\u001b[0m     \u001b[38;5;28;01mraise\u001b[39;00m \u001b[38;5;167;01mRuntimeError\u001b[39;00m(\n\u001b[1;32m    388\u001b[0m         \u001b[38;5;124m\"\u001b[39m\u001b[38;5;124mNumber of consecutive failures excceeded the limit \u001b[39m\u001b[38;5;124m\"\u001b[39m\n\u001b[1;32m    389\u001b[0m         \u001b[38;5;124mf\u001b[39m\u001b[38;5;124m\"\u001b[39m\u001b[38;5;124mof \u001b[39m\u001b[38;5;132;01m{\u001b[39;00m\u001b[38;5;28mself\u001b[39m\u001b[38;5;241m.\u001b[39mmax_consecutive_failed_trials\u001b[38;5;132;01m}\u001b[39;00m\u001b[38;5;124m.\u001b[39m\u001b[38;5;130;01m\\n\u001b[39;00m\u001b[38;5;124m\"\u001b[39m\n\u001b[1;32m    390\u001b[0m         \u001b[38;5;241m+\u001b[39m trial\u001b[38;5;241m.\u001b[39mmessage\n\u001b[1;32m    391\u001b[0m     )\n",
      "\u001b[0;31mRuntimeError\u001b[0m: Number of consecutive failures excceeded the limit of 3.\nTraceback (most recent call last):\n  File \"/home/milleraa/.local/lib/python3.8/site-packages/keras_tuner/engine/base_tuner.py\", line 266, in _try_run_and_update_trial\n    self._run_and_update_trial(trial, *fit_args, **fit_kwargs)\n  File \"/home/milleraa/.local/lib/python3.8/site-packages/keras_tuner/engine/base_tuner.py\", line 231, in _run_and_update_trial\n    results = self.run_trial(trial, *fit_args, **fit_kwargs)\n  File \"/home/milleraa/.local/lib/python3.8/site-packages/keras_tuner/engine/tuner.py\", line 287, in run_trial\n    obj_value = self._build_and_fit_model(trial, *args, **copied_kwargs)\n  File \"/home/milleraa/.local/lib/python3.8/site-packages/keras_tuner/engine/tuner.py\", line 214, in _build_and_fit_model\n    results = self.hypermodel.fit(hp, model, *args, **kwargs)\n  File \"/home/milleraa/.local/lib/python3.8/site-packages/keras_tuner/engine/hypermodel.py\", line 144, in fit\n    return model.fit(*args, **kwargs)\n  File \"/home/milleraa/.local/lib/python3.8/site-packages/keras/utils/traceback_utils.py\", line 70, in error_handler\n    raise e.with_traceback(filtered_tb) from None\n  File \"/tmp/__autograph_generated_filev71w8peq.py\", line 15, in tf__train_function\n    retval_ = ag__.converted_call(ag__.ld(step_function), (ag__.ld(self), ag__.ld(iterator)), None, fscope)\nValueError: in user code:\n\n    File \"/home/milleraa/.local/lib/python3.8/site-packages/keras/engine/training.py\", line 1249, in train_function  *\n        return step_function(self, iterator)\n    File \"/home/milleraa/.local/lib/python3.8/site-packages/keras/engine/training.py\", line 1233, in step_function  **\n        outputs = model.distribute_strategy.run(run_step, args=(data,))\n    File \"/home/milleraa/.local/lib/python3.8/site-packages/keras/engine/training.py\", line 1222, in run_step  **\n        outputs = model.train_step(data)\n    File \"/home/milleraa/.local/lib/python3.8/site-packages/keras/engine/training.py\", line 1025, in train_step\n        self._validate_target_and_loss(y, loss)\n    File \"/home/milleraa/.local/lib/python3.8/site-packages/keras/engine/training.py\", line 979, in _validate_target_and_loss\n        raise ValueError(\n\n    ValueError: Target data is missing. Your model was compiled with loss=<keras.losses.SparseCategoricalCrossentropy object at 0x7fae19a50430>, and therefore expects target data to be provided in `fit()`.\n\n"
     ]
    }
   ],
   "source": [
    "tuner.search(X_train, epochs=10, validation_data=val_dataset)\n",
    "best_model = tuner.get_best_models()[0]"
   ]
  },
  {
   "cell_type": "markdown",
   "metadata": {},
   "source": [
    "### Training Plots"
   ]
  },
  {
   "cell_type": "code",
   "execution_count": 103,
   "metadata": {
    "scrolled": true
   },
   "outputs": [
    {
     "data": {
      "text/plain": [
       "<matplotlib.legend.Legend at 0x7f4d68b42b50>"
      ]
     },
     "execution_count": 103,
     "metadata": {},
     "output_type": "execute_result"
    },
    {
     "data": {
      "image/png": "[encoded data removed]",
      "text/plain": [
       "<Figure size 432x288 with 1 Axes>"
      ]
     },
     "metadata": {
      "needs_background": "light"
     },
     "output_type": "display_data"
    }
   ],
   "source": [
    "plt.title('Accuracy')\n",
    "plt.xlabel('Epochs')\n",
    "plt.ylabel('Accuracy')\n",
    "plt.plot(history.history['accuracy'], label='Train Accuracy')\n",
    "plt.plot(history.history['val_accuracy'], label='Validation Accuracy')\n",
    "plt.legend()"
   ]
  },
  {
   "cell_type": "code",
   "execution_count": 104,
   "metadata": {
    "scrolled": false
   },
   "outputs": [
    {
     "data": {
      "text/plain": [
       "<matplotlib.legend.Legend at 0x7f4d639d8220>"
      ]
     },
     "execution_count": 104,
     "metadata": {},
     "output_type": "execute_result"
    },
    {
     "data": {
      "image/png": "[encoded data removed]",
      "text/plain": [
       "<Figure size 432x288 with 1 Axes>"
      ]
     },
     "metadata": {
      "needs_background": "light"
     },
     "output_type": "display_data"
    }
   ],
   "source": [
    "plt.title('Loss')\n",
    "plt.xlabel('Epochs')\n",
    "plt.ylabel('Loss')\n",
    "#plt.axis([75, 200, 1.2, 2.2])\n",
    "plt.plot(history.history['loss'], label='Train Loss')\n",
    "plt.plot(history.history['val_loss'], label='Validation Loss')\n",
    "plt.legend()"
   ]
  },
  {
   "cell_type": "code",
   "execution_count": 105,
   "metadata": {
    "scrolled": false
   },
   "outputs": [
    {
     "data": {
      "text/plain": [
       "<matplotlib.legend.Legend at 0x7f4d513dc280>"
      ]
     },
     "execution_count": 105,
     "metadata": {},
     "output_type": "execute_result"
    },
    {
     "data": {
      "image/png": "[encoded data removed]",
      "text/plain": [
       "<Figure size 432x288 with 1 Axes>"
      ]
     },
     "metadata": {
      "needs_background": "light"
     },
     "output_type": "display_data"
    }
   ],
   "source": [
    "#learning_rate = MultiGPU(d_model, \n",
    "                         #step_stages=np.array([1, 20, 75, 120, 200]), \n",
    "                         #step_mult=np.array([1.3, 1.2]), \n",
    "                         #epochs_step=10.0)\n",
    "learning_rate = CustomSchedule(d_model)\n",
    "lr = np.array([])\n",
    "for i in range(1, 17000):\n",
    "    lr = np.append(lr, learning_rate.__call__(i))\n",
    "    #print(learning_rate.__call__(i).numpy())\n",
    "plt.title('Learning Rate')\n",
    "plt.xlabel('Epochs')\n",
    "plt.ylabel('Learning Rate')\n",
    "plt.plot(lr, label='Learning Rate')\n",
    "#plt.axis([0, 300, 0, 0.000125])\n",
    "plt.legend()\n"
   ]
  },
  {
   "cell_type": "markdown",
   "metadata": {},
   "source": [
    "### Model Evaluation"
   ]
  },
  {
   "cell_type": "code",
   "execution_count": 106,
   "metadata": {
    "scrolled": false
   },
   "outputs": [
    {
     "name": "stdout",
     "output_type": "stream",
     "text": [
      "68/68 [==============================] - 1s 11ms/step\n"
     ]
    }
   ],
   "source": [
    "pred = model.predict(X_test)"
   ]
  },
  {
   "cell_type": "code",
   "execution_count": 107,
   "metadata": {},
   "outputs": [],
   "source": [
    "def norm_cm(cm):\n",
    "    return np.array([cm[i] / np.sum(cm[i]) for i in range(len(cm))])\n",
    "    \n",
    "def accuracy(cm):\n",
    "    return cm.diagonal().sum() / cm.sum()\n",
    "def top_1_accuracy(cm):\n",
    "    return (cm.diagonal(-1).sum() + cm.diagonal(0).sum() + cm.diagonal(1).sum()) / cm.sum()\n",
    "def top_2_accuracy(cm):\n",
    "    return (cm.diagonal(-2).sum() + cm.diagonal(-1).sum() + cm.diagonal(0).sum() + cm.diagonal(1).sum() +\n",
    "                 cm.diagonal(2).sum()) / cm.sum()"
   ]
  },
  {
   "cell_type": "code",
   "execution_count": 108,
   "metadata": {},
   "outputs": [
    {
     "name": "stdout",
     "output_type": "stream",
     "text": [
      "accuracy 0.4705069124423963\n",
      "+-1 accuracy 0.8682027649769585\n",
      "+-2 accuracy 0.9695852534562212\n"
     ]
    }
   ],
   "source": [
    "cm = confusion_matrix(y_test, np.argmax(pred, axis=1))\n",
    "normalized_cm = norm_cm(cm)\n",
    "print('accuracy', accuracy(cm))\n",
    "print('+-1 accuracy', top_1_accuracy(cm))\n",
    "print('+-2 accuracy', top_2_accuracy(cm))"
   ]
  },
  {
   "cell_type": "markdown",
   "metadata": {},
   "source": [
    "Heatmap"
   ]
  },
  {
   "cell_type": "code",
   "execution_count": 109,
   "metadata": {
    "scrolled": false
   },
   "outputs": [
    {
     "data": {
      "text/plain": [
       "<AxesSubplot:>"
      ]
     },
     "execution_count": 109,
     "metadata": {},
     "output_type": "execute_result"
    },
    {
     "data": {
      "image/png": "[encoded data removed]",
      "text/plain": [
       "<Figure size 432x288 with 2 Axes>"
      ]
     },
     "metadata": {
      "needs_background": "light"
     },
     "output_type": "display_data"
    }
   ],
   "source": [
    "sns.heatmap(cm, xticklabels=range(2, 11), yticklabels=range(2, 11), annot=True, fmt='g', square=True)"
   ]
  },
  {
   "cell_type": "markdown",
   "metadata": {},
   "source": [
    "Normalized Heatmap"
   ]
  },
  {
   "cell_type": "code",
   "execution_count": 110,
   "metadata": {
    "scrolled": false
   },
   "outputs": [
    {
     "data": {
      "text/plain": [
       "<AxesSubplot:>"
      ]
     },
     "execution_count": 110,
     "metadata": {},
     "output_type": "execute_result"
    },
    {
     "data": {
      "image/png": "[encoded data removed]",
      "text/plain": [
       "<Figure size 432x288 with 2 Axes>"
      ]
     },
     "metadata": {
      "needs_background": "light"
     },
     "output_type": "display_data"
    }
   ],
   "source": [
    "sns.heatmap(normalized_cm, xticklabels=range(2, 11), yticklabels=range(2, 11), annot=True, fmt='.2f', square=True)"
   ]
  },
  {
   "cell_type": "code",
   "execution_count": 70,
   "metadata": {},
   "outputs": [
    {
     "name": "stdout",
     "output_type": "stream",
     "text": [
      "accuracy 0.21877188886294655\n",
      "+-1 accuracy 0.5626897034788699\n",
      "+-2 accuracy 0.7555451786131216\n"
     ]
    }
   ],
   "source": [
    "GCNcm = np.array([\n",
    "    [263, 58, 32, 7, 5, 3, 1, 2, 2, 0, 0],\n",
    "    [175, 98, 64, 19, 22, 20, 4, 3, 6, 0, 4],\n",
    "    [66, 132, 79, 25, 31, 29, 3, 16, 11, 0, 3],\n",
    "    [29, 78, 62, 37, 53, 51, 36, 23, 6, 3, 13],\n",
    "    [29, 55, 43, 24, 35, 62, 33, 63, 9, 2, 23],\n",
    "    [10, 38, 46, 26, 62, 41, 73, 99, 11, 0, 12],\n",
    "    [0, 25, 19, 19, 10, 34, 112, 158, 14, 6, 11],\n",
    "    [45, 0, 63, 0, 27, 82, 0, 89, 59, 0, 0],\n",
    "    [0, 0, 0, 0, 0, 0, 242, 87, 183, 86, 0],\n",
    "    [0, 0, 0, 0, 0, 0, 141, 0, 133, 0, 126],\n",
    "    [142, 0, 0, 0, 0, 0, 0, 0, 0, 0, 0]\n",
    "])\n",
    "#normalized_GCNcm = norm_cm(GCNcm)\n",
    "print('accuracy', accuracy(GCNcm))\n",
    "#print('accuracy', accuracy(normalized_GCNcm))\n",
    "print('+-1 accuracy', top_1_accuracy(GCNcm))\n",
    "#print('+-1 accuracy', top_1_accuracy(normalized_GCNcm))\n",
    "print('+-2 accuracy', top_2_accuracy(GCNcm))\n",
    "#print('+-2 accuracy', top_2_accuracy(normalized_GCNcm))"
   ]
  },
  {
   "cell_type": "code",
   "execution_count": null,
   "metadata": {},
   "outputs": [],
   "source": []
  },
  {
   "cell_type": "code",
   "execution_count": null,
   "metadata": {},
   "outputs": [],
   "source": []
  },
  {
   "cell_type": "code",
   "execution_count": null,
   "metadata": {},
   "outputs": [],
   "source": []
  },
  {
   "cell_type": "code",
   "execution_count": null,
   "metadata": {},
   "outputs": [],
   "source": []
  }
 ],
 "metadata": {
  "kernelspec": {
   "display_name": "Python 3 (ipykernel)",
   "language": "python",
   "name": "python3"
  },
  "language_info": {
   "codemirror_mode": {
    "name": "ipython",
    "version": 3
   },
   "file_extension": ".py",
   "mimetype": "text/x-python",
   "name": "python",
   "nbconvert_exporter": "python",
   "pygments_lexer": "ipython3",
   "version": "3.8.10"
  },
  "vscode": {
   "interpreter": {
    "hash": "11938c6bc6919ae2720b4d5011047913343b08a43b18698fd82dedb0d4417594"
   }
  }
 },
 "nbformat": 4,
 "nbformat_minor": 2
}
