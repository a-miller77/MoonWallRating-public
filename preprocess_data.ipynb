{
 "cells": [
  {
   "cell_type": "code",
   "execution_count": 3,
   "id": "623cca34",
   "metadata": {},
   "outputs": [],
   "source": [
    "from sklearn.model_selection import train_test_split\n",
    "import matplotlib.pyplot as plt\n",
    "from preprocessing import *\n",
    "import seaborn as sns\n",
    "import pandas as pd\n",
    "import numpy as np\n",
    "import pickle\n",
    "import json"
   ]
  },
  {
   "cell_type": "code",
   "execution_count": 79,
   "id": "84cb3755",
   "metadata": {},
   "outputs": [],
   "source": [
    "def data_sampling(dataframe):\n",
    "    over_bench_mult = 2.2;\n",
    "    under_bench_mult = 1.5;\n",
    "\n",
    "    smp2 = dataframe[dataframe.Grade == 2]\n",
    "    smp3 = dataframe[dataframe.Grade == 3]\n",
    "    smp4 = dataframe[dataframe.Grade == 4]\n",
    "    smp5 = dataframe[dataframe.Grade == 5]\n",
    "    smp6 = dataframe[dataframe.Grade == 6]\n",
    "    smp7 = dataframe[dataframe.Grade == 7]\n",
    "    smp8 = dataframe[dataframe.Grade == 8]\n",
    "    smp9 = dataframe[dataframe.Grade == 9]\n",
    "    smp10 = dataframe[dataframe.Grade == 10]\n",
    "\n",
    "    under_3 = pd.concat([smp3[smp3.IsBenchmark != True].sample(frac=.73), \n",
    "                     smp3[smp3.IsBenchmark == True].sample(frac=under_bench_mult, replace=True)])\n",
    "    under_5 = pd.concat([smp5[smp5.IsBenchmark != True].sample(frac=.77), \n",
    "                     smp5[smp5.IsBenchmark == True].sample(frac=under_bench_mult, replace=True)])\n",
    "\n",
    "    over_2 = smp2.sample(frac=2, replace=True)\n",
    "    over_4 = pd.concat([smp4.sample(frac=1.4, replace=True), \n",
    "                    smp4[smp4.IsBenchmark == True].sample(frac=over_bench_mult, replace=True)])\n",
    "    over_6 = pd.concat([smp6.sample(frac=1.2, replace=True), \n",
    "                    smp6[smp6.IsBenchmark == True].sample(frac=over_bench_mult, replace=True)])\n",
    "    over_7 = pd.concat([smp7.sample(frac=1.5, replace=True), \n",
    "                    smp7[smp7.IsBenchmark == True].sample(frac=over_bench_mult, replace=True)])\n",
    "    over_8 = pd.concat([smp8.sample(frac=1.3, replace=True), \n",
    "                    smp8[smp8.IsBenchmark == True].sample(frac=over_bench_mult, replace=True)])\n",
    "    over_9 = pd.concat([smp9.sample(frac=2.1, replace=True), \n",
    "                    smp9[smp9.IsBenchmark == True].sample(frac=over_bench_mult, replace=True)])\n",
    "    over_10 = smp10.sample(frac=3.5, replace=True)\n",
    "    \n",
    "    \n",
    "\n",
    "    return pd.concat([over_2, under_3, over_4, under_5, over_6, over_7, over_8, over_9, over_10]).sample(frac = 1)"
   ]
  },
  {
   "cell_type": "code",
   "execution_count": 80,
   "id": "dd0c3983",
   "metadata": {},
   "outputs": [],
   "source": [
    "def split_train_test_val(df, train_size, test_size, val_size):\n",
    "    # train is now 80% of the entire data set, test is now 20% of the dataset\n",
    "    # X_train and X_test are DataFrames of routes, y_train and y_test are numpy arrays of grades\n",
    "    train_df, test_df = train_test_split(df, train_size=train_size, stratify=df[['Grade']], shuffle=True)\n",
    "    \n",
    "    # test is now 10% of the initial data set\n",
    "    # validation is now 10% of the initial data set\n",
    "    # X_val and X_test are DataFrames of routes, y_val and y_test are numpy arrays of grades\n",
    "    val_df, test_df = train_test_split(test_df, test_size=(test_size / (test_size + val_size)), stratify=test_df[['Grade']], shuffle=True) \n",
    "    \n",
    "    print(\"X train, test, val (before sampling): \", len(train_df), len(val_df), len(test_df))\n",
    "    print(\"y train, test, val (before sampling): \", len(train_df), len(val_df), len(test_df))\n",
    "    \n",
    "    # over and undersample the datasets without bleed between train, test, and validation sets\n",
    "    train_df = data_sampling(train_df)\n",
    "    # NOTE: the oversamping method appears to cause the datasets to be slightly different sizes each time\n",
    "    # this is assumed to be due to the stratification\n",
    "    \n",
    "    print(\"X train, test, val (after sampling): \", len(train_df), len(val_df), len(test_df))\n",
    "    print(\"y train, test, val (after sampling): \", len(train_df), len(val_df), len(test_df))\n",
    "\n",
    "    \n",
    "    return (np.array(train_df.TokenizedSequence.to_list()), \n",
    "            np.array(test_df.TokenizedSequence.to_list()), \n",
    "            np.array(val_df.TokenizedSequence.to_list()), \n",
    "            train_df.Grade.to_numpy()-df.Grade.min(),\n",
    "            test_df.Grade.to_numpy()-df.Grade.min(),\n",
    "            val_df.Grade.to_numpy()-df.Grade.min())"
   ]
  },
  {
   "cell_type": "code",
   "execution_count": 66,
   "id": "dc536473",
   "metadata": {},
   "outputs": [],
   "source": [
    "df = pd.read_json('./data/route_data.json')"
   ]
  },
  {
   "cell_type": "code",
   "execution_count": 67,
   "id": "782357ec",
   "metadata": {},
   "outputs": [],
   "source": [
    "for i in range(11, 15):\n",
    "    df = df[df.Grade != i]\n",
    "df = df[df.MoonBoardHoldSetup == 'MoonBoard Masters 2017']\n",
    "df = df[df.RepeatText != 'Be the first to repeat this problem']"
   ]
  },
  {
   "cell_type": "code",
   "execution_count": 68,
   "id": "aaa0c230",
   "metadata": {},
   "outputs": [],
   "source": [
    "route_sequences = df.apply(generate_route_sequence, axis=1)\n",
    "df['TokenizedSequence'] = route_sequences.map(tokenize_sequence)"
   ]
  },
  {
   "cell_type": "code",
   "execution_count": 69,
   "id": "92bef689",
   "metadata": {},
   "outputs": [],
   "source": [
    "train_size = 0.8\n",
    "test_size = 0.1\n",
    "val_size = 0.1\n",
    "assert train_size + test_size + val_size == 1"
   ]
  },
  {
   "cell_type": "code",
   "execution_count": 81,
   "id": "bbf39d5a",
   "metadata": {},
   "outputs": [
    {
     "name": "stdout",
     "output_type": "stream",
     "text": [
      "X train, test, val (before sampling):  17356 2169 2170\n",
      "y train, test, val (before sampling):  17356 2169 2170\n",
      "X train, test, val (after sampling):  19079 2169 2170\n",
      "y train, test, val (after sampling):  19079 2169 2170\n"
     ]
    }
   ],
   "source": [
    "X_train, X_test, X_val, y_train, y_test, y_val = split_train_test_val(df, train_size, test_size, val_size)"
   ]
  },
  {
   "cell_type": "code",
   "execution_count": 82,
   "id": "60810e2a",
   "metadata": {},
   "outputs": [
    {
     "data": {
      "text/plain": [
       "array([[10,  4,  6, ...,  0,  0,  0],\n",
       "       [16,  5,  6, ...,  0,  0,  0],\n",
       "       [10,  4,  6, ...,  0,  0,  0],\n",
       "       ...,\n",
       "       [14,  5,  7, ...,  0,  0,  0],\n",
       "       [12,  4,  6, ...,  0,  0,  0],\n",
       "       [13,  5,  6, ...,  0,  0,  0]])"
      ]
     },
     "execution_count": 82,
     "metadata": {},
     "output_type": "execute_result"
    }
   ],
   "source": [
    "X_train"
   ]
  },
  {
   "cell_type": "code",
   "execution_count": 76,
   "id": "adff8fdb",
   "metadata": {},
   "outputs": [
    {
     "data": {
      "text/plain": [
       "(2170, 22)"
      ]
     },
     "execution_count": 76,
     "metadata": {},
     "output_type": "execute_result"
    }
   ],
   "source": [
    "X_test.shape"
   ]
  },
  {
   "cell_type": "code",
   "execution_count": 77,
   "id": "c87a14dd",
   "metadata": {},
   "outputs": [
    {
     "data": {
      "text/plain": [
       "(2169, 22)"
      ]
     },
     "execution_count": 77,
     "metadata": {},
     "output_type": "execute_result"
    }
   ],
   "source": [
    "X_val.shape"
   ]
  },
  {
   "cell_type": "code",
   "execution_count": 83,
   "id": "13ce5824",
   "metadata": {},
   "outputs": [
    {
     "data": {
      "text/plain": [
       "array([0, 6, 0, ..., 4, 2, 3])"
      ]
     },
     "execution_count": 83,
     "metadata": {},
     "output_type": "execute_result"
    }
   ],
   "source": [
    "y_train"
   ]
  },
  {
   "cell_type": "code",
   "execution_count": 84,
   "id": "eb0535b4",
   "metadata": {},
   "outputs": [],
   "source": [
    "train_data = {'X': X_train, 'y': y_train}\n",
    "test_data = {'X': X_test, 'y': y_test}\n",
    "val_data = {'X': X_val, 'y': y_val}"
   ]
  },
  {
   "cell_type": "code",
   "execution_count": 85,
   "id": "9e419e83",
   "metadata": {},
   "outputs": [],
   "source": [
    "for data, split in zip([train_data, test_data, val_data], ['train', 'test', 'val']):\n",
    "    with open(f'./data/{split}_preprocessed_routes', 'wb') as f:\n",
    "        pickle.dump(data, f)"
   ]
  }
 ],
 "metadata": {
  "kernelspec": {
   "display_name": "Python 3 (ipykernel)",
   "language": "python",
   "name": "python3"
  },
  "language_info": {
   "codemirror_mode": {
    "name": "ipython",
    "version": 3
   },
   "file_extension": ".py",
   "mimetype": "text/x-python",
   "name": "python",
   "nbconvert_exporter": "python",
   "pygments_lexer": "ipython3",
   "version": "3.8.10"
  }
 },
 "nbformat": 4,
 "nbformat_minor": 5
}
