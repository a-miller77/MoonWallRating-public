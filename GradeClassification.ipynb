{
 "cells": [
  {
   "cell_type": "code",
   "execution_count": 1,
   "metadata": {
    "scrolled": true
   },
   "outputs": [
    {
     "name": "stderr",
     "output_type": "stream",
     "text": [
      "2023-04-04 16:10:46.928742: I tensorflow/core/platform/cpu_feature_guard.cc:193] This TensorFlow binary is optimized with oneAPI Deep Neural Network Library (oneDNN) to use the following CPU instructions in performance-critical operations:  AVX2 AVX512F AVX512_VNNI FMA\n",
      "To enable them in other operations, rebuild TensorFlow with the appropriate compiler flags.\n",
      "2023-04-04 16:10:47.041256: I tensorflow/core/util/port.cc:104] oneDNN custom operations are on. You may see slightly different numerical results due to floating-point round-off errors from different computation orders. To turn them off, set the environment variable `TF_ENABLE_ONEDNN_OPTS=0`.\n",
      "2023-04-04 16:10:48.828301: W tensorflow/compiler/xla/stream_executor/platform/default/dso_loader.cc:64] Could not load dynamic library 'libnvinfer.so.7'; dlerror: libnvinfer.so.7: cannot open shared object file: No such file or directory; LD_LIBRARY_PATH: /usr/local/cuda/extras/CUPTI/lib64:/usr/local/cuda/compat/lib:/usr/local/nvidia/lib:/usr/local/nvidia/lib64:/.singularity.d/libs\n",
      "2023-04-04 16:10:48.828422: W tensorflow/compiler/xla/stream_executor/platform/default/dso_loader.cc:64] Could not load dynamic library 'libnvinfer_plugin.so.7'; dlerror: libnvinfer_plugin.so.7: cannot open shared object file: No such file or directory; LD_LIBRARY_PATH: /usr/local/cuda/extras/CUPTI/lib64:/usr/local/cuda/compat/lib:/usr/local/nvidia/lib:/usr/local/nvidia/lib64:/.singularity.d/libs\n",
      "2023-04-04 16:10:48.828434: W tensorflow/compiler/tf2tensorrt/utils/py_utils.cc:38] TF-TRT Warning: Cannot dlopen some TensorRT libraries. If you would like to use Nvidia GPU with TensorRT, please make sure the missing libraries mentioned above are installed properly.\n"
     ]
    }
   ],
   "source": [
    "from sklearn.metrics import confusion_matrix\n",
    "from sklearn.utils import class_weight\n",
    "from preprocessing import vocab_size\n",
    "import matplotlib.pyplot as plt\n",
    "from tensorflow import keras\n",
    "from model_definition import *\n",
    "import tensorflow as tf\n",
    "import seaborn as sns\n",
    "import pandas as pd\n",
    "import numpy as np\n",
    "import pickle"
   ]
  },
  {
   "cell_type": "markdown",
   "metadata": {},
   "source": [
    "### Import the Data"
   ]
  },
  {
   "cell_type": "markdown",
   "metadata": {},
   "source": [
    "Load in different data splits from files"
   ]
  },
  {
   "cell_type": "code",
   "execution_count": 2,
   "metadata": {},
   "outputs": [],
   "source": [
    "with open('./data/train_cleaned_routes', 'rb') as f:\n",
    "    X_train, y_train = pickle.load(f).values()\n",
    "with open('./data/test_cleaned_routes', 'rb') as f:\n",
    "    X_test, y_test = pickle.load(f).values()\n",
    "with open('./data/val_cleaned_routes', 'rb') as f:\n",
    "    X_val, y_val = pickle.load(f).values()"
   ]
  },
  {
   "cell_type": "markdown",
   "metadata": {},
   "source": [
    "Mask Grade with CLS token"
   ]
  },
  {
   "cell_type": "code",
   "execution_count": 3,
   "metadata": {},
   "outputs": [],
   "source": [
    "X_train[:, 0] = 3\n",
    "X_test[:, 0] = 3\n",
    "X_val[:, 0] = 3"
   ]
  },
  {
   "cell_type": "code",
   "execution_count": 4,
   "metadata": {},
   "outputs": [
    {
     "data": {
      "text/plain": [
       "(13510, 22)"
      ]
     },
     "execution_count": 4,
     "metadata": {},
     "output_type": "execute_result"
    }
   ],
   "source": [
    "np.shape(X_train)"
   ]
  },
  {
   "cell_type": "code",
   "execution_count": 5,
   "metadata": {},
   "outputs": [
    {
     "data": {
      "text/plain": [
       "array([  3,   5,   6,  72, 101, 149, 161, 215,   0,   0,   0,   0,   0,\n",
       "         0,   0,   0,   0,   0,   0,   0,   0,   0])"
      ]
     },
     "execution_count": 5,
     "metadata": {},
     "output_type": "execute_result"
    }
   ],
   "source": [
    "X_train[0]"
   ]
  },
  {
   "cell_type": "markdown",
   "metadata": {},
   "source": [
    "### Model Training"
   ]
  },
  {
   "cell_type": "code",
   "execution_count": 6,
   "metadata": {},
   "outputs": [],
   "source": [
    "num_layers = 4\n",
    "d_model = 128\n",
    "dff = 2048\n",
    "num_heads = 12\n",
    "dropout_rate = 0.3\n",
    "epochs = 100\n",
    "warmup_steps = 4000\n",
    "\n",
    "num_classes = len(np.unique(y_train))\n",
    "batch_size = 128\n",
    "class_weights = class_weight.compute_class_weight(class_weight='balanced',\n",
    "                                                  classes=np.unique(y_train),\n",
    "                                                  y=y_train) \n",
    "class_weights=dict(zip(np.unique(y_train), class_weights))"
   ]
  },
  {
   "cell_type": "code",
   "execution_count": 7,
   "metadata": {
    "scrolled": true
   },
   "outputs": [
    {
     "name": "stderr",
     "output_type": "stream",
     "text": [
      "2023-04-04 16:10:51.985706: I tensorflow/core/platform/cpu_feature_guard.cc:193] This TensorFlow binary is optimized with oneAPI Deep Neural Network Library (oneDNN) to use the following CPU instructions in performance-critical operations:  AVX2 AVX512F AVX512_VNNI FMA\n",
      "To enable them in other operations, rebuild TensorFlow with the appropriate compiler flags.\n",
      "2023-04-04 16:10:53.285063: I tensorflow/core/common_runtime/gpu/gpu_device.cc:1613] Created device /job:localhost/replica:0/task:0/device:GPU:0 with 13641 MB memory:  -> device: 0, name: Tesla T4, pci bus id: 0000:61:00.0, compute capability: 7.5\n",
      "2023-04-04 16:10:53.286839: I tensorflow/core/common_runtime/gpu/gpu_device.cc:1613] Created device /job:localhost/replica:0/task:0/device:GPU:1 with 13641 MB memory:  -> device: 1, name: Tesla T4, pci bus id: 0000:db:00.0, compute capability: 7.5\n"
     ]
    }
   ],
   "source": [
    "train_dataset = tf.data.Dataset.from_tensor_slices((X_train, y_train)).batch(batch_size)\n",
    "val_dataset = tf.data.Dataset.from_tensor_slices((X_val, y_val)).batch(batch_size)"
   ]
  },
  {
   "cell_type": "code",
   "execution_count": 8,
   "metadata": {},
   "outputs": [],
   "source": [
    "def get_compiled_model():    \n",
    "    learning_rate = transformerSchedule(d_model, warmup_steps=warmup_steps, scalar=0.07)\n",
    "        \n",
    "    optimizer = tf.keras.optimizers.Adam(learning_rate, beta_1=0.9, beta_2=0.99, epsilon=1e-9, amsgrad = True)\n",
    "    \n",
    "    model = EncoderClassifier(\n",
    "        num_layers=num_layers,\n",
    "        d_model=d_model,\n",
    "        num_heads=num_heads,\n",
    "        dff=dff,\n",
    "        vocab_size=vocab_size,\n",
    "        num_classes=num_classes,\n",
    "        dropout_rate=dropout_rate,\n",
    "        activation='selu',\n",
    "        sequential=True\n",
    "    )\n",
    "    \n",
    "    model.compile(\n",
    "            loss=tf.keras.losses.SparseCategoricalCrossentropy(),\n",
    "            optimizer=optimizer,\n",
    "            metrics=['accuracy'])\n",
    "    \n",
    "    return model"
   ]
  },
  {
   "cell_type": "code",
   "execution_count": 10,
   "metadata": {},
   "outputs": [],
   "source": [
    "import os\n",
    "checkpoint_path = \"model_weights/weights.epoch:[{epoch:02d}]-val_acc:[{val_accuracy:.2f}].hdf5\"\n",
    "checkpoint_dir = os.path.dirname(checkpoint_path)\n",
    "my_callback = [tf.keras.callbacks.ModelCheckpoint(\n",
    "            checkpoint_path, \n",
    "            save_weights_only=True,\n",
    "            monitor='val_accuracy',\n",
    "            save_best_only=True,\n",
    "            initial_value_threshold=0.49,\n",
    "            verbose=1),\n",
    "               tf.keras.callbacks.TensorBoard(log_dir=\"./logs\")]"
   ]
  },
  {
   "cell_type": "code",
   "execution_count": 11,
   "metadata": {},
   "outputs": [
    {
     "name": "stdout",
     "output_type": "stream",
     "text": [
      "Model: \"encoder_classifier\"\n",
      "_________________________________________________________________\n",
      " Layer (type)                Output Shape              Param #   \n",
      "=================================================================\n",
      " encoder (Encoder)           multiple                  33993152  \n",
      "                                                                 \n",
      " sequential_8 (Sequential)   (13510, 22, 128)          82304     \n",
      "                                                                 \n",
      " dense_18 (Dense)            multiple                  1161      \n",
      "                                                                 \n",
      "=================================================================\n",
      "Total params: 34,076,617\n",
      "Trainable params: 34,076,617\n",
      "Non-trainable params: 0\n",
      "_________________________________________________________________\n"
     ]
    }
   ],
   "source": [
    "model = get_compiled_model()\n",
    "model.build((13510, 22))\n",
    "model.summary()"
   ]
  },
  {
   "cell_type": "code",
   "execution_count": 12,
   "metadata": {
    "scrolled": true
   },
   "outputs": [
    {
     "name": "stdout",
     "output_type": "stream",
     "text": [
      "Epoch 1/100\n"
     ]
    },
    {
     "name": "stderr",
     "output_type": "stream",
     "text": [
      "2023-04-01 10:25:57.355755: I tensorflow/compiler/xla/stream_executor/cuda/cuda_dnn.cc:428] Loaded cuDNN version 8401\n",
      "2023-04-01 10:25:57.597850: I tensorflow/compiler/xla/service/service.cc:173] XLA service 0x37c7f800 initialized for platform CUDA (this does not guarantee that XLA will be used). Devices:\n",
      "2023-04-01 10:25:57.597938: I tensorflow/compiler/xla/service/service.cc:181]   StreamExecutor device (0): Tesla T4, Compute Capability 7.5\n",
      "2023-04-01 10:25:57.597962: I tensorflow/compiler/xla/service/service.cc:181]   StreamExecutor device (1): Tesla T4, Compute Capability 7.5\n",
      "2023-04-01 10:25:57.597982: I tensorflow/compiler/xla/service/service.cc:181]   StreamExecutor device (2): Tesla T4, Compute Capability 7.5\n",
      "2023-04-01 10:25:57.598008: I tensorflow/compiler/xla/service/service.cc:181]   StreamExecutor device (3): Tesla T4, Compute Capability 7.5\n",
      "2023-04-01 10:25:57.607272: I tensorflow/compiler/mlir/tensorflow/utils/dump_mlir_util.cc:268] disabling MLIR crash reproducer, set env var `MLIR_CRASH_REPRODUCER_DIRECTORY` to enable.\n",
      "2023-04-01 10:25:57.732280: I tensorflow/compiler/jit/xla_compilation_cache.cc:477] Compiled cluster using XLA!  This line is logged at most once for the lifetime of the process.\n"
     ]
    },
    {
     "name": "stdout",
     "output_type": "stream",
     "text": [
      "106/106 [==============================] - ETA: 0s - loss: 3.0593 - accuracy: 0.1087\n",
      "Epoch 1: val_accuracy did not improve from 0.49000\n",
      "106/106 [==============================] - 55s 329ms/step - loss: 3.0593 - accuracy: 0.1087 - val_loss: 2.1921 - val_accuracy: 0.1828\n",
      "Epoch 2/100\n",
      "106/106 [==============================] - ETA: 0s - loss: 2.6903 - accuracy: 0.1118\n",
      "Epoch 2: val_accuracy did not improve from 0.49000\n",
      "106/106 [==============================] - 34s 320ms/step - loss: 2.6903 - accuracy: 0.1118 - val_loss: 2.1675 - val_accuracy: 0.0444\n",
      "Epoch 3/100\n",
      "106/106 [==============================] - ETA: 0s - loss: 2.5166 - accuracy: 0.1259\n",
      "Epoch 3: val_accuracy did not improve from 0.49000\n",
      "106/106 [==============================] - 34s 322ms/step - loss: 2.5166 - accuracy: 0.1259 - val_loss: 1.9792 - val_accuracy: 0.1625\n",
      "Epoch 4/100\n",
      "106/106 [==============================] - ETA: 0s - loss: 2.1016 - accuracy: 0.2291\n",
      "Epoch 4: val_accuracy did not improve from 0.49000\n",
      "106/106 [==============================] - 34s 322ms/step - loss: 2.1016 - accuracy: 0.2291 - val_loss: 1.8080 - val_accuracy: 0.2507\n",
      "Epoch 5/100\n",
      "106/106 [==============================] - ETA: 0s - loss: 1.8728 - accuracy: 0.2754\n",
      "Epoch 5: val_accuracy did not improve from 0.49000\n",
      "106/106 [==============================] - 34s 322ms/step - loss: 1.8728 - accuracy: 0.2754 - val_loss: 1.4534 - val_accuracy: 0.3799\n",
      "Epoch 6/100\n",
      "106/106 [==============================] - ETA: 0s - loss: 1.7587 - accuracy: 0.3115\n",
      "Epoch 6: val_accuracy did not improve from 0.49000\n",
      "106/106 [==============================] - 34s 321ms/step - loss: 1.7587 - accuracy: 0.3115 - val_loss: 1.6053 - val_accuracy: 0.2761\n",
      "Epoch 7/100\n",
      "106/106 [==============================] - ETA: 0s - loss: 1.6546 - accuracy: 0.3501\n",
      "Epoch 7: val_accuracy did not improve from 0.49000\n",
      "106/106 [==============================] - 34s 321ms/step - loss: 1.6546 - accuracy: 0.3501 - val_loss: 1.6009 - val_accuracy: 0.2944\n",
      "Epoch 8/100\n",
      "106/106 [==============================] - ETA: 0s - loss: 1.5891 - accuracy: 0.3775\n",
      "Epoch 8: val_accuracy did not improve from 0.49000\n",
      "106/106 [==============================] - 34s 320ms/step - loss: 1.5891 - accuracy: 0.3775 - val_loss: 1.7021 - val_accuracy: 0.2852\n",
      "Epoch 9/100\n",
      "106/106 [==============================] - ETA: 0s - loss: 1.5233 - accuracy: 0.4007\n",
      "Epoch 9: val_accuracy did not improve from 0.49000\n",
      "106/106 [==============================] - 34s 320ms/step - loss: 1.5233 - accuracy: 0.4007 - val_loss: 1.5557 - val_accuracy: 0.3610\n",
      "Epoch 10/100\n",
      "106/106 [==============================] - ETA: 0s - loss: 1.4874 - accuracy: 0.4149\n",
      "Epoch 10: val_accuracy did not improve from 0.49000\n",
      "106/106 [==============================] - 34s 320ms/step - loss: 1.4874 - accuracy: 0.4149 - val_loss: 1.6019 - val_accuracy: 0.2781\n",
      "Epoch 11/100\n",
      "106/106 [==============================] - ETA: 0s - loss: 1.4665 - accuracy: 0.4152\n",
      "Epoch 11: val_accuracy did not improve from 0.49000\n",
      "106/106 [==============================] - 34s 320ms/step - loss: 1.4665 - accuracy: 0.4152 - val_loss: 1.6164 - val_accuracy: 0.3283\n",
      "Epoch 12/100\n",
      "106/106 [==============================] - ETA: 0s - loss: 1.4430 - accuracy: 0.4263\n",
      "Epoch 12: val_accuracy did not improve from 0.49000\n",
      "106/106 [==============================] - 34s 320ms/step - loss: 1.4430 - accuracy: 0.4263 - val_loss: 1.4891 - val_accuracy: 0.3329\n",
      "Epoch 13/100\n",
      "106/106 [==============================] - ETA: 0s - loss: 1.4113 - accuracy: 0.4315\n",
      "Epoch 13: val_accuracy did not improve from 0.49000\n",
      "106/106 [==============================] - 34s 320ms/step - loss: 1.4113 - accuracy: 0.4315 - val_loss: 1.4884 - val_accuracy: 0.3727\n",
      "Epoch 14/100\n",
      "106/106 [==============================] - ETA: 0s - loss: 1.3894 - accuracy: 0.4301\n",
      "Epoch 14: val_accuracy did not improve from 0.49000\n",
      "106/106 [==============================] - 34s 319ms/step - loss: 1.3894 - accuracy: 0.4301 - val_loss: 1.5414 - val_accuracy: 0.3414\n",
      "Epoch 15/100\n",
      "106/106 [==============================] - ETA: 0s - loss: 1.3682 - accuracy: 0.4347\n",
      "Epoch 15: val_accuracy did not improve from 0.49000\n",
      "106/106 [==============================] - 34s 320ms/step - loss: 1.3682 - accuracy: 0.4347 - val_loss: 1.4543 - val_accuracy: 0.3740\n",
      "Epoch 16/100\n",
      "106/106 [==============================] - ETA: 0s - loss: 1.3484 - accuracy: 0.4460\n",
      "Epoch 16: val_accuracy did not improve from 0.49000\n",
      "106/106 [==============================] - 34s 319ms/step - loss: 1.3484 - accuracy: 0.4460 - val_loss: 1.6608 - val_accuracy: 0.2761\n",
      "Epoch 17/100\n",
      "106/106 [==============================] - ETA: 0s - loss: 1.3336 - accuracy: 0.4470\n",
      "Epoch 17: val_accuracy did not improve from 0.49000\n",
      "106/106 [==============================] - 34s 319ms/step - loss: 1.3336 - accuracy: 0.4470 - val_loss: 1.4761 - val_accuracy: 0.3825\n",
      "Epoch 18/100\n",
      "106/106 [==============================] - ETA: 0s - loss: 1.3010 - accuracy: 0.4525\n",
      "Epoch 18: val_accuracy did not improve from 0.49000\n",
      "106/106 [==============================] - 34s 319ms/step - loss: 1.3010 - accuracy: 0.4525 - val_loss: 1.3165 - val_accuracy: 0.4406\n",
      "Epoch 19/100\n",
      "106/106 [==============================] - ETA: 0s - loss: 1.3037 - accuracy: 0.4538\n",
      "Epoch 19: val_accuracy did not improve from 0.49000\n",
      "106/106 [==============================] - 34s 319ms/step - loss: 1.3037 - accuracy: 0.4538 - val_loss: 1.5181 - val_accuracy: 0.3786\n",
      "Epoch 20/100\n",
      "106/106 [==============================] - ETA: 0s - loss: 1.2968 - accuracy: 0.4575\n",
      "Epoch 20: val_accuracy did not improve from 0.49000\n",
      "106/106 [==============================] - 34s 319ms/step - loss: 1.2968 - accuracy: 0.4575 - val_loss: 1.3803 - val_accuracy: 0.4191\n",
      "Epoch 21/100\n",
      "106/106 [==============================] - ETA: 0s - loss: 1.2626 - accuracy: 0.4654\n",
      "Epoch 21: val_accuracy did not improve from 0.49000\n",
      "106/106 [==============================] - 34s 320ms/step - loss: 1.2626 - accuracy: 0.4654 - val_loss: 1.3776 - val_accuracy: 0.4249\n",
      "Epoch 22/100\n",
      "106/106 [==============================] - ETA: 0s - loss: 1.2548 - accuracy: 0.4701\n",
      "Epoch 22: val_accuracy did not improve from 0.49000\n",
      "106/106 [==============================] - 34s 320ms/step - loss: 1.2548 - accuracy: 0.4701 - val_loss: 1.4116 - val_accuracy: 0.4060\n",
      "Epoch 23/100\n",
      "106/106 [==============================] - ETA: 0s - loss: 1.2370 - accuracy: 0.4712\n",
      "Epoch 23: val_accuracy did not improve from 0.49000\n",
      "106/106 [==============================] - 34s 320ms/step - loss: 1.2370 - accuracy: 0.4712 - val_loss: 1.3308 - val_accuracy: 0.4367\n",
      "Epoch 24/100\n",
      "106/106 [==============================] - ETA: 0s - loss: 1.2359 - accuracy: 0.4746\n",
      "Epoch 24: val_accuracy did not improve from 0.49000\n",
      "106/106 [==============================] - 34s 319ms/step - loss: 1.2359 - accuracy: 0.4746 - val_loss: 1.3548 - val_accuracy: 0.4223\n",
      "Epoch 25/100\n",
      "106/106 [==============================] - ETA: 0s - loss: 1.2042 - accuracy: 0.4839\n",
      "Epoch 25: val_accuracy did not improve from 0.49000\n",
      "106/106 [==============================] - 34s 319ms/step - loss: 1.2042 - accuracy: 0.4839 - val_loss: 1.4213 - val_accuracy: 0.3975\n",
      "Epoch 26/100\n",
      "106/106 [==============================] - ETA: 0s - loss: 1.1921 - accuracy: 0.4775\n",
      "Epoch 26: val_accuracy did not improve from 0.49000\n",
      "106/106 [==============================] - 34s 319ms/step - loss: 1.1921 - accuracy: 0.4775 - val_loss: 1.3975 - val_accuracy: 0.4158\n",
      "Epoch 27/100\n",
      "106/106 [==============================] - ETA: 0s - loss: 1.1857 - accuracy: 0.4876\n",
      "Epoch 27: val_accuracy did not improve from 0.49000\n",
      "106/106 [==============================] - 34s 319ms/step - loss: 1.1857 - accuracy: 0.4876 - val_loss: 1.3579 - val_accuracy: 0.4197\n",
      "Epoch 28/100\n",
      "106/106 [==============================] - ETA: 0s - loss: 1.1849 - accuracy: 0.4876\n",
      "Epoch 28: val_accuracy did not improve from 0.49000\n",
      "106/106 [==============================] - 34s 319ms/step - loss: 1.1849 - accuracy: 0.4876 - val_loss: 1.4732 - val_accuracy: 0.4067\n",
      "Epoch 29/100\n",
      "106/106 [==============================] - ETA: 0s - loss: 1.1682 - accuracy: 0.4870\n",
      "Epoch 29: val_accuracy did not improve from 0.49000\n",
      "106/106 [==============================] - 34s 319ms/step - loss: 1.1682 - accuracy: 0.4870 - val_loss: 1.6352 - val_accuracy: 0.3336\n"
     ]
    },
    {
     "name": "stdout",
     "output_type": "stream",
     "text": [
      "Epoch 30/100\n",
      "106/106 [==============================] - ETA: 0s - loss: 1.1505 - accuracy: 0.4865\n",
      "Epoch 30: val_accuracy did not improve from 0.49000\n",
      "106/106 [==============================] - 34s 319ms/step - loss: 1.1505 - accuracy: 0.4865 - val_loss: 1.4378 - val_accuracy: 0.4119\n",
      "Epoch 31/100\n",
      "106/106 [==============================] - ETA: 0s - loss: 1.1475 - accuracy: 0.4887\n",
      "Epoch 31: val_accuracy did not improve from 0.49000\n",
      "106/106 [==============================] - 34s 320ms/step - loss: 1.1475 - accuracy: 0.4887 - val_loss: 1.4052 - val_accuracy: 0.4060\n",
      "Epoch 32/100\n",
      "106/106 [==============================] - ETA: 0s - loss: 1.1393 - accuracy: 0.4913\n",
      "Epoch 32: val_accuracy did not improve from 0.49000\n",
      "106/106 [==============================] - 34s 319ms/step - loss: 1.1393 - accuracy: 0.4913 - val_loss: 1.3656 - val_accuracy: 0.4334\n",
      "Epoch 33/100\n",
      "106/106 [==============================] - ETA: 0s - loss: 1.1296 - accuracy: 0.4947\n",
      "Epoch 33: val_accuracy did not improve from 0.49000\n",
      "106/106 [==============================] - 34s 320ms/step - loss: 1.1296 - accuracy: 0.4947 - val_loss: 1.4104 - val_accuracy: 0.4132\n",
      "Epoch 34/100\n",
      "106/106 [==============================] - ETA: 0s - loss: 1.1259 - accuracy: 0.4981\n",
      "Epoch 34: val_accuracy did not improve from 0.49000\n",
      "106/106 [==============================] - 34s 319ms/step - loss: 1.1259 - accuracy: 0.4981 - val_loss: 1.4462 - val_accuracy: 0.4073\n",
      "Epoch 35/100\n",
      "106/106 [==============================] - ETA: 0s - loss: 1.1178 - accuracy: 0.4984\n",
      "Epoch 35: val_accuracy did not improve from 0.49000\n",
      "106/106 [==============================] - 34s 320ms/step - loss: 1.1178 - accuracy: 0.4984 - val_loss: 1.3351 - val_accuracy: 0.4334\n",
      "Epoch 36/100\n",
      "106/106 [==============================] - ETA: 0s - loss: 1.1245 - accuracy: 0.4968\n",
      "Epoch 36: val_accuracy did not improve from 0.49000\n",
      "106/106 [==============================] - 34s 320ms/step - loss: 1.1245 - accuracy: 0.4968 - val_loss: 1.4160 - val_accuracy: 0.4138\n",
      "Epoch 37/100\n",
      "106/106 [==============================] - ETA: 0s - loss: 1.1079 - accuracy: 0.4956\n",
      "Epoch 37: val_accuracy did not improve from 0.49000\n",
      "106/106 [==============================] - 34s 320ms/step - loss: 1.1079 - accuracy: 0.4956 - val_loss: 1.2928 - val_accuracy: 0.4530\n",
      "Epoch 38/100\n",
      "106/106 [==============================] - ETA: 0s - loss: 1.1070 - accuracy: 0.4966\n",
      "Epoch 38: val_accuracy did not improve from 0.49000\n",
      "106/106 [==============================] - 34s 319ms/step - loss: 1.1070 - accuracy: 0.4966 - val_loss: 1.3733 - val_accuracy: 0.4334\n",
      "Epoch 39/100\n",
      "106/106 [==============================] - ETA: 0s - loss: 1.0803 - accuracy: 0.5067\n",
      "Epoch 39: val_accuracy did not improve from 0.49000\n",
      "106/106 [==============================] - 34s 320ms/step - loss: 1.0803 - accuracy: 0.5067 - val_loss: 1.3401 - val_accuracy: 0.4334\n",
      "Epoch 40/100\n",
      "106/106 [==============================] - ETA: 0s - loss: 1.0787 - accuracy: 0.5049\n",
      "Epoch 40: val_accuracy did not improve from 0.49000\n",
      "106/106 [==============================] - 34s 319ms/step - loss: 1.0787 - accuracy: 0.5049 - val_loss: 1.3484 - val_accuracy: 0.4432\n",
      "Epoch 41/100\n",
      "106/106 [==============================] - ETA: 0s - loss: 1.0838 - accuracy: 0.5047\n",
      "Epoch 41: val_accuracy did not improve from 0.49000\n",
      "106/106 [==============================] - 34s 319ms/step - loss: 1.0838 - accuracy: 0.5047 - val_loss: 1.4012 - val_accuracy: 0.4230\n",
      "Epoch 42/100\n",
      "106/106 [==============================] - ETA: 0s - loss: 1.0705 - accuracy: 0.5113\n",
      "Epoch 42: val_accuracy did not improve from 0.49000\n",
      "106/106 [==============================] - 34s 320ms/step - loss: 1.0705 - accuracy: 0.5113 - val_loss: 1.3780 - val_accuracy: 0.4426\n",
      "Epoch 43/100\n",
      "106/106 [==============================] - ETA: 0s - loss: 1.0644 - accuracy: 0.5091\n",
      "Epoch 43: val_accuracy did not improve from 0.49000\n",
      "106/106 [==============================] - 34s 320ms/step - loss: 1.0644 - accuracy: 0.5091 - val_loss: 1.4033 - val_accuracy: 0.4262\n",
      "Epoch 44/100\n",
      "106/106 [==============================] - ETA: 0s - loss: 1.0672 - accuracy: 0.5110\n",
      "Epoch 44: val_accuracy did not improve from 0.49000\n",
      "106/106 [==============================] - 34s 320ms/step - loss: 1.0672 - accuracy: 0.5110 - val_loss: 1.3632 - val_accuracy: 0.4439\n",
      "Epoch 45/100\n",
      "106/106 [==============================] - ETA: 0s - loss: 1.0402 - accuracy: 0.5198\n",
      "Epoch 45: val_accuracy did not improve from 0.49000\n",
      "106/106 [==============================] - 34s 319ms/step - loss: 1.0402 - accuracy: 0.5198 - val_loss: 1.3744 - val_accuracy: 0.4269\n",
      "Epoch 46/100\n",
      "106/106 [==============================] - ETA: 0s - loss: 1.0601 - accuracy: 0.5110\n",
      "Epoch 46: val_accuracy did not improve from 0.49000\n",
      "106/106 [==============================] - 34s 319ms/step - loss: 1.0601 - accuracy: 0.5110 - val_loss: 1.3332 - val_accuracy: 0.4563\n",
      "Epoch 47/100\n",
      "106/106 [==============================] - ETA: 0s - loss: 1.0520 - accuracy: 0.5095\n",
      "Epoch 47: val_accuracy did not improve from 0.49000\n",
      "106/106 [==============================] - 34s 320ms/step - loss: 1.0520 - accuracy: 0.5095 - val_loss: 1.3507 - val_accuracy: 0.4399\n",
      "Epoch 48/100\n",
      "106/106 [==============================] - ETA: 0s - loss: 1.0356 - accuracy: 0.5226\n",
      "Epoch 48: val_accuracy did not improve from 0.49000\n",
      "106/106 [==============================] - 34s 319ms/step - loss: 1.0356 - accuracy: 0.5226 - val_loss: 1.3337 - val_accuracy: 0.4445\n",
      "Epoch 49/100\n",
      "106/106 [==============================] - ETA: 0s - loss: 1.0237 - accuracy: 0.5246\n",
      "Epoch 49: val_accuracy did not improve from 0.49000\n",
      "106/106 [==============================] - 34s 319ms/step - loss: 1.0237 - accuracy: 0.5246 - val_loss: 1.3345 - val_accuracy: 0.4497\n",
      "Epoch 50/100\n",
      "106/106 [==============================] - ETA: 0s - loss: 1.0261 - accuracy: 0.5201\n",
      "Epoch 50: val_accuracy did not improve from 0.49000\n",
      "106/106 [==============================] - 34s 319ms/step - loss: 1.0261 - accuracy: 0.5201 - val_loss: 1.3191 - val_accuracy: 0.4510\n",
      "Epoch 51/100\n",
      "106/106 [==============================] - ETA: 0s - loss: 1.0310 - accuracy: 0.5188\n",
      "Epoch 51: val_accuracy did not improve from 0.49000\n",
      "106/106 [==============================] - 34s 320ms/step - loss: 1.0310 - accuracy: 0.5188 - val_loss: 1.3212 - val_accuracy: 0.4510\n",
      "Epoch 52/100\n",
      "106/106 [==============================] - ETA: 0s - loss: 1.0139 - accuracy: 0.5202\n",
      "Epoch 52: val_accuracy did not improve from 0.49000\n",
      "106/106 [==============================] - 34s 320ms/step - loss: 1.0139 - accuracy: 0.5202 - val_loss: 1.3807 - val_accuracy: 0.4386\n",
      "Epoch 53/100\n",
      "106/106 [==============================] - ETA: 0s - loss: 1.0084 - accuracy: 0.5296\n",
      "Epoch 53: val_accuracy did not improve from 0.49000\n",
      "106/106 [==============================] - 34s 319ms/step - loss: 1.0084 - accuracy: 0.5296 - val_loss: 1.3330 - val_accuracy: 0.4419\n",
      "Epoch 54/100\n",
      "106/106 [==============================] - ETA: 0s - loss: 1.0062 - accuracy: 0.5255\n",
      "Epoch 54: val_accuracy did not improve from 0.49000\n",
      "106/106 [==============================] - 34s 319ms/step - loss: 1.0062 - accuracy: 0.5255 - val_loss: 1.4075 - val_accuracy: 0.4393\n",
      "Epoch 55/100\n",
      "106/106 [==============================] - ETA: 0s - loss: 1.0074 - accuracy: 0.5260\n",
      "Epoch 55: val_accuracy did not improve from 0.49000\n",
      "106/106 [==============================] - 34s 319ms/step - loss: 1.0074 - accuracy: 0.5260 - val_loss: 1.4107 - val_accuracy: 0.4295\n",
      "Epoch 56/100\n",
      "106/106 [==============================] - ETA: 0s - loss: 0.9972 - accuracy: 0.5224\n",
      "Epoch 56: val_accuracy did not improve from 0.49000\n",
      "106/106 [==============================] - 34s 319ms/step - loss: 0.9972 - accuracy: 0.5224 - val_loss: 1.4268 - val_accuracy: 0.4256\n",
      "Epoch 57/100\n",
      "106/106 [==============================] - ETA: 0s - loss: 0.9933 - accuracy: 0.5249\n",
      "Epoch 57: val_accuracy did not improve from 0.49000\n",
      "106/106 [==============================] - 34s 319ms/step - loss: 0.9933 - accuracy: 0.5249 - val_loss: 1.3834 - val_accuracy: 0.4406\n",
      "Epoch 58/100\n",
      "106/106 [==============================] - ETA: 0s - loss: 1.0137 - accuracy: 0.5292\n",
      "Epoch 58: val_accuracy did not improve from 0.49000\n",
      "106/106 [==============================] - 34s 320ms/step - loss: 1.0137 - accuracy: 0.5292 - val_loss: 1.3389 - val_accuracy: 0.4445\n"
     ]
    },
    {
     "name": "stdout",
     "output_type": "stream",
     "text": [
      "Epoch 59/100\n",
      "106/106 [==============================] - ETA: 0s - loss: 0.9891 - accuracy: 0.5283\n",
      "Epoch 59: val_accuracy did not improve from 0.49000\n",
      "106/106 [==============================] - 34s 320ms/step - loss: 0.9891 - accuracy: 0.5283 - val_loss: 1.3325 - val_accuracy: 0.4510\n",
      "Epoch 60/100\n",
      "106/106 [==============================] - ETA: 0s - loss: 0.9818 - accuracy: 0.5357\n",
      "Epoch 60: val_accuracy did not improve from 0.49000\n",
      "106/106 [==============================] - 34s 319ms/step - loss: 0.9818 - accuracy: 0.5357 - val_loss: 1.3562 - val_accuracy: 0.4484\n",
      "Epoch 61/100\n",
      "106/106 [==============================] - ETA: 0s - loss: 0.9730 - accuracy: 0.5360\n",
      "Epoch 61: val_accuracy did not improve from 0.49000\n",
      "106/106 [==============================] - 34s 320ms/step - loss: 0.9730 - accuracy: 0.5360 - val_loss: 1.3687 - val_accuracy: 0.4419\n",
      "Epoch 62/100\n",
      "106/106 [==============================] - ETA: 0s - loss: 0.9804 - accuracy: 0.5343\n",
      "Epoch 62: val_accuracy did not improve from 0.49000\n",
      "106/106 [==============================] - 34s 320ms/step - loss: 0.9804 - accuracy: 0.5343 - val_loss: 1.3899 - val_accuracy: 0.4458\n",
      "Epoch 63/100\n",
      "106/106 [==============================] - ETA: 0s - loss: 0.9808 - accuracy: 0.5321\n",
      "Epoch 63: val_accuracy did not improve from 0.49000\n",
      "106/106 [==============================] - 34s 320ms/step - loss: 0.9808 - accuracy: 0.5321 - val_loss: 1.3577 - val_accuracy: 0.4569\n",
      "Epoch 64/100\n",
      "106/106 [==============================] - ETA: 0s - loss: 0.9612 - accuracy: 0.5360\n",
      "Epoch 64: val_accuracy did not improve from 0.49000\n",
      "106/106 [==============================] - 34s 320ms/step - loss: 0.9612 - accuracy: 0.5360 - val_loss: 1.3543 - val_accuracy: 0.4413\n",
      "Epoch 65/100\n",
      "106/106 [==============================] - ETA: 0s - loss: 0.9672 - accuracy: 0.5420\n",
      "Epoch 65: val_accuracy did not improve from 0.49000\n",
      "106/106 [==============================] - 34s 319ms/step - loss: 0.9672 - accuracy: 0.5420 - val_loss: 1.3339 - val_accuracy: 0.4576\n",
      "Epoch 66/100\n",
      "106/106 [==============================] - ETA: 0s - loss: 0.9642 - accuracy: 0.5349\n",
      "Epoch 66: val_accuracy did not improve from 0.49000\n",
      "106/106 [==============================] - 34s 320ms/step - loss: 0.9642 - accuracy: 0.5349 - val_loss: 1.3599 - val_accuracy: 0.4484\n",
      "Epoch 67/100\n",
      "106/106 [==============================] - ETA: 0s - loss: 0.9666 - accuracy: 0.5356\n",
      "Epoch 67: val_accuracy did not improve from 0.49000\n",
      "106/106 [==============================] - 34s 319ms/step - loss: 0.9666 - accuracy: 0.5356 - val_loss: 1.3641 - val_accuracy: 0.4406\n",
      "Epoch 68/100\n",
      "106/106 [==============================] - ETA: 0s - loss: 0.9609 - accuracy: 0.5377\n",
      "Epoch 68: val_accuracy did not improve from 0.49000\n",
      "106/106 [==============================] - 34s 320ms/step - loss: 0.9609 - accuracy: 0.5377 - val_loss: 1.3445 - val_accuracy: 0.4589\n",
      "Epoch 69/100\n",
      "106/106 [==============================] - ETA: 0s - loss: 0.9477 - accuracy: 0.5463\n",
      "Epoch 69: val_accuracy did not improve from 0.49000\n",
      "106/106 [==============================] - 34s 320ms/step - loss: 0.9477 - accuracy: 0.5463 - val_loss: 1.3855 - val_accuracy: 0.4406\n",
      "Epoch 70/100\n",
      "106/106 [==============================] - ETA: 0s - loss: 0.9469 - accuracy: 0.5465\n",
      "Epoch 70: val_accuracy did not improve from 0.49000\n",
      "106/106 [==============================] - 34s 320ms/step - loss: 0.9469 - accuracy: 0.5465 - val_loss: 1.3977 - val_accuracy: 0.4504\n",
      "Epoch 71/100\n",
      "106/106 [==============================] - ETA: 0s - loss: 0.9540 - accuracy: 0.5437\n",
      "Epoch 71: val_accuracy did not improve from 0.49000\n",
      "106/106 [==============================] - 34s 320ms/step - loss: 0.9540 - accuracy: 0.5437 - val_loss: 1.3631 - val_accuracy: 0.4484\n",
      "Epoch 72/100\n",
      "106/106 [==============================] - ETA: 0s - loss: 0.9396 - accuracy: 0.5440\n",
      "Epoch 72: val_accuracy did not improve from 0.49000\n",
      "106/106 [==============================] - 34s 319ms/step - loss: 0.9396 - accuracy: 0.5440 - val_loss: 1.3497 - val_accuracy: 0.4615\n",
      "Epoch 73/100\n",
      "106/106 [==============================] - ETA: 0s - loss: 0.9409 - accuracy: 0.5419\n",
      "Epoch 73: val_accuracy did not improve from 0.49000\n",
      "106/106 [==============================] - 34s 320ms/step - loss: 0.9409 - accuracy: 0.5419 - val_loss: 1.3809 - val_accuracy: 0.4523\n",
      "Epoch 74/100\n",
      "106/106 [==============================] - ETA: 0s - loss: 0.9377 - accuracy: 0.5504\n",
      "Epoch 74: val_accuracy did not improve from 0.49000\n",
      "106/106 [==============================] - 34s 320ms/step - loss: 0.9377 - accuracy: 0.5504 - val_loss: 1.3627 - val_accuracy: 0.4452\n",
      "Epoch 75/100\n",
      "106/106 [==============================] - ETA: 0s - loss: 0.9403 - accuracy: 0.5437\n",
      "Epoch 75: val_accuracy did not improve from 0.49000\n",
      "106/106 [==============================] - 34s 320ms/step - loss: 0.9403 - accuracy: 0.5437 - val_loss: 1.3484 - val_accuracy: 0.4445\n",
      "Epoch 76/100\n",
      "106/106 [==============================] - ETA: 0s - loss: 0.9407 - accuracy: 0.5455\n",
      "Epoch 76: val_accuracy did not improve from 0.49000\n",
      "106/106 [==============================] - 34s 320ms/step - loss: 0.9407 - accuracy: 0.5455 - val_loss: 1.3455 - val_accuracy: 0.4484\n",
      "Epoch 77/100\n",
      "106/106 [==============================] - ETA: 0s - loss: 0.9435 - accuracy: 0.5476\n",
      "Epoch 77: val_accuracy did not improve from 0.49000\n",
      "106/106 [==============================] - 34s 319ms/step - loss: 0.9435 - accuracy: 0.5476 - val_loss: 1.3407 - val_accuracy: 0.4595\n",
      "Epoch 78/100\n",
      "106/106 [==============================] - ETA: 0s - loss: 0.9366 - accuracy: 0.5434\n",
      "Epoch 78: val_accuracy did not improve from 0.49000\n",
      "106/106 [==============================] - 34s 320ms/step - loss: 0.9366 - accuracy: 0.5434 - val_loss: 1.3284 - val_accuracy: 0.4641\n",
      "Epoch 79/100\n",
      "106/106 [==============================] - ETA: 0s - loss: 0.9255 - accuracy: 0.5498\n",
      "Epoch 79: val_accuracy did not improve from 0.49000\n",
      "106/106 [==============================] - 34s 320ms/step - loss: 0.9255 - accuracy: 0.5498 - val_loss: 1.3243 - val_accuracy: 0.4621\n",
      "Epoch 80/100\n",
      "106/106 [==============================] - ETA: 0s - loss: 0.9206 - accuracy: 0.5522\n",
      "Epoch 80: val_accuracy did not improve from 0.49000\n",
      "106/106 [==============================] - 34s 320ms/step - loss: 0.9206 - accuracy: 0.5522 - val_loss: 1.3639 - val_accuracy: 0.4504\n",
      "Epoch 81/100\n",
      "106/106 [==============================] - ETA: 0s - loss: 0.9229 - accuracy: 0.5520\n",
      "Epoch 81: val_accuracy did not improve from 0.49000\n",
      "106/106 [==============================] - 34s 320ms/step - loss: 0.9229 - accuracy: 0.5520 - val_loss: 1.3921 - val_accuracy: 0.4478\n",
      "Epoch 82/100\n",
      "106/106 [==============================] - ETA: 0s - loss: 0.9247 - accuracy: 0.5474\n",
      "Epoch 82: val_accuracy did not improve from 0.49000\n",
      "106/106 [==============================] - 34s 320ms/step - loss: 0.9247 - accuracy: 0.5474 - val_loss: 1.3899 - val_accuracy: 0.4550\n",
      "Epoch 83/100\n",
      "106/106 [==============================] - ETA: 0s - loss: 0.9114 - accuracy: 0.5524\n",
      "Epoch 83: val_accuracy did not improve from 0.49000\n",
      "106/106 [==============================] - 34s 320ms/step - loss: 0.9114 - accuracy: 0.5524 - val_loss: 1.3960 - val_accuracy: 0.4413\n",
      "Epoch 84/100\n",
      "106/106 [==============================] - ETA: 0s - loss: 0.9233 - accuracy: 0.5542\n",
      "Epoch 84: val_accuracy did not improve from 0.49000\n",
      "106/106 [==============================] - 34s 320ms/step - loss: 0.9233 - accuracy: 0.5542 - val_loss: 1.3515 - val_accuracy: 0.4569\n",
      "Epoch 85/100\n",
      "106/106 [==============================] - ETA: 0s - loss: 0.9192 - accuracy: 0.5529\n",
      "Epoch 85: val_accuracy did not improve from 0.49000\n",
      "106/106 [==============================] - 34s 320ms/step - loss: 0.9192 - accuracy: 0.5529 - val_loss: 1.3461 - val_accuracy: 0.4530\n",
      "Epoch 86/100\n",
      "106/106 [==============================] - ETA: 0s - loss: 0.9112 - accuracy: 0.5561\n",
      "Epoch 86: val_accuracy did not improve from 0.49000\n",
      "106/106 [==============================] - 34s 319ms/step - loss: 0.9112 - accuracy: 0.5561 - val_loss: 1.3430 - val_accuracy: 0.4641\n",
      "Epoch 87/100\n",
      "106/106 [==============================] - ETA: 0s - loss: 0.9073 - accuracy: 0.5537\n",
      "Epoch 87: val_accuracy did not improve from 0.49000\n",
      "106/106 [==============================] - 34s 320ms/step - loss: 0.9073 - accuracy: 0.5537 - val_loss: 1.3610 - val_accuracy: 0.4458\n"
     ]
    },
    {
     "name": "stdout",
     "output_type": "stream",
     "text": [
      "Epoch 88/100\n",
      "106/106 [==============================] - ETA: 0s - loss: 0.8864 - accuracy: 0.5614\n",
      "Epoch 88: val_accuracy did not improve from 0.49000\n",
      "106/106 [==============================] - 34s 319ms/step - loss: 0.8864 - accuracy: 0.5614 - val_loss: 1.3682 - val_accuracy: 0.4589\n",
      "Epoch 89/100\n",
      "106/106 [==============================] - ETA: 0s - loss: 0.9006 - accuracy: 0.5605\n",
      "Epoch 89: val_accuracy did not improve from 0.49000\n",
      "106/106 [==============================] - 34s 320ms/step - loss: 0.9006 - accuracy: 0.5605 - val_loss: 1.3793 - val_accuracy: 0.4576\n",
      "Epoch 90/100\n",
      "106/106 [==============================] - ETA: 0s - loss: 0.8951 - accuracy: 0.5610\n",
      "Epoch 90: val_accuracy did not improve from 0.49000\n",
      "106/106 [==============================] - 34s 319ms/step - loss: 0.8951 - accuracy: 0.5610 - val_loss: 1.3688 - val_accuracy: 0.4589\n",
      "Epoch 91/100\n",
      "106/106 [==============================] - ETA: 0s - loss: 0.9003 - accuracy: 0.5618\n",
      "Epoch 91: val_accuracy did not improve from 0.49000\n",
      "106/106 [==============================] - 34s 320ms/step - loss: 0.9003 - accuracy: 0.5618 - val_loss: 1.3529 - val_accuracy: 0.4621\n",
      "Epoch 92/100\n",
      "106/106 [==============================] - ETA: 0s - loss: 0.9080 - accuracy: 0.5543\n",
      "Epoch 92: val_accuracy did not improve from 0.49000\n",
      "106/106 [==============================] - 34s 320ms/step - loss: 0.9080 - accuracy: 0.5543 - val_loss: 1.3429 - val_accuracy: 0.4589\n",
      "Epoch 93/100\n",
      "106/106 [==============================] - ETA: 0s - loss: 0.9001 - accuracy: 0.5600\n",
      "Epoch 93: val_accuracy did not improve from 0.49000\n",
      "106/106 [==============================] - 34s 320ms/step - loss: 0.9001 - accuracy: 0.5600 - val_loss: 1.3857 - val_accuracy: 0.4510\n",
      "Epoch 94/100\n",
      "106/106 [==============================] - ETA: 0s - loss: 0.8935 - accuracy: 0.5625\n",
      "Epoch 94: val_accuracy did not improve from 0.49000\n",
      "106/106 [==============================] - 34s 319ms/step - loss: 0.8935 - accuracy: 0.5625 - val_loss: 1.3688 - val_accuracy: 0.4458\n",
      "Epoch 95/100\n",
      "106/106 [==============================] - ETA: 0s - loss: 0.8955 - accuracy: 0.5590\n",
      "Epoch 95: val_accuracy did not improve from 0.49000\n",
      "106/106 [==============================] - 34s 320ms/step - loss: 0.8955 - accuracy: 0.5590 - val_loss: 1.3153 - val_accuracy: 0.4706\n",
      "Epoch 96/100\n",
      "106/106 [==============================] - ETA: 0s - loss: 0.8906 - accuracy: 0.5599\n",
      "Epoch 96: val_accuracy did not improve from 0.49000\n",
      "106/106 [==============================] - 34s 320ms/step - loss: 0.8906 - accuracy: 0.5599 - val_loss: 1.3775 - val_accuracy: 0.4452\n",
      "Epoch 97/100\n",
      "106/106 [==============================] - ETA: 0s - loss: 0.8890 - accuracy: 0.5639\n",
      "Epoch 97: val_accuracy did not improve from 0.49000\n",
      "106/106 [==============================] - 34s 320ms/step - loss: 0.8890 - accuracy: 0.5639 - val_loss: 1.3732 - val_accuracy: 0.4452\n",
      "Epoch 98/100\n",
      "106/106 [==============================] - ETA: 0s - loss: 0.8887 - accuracy: 0.5610\n",
      "Epoch 98: val_accuracy did not improve from 0.49000\n",
      "106/106 [==============================] - 34s 320ms/step - loss: 0.8887 - accuracy: 0.5610 - val_loss: 1.3485 - val_accuracy: 0.4602\n",
      "Epoch 99/100\n",
      "106/106 [==============================] - ETA: 0s - loss: 0.8768 - accuracy: 0.5616\n",
      "Epoch 99: val_accuracy did not improve from 0.49000\n",
      "106/106 [==============================] - 34s 320ms/step - loss: 0.8768 - accuracy: 0.5616 - val_loss: 1.3880 - val_accuracy: 0.4582\n",
      "Epoch 100/100\n",
      "106/106 [==============================] - ETA: 0s - loss: 0.8825 - accuracy: 0.5652\n",
      "Epoch 100: val_accuracy did not improve from 0.49000\n",
      "106/106 [==============================] - 34s 319ms/step - loss: 0.8825 - accuracy: 0.5652 - val_loss: 1.3637 - val_accuracy: 0.4641\n"
     ]
    }
   ],
   "source": [
    "model = get_compiled_model()\n",
    "history = model.fit(train_dataset, batch_size=batch_size, epochs=epochs, \\\n",
    "                        validation_data=val_dataset, class_weight=class_weights,verbose=1, callbacks = [my_callback])"
   ]
  },
  {
   "cell_type": "code",
   "execution_count": 60,
   "metadata": {},
   "outputs": [],
   "source": [
    "# Creates the base model \n",
    "new_model = get_compiled_model()"
   ]
  },
  {
   "cell_type": "code",
   "execution_count": 61,
   "metadata": {},
   "outputs": [
    {
     "name": "stdout",
     "output_type": "stream",
     "text": [
      "24/24 [==============================] - 2s 20ms/step - loss: 2.4456 - accuracy: 0.1181\n"
     ]
    },
    {
     "data": {
      "text/plain": [
       "[2.445582389831543, 0.11814621090888977]"
      ]
     },
     "execution_count": 61,
     "metadata": {},
     "output_type": "execute_result"
    }
   ],
   "source": [
    "# The base model only gets about ~20% accuracy as it is not trained at all \n",
    "# This is to show that the base model before loading the weights is not trained\n",
    "# and its accuracy is not good.\n",
    "new_model.evaluate(X_test, y_test, batch_size=batch_size)"
   ]
  },
  {
   "cell_type": "code",
   "execution_count": 62,
   "metadata": {},
   "outputs": [
    {
     "name": "stdout",
     "output_type": "stream",
     "text": [
      "model_weights/weights.epoch:[24]-val_acc:[0.49].hdf5\n"
     ]
    }
   ],
   "source": [
    "# This loads the weights of the model that was saved at a certain epoch and val_accuracy\n",
    "epoch = np.argmax(history.history['val_accuracy'])\n",
    "val_accuracy = history.history['val_accuracy'][epoch]\n",
    "epoch = epoch+1\n",
    "\n",
    "path = f\"model_weights/weights.epoch:[{epoch:02d}]-val_acc:[{val_accuracy:.2f}].hdf5\"\n",
    "print(path)\n",
    "new_model.load_weights(path)"
   ]
  },
  {
   "cell_type": "code",
   "execution_count": 63,
   "metadata": {},
   "outputs": [
    {
     "name": "stdout",
     "output_type": "stream",
     "text": [
      "24/24 [==============================] - 0s 17ms/step - loss: 1.1804 - accuracy: 0.5039\n",
      "loss: 1.1804, accuracy: 0.5039\n"
     ]
    }
   ],
   "source": [
    "# After loading the weights of a previously trained model, the accuracy matches the\n",
    "# best version of the model that the checkpoints were saved from\n",
    "loss, acc = new_model.evaluate(X_test, y_test, batch_size=batch_size)\n",
    "print(f'loss: {loss:.4f}, accuracy: {acc:.4f}')"
   ]
  },
  {
   "cell_type": "code",
   "execution_count": 64,
   "metadata": {},
   "outputs": [
    {
     "name": "stdout",
     "output_type": "stream",
     "text": [
      "24/24 [==============================] - 0s 16ms/step - loss: 1.1875 - accuracy: 0.4889\n",
      "loss: 1.1875, accuracy: 0.4889\n"
     ]
    }
   ],
   "source": [
    "# This is to show that the accuracy is higher than the the last epoch of the model with loaded weights.\n",
    "loss, acc = model.evaluate(X_test, y_test, batch_size=batch_size)\n",
    "print(f'loss: {loss:.4f}, accuracy: {acc:.4f}')"
   ]
  },
  {
   "cell_type": "markdown",
   "metadata": {},
   "source": [
    "### Training Plots"
   ]
  },
  {
   "cell_type": "code",
   "execution_count": 65,
   "metadata": {
    "scrolled": false
   },
   "outputs": [
    {
     "data": {
      "text/plain": [
       "0.5378238558769226"
      ]
     },
     "execution_count": 65,
     "metadata": {},
     "output_type": "execute_result"
    },
    {
     "data": {
      "image/png": "[encoded data removed]",
      "text/plain": [
       "<Figure size 432x288 with 1 Axes>"
      ]
     },
     "metadata": {
      "needs_background": "light"
     },
     "output_type": "display_data"
    }
   ],
   "source": [
    "plt.title('Accuracy')\n",
    "plt.xlabel('Epochs')\n",
    "plt.ylabel('Accuracy')\n",
    "plt.plot(history.history['accuracy'], label='Train Accuracy')\n",
    "plt.plot(history.history['val_accuracy'], label='Validation Accuracy')\n",
    "plt.legend()\n",
    "\n",
    "history.history['accuracy'][np.argmax(history.history['accuracy'])]"
   ]
  },
  {
   "cell_type": "code",
   "execution_count": 66,
   "metadata": {
    "scrolled": true
   },
   "outputs": [
    {
     "data": {
      "text/plain": [
       "3.0714378356933594"
      ]
     },
     "execution_count": 66,
     "metadata": {},
     "output_type": "execute_result"
    },
    {
     "data": {
      "image/png": "[encoded data removed]",
      "text/plain": [
       "<Figure size 432x288 with 1 Axes>"
      ]
     },
     "metadata": {
      "needs_background": "light"
     },
     "output_type": "display_data"
    }
   ],
   "source": [
    "plt.title('Loss')\n",
    "plt.xlabel('Epochs')\n",
    "plt.ylabel('Loss')\n",
    "#plt.axis([75, 200, 1.2, 2.2])\n",
    "plt.plot(history.history['loss'], label='Train Loss')\n",
    "plt.plot(history.history['val_loss'], label='Validation Loss')\n",
    "plt.legend()\n",
    "\n",
    "history.history['loss'][np.argmax(history.history['loss'])]"
   ]
  },
  {
   "cell_type": "code",
   "execution_count": 15,
   "metadata": {
    "scrolled": false
   },
   "outputs": [
    {
     "name": "stdout",
     "output_type": "stream",
     "text": [
      "106.0\n"
     ]
    },
    {
     "data": {
      "text/plain": [
       "<matplotlib.legend.Legend at 0x7fca0c5f6640>"
      ]
     },
     "execution_count": 15,
     "metadata": {},
     "output_type": "execute_result"
    },
    {
     "data": {
      "image/png": "[encoded data removed]",
      "text/plain": [
       "<Figure size 432x288 with 1 Axes>"
      ]
     },
     "metadata": {
      "needs_background": "light"
     },
     "output_type": "display_data"
    }
   ],
   "source": [
    "learning_rate = transformerSchedule(d_model, ramp_scalar=1, decay_scalar=1)\n",
    "steps_per_epoch = np.ceil((np.shape(X_train)[0]/batch_size))\n",
    "print(steps_per_epoch)\n",
    "lr = np.array([])\n",
    "for i in range(1, np.maximum(epochs+10, 30)):\n",
    "    lr = np.append(lr, learning_rate.__call__((i*steps_per_epoch)))\n",
    "plt.title('Learning Rate')\n",
    "plt.xlabel('Epoch')\n",
    "plt.ylabel('Learning Rate')\n",
    "plt.plot(lr, label='Learning Rate')\n",
    "plt.legend()\n"
   ]
  },
  {
   "cell_type": "markdown",
   "metadata": {},
   "source": [
    "### Model Evaluation"
   ]
  },
  {
   "cell_type": "code",
   "execution_count": 68,
   "metadata": {},
   "outputs": [
    {
     "name": "stdout",
     "output_type": "stream",
     "text": [
      "best epoch: 24, loss: 1.2063, accuracy: 0.4975, val_loss: 1.2010, val_accuracy: 0.4928\n"
     ]
    }
   ],
   "source": [
    "epoch = np.argmax(history.history['val_accuracy'])\n",
    "loss = history.history['loss'][epoch]\n",
    "accuracy = history.history['accuracy'][epoch]\n",
    "val_loss = history.history['val_loss'][epoch]\n",
    "val_accuracy = history.history['val_accuracy'][epoch]\n",
    "epoch += 1\n",
    "\n",
    "print(f'best epoch: {epoch}, loss: {loss:.4f}, accuracy: {accuracy:.4f}, val_loss: {val_loss:.4f}, val_accuracy: {val_accuracy:.4f}')"
   ]
  },
  {
   "cell_type": "code",
   "execution_count": 69,
   "metadata": {},
   "outputs": [
    {
     "name": "stdout",
     "output_type": "stream",
     "text": [
      "model_weights/weights.epoch:[24]-val_acc:[0.49].hdf5\n"
     ]
    }
   ],
   "source": [
    "path = f\"model_weights/weights.epoch:[{epoch:02d}]-val_acc:[{val_accuracy:.2f}].hdf5\"\n",
    "print(path)\n",
    "test_model = get_compiled_model()\n",
    "test_model.build((19072,22))\n",
    "test_model.load_weights(path)"
   ]
  },
  {
   "cell_type": "code",
   "execution_count": 70,
   "metadata": {
    "scrolled": false
   },
   "outputs": [
    {
     "name": "stdout",
     "output_type": "stream",
     "text": [
      "48/48 [==============================] - 1s 14ms/step\n"
     ]
    }
   ],
   "source": [
    "pred = test_model.predict(X_test)"
   ]
  },
  {
   "cell_type": "code",
   "execution_count": 71,
   "metadata": {},
   "outputs": [],
   "source": [
    "def norm_cm(cm):\n",
    "    return np.array([cm[i] / np.sum(cm[i]) for i in range(len(cm))])\n",
    "def un_norm_cm(norm_cm):\n",
    "    np.array([\n",
    "        cm[i] / np.sum(cm[i]) for i in range(len(cm))\n",
    "    ])\n",
    "    \n",
    "def accuracy(cm):\n",
    "    return cm.diagonal().sum() / cm.sum()\n",
    "def top_1_accuracy(cm):\n",
    "    return (cm.diagonal(-1).sum() + cm.diagonal(0).sum() + cm.diagonal(1).sum()) / cm.sum()\n",
    "def top_2_accuracy(cm):\n",
    "    return (cm.diagonal(-2).sum() + cm.diagonal(-1).sum() + cm.diagonal(0).sum() + cm.diagonal(1).sum() +\n",
    "                 cm.diagonal(2).sum()) / cm.sum()"
   ]
  },
  {
   "cell_type": "code",
   "execution_count": 72,
   "metadata": {},
   "outputs": [
    {
     "name": "stdout",
     "output_type": "stream",
     "text": [
      "accuracy 0.5039164490861618\n",
      "+-1 accuracy 0.8929503916449086\n",
      "+-2 accuracy 0.9804177545691906\n"
     ]
    }
   ],
   "source": [
    "cm = confusion_matrix(y_test, np.argmax(pred, axis=1))\n",
    "normalized_cm = norm_cm(cm)\n",
    "print('accuracy', accuracy(cm))\n",
    "print('+-1 accuracy', top_1_accuracy(cm))\n",
    "print('+-2 accuracy', top_2_accuracy(cm))"
   ]
  },
  {
   "cell_type": "markdown",
   "metadata": {},
   "source": [
    "Heatmap"
   ]
  },
  {
   "cell_type": "code",
   "execution_count": 73,
   "metadata": {
    "scrolled": false
   },
   "outputs": [
    {
     "data": {
      "text/plain": [
       "<AxesSubplot:>"
      ]
     },
     "execution_count": 73,
     "metadata": {},
     "output_type": "execute_result"
    },
    {
     "data": {
      "image/png": "[encoded data removed]",
      "text/plain": [
       "<Figure size 432x288 with 2 Axes>"
      ]
     },
     "metadata": {
      "needs_background": "light"
     },
     "output_type": "display_data"
    }
   ],
   "source": [
    "sns.heatmap(cm, xticklabels=range(2, 11), yticklabels=range(2, 11), annot=True, fmt='g', square=True)"
   ]
  },
  {
   "cell_type": "markdown",
   "metadata": {},
   "source": [
    "Normalized Heatmap"
   ]
  },
  {
   "cell_type": "code",
   "execution_count": 74,
   "metadata": {
    "scrolled": false
   },
   "outputs": [
    {
     "data": {
      "text/plain": [
       "<AxesSubplot:>"
      ]
     },
     "execution_count": 74,
     "metadata": {},
     "output_type": "execute_result"
    },
    {
     "data": {
      "image/png": "[encoded data removed]",
      "text/plain": [
       "<Figure size 432x288 with 2 Axes>"
      ]
     },
     "metadata": {
      "needs_background": "light"
     },
     "output_type": "display_data"
    }
   ],
   "source": [
    "sns.heatmap(normalized_cm, xticklabels=range(2, 11), yticklabels=range(2, 11), annot=True, fmt='.2f', square=True)"
   ]
  },
  {
   "cell_type": "code",
   "execution_count": null,
   "metadata": {},
   "outputs": [],
   "source": []
  }
 ],
 "metadata": {
  "kernelspec": {
   "display_name": "Python 3 (ipykernel)",
   "language": "python",
   "name": "python3"
  },
  "language_info": {
   "codemirror_mode": {
    "name": "ipython",
    "version": 3
   },
   "file_extension": ".py",
   "mimetype": "text/x-python",
   "name": "python",
   "nbconvert_exporter": "python",
   "pygments_lexer": "ipython3",
   "version": "3.8.10"
  },
  "vscode": {
   "interpreter": {
    "hash": "11938c6bc6919ae2720b4d5011047913343b08a43b18698fd82dedb0d4417594"
   }
  }
 },
 "nbformat": 4,
 "nbformat_minor": 2
}
