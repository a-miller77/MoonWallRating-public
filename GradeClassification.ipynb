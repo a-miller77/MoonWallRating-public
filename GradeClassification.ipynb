{
 "cells": [
  {
   "cell_type": "code",
   "execution_count": 2,
   "metadata": {
    "scrolled": true
   },
   "outputs": [],
   "source": [
    "from sklearn.metrics import confusion_matrix\n",
    "from sklearn.utils import class_weight\n",
    "from preprocessing import vocab_size\n",
    "import matplotlib.pyplot as plt\n",
    "from tensorflow import keras\n",
    "from model_definition import *\n",
    "import tensorflow as tf\n",
    "import seaborn as sns\n",
    "import pandas as pd\n",
    "import numpy as np\n",
    "import pickle"
   ]
  },
  {
   "cell_type": "markdown",
   "metadata": {},
   "source": [
    "### Import the Data"
   ]
  },
  {
   "cell_type": "markdown",
   "metadata": {},
   "source": [
    "Load in different data splits from files"
   ]
  },
  {
   "cell_type": "code",
   "execution_count": 3,
   "metadata": {},
   "outputs": [],
   "source": [
    "with open('./data/train_preprocessed_routes', 'rb') as f:\n",
    "    X_train, y_train = pickle.load(f).values()\n",
    "with open('./data/test_preprocessed_routes', 'rb') as f:\n",
    "    X_test, y_test = pickle.load(f).values()\n",
    "with open('./data/val_preprocessed_routes', 'rb') as f:\n",
    "    X_val, y_val = pickle.load(f).values()"
   ]
  },
  {
   "cell_type": "markdown",
   "metadata": {},
   "source": [
    "Mask Grade with CLS token"
   ]
  },
  {
   "cell_type": "code",
   "execution_count": 4,
   "metadata": {},
   "outputs": [],
   "source": [
    "X_train[:, 0] = 3\n",
    "X_test[:, 0] = 3\n",
    "X_val[:, 0] = 3"
   ]
  },
  {
   "cell_type": "code",
   "execution_count": 89,
   "metadata": {},
   "outputs": [
    {
     "data": {
      "text/plain": [
       "(19076, 22)"
      ]
     },
     "execution_count": 89,
     "metadata": {},
     "output_type": "execute_result"
    }
   ],
   "source": [
    "np.shape(X_train)"
   ]
  },
  {
   "cell_type": "code",
   "execution_count": 6,
   "metadata": {},
   "outputs": [
    {
     "data": {
      "text/plain": [
       "array([  3,   5,   7,  75,  74, 106, 128, 170, 183, 215,   0,   0,   0,\n",
       "         0,   0,   0,   0,   0,   0,   0,   0,   0])"
      ]
     },
     "execution_count": 6,
     "metadata": {},
     "output_type": "execute_result"
    }
   ],
   "source": [
    "X_train[0]"
   ]
  },
  {
   "cell_type": "markdown",
   "metadata": {},
   "source": [
    "### Model Training"
   ]
  },
  {
   "cell_type": "code",
   "execution_count": 12,
   "metadata": {},
   "outputs": [],
   "source": [
    "num_layers = 4\n",
    "d_model = 40\n",
    "dff = 864\n",
    "num_heads = 10\n",
    "dropout_rate = 0.22\n",
    "epochs = 5\n",
    "warmup_steps = 2500\n",
    "\n",
    "num_classes = len(np.unique(y_train))\n",
    "batch_size = 64\n",
    "class_weights = class_weight.compute_class_weight(class_weight='balanced',\n",
    "                                                  classes=np.unique(y_train),\n",
    "                                                  y=y_train) \n",
    "class_weights=dict(zip(np.unique(y_train), class_weights))"
   ]
  },
  {
   "cell_type": "code",
   "execution_count": 13,
   "metadata": {
    "scrolled": false
   },
   "outputs": [],
   "source": [
    "train_dataset = tf.data.Dataset.from_tensor_slices((X_train, y_train)).batch(batch_size)\n",
    "val_dataset = tf.data.Dataset.from_tensor_slices((X_val, y_val)).batch(batch_size)"
   ]
  },
  {
   "cell_type": "code",
   "execution_count": 14,
   "metadata": {},
   "outputs": [],
   "source": [
    "def get_compiled_model():    \n",
    "    learning_rate = CustomSchedule(d_model, warmup_steps=warmup_steps)\n",
    "        \n",
    "    optimizer = tf.keras.optimizers.Adam(learning_rate, beta_1=0.83, beta_2=0.975, epsilon=2.073e-8)\n",
    "    \n",
    "    model = EncoderClassifier(\n",
    "        num_layers=num_layers,\n",
    "        d_model=d_model,\n",
    "        num_heads=num_heads,\n",
    "        dff=dff,\n",
    "        vocab_size=vocab_size,\n",
    "        num_classes=num_classes,\n",
    "        dropout_rate=dropout_rate,\n",
    "        activation='relu'\n",
    "    )\n",
    "    \n",
    "    model.compile(\n",
    "            loss=tf.keras.losses.SparseCategoricalCrossentropy(),\n",
    "            optimizer=optimizer,\n",
    "            metrics=['accuracy'])\n",
    "    \n",
    "    return model"
   ]
  },
  {
   "cell_type": "code",
   "execution_count": 55,
   "metadata": {},
   "outputs": [],
   "source": [
    "import os\n",
    "checkpoint_path = \"model_weights/weights.epoch:[{epoch:02d}]-val_acc:[{val_accuracy:.2f}].hdf5\"\n",
    "checkpoint_dir = os.path.dirname(checkpoint_path)\n",
    "my_callback = tf.keras.callbacks.ModelCheckpoint(\n",
    "            checkpoint_path, \n",
    "            save_weights_only=True,\n",
    "            monitor='val_accuracy',\n",
    "            save_best_only=True,\n",
    "            initial_value_threshold=0.47,\n",
    "            verbose=1)"
   ]
  },
  {
   "cell_type": "code",
   "execution_count": 56,
   "metadata": {
    "scrolled": true
   },
   "outputs": [
    {
     "name": "stdout",
     "output_type": "stream",
     "text": [
      "Epoch 1/5\n",
      "299/299 [==============================] - ETA: 0s - loss: 1.9264 - accuracy: 0.2400\n",
      "Epoch 1: val_accuracy did not improve from 0.47000\n",
      "299/299 [==============================] - 18s 32ms/step - loss: 1.9264 - accuracy: 0.2400 - val_loss: 1.4796 - val_accuracy: 0.4094\n",
      "Epoch 2/5\n",
      "299/299 [==============================] - ETA: 0s - loss: 1.4968 - accuracy: 0.3753\n",
      "Epoch 2: val_accuracy did not improve from 0.47000\n",
      "299/299 [==============================] - 7s 23ms/step - loss: 1.4968 - accuracy: 0.3753 - val_loss: 1.2955 - val_accuracy: 0.4638\n",
      "Epoch 3/5\n",
      "297/299 [============================>.] - ETA: 0s - loss: 1.4153 - accuracy: 0.3989\n",
      "Epoch 3: val_accuracy improved from 0.47000 to 0.48041, saving model to model_weights/weights.epoch:[03]-val_acc:[0.48].hdf5\n",
      "299/299 [==============================] - 7s 23ms/step - loss: 1.4151 - accuracy: 0.3988 - val_loss: 1.3082 - val_accuracy: 0.4804\n",
      "Epoch 4/5\n",
      "299/299 [==============================] - ETA: 0s - loss: 1.3980 - accuracy: 0.4078\n",
      "Epoch 4: val_accuracy did not improve from 0.48041\n",
      "299/299 [==============================] - 7s 24ms/step - loss: 1.3980 - accuracy: 0.4078 - val_loss: 1.3125 - val_accuracy: 0.4504\n",
      "Epoch 5/5\n",
      "299/299 [==============================] - ETA: 0s - loss: 1.3840 - accuracy: 0.4092\n",
      "Epoch 5: val_accuracy did not improve from 0.48041\n",
      "299/299 [==============================] - 7s 23ms/step - loss: 1.3840 - accuracy: 0.4092 - val_loss: 1.2822 - val_accuracy: 0.4546\n"
     ]
    }
   ],
   "source": [
    "model = get_compiled_model()\n",
    "history = model.fit(train_dataset, batch_size=batch_size, epochs=epochs, \\\n",
    "                        validation_data=val_dataset, verbose=1, callbacks = [my_callback])"
   ]
  },
  {
   "cell_type": "code",
   "execution_count": 41,
   "metadata": {},
   "outputs": [],
   "source": [
    "# Creates the base model \n",
    "new_model = get_compiled_model()"
   ]
  },
  {
   "cell_type": "code",
   "execution_count": 42,
   "metadata": {},
   "outputs": [
    {
     "name": "stdout",
     "output_type": "stream",
     "text": [
      "34/34 [==============================] - 2s 14ms/step - loss: 2.2076 - accuracy: 0.0203\n"
     ]
    },
    {
     "data": {
      "text/plain": [
       "[2.207602024078369, 0.020276498049497604]"
      ]
     },
     "execution_count": 42,
     "metadata": {},
     "output_type": "execute_result"
    }
   ],
   "source": [
    "# The base model only gets about ~20% accuracy as it is not trained at all \n",
    "# This is to show that the base model before loading the weights is not trained\n",
    "# and its accuracy is not good.\n",
    "new_model.evaluate(X_test, y_test, batch_size=batch_size)"
   ]
  },
  {
   "cell_type": "code",
   "execution_count": 71,
   "metadata": {},
   "outputs": [
    {
     "name": "stdout",
     "output_type": "stream",
     "text": [
      "model_weights/weights.epoch:[03]-val_acc:[0.48].hdf5\n"
     ]
    }
   ],
   "source": [
    "# This loads the weights of the model that was saved at a certain epoch and val_accuracy\n",
    "epoch = np.argmax(history.history['val_accuracy'])\n",
    "val_accuracy = history.history['val_accuracy'][epoch]\n",
    "epoch = epoch+1\n",
    "\n",
    "path = f\"model_weights/weights.epoch:[{epoch:02d}]-val_acc:[{val_accuracy:.2f}].hdf5\"\n",
    "print(path)\n",
    "new_model.load_weights(path)"
   ]
  },
  {
   "cell_type": "code",
   "execution_count": 72,
   "metadata": {},
   "outputs": [
    {
     "name": "stdout",
     "output_type": "stream",
     "text": [
      "34/34 [==============================] - 1s 14ms/step - loss: 1.3337 - accuracy: 0.4677\n",
      "loss: 1.3337, accuracy: 0.4677\n"
     ]
    }
   ],
   "source": [
    "# After loading the weights of a previously trained model, the accuracy matches the\n",
    "# best version of the model that the checkpoints were saved from\n",
    "loss, acc = new_model.evaluate(X_test, y_test, batch_size=batch_size)\n",
    "print(f'loss: {loss:.4f}, accuracy: {acc:.4f}')"
   ]
  },
  {
   "cell_type": "code",
   "execution_count": 73,
   "metadata": {},
   "outputs": [
    {
     "name": "stdout",
     "output_type": "stream",
     "text": [
      "34/34 [==============================] - 0s 14ms/step - loss: 1.3040 - accuracy: 0.4535\n",
      "loss: 1.3040, accuracy: 0.4535\n"
     ]
    }
   ],
   "source": [
    "# This is to show that the accuracy is higher than the the last epoch of the model with loaded weights.\n",
    "loss, acc = model.evaluate(X_test, y_test, batch_size=batch_size)\n",
    "print(f'loss: {loss:.4f}, accuracy: {acc:.4f}')"
   ]
  },
  {
   "cell_type": "markdown",
   "metadata": {},
   "source": [
    "### Training Plots"
   ]
  },
  {
   "cell_type": "code",
   "execution_count": 85,
   "metadata": {
    "scrolled": true
   },
   "outputs": [
    {
     "data": {
      "text/plain": [
       "0.4091528654098511"
      ]
     },
     "execution_count": 85,
     "metadata": {},
     "output_type": "execute_result"
    },
    {
     "data": {
      "image/png": "[encoded data removed]",
      "text/plain": [
       "<Figure size 432x288 with 1 Axes>"
      ]
     },
     "metadata": {
      "needs_background": "light"
     },
     "output_type": "display_data"
    }
   ],
   "source": [
    "plt.title('Accuracy')\n",
    "plt.xlabel('Epochs')\n",
    "plt.ylabel('Accuracy')\n",
    "plt.plot(history.history['accuracy'], label='Train Accuracy')\n",
    "plt.plot(history.history['val_accuracy'], label='Validation Accuracy')\n",
    "plt.legend()\n",
    "\n",
    "history.history['accuracy'][np.argmax(history.history['accuracy'])]"
   ]
  },
  {
   "cell_type": "code",
   "execution_count": 86,
   "metadata": {
    "scrolled": true
   },
   "outputs": [
    {
     "data": {
      "text/plain": [
       "1.9264194965362549"
      ]
     },
     "execution_count": 86,
     "metadata": {},
     "output_type": "execute_result"
    },
    {
     "data": {
      "image/png": "[encoded data removed]",
      "text/plain": [
       "<Figure size 432x288 with 1 Axes>"
      ]
     },
     "metadata": {
      "needs_background": "light"
     },
     "output_type": "display_data"
    }
   ],
   "source": [
    "plt.title('Loss')\n",
    "plt.xlabel('Epochs')\n",
    "plt.ylabel('Loss')\n",
    "#plt.axis([75, 200, 1.2, 2.2])\n",
    "plt.plot(history.history['loss'], label='Train Loss')\n",
    "plt.plot(history.history['val_loss'], label='Validation Loss')\n",
    "plt.legend()\n",
    "\n",
    "history.history['loss'][np.argmax(history.history['loss'])]"
   ]
  },
  {
   "cell_type": "code",
   "execution_count": 99,
   "metadata": {
    "scrolled": true
   },
   "outputs": [
    {
     "name": "stdout",
     "output_type": "stream",
     "text": [
      "299.0\n"
     ]
    },
    {
     "data": {
      "text/plain": [
       "<matplotlib.legend.Legend at 0x7f8bcc607af0>"
      ]
     },
     "execution_count": 99,
     "metadata": {},
     "output_type": "execute_result"
    },
    {
     "data": {
      "image/png": "[encoded data removed]",
      "text/plain": [
       "<Figure size 432x288 with 1 Axes>"
      ]
     },
     "metadata": {
      "needs_background": "light"
     },
     "output_type": "display_data"
    }
   ],
   "source": [
    "learning_rate = CustomSchedule(d_model)\n",
    "steps_per_epoch = np.ceil((np.shape(X_train)[0]/batch_size))\n",
    "print(steps_per_epoch)\n",
    "lr = np.array([])\n",
    "for i in range(1, np.maximum(epochs+10, 30)):\n",
    "    lr = np.append(lr, learning_rate.__call__(i*steps_per_epoch))\n",
    "plt.title('Learning Rate')\n",
    "plt.xlabel('Epoch')\n",
    "plt.ylabel('Learning Rate')\n",
    "plt.plot(lr, label='Learning Rate')\n",
    "plt.legend()\n"
   ]
  },
  {
   "cell_type": "markdown",
   "metadata": {},
   "source": [
    "### Model Evaluation"
   ]
  },
  {
   "cell_type": "code",
   "execution_count": 106,
   "metadata": {},
   "outputs": [
    {
     "name": "stdout",
     "output_type": "stream",
     "text": [
      "best epoch: 3, loss: 1.4151, accuracy: 0.3988, val_loss: 1.3082, val_accuracy: 0.4804\n"
     ]
    }
   ],
   "source": [
    "epoch = np.argmax(history.history['val_accuracy'])\n",
    "loss = history.history['loss'][epoch]\n",
    "accuracy = history.history['accuracy'][epoch]\n",
    "val_loss = history.history['val_loss'][epoch]\n",
    "val_accuracy = history.history['val_accuracy'][epoch]\n",
    "epoch += 1\n",
    "\n",
    "print(f'best epoch: {epoch}, loss: {loss:.4f}, accuracy: {accuracy:.4f}, \n",
    "      val_loss: {val_loss:.4f}, val_accuracy: {val_accuracy:.4f}')"
   ]
  },
  {
   "cell_type": "code",
   "execution_count": 108,
   "metadata": {},
   "outputs": [
    {
     "name": "stdout",
     "output_type": "stream",
     "text": [
      "model_weights/weights.epoch:[03]-val_acc:[0.48].hdf5\n"
     ]
    }
   ],
   "source": [
    "path = f\"model_weights/weights.epoch:[{epoch:02d}]-val_acc:[{val_accuracy:.2f}].hdf5\"\n",
    "print(path)\n",
    "test_model = get_compiled_model()\n",
    "test_model.build((19072,22))\n",
    "test_model.load_weights(path)"
   ]
  },
  {
   "cell_type": "code",
   "execution_count": 109,
   "metadata": {
    "scrolled": false
   },
   "outputs": [
    {
     "name": "stdout",
     "output_type": "stream",
     "text": [
      "68/68 [==============================] - 1s 10ms/step\n"
     ]
    }
   ],
   "source": [
    "pred = test_model.predict(X_test)"
   ]
  },
  {
   "cell_type": "code",
   "execution_count": 110,
   "metadata": {},
   "outputs": [],
   "source": [
    "def norm_cm(cm):\n",
    "    return np.array([cm[i] / np.sum(cm[i]) for i in range(len(cm))])\n",
    "def un_norm_cm(norm_cm):\n",
    "    np.array([\n",
    "        cm[i] / np.sum(cm[i]) for i in range(len(cm))\n",
    "    ])\n",
    "    \n",
    "def accuracy(cm):\n",
    "    return cm.diagonal().sum() / cm.sum()\n",
    "def top_1_accuracy(cm):\n",
    "    return (cm.diagonal(-1).sum() + cm.diagonal(0).sum() + cm.diagonal(1).sum()) / cm.sum()\n",
    "def top_2_accuracy(cm):\n",
    "    return (cm.diagonal(-2).sum() + cm.diagonal(-1).sum() + cm.diagonal(0).sum() + cm.diagonal(1).sum() +\n",
    "                 cm.diagonal(2).sum()) / cm.sum()"
   ]
  },
  {
   "cell_type": "code",
   "execution_count": 111,
   "metadata": {},
   "outputs": [
    {
     "name": "stdout",
     "output_type": "stream",
     "text": [
      "accuracy 0.46774193548387094\n",
      "+-1 accuracy 0.8152073732718894\n",
      "+-2 accuracy 0.9451612903225807\n"
     ]
    }
   ],
   "source": [
    "cm = confusion_matrix(y_test, np.argmax(pred, axis=1))\n",
    "normalized_cm = norm_cm(cm)\n",
    "print('accuracy', accuracy(cm))\n",
    "print('+-1 accuracy', top_1_accuracy(cm))\n",
    "print('+-2 accuracy', top_2_accuracy(cm))"
   ]
  },
  {
   "cell_type": "markdown",
   "metadata": {},
   "source": [
    "Heatmap"
   ]
  },
  {
   "cell_type": "code",
   "execution_count": 112,
   "metadata": {
    "scrolled": false
   },
   "outputs": [
    {
     "data": {
      "text/plain": [
       "<AxesSubplot:>"
      ]
     },
     "execution_count": 112,
     "metadata": {},
     "output_type": "execute_result"
    },
    {
     "data": {
      "image/png": "[encoded data removed]",
      "text/plain": [
       "<Figure size 432x288 with 2 Axes>"
      ]
     },
     "metadata": {
      "needs_background": "light"
     },
     "output_type": "display_data"
    }
   ],
   "source": [
    "sns.heatmap(cm, xticklabels=range(2, 11), yticklabels=range(2, 11), annot=True, fmt='g', square=True)"
   ]
  },
  {
   "cell_type": "markdown",
   "metadata": {},
   "source": [
    "Normalized Heatmap"
   ]
  },
  {
   "cell_type": "code",
   "execution_count": 113,
   "metadata": {
    "scrolled": false
   },
   "outputs": [
    {
     "data": {
      "text/plain": [
       "<AxesSubplot:>"
      ]
     },
     "execution_count": 113,
     "metadata": {},
     "output_type": "execute_result"
    },
    {
     "data": {
      "image/png": "[encoded data removed]",
      "text/plain": [
       "<Figure size 432x288 with 2 Axes>"
      ]
     },
     "metadata": {
      "needs_background": "light"
     },
     "output_type": "display_data"
    }
   ],
   "source": [
    "sns.heatmap(normalized_cm, xticklabels=range(2, 11), yticklabels=range(2, 11), annot=True, fmt='.2f', square=True)"
   ]
  },
  {
   "cell_type": "code",
   "execution_count": null,
   "metadata": {},
   "outputs": [],
   "source": []
  }
 ],
 "metadata": {
  "kernelspec": {
   "display_name": "Python 3 (ipykernel)",
   "language": "python",
   "name": "python3"
  },
  "language_info": {
   "codemirror_mode": {
    "name": "ipython",
    "version": 3
   },
   "file_extension": ".py",
   "mimetype": "text/x-python",
   "name": "python",
   "nbconvert_exporter": "python",
   "pygments_lexer": "ipython3",
   "version": "3.8.10"
  },
  "vscode": {
   "interpreter": {
    "hash": "11938c6bc6919ae2720b4d5011047913343b08a43b18698fd82dedb0d4417594"
   }
  }
 },
 "nbformat": 4,
 "nbformat_minor": 2
}
