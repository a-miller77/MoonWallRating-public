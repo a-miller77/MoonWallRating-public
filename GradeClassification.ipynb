{
 "cells": [
  {
   "cell_type": "code",
   "execution_count": 3,
   "metadata": {
    "scrolled": true
   },
   "outputs": [],
   "source": [
    "from sklearn.model_selection import train_test_split\n",
    "from sklearn.metrics import confusion_matrix\n",
    "from preprocessing import vocab_size\n",
    "from tensorflow.keras import layers\n",
    "import matplotlib.pyplot as plt\n",
    "from tensorflow import keras\n",
    "import tensorflow as tf\n",
    "import seaborn as sns\n",
    "import pandas as pd\n",
    "import numpy as np\n",
    "import pickle"
   ]
  },
  {
   "cell_type": "markdown",
   "metadata": {},
   "source": [
    "### Import the Data"
   ]
  },
  {
   "cell_type": "code",
   "execution_count": 4,
   "metadata": {},
   "outputs": [],
   "source": [
    "with open('./data/train_preprocessed_routes', 'rb') as f:\n",
    "    X_train, y_train = pickle.load(f).values()\n",
    "with open('./data/test_preprocessed_routes', 'rb') as f:\n",
    "    X_test, y_test = pickle.load(f).values()\n",
    "with open('./data/val_preprocessed_routes', 'rb') as f:\n",
    "    X_val, y_val = pickle.load(f).values()"
   ]
  },
  {
   "cell_type": "markdown",
   "metadata": {},
   "source": [
    "Mask Grade with CLS token"
   ]
  },
  {
   "cell_type": "code",
   "execution_count": 6,
   "metadata": {},
   "outputs": [],
   "source": [
    "X_train[:, 0] = 3\n",
    "X_test[:, 0] = 3\n",
    "X_val[:, 0] = 3"
   ]
  },
  {
   "cell_type": "markdown",
   "metadata": {},
   "source": [
    "### Model Definition"
   ]
  },
  {
   "cell_type": "code",
   "execution_count": 11,
   "metadata": {},
   "outputs": [],
   "source": [
    "def positional_encoding(length, depth):\n",
    "    depth = depth/2\n",
    "\n",
    "    positions = np.arange(length)[:, np.newaxis]     # (seq, 1)\n",
    "    depths = np.arange(depth)[np.newaxis, :]/depth   # (1, depth)\n",
    "\n",
    "    angle_rates = 1 / (10000**depths)         # (1, depth)\n",
    "    angle_rads = positions * angle_rates      # (pos, depth)\n",
    "\n",
    "    pos_encoding = np.concatenate(\n",
    "      [np.sin(angle_rads), np.cos(angle_rads)],\n",
    "      axis=-1) \n",
    "\n",
    "    return tf.cast(pos_encoding, dtype=tf.float32)"
   ]
  },
  {
   "cell_type": "code",
   "execution_count": 12,
   "metadata": {},
   "outputs": [],
   "source": [
    "class PositionalEmbedding(tf.keras.layers.Layer):\n",
    "    def __init__(self, vocab_size, d_model):\n",
    "        super().__init__()\n",
    "        self.d_model = d_model\n",
    "        self.embedding = tf.keras.layers.Embedding(vocab_size, d_model, mask_zero=True) \n",
    "        self.pos_encoding = positional_encoding(length=2048, depth=d_model)\n",
    "\n",
    "    def compute_mask(self, *args, **kwargs):\n",
    "        return self.embedding.compute_mask(*args, **kwargs)\n",
    "\n",
    "    def call(self, x):\n",
    "        length = tf.shape(x)[1]\n",
    "        x = self.embedding(x)\n",
    "        # This factor sets the relative scale of the embedding and positonal_encoding.\n",
    "        x *= tf.math.sqrt(tf.cast(self.d_model, tf.float32))\n",
    "        x = x + self.pos_encoding[tf.newaxis, :length, :]\n",
    "        return x"
   ]
  },
  {
   "cell_type": "code",
   "execution_count": 14,
   "metadata": {},
   "outputs": [],
   "source": [
    "class BaseAttention(tf.keras.layers.Layer):\n",
    "    def __init__(self, **kwargs):\n",
    "        super().__init__()\n",
    "        self.mha = tf.keras.layers.MultiHeadAttention(**kwargs)\n",
    "        self.layernorm = tf.keras.layers.LayerNormalization()\n",
    "        self.add = tf.keras.layers.Add()\n",
    "\n",
    "class GlobalSelfAttention(BaseAttention):\n",
    "    def call(self, x):\n",
    "        attn_output = self.mha(\n",
    "            query=x,\n",
    "            value=x,\n",
    "            key=x)\n",
    "        x = self.add([x, attn_output])\n",
    "        x = self.layernorm(x)\n",
    "        return x"
   ]
  },
  {
   "cell_type": "code",
   "execution_count": 16,
   "metadata": {},
   "outputs": [],
   "source": [
    "class FeedForward(tf.keras.layers.Layer):\n",
    "    def __init__(self, d_model, dff, dropout_rate=0.1):\n",
    "        super().__init__()\n",
    "        self.seq = tf.keras.Sequential([\n",
    "          tf.keras.layers.Dense(dff, activation='relu'),\n",
    "          tf.keras.layers.Dense(d_model),\n",
    "          tf.keras.layers.Dropout(dropout_rate)\n",
    "        ])\n",
    "        self.add = tf.keras.layers.Add()\n",
    "        self.layer_norm = tf.keras.layers.LayerNormalization()\n",
    "\n",
    "    def call(self, x):\n",
    "        x = self.add([x, self.seq(x)])\n",
    "        x = self.layer_norm(x) \n",
    "        return x"
   ]
  },
  {
   "cell_type": "code",
   "execution_count": 18,
   "metadata": {},
   "outputs": [],
   "source": [
    "class EncoderLayer(tf.keras.layers.Layer):\n",
    "    def __init__(self,*, d_model, num_heads, dff, dropout_rate=0.1):\n",
    "        super().__init__()\n",
    "\n",
    "        self.self_attention = GlobalSelfAttention(\n",
    "            num_heads=num_heads,\n",
    "            key_dim=d_model,\n",
    "            dropout=dropout_rate)\n",
    "\n",
    "        self.ffn = FeedForward(d_model, dff)\n",
    "\n",
    "    def call(self, x):\n",
    "        x = self.self_attention(x)\n",
    "        x = self.ffn(x)\n",
    "        return x"
   ]
  },
  {
   "cell_type": "code",
   "execution_count": 20,
   "metadata": {},
   "outputs": [],
   "source": [
    "class Encoder(tf.keras.layers.Layer):\n",
    "    def __init__(self, *, num_layers, d_model, num_heads,\n",
    "               dff, vocab_size, dropout_rate=0.1):\n",
    "        super().__init__()\n",
    "\n",
    "        self.d_model = d_model\n",
    "        self.num_layers = num_layers\n",
    "\n",
    "        self.pos_embedding = PositionalEmbedding(\n",
    "            vocab_size=vocab_size, d_model=d_model)\n",
    "\n",
    "        self.enc_layers = [\n",
    "            EncoderLayer(d_model=d_model,\n",
    "                         num_heads=num_heads,\n",
    "                         dff=dff,\n",
    "                         dropout_rate=dropout_rate)\n",
    "            for _ in range(num_layers)]\n",
    "        self.dropout = tf.keras.layers.Dropout(dropout_rate)\n",
    "\n",
    "    def call(self, x):\n",
    "        # `x` is token-IDs shape: (batch, seq_len)\n",
    "        x = self.pos_embedding(x)  # Shape `(batch_size, seq_len, d_model)`.\n",
    "\n",
    "        # Add dropout.\n",
    "        x = self.dropout(x)\n",
    "\n",
    "        for i in range(self.num_layers):\n",
    "            x = self.enc_layers[i](x)\n",
    "\n",
    "        return x  # Shape `(batch_size, seq_len, d_model)`."
   ]
  },
  {
   "cell_type": "code",
   "execution_count": 23,
   "metadata": {},
   "outputs": [],
   "source": [
    "class EncoderClassifier(tf.keras.Model):\n",
    "    def __init__(self, *, num_layers, d_model, num_heads, dff, vocab_size, num_classes, dropout_rate=0.1):\n",
    "        super().__init__()\n",
    "        self.encoder = Encoder(num_layers=num_layers, d_model=d_model, num_heads=num_heads, dff=dff, \\\n",
    "                               vocab_size=vocab_size, dropout_rate=dropout_rate)\n",
    "        self.seq = tf.keras.Sequential([\n",
    "          tf.keras.layers.Dense(256, activation='relu'),\n",
    "          tf.keras.layers.Dense(128, activation='relu'),\n",
    "          tf.keras.layers.Dropout(dropout_rate)\n",
    "        ])\n",
    "        self.final_layer = tf.keras.layers.Dense(num_classes, activation='softmax')\n",
    "\n",
    "    def call(self, x):\n",
    "        x = self.encoder(x)\n",
    "        x = self.seq(x)\n",
    "        logits = self.final_layer(x[:, 0, :])\n",
    "\n",
    "        try:\n",
    "            del logits._keras_mask\n",
    "        except AttributeError:\n",
    "            pass\n",
    "\n",
    "        return logits"
   ]
  },
  {
   "cell_type": "code",
   "execution_count": 24,
   "metadata": {},
   "outputs": [],
   "source": [
    "class CustomSchedule(tf.keras.optimizers.schedules.LearningRateSchedule):\n",
    "    def __init__(self, d_model, warmup_steps=4000):\n",
    "        super().__init__()\n",
    "\n",
    "        self.d_model = d_model\n",
    "        self.d_model = tf.cast(self.d_model, tf.float32)\n",
    "\n",
    "        self.warmup_steps = warmup_steps\n",
    "\n",
    "    def __call__(self, step):\n",
    "        step = tf.cast(step, dtype=tf.float32)\n",
    "        arg1 = tf.math.rsqrt(step)\n",
    "        arg2 = step * (self.warmup_steps ** -1.5)\n",
    "        return tf.math.rsqrt(self.d_model) * tf.math.minimum(arg1, arg2)\n",
    "    \n",
    "    def get_config(self):\n",
    "        return {\n",
    "            \"d_model\": self.d_model,\n",
    "            \"warmup_steps\": self.warmup_steps,\n",
    "        }\n",
    "    \n",
    "    def from_config(cls, config):\n",
    "         return cls(**config)"
   ]
  },
  {
   "cell_type": "code",
   "execution_count": 25,
   "metadata": {},
   "outputs": [],
   "source": [
    "#Doesn't work, don't run\n",
    "class MultiGPU(tf.keras.optimizers.schedules.LearningRateSchedule):    \n",
    "    def __init__(self, d_model, step_stages, step_mult, epochs_step):\n",
    "        super().__init__()\n",
    "        \n",
    "        init_lr = np.array([\n",
    "            #1-20: good, slightly high\n",
    "            step_stages[0] * (4000 ** -1.5),\n",
    "            #20-75: low\n",
    "            step_stages[1] * (4000 ** -1.5),\n",
    "            #75-120: good\n",
    "            step_stages[2] * step_mult ** tf.math.floor(step_stages[2] / epochs_step),\n",
    "            #120-200: low\n",
    "            step_stages[3] * 0.08 * (4000 ** -1.5)])\n",
    "\n",
    "        self.d_model = d_model\n",
    "        self.d_model = tf.cast(self.d_model, tf.float32)\n",
    "\n",
    "        self.step_stages = step_stages\n",
    "        self.step_mult = step_mult\n",
    "        self.epochs_step = epochs_step\n",
    "        self.init_lr = init_lr\n",
    "        \n",
    "\n",
    "    def __call__(self, step):\n",
    "        step = tf.cast(step, dtype=tf.float32)\n",
    "        #print(step)\n",
    "        #print(step.numpy)\n",
    "        #print(np.array(step))\n",
    "        step_stages = self.step_stages\n",
    "        step_mult = self.step_mult\n",
    "        epochs_step = self.epochs_step\n",
    "        init_lr = self.init_lr\n",
    "        \n",
    "        #0-20: good, slightly high\n",
    "        if np.array(step) < step_stages[1]:\n",
    "            arg = step * (4000 ** -1.5)\n",
    "        #20-75: low\n",
    "        elif np.array(step) < step_stages[2]:\n",
    "            initial = tf.cast(init_lr[1], dtype=tf.float32)\n",
    "            arg = initial * step_mult[0] ** tf.math.floor(step / epochs_step)\n",
    "        #75-120: good\n",
    "        elif np.array(step) < step_stages[3]:\n",
    "            arg = step * (4000 ** -1.5)\n",
    "        #120+: low\n",
    "        elif np.array(step) < step_stages[4]:\n",
    "            initial =  tf.cast(init_lr[3], dtype=tf.float32)\n",
    "            arg = initial * step_mult[1] ** tf.math.floor(step / epochs_step)\n",
    "                    \n",
    "        #arg1 = tf.math.rsqrt(step)\n",
    "        #arg2 = step * (self.warmup_steps ** -1.5)\n",
    "        return tf.math.rsqrt(self.d_model) * tf.cast(arg, tf.float32)\n",
    "    \n",
    "    def get_config(self):\n",
    "        return {\n",
    "            \"d_model\" : self.d_model,\n",
    "            \"step_stages\" : self.step_stages,\n",
    "            \"step_mult\" : self.step_mult,\n",
    "            \"epochs_step\" : self.epochs_step,\n",
    "            \"init_lr\" : self.init_lr,\n",
    "        }\n",
    "    \n",
    "    def from_config(cls, config):\n",
    "         return cls(**config)"
   ]
  },
  {
   "cell_type": "markdown",
   "metadata": {},
   "source": [
    "### Model Training"
   ]
  },
  {
   "cell_type": "code",
   "execution_count": 8,
   "metadata": {},
   "outputs": [],
   "source": [
    "num_layers = 4\n",
    "d_model = 128\n",
    "dff = 2048\n",
    "num_heads = 8\n",
    "dropout_rate = 0.1\n",
    "epochs = 100\n",
    "num_classes = len(np.unique(y_train))\n",
    "batch_size = 64\n",
    "multi_gpu = False #If true, distrubutes over all GPUS allocated. If false, runs on 1 gpu"
   ]
  },
  {
   "cell_type": "code",
   "execution_count": 10,
   "metadata": {},
   "outputs": [],
   "source": [
    "train_dataset = tf.data.Dataset.from_tensor_slices((X_train, y_train)).batch(batch_size)\n",
    "val_dataset = tf.data.Dataset.from_tensor_slices((X_val, y_val)).batch(batch_size)"
   ]
  },
  {
   "cell_type": "code",
   "execution_count": 26,
   "metadata": {},
   "outputs": [],
   "source": [
    "def get_compiled_model():    \n",
    "    #if(multi_gpu):\n",
    "        #learning_rate = MultiGPU(d_model, \n",
    "                         #step_stages=np.array([1, 20, 75, 120, 200]), \n",
    "                         #step_mult=np.array([1.3, 1.2]), \n",
    "                         #epochs_step=10.0)\n",
    "    #else:\n",
    "    learning_rate = CustomSchedule(d_model)\n",
    "        \n",
    "    optimizer = tf.keras.optimizers.Adam(learning_rate, beta_1=0.9, beta_2=0.98, epsilon=1e-9)\n",
    "    \n",
    "    model = EncoderClassifier(\n",
    "        num_layers=num_layers,\n",
    "        d_model=d_model,\n",
    "        num_heads=num_heads,\n",
    "        dff=dff,\n",
    "        vocab_size=vocab_size,\n",
    "        num_classes=num_classes,\n",
    "        dropout_rate=dropout_rate\n",
    "    )\n",
    "    \n",
    "    model.compile(\n",
    "            loss=tf.keras.losses.SparseCategoricalCrossentropy(),\n",
    "            optimizer=optimizer,\n",
    "            metrics=['accuracy'])\n",
    "    \n",
    "    return model"
   ]
  },
  {
   "cell_type": "code",
   "execution_count": 27,
   "metadata": {},
   "outputs": [],
   "source": [
    "def define_workers(strategy):\n",
    "    replicas = strategy.num_replicas_in_sync\n",
    "    replica_batch = global_batch/replicas\n",
    "    return replicas, replica_batch"
   ]
  },
  {
   "cell_type": "code",
   "execution_count": 28,
   "metadata": {},
   "outputs": [],
   "source": [
    "def distribute_dataset(strategy):\n",
    "    #train_dataset = tf.data.Dataset.from_tensor_slices((X_train, y_train)).batch(global_batch)\n",
    "    #val_dataset = tf.data.Dataset.from_tensor_slices((X_val, y_val)).batch(global_batch)\n",
    "    #train_dataset = train_dataset.batch(global_batch)\n",
    "    #val_dataset = val_dataset.batch(global_batch)\n",
    "\n",
    "    train_dist = strategy.experimental_distribute_dataset(train_dataset)\n",
    "    val_dist = strategy.experimental_distribute_dataset(val_dataset)\n",
    "    return train_dist, val_dist"
   ]
  },
  {
   "cell_type": "code",
   "execution_count": 29,
   "metadata": {},
   "outputs": [],
   "source": [
    "if(multi_gpu):\n",
    "    #Create a MirroredStrategy.\n",
    "    strategy = tf.distribute.MirroredStrategy()\n",
    "    print(\"Number of devices: {}\".format(strategy.num_replicas_in_sync))\n",
    "\n",
    "    #Open a strategy scope.\n",
    "    with strategy.scope():\n",
    "        #Everything that creates variables should be under the strategy scope.\n",
    "        #In general this is only model construction & `compile()`.\n",
    "        model = get_compiled_model()\n",
    "\n",
    "    replicas, replica_batch = define_workers(strategy)\n",
    "    train_dist, val_dist = distribute_dataset(strategy)\n",
    "else:\n",
    "    model = get_compiled_model()"
   ]
  },
  {
   "cell_type": "code",
   "execution_count": null,
   "metadata": {},
   "outputs": [
    {
     "name": "stdout",
     "output_type": "stream",
     "text": [
      "Epoch 1/100\n"
     ]
    },
    {
     "name": "stderr",
     "output_type": "stream",
     "text": [
      "2023-03-01 18:01:26.545409: I tensorflow/compiler/xla/service/service.cc:173] XLA service 0x49cc4b20 initialized for platform CUDA (this does not guarantee that XLA will be used). Devices:\n",
      "2023-03-01 18:01:26.545460: I tensorflow/compiler/xla/service/service.cc:181]   StreamExecutor device (0): Tesla T4, Compute Capability 7.5\n",
      "2023-03-01 18:01:26.553868: I tensorflow/compiler/mlir/tensorflow/utils/dump_mlir_util.cc:268] disabling MLIR crash reproducer, set env var `MLIR_CRASH_REPRODUCER_DIRECTORY` to enable.\n",
      "2023-03-01 18:01:26.669744: I tensorflow/compiler/jit/xla_compilation_cache.cc:477] Compiled cluster using XLA!  This line is logged at most once for the lifetime of the process.\n"
     ]
    },
    {
     "name": "stdout",
     "output_type": "stream",
     "text": [
      "298/298 [==============================] - 23s 46ms/step - loss: 1.8787 - accuracy: 0.2640 - val_loss: 1.4435 - val_accuracy: 0.4062\n",
      "Epoch 2/100\n",
      "298/298 [==============================] - 8s 28ms/step - loss: 1.4411 - accuracy: 0.3957 - val_loss: 1.3997 - val_accuracy: 0.4091\n",
      "Epoch 3/100\n",
      "298/298 [==============================] - 8s 28ms/step - loss: 1.3880 - accuracy: 0.4087 - val_loss: 1.4279 - val_accuracy: 0.3986\n",
      "Epoch 4/100\n",
      "298/298 [==============================] - 8s 28ms/step - loss: 1.3784 - accuracy: 0.4119 - val_loss: 1.3612 - val_accuracy: 0.4264\n",
      "Epoch 5/100\n",
      "298/298 [==============================] - 8s 28ms/step - loss: 1.3590 - accuracy: 0.4256 - val_loss: 1.3738 - val_accuracy: 0.4243\n",
      "Epoch 6/100\n",
      "298/298 [==============================] - 9s 29ms/step - loss: 1.3445 - accuracy: 0.4251 - val_loss: 1.3931 - val_accuracy: 0.4226\n",
      "Epoch 7/100\n",
      "298/298 [==============================] - 9s 29ms/step - loss: 1.3369 - accuracy: 0.4319 - val_loss: 1.4007 - val_accuracy: 0.4062\n",
      "Epoch 8/100\n",
      "298/298 [==============================] - 9s 29ms/step - loss: 1.3242 - accuracy: 0.4369 - val_loss: 1.4010 - val_accuracy: 0.4205\n",
      "Epoch 9/100\n",
      "298/298 [==============================] - 9s 29ms/step - loss: 1.3047 - accuracy: 0.4386 - val_loss: 1.3508 - val_accuracy: 0.4344\n",
      "Epoch 10/100\n",
      "298/298 [==============================] - 9s 29ms/step - loss: 1.2922 - accuracy: 0.4512 - val_loss: 1.4143 - val_accuracy: 0.4180\n",
      "Epoch 11/100\n",
      "298/298 [==============================] - 9s 29ms/step - loss: 1.2888 - accuracy: 0.4495 - val_loss: 1.3546 - val_accuracy: 0.4332\n",
      "Epoch 12/100\n",
      "298/298 [==============================] - 9s 29ms/step - loss: 1.2820 - accuracy: 0.4511 - val_loss: 1.4028 - val_accuracy: 0.4150\n",
      "Epoch 13/100\n",
      "298/298 [==============================] - 9s 29ms/step - loss: 1.2716 - accuracy: 0.4507 - val_loss: 1.3849 - val_accuracy: 0.4180\n",
      "Epoch 14/100\n",
      "298/298 [==============================] - 9s 29ms/step - loss: 1.2661 - accuracy: 0.4508 - val_loss: 1.3555 - val_accuracy: 0.4521\n",
      "Epoch 15/100\n",
      "298/298 [==============================] - 9s 29ms/step - loss: 1.2475 - accuracy: 0.4581 - val_loss: 1.3562 - val_accuracy: 0.4125\n",
      "Epoch 16/100\n",
      "298/298 [==============================] - 9s 29ms/step - loss: 1.2404 - accuracy: 0.4634 - val_loss: 1.3722 - val_accuracy: 0.4121\n",
      "Epoch 17/100\n",
      "298/298 [==============================] - 9s 29ms/step - loss: 1.2255 - accuracy: 0.4757 - val_loss: 1.4375 - val_accuracy: 0.4479\n",
      "Epoch 18/100\n",
      "115/298 [==========>...................] - ETA: 5s - loss: 1.2176 - accuracy: 0.4745"
     ]
    }
   ],
   "source": [
    "if(multi_gpu):\n",
    "    #Havings issues, doesn't return correct data. Evalutes in 2-3m thought\n",
    "    history = model.fit(train_dist, batch_size=replica_batch, epochs=epochs, \n",
    "                        validation_data=val_dist, steps_per_epoch=replicas*8, validation_steps=replicas, verbose=1)\n",
    "else:\n",
    "    history = model.fit(train_dataset, batch_size=global_batch, epochs=epochs, validation_data=val_dataset, verbose=1)"
   ]
  },
  {
   "cell_type": "code",
   "execution_count": 81,
   "metadata": {},
   "outputs": [],
   "source": [
    "#model.save(\"1gpu_batch64_epoch150_dmodel164_drop25\")"
   ]
  },
  {
   "cell_type": "code",
   "execution_count": 82,
   "metadata": {},
   "outputs": [],
   "source": [
    "#model = tf.saved_model.load(\"1gpu_batch48_epoch300_dmodel64_drop25\")"
   ]
  },
  {
   "cell_type": "markdown",
   "metadata": {},
   "source": [
    "### Training Plots"
   ]
  },
  {
   "cell_type": "code",
   "execution_count": 80,
   "metadata": {
    "scrolled": true
   },
   "outputs": [
    {
     "data": {
      "text/plain": [
       "<matplotlib.legend.Legend at 0x7f5bb3080fa0>"
      ]
     },
     "execution_count": 80,
     "metadata": {},
     "output_type": "execute_result"
    },
    {
     "data": {
      "image/png": "[encoded data removed]",
      "text/plain": [
       "<Figure size 432x288 with 1 Axes>"
      ]
     },
     "metadata": {
      "needs_background": "light"
     },
     "output_type": "display_data"
    }
   ],
   "source": [
    "plt.title('Accuracy')\n",
    "plt.xlabel('Epochs')\n",
    "plt.ylabel('Accuracy')\n",
    "plt.plot(history.history['accuracy'], label='Train Accuracy')\n",
    "plt.plot(history.history['val_accuracy'], label='Validation Accuracy')\n",
    "plt.legend()"
   ]
  },
  {
   "cell_type": "code",
   "execution_count": 81,
   "metadata": {
    "scrolled": false
   },
   "outputs": [
    {
     "data": {
      "text/plain": [
       "<matplotlib.legend.Legend at 0x7f5bcecd4040>"
      ]
     },
     "execution_count": 81,
     "metadata": {},
     "output_type": "execute_result"
    },
    {
     "data": {
      "image/png": "[encoded data removed]",
      "text/plain": [
       "<Figure size 432x288 with 1 Axes>"
      ]
     },
     "metadata": {
      "needs_background": "light"
     },
     "output_type": "display_data"
    }
   ],
   "source": [
    "plt.title('Loss')\n",
    "plt.xlabel('Epochs')\n",
    "plt.ylabel('Loss')\n",
    "#plt.axis([75, 200, 1.2, 2.2])\n",
    "plt.plot(history.history['loss'], label='Train Loss')\n",
    "plt.plot(history.history['val_loss'], label='Validation Loss')\n",
    "plt.legend()"
   ]
  },
  {
   "cell_type": "code",
   "execution_count": 84,
   "metadata": {
    "scrolled": false
   },
   "outputs": [
    {
     "data": {
      "text/plain": [
       "<matplotlib.legend.Legend at 0x7f5bcf4c3790>"
      ]
     },
     "execution_count": 84,
     "metadata": {},
     "output_type": "execute_result"
    },
    {
     "data": {
      "image/png": "[encoded data removed]",
      "text/plain": [
       "<Figure size 432x288 with 1 Axes>"
      ]
     },
     "metadata": {
      "needs_background": "light"
     },
     "output_type": "display_data"
    }
   ],
   "source": [
    "#learning_rate = MultiGPU(d_model, \n",
    "                         #step_stages=np.array([1, 20, 75, 120, 200]), \n",
    "                         #step_mult=np.array([1.3, 1.2]), \n",
    "                         #epochs_step=10.0)\n",
    "learning_rate = CustomSchedule(d_model)\n",
    "lr = np.array([])\n",
    "for i in range(1, 29800):\n",
    "    lr = np.append(lr, learning_rate.__call__(i))\n",
    "    #print(learning_rate.__call__(i).numpy())\n",
    "plt.title('Learning Rate')\n",
    "plt.xlabel('Epochs')\n",
    "plt.ylabel('Learning Rate')\n",
    "plt.plot(lr, label='Learning Rate')\n",
    "#plt.axis([0, 300, 0, 0.000125])\n",
    "plt.legend()\n"
   ]
  },
  {
   "cell_type": "markdown",
   "metadata": {},
   "source": [
    "### Model Evaluation"
   ]
  },
  {
   "cell_type": "code",
   "execution_count": 109,
   "metadata": {
    "scrolled": false
   },
   "outputs": [
    {
     "name": "stdout",
     "output_type": "stream",
     "text": [
      "75/75 [==============================] - 2s 12ms/step\n"
     ]
    }
   ],
   "source": [
    "pred = model.predict(X_test)"
   ]
  },
  {
   "cell_type": "code",
   "execution_count": 110,
   "metadata": {},
   "outputs": [],
   "source": [
    "def norm_cm(cm):\n",
    "    return np.array([cm[i] / np.sum(cm[i]) for i in range(len(cm))])\n",
    "def un_norm_cm(norm_cm):\n",
    "    np.array([\n",
    "        cm[i] / np.sum(cm[i]) for i in range(len(cm))\n",
    "    ])\n",
    "    \n",
    "def accuracy(cm):\n",
    "    return cm.diagonal().sum() / cm.sum()\n",
    "def top_1_accuracy(cm):\n",
    "    return (cm.diagonal(-1).sum() + cm.diagonal(0).sum() + cm.diagonal(1).sum()) / cm.sum()\n",
    "def top_2_accuracy(cm):\n",
    "    return (cm.diagonal(-2).sum() + cm.diagonal(-1).sum() + cm.diagonal(0).sum() + cm.diagonal(1).sum() +\n",
    "                 cm.diagonal(2).sum()) / cm.sum()"
   ]
  },
  {
   "cell_type": "code",
   "execution_count": 111,
   "metadata": {},
   "outputs": [
    {
     "name": "stdout",
     "output_type": "stream",
     "text": [
      "accuracy 0.4636401849516604\n",
      "+-1 accuracy 0.8633879781420765\n",
      "+-2 accuracy 0.9722572509457755\n"
     ]
    }
   ],
   "source": [
    "cm = confusion_matrix(y_test, np.argmax(pred, axis=1))\n",
    "normalized_cm = norm_cm(cm)\n",
    "print('accuracy', accuracy(cm))\n",
    "print('+-1 accuracy', top_1_accuracy(cm))\n",
    "print('+-2 accuracy', top_2_accuracy(cm))"
   ]
  },
  {
   "cell_type": "markdown",
   "metadata": {},
   "source": [
    "Heatmap"
   ]
  },
  {
   "cell_type": "code",
   "execution_count": 112,
   "metadata": {
    "scrolled": true
   },
   "outputs": [
    {
     "data": {
      "text/plain": [
       "<AxesSubplot:>"
      ]
     },
     "execution_count": 112,
     "metadata": {},
     "output_type": "execute_result"
    },
    {
     "data": {
      "image/png": "[encoded data removed]",
      "text/plain": [
       "<Figure size 432x288 with 2 Axes>"
      ]
     },
     "metadata": {
      "needs_background": "light"
     },
     "output_type": "display_data"
    }
   ],
   "source": [
    "sns.heatmap(cm, xticklabels=range(2, 11), yticklabels=range(2, 11), annot=True, fmt='g', square=True)"
   ]
  },
  {
   "cell_type": "markdown",
   "metadata": {},
   "source": [
    "Normalized Heatmap"
   ]
  },
  {
   "cell_type": "code",
   "execution_count": 113,
   "metadata": {
    "scrolled": true
   },
   "outputs": [
    {
     "data": {
      "text/plain": [
       "<AxesSubplot:>"
      ]
     },
     "execution_count": 113,
     "metadata": {},
     "output_type": "execute_result"
    },
    {
     "data": {
      "image/png": "[encoded data removed]",
      "text/plain": [
       "<Figure size 432x288 with 2 Axes>"
      ]
     },
     "metadata": {
      "needs_background": "light"
     },
     "output_type": "display_data"
    }
   ],
   "source": [
    "sns.heatmap(normalized_cm, xticklabels=range(2, 11), yticklabels=range(2, 11), annot=True, fmt='.2f', square=True)"
   ]
  },
  {
   "cell_type": "code",
   "execution_count": 114,
   "metadata": {},
   "outputs": [
    {
     "name": "stdout",
     "output_type": "stream",
     "text": [
      "accuracy 0.21877188886294655\n",
      "+-1 accuracy 0.5626897034788699\n",
      "+-2 accuracy 0.7555451786131216\n"
     ]
    }
   ],
   "source": [
    "GCNcm = np.array([\n",
    "    [263, 58, 32, 7, 5, 3, 1, 2, 2, 0, 0],\n",
    "    [175, 98, 64, 19, 22, 20, 4, 3, 6, 0, 4],\n",
    "    [66, 132, 79, 25, 31, 29, 3, 16, 11, 0, 3],\n",
    "    [29, 78, 62, 37, 53, 51, 36, 23, 6, 3, 13],\n",
    "    [29, 55, 43, 24, 35, 62, 33, 63, 9, 2, 23],\n",
    "    [10, 38, 46, 26, 62, 41, 73, 99, 11, 0, 12],\n",
    "    [0, 25, 19, 19, 10, 34, 112, 158, 14, 6, 11],\n",
    "    [45, 0, 63, 0, 27, 82, 0, 89, 59, 0, 0],\n",
    "    [0, 0, 0, 0, 0, 0, 242, 87, 183, 86, 0],\n",
    "    [0, 0, 0, 0, 0, 0, 141, 0, 133, 0, 126],\n",
    "    [142, 0, 0, 0, 0, 0, 0, 0, 0, 0, 0]\n",
    "])\n",
    "#normalized_GCNcm = norm_cm(GCNcm)\n",
    "print('accuracy', accuracy(GCNcm))\n",
    "#print('accuracy', accuracy(normalized_GCNcm))\n",
    "print('+-1 accuracy', top_1_accuracy(GCNcm))\n",
    "#print('+-1 accuracy', top_1_accuracy(normalized_GCNcm))\n",
    "print('+-2 accuracy', top_2_accuracy(GCNcm))\n",
    "#print('+-2 accuracy', top_2_accuracy(normalized_GCNcm))"
   ]
  }
 ],
 "metadata": {
  "kernelspec": {
   "display_name": "Python 3 (ipykernel)",
   "language": "python",
   "name": "python3"
  },
  "language_info": {
   "codemirror_mode": {
    "name": "ipython",
    "version": 3
   },
   "file_extension": ".py",
   "mimetype": "text/x-python",
   "name": "python",
   "nbconvert_exporter": "python",
   "pygments_lexer": "ipython3",
   "version": "3.8.10"
  },
  "vscode": {
   "interpreter": {
    "hash": "11938c6bc6919ae2720b4d5011047913343b08a43b18698fd82dedb0d4417594"
   }
  }
 },
 "nbformat": 4,
 "nbformat_minor": 2
}
