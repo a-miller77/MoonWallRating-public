{
 "cells": [
  {
   "cell_type": "code",
   "execution_count": 2,
   "metadata": {
    "scrolled": true
   },
   "outputs": [],
   "source": [
    "from sklearn.metrics import confusion_matrix\n",
    "from sklearn.utils import class_weight\n",
    "from preprocessing import vocab_size\n",
    "import matplotlib.pyplot as plt\n",
    "from tensorflow import keras\n",
    "from model_definition import *\n",
    "import tensorflow as tf\n",
    "import seaborn as sns\n",
    "import pandas as pd\n",
    "import numpy as np\n",
    "import pickle"
   ]
  },
  {
   "cell_type": "markdown",
   "metadata": {},
   "source": [
    "### Import the Data"
   ]
  },
  {
   "cell_type": "markdown",
   "metadata": {},
   "source": [
    "Load in different data splits from files"
   ]
  },
  {
   "cell_type": "code",
   "execution_count": 3,
   "metadata": {},
   "outputs": [],
   "source": [
    "with open('./data/train_preprocessed_routes', 'rb') as f:\n",
    "    X_train, y_train = pickle.load(f).values()\n",
    "with open('./data/test_preprocessed_routes', 'rb') as f:\n",
    "    X_test, y_test = pickle.load(f).values()\n",
    "with open('./data/val_preprocessed_routes', 'rb') as f:\n",
    "    X_val, y_val = pickle.load(f).values()"
   ]
  },
  {
   "cell_type": "markdown",
   "metadata": {},
   "source": [
    "Mask Grade with CLS token"
   ]
  },
  {
   "cell_type": "code",
   "execution_count": 4,
   "metadata": {},
   "outputs": [],
   "source": [
    "X_train[:, 0] = 3\n",
    "X_test[:, 0] = 3\n",
    "X_val[:, 0] = 3"
   ]
  },
  {
   "cell_type": "code",
   "execution_count": 5,
   "metadata": {},
   "outputs": [
    {
     "data": {
      "text/plain": [
       "(19076, 22)"
      ]
     },
     "execution_count": 5,
     "metadata": {},
     "output_type": "execute_result"
    }
   ],
   "source": [
    "np.shape(X_train)"
   ]
  },
  {
   "cell_type": "code",
   "execution_count": 6,
   "metadata": {},
   "outputs": [
    {
     "data": {
      "text/plain": [
       "array([  3,   5,   7,  75,  74, 106, 128, 170, 183, 215,   0,   0,   0,\n",
       "         0,   0,   0,   0,   0,   0,   0,   0,   0])"
      ]
     },
     "execution_count": 6,
     "metadata": {},
     "output_type": "execute_result"
    }
   ],
   "source": [
    "X_train[0]"
   ]
  },
  {
   "cell_type": "markdown",
   "metadata": {},
   "source": [
    "### Model Training"
   ]
  },
  {
   "cell_type": "code",
   "execution_count": 21,
   "metadata": {},
   "outputs": [],
   "source": [
    "num_layers = 4\n",
    "d_model = 96\n",
    "dff = 512\n",
    "num_heads = 10\n",
    "dropout_rate = 0.275\n",
    "epochs = 100\n",
    "warmup_steps = 3000\n",
    "\n",
    "num_classes = len(np.unique(y_train))\n",
    "batch_size = 192\n",
    "class_weights = class_weight.compute_class_weight(class_weight='balanced',\n",
    "                                                  classes=np.unique(y_train),\n",
    "                                                  y=y_train) \n",
    "class_weights=dict(zip(np.unique(y_train), class_weights))"
   ]
  },
  {
   "cell_type": "code",
   "execution_count": 22,
   "metadata": {
    "scrolled": false
   },
   "outputs": [],
   "source": [
    "train_dataset = tf.data.Dataset.from_tensor_slices((X_train, y_train)).batch(batch_size)\n",
    "val_dataset = tf.data.Dataset.from_tensor_slices((X_val, y_val)).batch(batch_size)"
   ]
  },
  {
   "cell_type": "code",
   "execution_count": 23,
   "metadata": {},
   "outputs": [],
   "source": [
    "def get_compiled_model():    \n",
    "    learning_rate = CustomSchedule(d_model, warmup_steps=warmup_steps)\n",
    "        \n",
    "    optimizer = tf.keras.optimizers.Adam(learning_rate, beta_1=0.7825, beta_2=0.95, epsilon=4.59e-8)\n",
    "    \n",
    "    model = EncoderClassifier(\n",
    "        num_layers=num_layers,\n",
    "        d_model=d_model,\n",
    "        num_heads=num_heads,\n",
    "        dff=dff,\n",
    "        vocab_size=vocab_size,\n",
    "        num_classes=num_classes,\n",
    "        dropout_rate=dropout_rate,\n",
    "        activation='swish',\n",
    "        sequential=False\n",
    "    )\n",
    "    \n",
    "    model.compile(\n",
    "            loss=tf.keras.losses.SparseCategoricalCrossentropy(),\n",
    "            optimizer=optimizer,\n",
    "            metrics=['accuracy'])\n",
    "    \n",
    "    return model"
   ]
  },
  {
   "cell_type": "code",
   "execution_count": 25,
   "metadata": {},
   "outputs": [],
   "source": [
    "import os\n",
    "checkpoint_path = \"model_weights/weights.epoch:[{epoch:02d}]-val_acc:[{val_accuracy:.2f}].hdf5\"\n",
    "checkpoint_dir = os.path.dirname(checkpoint_path)\n",
    "my_callback = tf.keras.callbacks.ModelCheckpoint(\n",
    "            checkpoint_path, \n",
    "            save_weights_only=True,\n",
    "            monitor='val_accuracy',\n",
    "            save_best_only=True,\n",
    "            initial_value_threshold=0.49,\n",
    "            verbose=1)"
   ]
  },
  {
   "cell_type": "code",
   "execution_count": 26,
   "metadata": {
    "scrolled": true
   },
   "outputs": [
    {
     "name": "stdout",
     "output_type": "stream",
     "text": [
      "Epoch 1/100\n",
      "100/100 [==============================] - ETA: 0s - loss: 2.3569 - accuracy: 0.1697\n",
      "Epoch 1: val_accuracy did not improve from 0.49000\n",
      "100/100 [==============================] - 17s 75ms/step - loss: 2.3569 - accuracy: 0.1697 - val_loss: 1.8096 - val_accuracy: 0.3333\n",
      "Epoch 2/100\n",
      " 99/100 [============================>.] - ETA: 0s - loss: 1.9005 - accuracy: 0.2596\n",
      "Epoch 2: val_accuracy did not improve from 0.49000\n",
      "100/100 [==============================] - 5s 50ms/step - loss: 1.8996 - accuracy: 0.2599 - val_loss: 1.3953 - val_accuracy: 0.4583\n",
      "Epoch 3/100\n",
      " 99/100 [============================>.] - ETA: 0s - loss: 1.5509 - accuracy: 0.3517\n",
      "Epoch 3: val_accuracy did not improve from 0.49000\n",
      "100/100 [==============================] - 5s 51ms/step - loss: 1.5509 - accuracy: 0.3516 - val_loss: 1.3073 - val_accuracy: 0.4698\n",
      "Epoch 4/100\n",
      " 99/100 [============================>.] - ETA: 0s - loss: 1.4327 - accuracy: 0.3901\n",
      "Epoch 4: val_accuracy did not improve from 0.49000\n",
      "100/100 [==============================] - 5s 51ms/step - loss: 1.4333 - accuracy: 0.3898 - val_loss: 1.2634 - val_accuracy: 0.4763\n",
      "Epoch 5/100\n",
      "100/100 [==============================] - ETA: 0s - loss: 1.3912 - accuracy: 0.4044\n",
      "Epoch 5: val_accuracy did not improve from 0.49000\n",
      "100/100 [==============================] - 5s 51ms/step - loss: 1.3912 - accuracy: 0.4044 - val_loss: 1.2417 - val_accuracy: 0.4827\n",
      "Epoch 6/100\n",
      " 99/100 [============================>.] - ETA: 0s - loss: 1.3691 - accuracy: 0.4129\n",
      "Epoch 6: val_accuracy did not improve from 0.49000\n",
      "100/100 [==============================] - 5s 51ms/step - loss: 1.3694 - accuracy: 0.4127 - val_loss: 1.2430 - val_accuracy: 0.4753\n",
      "Epoch 7/100\n",
      " 99/100 [============================>.] - ETA: 0s - loss: 1.3555 - accuracy: 0.4181\n",
      "Epoch 7: val_accuracy did not improve from 0.49000\n",
      "100/100 [==============================] - 5s 51ms/step - loss: 1.3560 - accuracy: 0.4177 - val_loss: 1.2417 - val_accuracy: 0.4827\n",
      "Epoch 8/100\n",
      "100/100 [==============================] - ETA: 0s - loss: 1.3441 - accuracy: 0.4243\n",
      "Epoch 8: val_accuracy did not improve from 0.49000\n",
      "100/100 [==============================] - 5s 51ms/step - loss: 1.3441 - accuracy: 0.4243 - val_loss: 1.2491 - val_accuracy: 0.4703\n",
      "Epoch 9/100\n",
      "100/100 [==============================] - ETA: 0s - loss: 1.3315 - accuracy: 0.4271\n",
      "Epoch 9: val_accuracy did not improve from 0.49000\n",
      "100/100 [==============================] - 5s 51ms/step - loss: 1.3315 - accuracy: 0.4271 - val_loss: 1.2753 - val_accuracy: 0.4647\n",
      "Epoch 10/100\n",
      "100/100 [==============================] - ETA: 0s - loss: 1.3254 - accuracy: 0.4299\n",
      "Epoch 10: val_accuracy did not improve from 0.49000\n",
      "100/100 [==============================] - 5s 51ms/step - loss: 1.3254 - accuracy: 0.4299 - val_loss: 1.2874 - val_accuracy: 0.4592\n",
      "Epoch 11/100\n",
      "100/100 [==============================] - ETA: 0s - loss: 1.3117 - accuracy: 0.4372\n",
      "Epoch 11: val_accuracy did not improve from 0.49000\n",
      "100/100 [==============================] - 5s 51ms/step - loss: 1.3117 - accuracy: 0.4372 - val_loss: 1.2783 - val_accuracy: 0.4703\n",
      "Epoch 12/100\n",
      " 99/100 [============================>.] - ETA: 0s - loss: 1.3032 - accuracy: 0.4457\n",
      "Epoch 12: val_accuracy did not improve from 0.49000\n",
      "100/100 [==============================] - 5s 52ms/step - loss: 1.3031 - accuracy: 0.4458 - val_loss: 1.2573 - val_accuracy: 0.4799\n",
      "Epoch 13/100\n",
      " 99/100 [============================>.] - ETA: 0s - loss: 1.2900 - accuracy: 0.4484\n",
      "Epoch 13: val_accuracy did not improve from 0.49000\n",
      "100/100 [==============================] - 5s 51ms/step - loss: 1.2903 - accuracy: 0.4481 - val_loss: 1.2642 - val_accuracy: 0.4790\n",
      "Epoch 14/100\n",
      " 99/100 [============================>.] - ETA: 0s - loss: 1.2786 - accuracy: 0.4586\n",
      "Epoch 14: val_accuracy did not improve from 0.49000\n",
      "100/100 [==============================] - 5s 52ms/step - loss: 1.2786 - accuracy: 0.4586 - val_loss: 1.2776 - val_accuracy: 0.4772\n",
      "Epoch 15/100\n",
      " 99/100 [============================>.] - ETA: 0s - loss: 1.2605 - accuracy: 0.4674\n",
      "Epoch 15: val_accuracy did not improve from 0.49000\n",
      "100/100 [==============================] - 5s 51ms/step - loss: 1.2605 - accuracy: 0.4670 - val_loss: 1.3144 - val_accuracy: 0.4698\n",
      "Epoch 16/100\n",
      "100/100 [==============================] - ETA: 0s - loss: 1.2506 - accuracy: 0.4724\n",
      "Epoch 16: val_accuracy did not improve from 0.49000\n",
      "100/100 [==============================] - 5s 51ms/step - loss: 1.2506 - accuracy: 0.4724 - val_loss: 1.3699 - val_accuracy: 0.4643\n",
      "Epoch 17/100\n",
      "100/100 [==============================] - ETA: 0s - loss: 1.2368 - accuracy: 0.4804\n",
      "Epoch 17: val_accuracy did not improve from 0.49000\n",
      "100/100 [==============================] - 5s 51ms/step - loss: 1.2368 - accuracy: 0.4804 - val_loss: 1.2849 - val_accuracy: 0.4799\n",
      "Epoch 18/100\n",
      " 99/100 [============================>.] - ETA: 0s - loss: 1.2242 - accuracy: 0.4856\n",
      "Epoch 18: val_accuracy did not improve from 0.49000\n",
      "100/100 [==============================] - 5s 52ms/step - loss: 1.2242 - accuracy: 0.4856 - val_loss: 1.3192 - val_accuracy: 0.4657\n",
      "Epoch 19/100\n",
      "100/100 [==============================] - ETA: 0s - loss: 1.2123 - accuracy: 0.4946\n",
      "Epoch 19: val_accuracy did not improve from 0.49000\n",
      "100/100 [==============================] - 5s 52ms/step - loss: 1.2123 - accuracy: 0.4946 - val_loss: 1.3680 - val_accuracy: 0.4652\n",
      "Epoch 20/100\n",
      "100/100 [==============================] - ETA: 0s - loss: 1.2073 - accuracy: 0.4976\n",
      "Epoch 20: val_accuracy did not improve from 0.49000\n",
      "100/100 [==============================] - 5s 52ms/step - loss: 1.2073 - accuracy: 0.4976 - val_loss: 1.2854 - val_accuracy: 0.4758\n",
      "Epoch 21/100\n",
      "100/100 [==============================] - ETA: 0s - loss: 1.1932 - accuracy: 0.4998\n",
      "Epoch 21: val_accuracy improved from 0.49000 to 0.49470, saving model to model_weights/weights.epoch:[21]-val_acc:[0.49].hdf5\n",
      "100/100 [==============================] - 5s 52ms/step - loss: 1.1932 - accuracy: 0.4998 - val_loss: 1.3302 - val_accuracy: 0.4947\n",
      "Epoch 22/100\n",
      "100/100 [==============================] - ETA: 0s - loss: 1.1751 - accuracy: 0.5118\n",
      "Epoch 22: val_accuracy did not improve from 0.49470\n",
      "100/100 [==============================] - 5s 51ms/step - loss: 1.1751 - accuracy: 0.5118 - val_loss: 1.3039 - val_accuracy: 0.4799\n",
      "Epoch 23/100\n",
      "100/100 [==============================] - ETA: 0s - loss: 1.1663 - accuracy: 0.5135\n",
      "Epoch 23: val_accuracy did not improve from 0.49470\n",
      "100/100 [==============================] - 5s 52ms/step - loss: 1.1663 - accuracy: 0.5135 - val_loss: 1.3416 - val_accuracy: 0.4786\n",
      "Epoch 24/100\n",
      "100/100 [==============================] - ETA: 0s - loss: 1.1559 - accuracy: 0.5170\n",
      "Epoch 24: val_accuracy did not improve from 0.49470\n",
      "100/100 [==============================] - 5s 52ms/step - loss: 1.1559 - accuracy: 0.5170 - val_loss: 1.3258 - val_accuracy: 0.4790\n",
      "Epoch 25/100\n",
      " 99/100 [============================>.] - ETA: 0s - loss: 1.1480 - accuracy: 0.5198\n",
      "Epoch 25: val_accuracy did not improve from 0.49470\n",
      "100/100 [==============================] - 5s 51ms/step - loss: 1.1476 - accuracy: 0.5202 - val_loss: 1.3666 - val_accuracy: 0.4675\n",
      "Epoch 26/100\n",
      " 99/100 [============================>.] - ETA: 0s - loss: 1.1434 - accuracy: 0.5222\n",
      "Epoch 26: val_accuracy did not improve from 0.49470\n",
      "100/100 [==============================] - 5s 51ms/step - loss: 1.1430 - accuracy: 0.5225 - val_loss: 1.4309 - val_accuracy: 0.4652\n",
      "Epoch 27/100\n",
      " 99/100 [============================>.] - ETA: 0s - loss: 1.1323 - accuracy: 0.5315\n",
      "Epoch 27: val_accuracy did not improve from 0.49470\n",
      "100/100 [==============================] - 5s 52ms/step - loss: 1.1319 - accuracy: 0.5317 - val_loss: 1.3492 - val_accuracy: 0.4587\n",
      "Epoch 28/100\n",
      "100/100 [==============================] - ETA: 0s - loss: 1.1252 - accuracy: 0.5317\n",
      "Epoch 28: val_accuracy did not improve from 0.49470\n",
      "100/100 [==============================] - 5s 52ms/step - loss: 1.1252 - accuracy: 0.5317 - val_loss: 1.3137 - val_accuracy: 0.4721\n",
      "Epoch 29/100\n",
      " 99/100 [============================>.] - ETA: 0s - loss: 1.1170 - accuracy: 0.5365\n",
      "Epoch 29: val_accuracy did not improve from 0.49470\n",
      "100/100 [==============================] - 5s 52ms/step - loss: 1.1170 - accuracy: 0.5364 - val_loss: 1.2954 - val_accuracy: 0.4597\n"
     ]
    },
    {
     "name": "stdout",
     "output_type": "stream",
     "text": [
      "Epoch 30/100\n",
      " 99/100 [============================>.] - ETA: 0s - loss: 1.1131 - accuracy: 0.5359\n",
      "Epoch 30: val_accuracy did not improve from 0.49470\n",
      "100/100 [==============================] - 5s 52ms/step - loss: 1.1128 - accuracy: 0.5359 - val_loss: 1.3742 - val_accuracy: 0.4790\n",
      "Epoch 31/100\n",
      " 99/100 [============================>.] - ETA: 0s - loss: 1.1093 - accuracy: 0.5400\n",
      "Epoch 31: val_accuracy did not improve from 0.49470\n",
      "100/100 [==============================] - 5s 52ms/step - loss: 1.1098 - accuracy: 0.5399 - val_loss: 1.3693 - val_accuracy: 0.4735\n",
      "Epoch 32/100\n",
      " 99/100 [============================>.] - ETA: 0s - loss: 1.1050 - accuracy: 0.5413\n",
      "Epoch 32: val_accuracy did not improve from 0.49470\n",
      "100/100 [==============================] - 5s 51ms/step - loss: 1.1046 - accuracy: 0.5415 - val_loss: 1.3125 - val_accuracy: 0.4804\n",
      "Epoch 33/100\n",
      "100/100 [==============================] - ETA: 0s - loss: 1.0894 - accuracy: 0.5491\n",
      "Epoch 33: val_accuracy did not improve from 0.49470\n",
      "100/100 [==============================] - 5s 52ms/step - loss: 1.0894 - accuracy: 0.5491 - val_loss: 1.3690 - val_accuracy: 0.4836\n",
      "Epoch 34/100\n",
      " 99/100 [============================>.] - ETA: 0s - loss: 1.0841 - accuracy: 0.5489\n",
      "Epoch 34: val_accuracy did not improve from 0.49470\n",
      "100/100 [==============================] - 5s 52ms/step - loss: 1.0837 - accuracy: 0.5492 - val_loss: 1.3496 - val_accuracy: 0.4712\n",
      "Epoch 35/100\n",
      " 99/100 [============================>.] - ETA: 0s - loss: 1.0683 - accuracy: 0.5584\n",
      "Epoch 35: val_accuracy did not improve from 0.49470\n",
      "100/100 [==============================] - 5s 52ms/step - loss: 1.0680 - accuracy: 0.5586 - val_loss: 1.3577 - val_accuracy: 0.4887\n",
      "Epoch 36/100\n",
      " 99/100 [============================>.] - ETA: 0s - loss: 1.0582 - accuracy: 0.5647\n",
      "Epoch 36: val_accuracy did not improve from 0.49470\n",
      "100/100 [==============================] - 5s 51ms/step - loss: 1.0578 - accuracy: 0.5647 - val_loss: 1.3050 - val_accuracy: 0.4657\n",
      "Epoch 37/100\n",
      "100/100 [==============================] - ETA: 0s - loss: 1.0511 - accuracy: 0.5728\n",
      "Epoch 37: val_accuracy did not improve from 0.49470\n",
      "100/100 [==============================] - 5s 52ms/step - loss: 1.0511 - accuracy: 0.5728 - val_loss: 1.3241 - val_accuracy: 0.4767\n",
      "Epoch 38/100\n",
      " 99/100 [============================>.] - ETA: 0s - loss: 1.0411 - accuracy: 0.5728\n",
      "Epoch 38: val_accuracy did not improve from 0.49470\n",
      "100/100 [==============================] - 5s 52ms/step - loss: 1.0408 - accuracy: 0.5730 - val_loss: 1.3182 - val_accuracy: 0.4703\n",
      "Epoch 39/100\n",
      " 99/100 [============================>.] - ETA: 0s - loss: 1.0314 - accuracy: 0.5773\n",
      "Epoch 39: val_accuracy did not improve from 0.49470\n",
      "100/100 [==============================] - 5s 52ms/step - loss: 1.0308 - accuracy: 0.5776 - val_loss: 1.3340 - val_accuracy: 0.4790\n",
      "Epoch 40/100\n",
      "100/100 [==============================] - ETA: 0s - loss: 1.0215 - accuracy: 0.5791\n",
      "Epoch 40: val_accuracy did not improve from 0.49470\n",
      "100/100 [==============================] - 5s 52ms/step - loss: 1.0215 - accuracy: 0.5791 - val_loss: 1.3669 - val_accuracy: 0.4804\n",
      "Epoch 41/100\n",
      "100/100 [==============================] - ETA: 0s - loss: 1.0111 - accuracy: 0.5890\n",
      "Epoch 41: val_accuracy did not improve from 0.49470\n",
      "100/100 [==============================] - 5s 52ms/step - loss: 1.0111 - accuracy: 0.5890 - val_loss: 1.3690 - val_accuracy: 0.4790\n",
      "Epoch 42/100\n",
      " 99/100 [============================>.] - ETA: 0s - loss: 1.0007 - accuracy: 0.5920\n",
      "Epoch 42: val_accuracy did not improve from 0.49470\n",
      "100/100 [==============================] - 5s 52ms/step - loss: 1.0004 - accuracy: 0.5921 - val_loss: 1.3798 - val_accuracy: 0.4841\n",
      "Epoch 43/100\n",
      " 99/100 [============================>.] - ETA: 0s - loss: 0.9934 - accuracy: 0.5929\n",
      "Epoch 43: val_accuracy did not improve from 0.49470\n",
      "100/100 [==============================] - 5s 51ms/step - loss: 0.9929 - accuracy: 0.5932 - val_loss: 1.3779 - val_accuracy: 0.4799\n",
      "Epoch 44/100\n",
      " 99/100 [============================>.] - ETA: 0s - loss: 0.9823 - accuracy: 0.6019\n",
      "Epoch 44: val_accuracy did not improve from 0.49470\n",
      "100/100 [==============================] - 5s 52ms/step - loss: 0.9819 - accuracy: 0.6019 - val_loss: 1.3414 - val_accuracy: 0.4869\n",
      "Epoch 45/100\n",
      "100/100 [==============================] - ETA: 0s - loss: 0.9740 - accuracy: 0.6015\n",
      "Epoch 45: val_accuracy did not improve from 0.49470\n",
      "100/100 [==============================] - 5s 51ms/step - loss: 0.9740 - accuracy: 0.6015 - val_loss: 1.3788 - val_accuracy: 0.4767\n",
      "Epoch 46/100\n",
      "100/100 [==============================] - ETA: 0s - loss: 0.9647 - accuracy: 0.6105\n",
      "Epoch 46: val_accuracy did not improve from 0.49470\n",
      "100/100 [==============================] - 5s 52ms/step - loss: 0.9647 - accuracy: 0.6105 - val_loss: 1.4168 - val_accuracy: 0.4647\n",
      "Epoch 47/100\n",
      " 99/100 [============================>.] - ETA: 0s - loss: 0.9631 - accuracy: 0.6134\n",
      "Epoch 47: val_accuracy did not improve from 0.49470\n",
      "100/100 [==============================] - 5s 52ms/step - loss: 0.9625 - accuracy: 0.6138 - val_loss: 1.3968 - val_accuracy: 0.4822\n",
      "Epoch 48/100\n",
      "100/100 [==============================] - ETA: 0s - loss: 0.9490 - accuracy: 0.6168\n",
      "Epoch 48: val_accuracy did not improve from 0.49470\n",
      "100/100 [==============================] - 5s 52ms/step - loss: 0.9490 - accuracy: 0.6168 - val_loss: 1.4141 - val_accuracy: 0.4772\n",
      "Epoch 49/100\n",
      " 99/100 [============================>.] - ETA: 0s - loss: 0.9382 - accuracy: 0.6239\n",
      "Epoch 49: val_accuracy did not improve from 0.49470\n",
      "100/100 [==============================] - 5s 52ms/step - loss: 0.9378 - accuracy: 0.6241 - val_loss: 1.4300 - val_accuracy: 0.4721\n",
      "Epoch 50/100\n",
      " 99/100 [============================>.] - ETA: 0s - loss: 0.9332 - accuracy: 0.6231\n",
      "Epoch 50: val_accuracy did not improve from 0.49470\n",
      "100/100 [==============================] - 5s 52ms/step - loss: 0.9326 - accuracy: 0.6234 - val_loss: 1.4340 - val_accuracy: 0.4684\n",
      "Epoch 51/100\n",
      " 99/100 [============================>.] - ETA: 0s - loss: 0.9280 - accuracy: 0.6281\n",
      "Epoch 51: val_accuracy did not improve from 0.49470\n",
      "100/100 [==============================] - 5s 52ms/step - loss: 0.9273 - accuracy: 0.6283 - val_loss: 1.4190 - val_accuracy: 0.4832\n",
      "Epoch 52/100\n",
      " 99/100 [============================>.] - ETA: 0s - loss: 0.9158 - accuracy: 0.6274\n",
      "Epoch 52: val_accuracy did not improve from 0.49470\n",
      "100/100 [==============================] - 5s 52ms/step - loss: 0.9150 - accuracy: 0.6279 - val_loss: 1.5216 - val_accuracy: 0.4666\n",
      "Epoch 53/100\n",
      "100/100 [==============================] - ETA: 0s - loss: 0.9179 - accuracy: 0.6337\n",
      "Epoch 53: val_accuracy did not improve from 0.49470\n",
      "100/100 [==============================] - 5s 52ms/step - loss: 0.9179 - accuracy: 0.6337 - val_loss: 1.3863 - val_accuracy: 0.4799\n",
      "Epoch 54/100\n",
      "100/100 [==============================] - ETA: 0s - loss: 0.8975 - accuracy: 0.6403\n",
      "Epoch 54: val_accuracy did not improve from 0.49470\n",
      "100/100 [==============================] - 5s 52ms/step - loss: 0.8975 - accuracy: 0.6403 - val_loss: 1.3906 - val_accuracy: 0.4924\n",
      "Epoch 55/100\n",
      " 99/100 [============================>.] - ETA: 0s - loss: 0.8886 - accuracy: 0.6441\n",
      "Epoch 55: val_accuracy did not improve from 0.49470\n",
      "100/100 [==============================] - 5s 52ms/step - loss: 0.8885 - accuracy: 0.6442 - val_loss: 1.4603 - val_accuracy: 0.4763\n",
      "Epoch 56/100\n",
      " 99/100 [============================>.] - ETA: 0s - loss: 0.8920 - accuracy: 0.6443\n",
      "Epoch 56: val_accuracy did not improve from 0.49470\n",
      "100/100 [==============================] - 5s 52ms/step - loss: 0.8912 - accuracy: 0.6444 - val_loss: 1.5062 - val_accuracy: 0.4795\n",
      "Epoch 57/100\n",
      "100/100 [==============================] - ETA: 0s - loss: 0.8823 - accuracy: 0.6469\n",
      "Epoch 57: val_accuracy did not improve from 0.49470\n",
      "100/100 [==============================] - 5s 52ms/step - loss: 0.8823 - accuracy: 0.6469 - val_loss: 1.4945 - val_accuracy: 0.4730\n",
      "Epoch 58/100\n",
      " 99/100 [============================>.] - ETA: 0s - loss: 0.8682 - accuracy: 0.6533\n",
      "Epoch 58: val_accuracy did not improve from 0.49470\n",
      "100/100 [==============================] - 5s 52ms/step - loss: 0.8677 - accuracy: 0.6535 - val_loss: 1.4952 - val_accuracy: 0.4772\n",
      "Epoch 59/100\n"
     ]
    },
    {
     "name": "stdout",
     "output_type": "stream",
     "text": [
      " 99/100 [============================>.] - ETA: 0s - loss: 0.8713 - accuracy: 0.6511\n",
      "Epoch 59: val_accuracy did not improve from 0.49470\n",
      "100/100 [==============================] - 5s 52ms/step - loss: 0.8708 - accuracy: 0.6512 - val_loss: 1.4959 - val_accuracy: 0.4855\n",
      "Epoch 60/100\n",
      "100/100 [==============================] - ETA: 0s - loss: 0.8639 - accuracy: 0.6562\n",
      "Epoch 60: val_accuracy did not improve from 0.49470\n",
      "100/100 [==============================] - 5s 52ms/step - loss: 0.8639 - accuracy: 0.6562 - val_loss: 1.4861 - val_accuracy: 0.4804\n",
      "Epoch 61/100\n",
      " 99/100 [============================>.] - ETA: 0s - loss: 0.8437 - accuracy: 0.6657\n",
      "Epoch 61: val_accuracy did not improve from 0.49470\n",
      "100/100 [==============================] - 5s 52ms/step - loss: 0.8435 - accuracy: 0.6655 - val_loss: 1.4940 - val_accuracy: 0.4744\n",
      "Epoch 62/100\n",
      "100/100 [==============================] - ETA: 0s - loss: 0.8440 - accuracy: 0.6665\n",
      "Epoch 62: val_accuracy did not improve from 0.49470\n",
      "100/100 [==============================] - 5s 52ms/step - loss: 0.8440 - accuracy: 0.6665 - val_loss: 1.4728 - val_accuracy: 0.4929\n",
      "Epoch 63/100\n",
      "100/100 [==============================] - ETA: 0s - loss: 0.8334 - accuracy: 0.6716\n",
      "Epoch 63: val_accuracy did not improve from 0.49470\n",
      "100/100 [==============================] - 5s 52ms/step - loss: 0.8334 - accuracy: 0.6716 - val_loss: 1.5616 - val_accuracy: 0.4693\n",
      "Epoch 64/100\n",
      " 99/100 [============================>.] - ETA: 0s - loss: 0.8205 - accuracy: 0.6760\n",
      "Epoch 64: val_accuracy did not improve from 0.49470\n",
      "100/100 [==============================] - 5s 52ms/step - loss: 0.8201 - accuracy: 0.6760 - val_loss: 1.5180 - val_accuracy: 0.4767\n",
      "Epoch 65/100\n",
      " 99/100 [============================>.] - ETA: 0s - loss: 0.8163 - accuracy: 0.6785\n",
      "Epoch 65: val_accuracy did not improve from 0.49470\n",
      "100/100 [==============================] - 5s 52ms/step - loss: 0.8160 - accuracy: 0.6787 - val_loss: 1.5103 - val_accuracy: 0.4818\n",
      "Epoch 66/100\n",
      " 99/100 [============================>.] - ETA: 0s - loss: 0.8220 - accuracy: 0.6751\n",
      "Epoch 66: val_accuracy did not improve from 0.49470\n",
      "100/100 [==============================] - 5s 52ms/step - loss: 0.8211 - accuracy: 0.6757 - val_loss: 1.5210 - val_accuracy: 0.4822\n",
      "Epoch 67/100\n",
      "100/100 [==============================] - ETA: 0s - loss: 0.8132 - accuracy: 0.6808\n",
      "Epoch 67: val_accuracy did not improve from 0.49470\n",
      "100/100 [==============================] - 5s 52ms/step - loss: 0.8132 - accuracy: 0.6808 - val_loss: 1.5090 - val_accuracy: 0.4822\n",
      "Epoch 68/100\n",
      "100/100 [==============================] - ETA: 0s - loss: 0.8004 - accuracy: 0.6839\n",
      "Epoch 68: val_accuracy did not improve from 0.49470\n",
      "100/100 [==============================] - 5s 51ms/step - loss: 0.8004 - accuracy: 0.6839 - val_loss: 1.5464 - val_accuracy: 0.4698\n",
      "Epoch 69/100\n",
      " 99/100 [============================>.] - ETA: 0s - loss: 0.7984 - accuracy: 0.6869\n",
      "Epoch 69: val_accuracy did not improve from 0.49470\n",
      "100/100 [==============================] - 5s 52ms/step - loss: 0.7980 - accuracy: 0.6869 - val_loss: 1.5464 - val_accuracy: 0.4730\n",
      "Epoch 70/100\n",
      "100/100 [==============================] - ETA: 0s - loss: 0.7979 - accuracy: 0.6867\n",
      "Epoch 70: val_accuracy did not improve from 0.49470\n",
      "100/100 [==============================] - 5s 51ms/step - loss: 0.7979 - accuracy: 0.6867 - val_loss: 1.5490 - val_accuracy: 0.4721\n",
      "Epoch 71/100\n",
      "100/100 [==============================] - ETA: 0s - loss: 0.7769 - accuracy: 0.6943\n",
      "Epoch 71: val_accuracy did not improve from 0.49470\n",
      "100/100 [==============================] - 5s 51ms/step - loss: 0.7769 - accuracy: 0.6943 - val_loss: 1.5735 - val_accuracy: 0.4666\n",
      "Epoch 72/100\n",
      " 99/100 [============================>.] - ETA: 0s - loss: 0.7792 - accuracy: 0.6963\n",
      "Epoch 72: val_accuracy did not improve from 0.49470\n",
      "100/100 [==============================] - 5s 52ms/step - loss: 0.7785 - accuracy: 0.6965 - val_loss: 1.5629 - val_accuracy: 0.4583\n",
      "Epoch 73/100\n",
      " 99/100 [============================>.] - ETA: 0s - loss: 0.7689 - accuracy: 0.6986\n",
      "Epoch 73: val_accuracy did not improve from 0.49470\n",
      "100/100 [==============================] - 5s 52ms/step - loss: 0.7684 - accuracy: 0.6991 - val_loss: 1.5920 - val_accuracy: 0.4657\n",
      "Epoch 74/100\n",
      "100/100 [==============================] - ETA: 0s - loss: 0.7571 - accuracy: 0.7063\n",
      "Epoch 74: val_accuracy did not improve from 0.49470\n",
      "100/100 [==============================] - 5s 52ms/step - loss: 0.7571 - accuracy: 0.7063 - val_loss: 1.6439 - val_accuracy: 0.4610\n",
      "Epoch 75/100\n",
      "100/100 [==============================] - ETA: 0s - loss: 0.7560 - accuracy: 0.7077\n",
      "Epoch 75: val_accuracy did not improve from 0.49470\n",
      "100/100 [==============================] - 5s 51ms/step - loss: 0.7560 - accuracy: 0.7077 - val_loss: 1.6225 - val_accuracy: 0.4661\n",
      "Epoch 76/100\n",
      " 99/100 [============================>.] - ETA: 0s - loss: 0.7528 - accuracy: 0.7104\n",
      "Epoch 76: val_accuracy did not improve from 0.49470\n",
      "100/100 [==============================] - 5s 52ms/step - loss: 0.7517 - accuracy: 0.7109 - val_loss: 1.5992 - val_accuracy: 0.4680\n",
      "Epoch 77/100\n",
      " 99/100 [============================>.] - ETA: 0s - loss: 0.7476 - accuracy: 0.7081\n",
      "Epoch 77: val_accuracy did not improve from 0.49470\n",
      "100/100 [==============================] - 5s 52ms/step - loss: 0.7472 - accuracy: 0.7084 - val_loss: 1.5855 - val_accuracy: 0.4661\n",
      "Epoch 78/100\n",
      " 99/100 [============================>.] - ETA: 0s - loss: 0.7447 - accuracy: 0.7105\n",
      "Epoch 78: val_accuracy did not improve from 0.49470\n",
      "100/100 [==============================] - 5s 52ms/step - loss: 0.7438 - accuracy: 0.7109 - val_loss: 1.6236 - val_accuracy: 0.4763\n",
      "Epoch 79/100\n",
      " 99/100 [============================>.] - ETA: 0s - loss: 0.7375 - accuracy: 0.7111\n",
      "Epoch 79: val_accuracy did not improve from 0.49470\n",
      "100/100 [==============================] - 5s 51ms/step - loss: 0.7366 - accuracy: 0.7115 - val_loss: 1.6360 - val_accuracy: 0.4712\n",
      "Epoch 80/100\n",
      " 99/100 [============================>.] - ETA: 0s - loss: 0.7330 - accuracy: 0.7162\n",
      "Epoch 80: val_accuracy did not improve from 0.49470\n",
      "100/100 [==============================] - 5s 52ms/step - loss: 0.7325 - accuracy: 0.7164 - val_loss: 1.6478 - val_accuracy: 0.4657\n",
      "Epoch 81/100\n",
      " 99/100 [============================>.] - ETA: 0s - loss: 0.7253 - accuracy: 0.7205\n",
      "Epoch 81: val_accuracy did not improve from 0.49470\n",
      "100/100 [==============================] - 5s 52ms/step - loss: 0.7247 - accuracy: 0.7207 - val_loss: 1.6419 - val_accuracy: 0.4716\n",
      "Epoch 82/100\n",
      " 99/100 [============================>.] - ETA: 0s - loss: 0.7164 - accuracy: 0.7246\n",
      "Epoch 82: val_accuracy did not improve from 0.49470\n",
      "100/100 [==============================] - 5s 52ms/step - loss: 0.7158 - accuracy: 0.7249 - val_loss: 1.6055 - val_accuracy: 0.4712\n",
      "Epoch 83/100\n",
      "100/100 [==============================] - ETA: 0s - loss: 0.7145 - accuracy: 0.7279\n",
      "Epoch 83: val_accuracy did not improve from 0.49470\n",
      "100/100 [==============================] - 5s 52ms/step - loss: 0.7145 - accuracy: 0.7279 - val_loss: 1.6441 - val_accuracy: 0.4735\n",
      "Epoch 84/100\n",
      " 99/100 [============================>.] - ETA: 0s - loss: 0.7046 - accuracy: 0.7289\n",
      "Epoch 84: val_accuracy did not improve from 0.49470\n",
      "100/100 [==============================] - 5s 52ms/step - loss: 0.7041 - accuracy: 0.7290 - val_loss: 1.6253 - val_accuracy: 0.4716\n",
      "Epoch 85/100\n",
      " 99/100 [============================>.] - ETA: 0s - loss: 0.7109 - accuracy: 0.7270\n",
      "Epoch 85: val_accuracy did not improve from 0.49470\n",
      "100/100 [==============================] - 5s 52ms/step - loss: 0.7105 - accuracy: 0.7272 - val_loss: 1.5944 - val_accuracy: 0.4850\n",
      "Epoch 86/100\n",
      "100/100 [==============================] - ETA: 0s - loss: 0.6976 - accuracy: 0.7335\n",
      "Epoch 86: val_accuracy did not improve from 0.49470\n",
      "100/100 [==============================] - 5s 52ms/step - loss: 0.6976 - accuracy: 0.7335 - val_loss: 1.6243 - val_accuracy: 0.4786\n",
      "Epoch 87/100\n",
      " 99/100 [============================>.] - ETA: 0s - loss: 0.6950 - accuracy: 0.7330\n",
      "Epoch 87: val_accuracy did not improve from 0.49470\n",
      "100/100 [==============================] - 5s 52ms/step - loss: 0.6943 - accuracy: 0.7333 - val_loss: 1.6316 - val_accuracy: 0.4818\n",
      "Epoch 88/100\n"
     ]
    },
    {
     "name": "stdout",
     "output_type": "stream",
     "text": [
      " 99/100 [============================>.] - ETA: 0s - loss: 0.6885 - accuracy: 0.7348\n",
      "Epoch 88: val_accuracy did not improve from 0.49470\n",
      "100/100 [==============================] - 5s 52ms/step - loss: 0.6881 - accuracy: 0.7350 - val_loss: 1.6343 - val_accuracy: 0.4767\n",
      "Epoch 89/100\n",
      "100/100 [==============================] - ETA: 0s - loss: 0.6736 - accuracy: 0.7411\n",
      "Epoch 89: val_accuracy did not improve from 0.49470\n",
      "100/100 [==============================] - 5s 52ms/step - loss: 0.6736 - accuracy: 0.7411 - val_loss: 1.6682 - val_accuracy: 0.4730\n",
      "Epoch 90/100\n",
      "100/100 [==============================] - ETA: 0s - loss: 0.6730 - accuracy: 0.7459\n",
      "Epoch 90: val_accuracy did not improve from 0.49470\n",
      "100/100 [==============================] - 5s 52ms/step - loss: 0.6730 - accuracy: 0.7459 - val_loss: 1.6596 - val_accuracy: 0.4712\n",
      "Epoch 91/100\n",
      " 99/100 [============================>.] - ETA: 0s - loss: 0.6696 - accuracy: 0.7461\n",
      "Epoch 91: val_accuracy did not improve from 0.49470\n",
      "100/100 [==============================] - 5s 51ms/step - loss: 0.6684 - accuracy: 0.7468 - val_loss: 1.6689 - val_accuracy: 0.4772\n",
      "Epoch 92/100\n",
      " 99/100 [============================>.] - ETA: 0s - loss: 0.6720 - accuracy: 0.7447\n",
      "Epoch 92: val_accuracy did not improve from 0.49470\n",
      "100/100 [==============================] - 5s 52ms/step - loss: 0.6715 - accuracy: 0.7448 - val_loss: 1.6521 - val_accuracy: 0.4744\n",
      "Epoch 93/100\n",
      " 99/100 [============================>.] - ETA: 0s - loss: 0.6650 - accuracy: 0.7484\n",
      "Epoch 93: val_accuracy did not improve from 0.49470\n",
      "100/100 [==============================] - 5s 52ms/step - loss: 0.6641 - accuracy: 0.7488 - val_loss: 1.6864 - val_accuracy: 0.4790\n",
      "Epoch 94/100\n",
      " 99/100 [============================>.] - ETA: 0s - loss: 0.6571 - accuracy: 0.7503\n",
      "Epoch 94: val_accuracy did not improve from 0.49470\n",
      "100/100 [==============================] - 5s 52ms/step - loss: 0.6563 - accuracy: 0.7505 - val_loss: 1.6930 - val_accuracy: 0.4698\n",
      "Epoch 95/100\n",
      "100/100 [==============================] - ETA: 0s - loss: 0.6453 - accuracy: 0.7565\n",
      "Epoch 95: val_accuracy did not improve from 0.49470\n",
      "100/100 [==============================] - 5s 52ms/step - loss: 0.6453 - accuracy: 0.7565 - val_loss: 1.6795 - val_accuracy: 0.4735\n",
      "Epoch 96/100\n",
      " 99/100 [============================>.] - ETA: 0s - loss: 0.6413 - accuracy: 0.7549\n",
      "Epoch 96: val_accuracy did not improve from 0.49470\n",
      "100/100 [==============================] - 5s 52ms/step - loss: 0.6409 - accuracy: 0.7551 - val_loss: 1.7126 - val_accuracy: 0.4781\n",
      "Epoch 97/100\n",
      " 99/100 [============================>.] - ETA: 0s - loss: 0.6331 - accuracy: 0.7612\n",
      "Epoch 97: val_accuracy did not improve from 0.49470\n",
      "100/100 [==============================] - 5s 52ms/step - loss: 0.6322 - accuracy: 0.7616 - val_loss: 1.6759 - val_accuracy: 0.4730\n",
      "Epoch 98/100\n",
      " 99/100 [============================>.] - ETA: 0s - loss: 0.6361 - accuracy: 0.7601\n",
      "Epoch 98: val_accuracy did not improve from 0.49470\n",
      "100/100 [==============================] - 5s 52ms/step - loss: 0.6354 - accuracy: 0.7605 - val_loss: 1.6839 - val_accuracy: 0.4804\n",
      "Epoch 99/100\n",
      " 99/100 [============================>.] - ETA: 0s - loss: 0.6270 - accuracy: 0.7622\n",
      "Epoch 99: val_accuracy did not improve from 0.49470\n",
      "100/100 [==============================] - 5s 52ms/step - loss: 0.6268 - accuracy: 0.7623 - val_loss: 1.7039 - val_accuracy: 0.4753\n",
      "Epoch 100/100\n",
      " 99/100 [============================>.] - ETA: 0s - loss: 0.6254 - accuracy: 0.7627\n",
      "Epoch 100: val_accuracy did not improve from 0.49470\n",
      "100/100 [==============================] - 5s 52ms/step - loss: 0.6244 - accuracy: 0.7633 - val_loss: 1.7461 - val_accuracy: 0.4809\n"
     ]
    }
   ],
   "source": [
    "model = get_compiled_model()\n",
    "history = model.fit(train_dataset, batch_size=batch_size, epochs=epochs, \\\n",
    "                        validation_data=val_dataset, verbose=1, callbacks = [my_callback])"
   ]
  },
  {
   "cell_type": "code",
   "execution_count": 27,
   "metadata": {},
   "outputs": [],
   "source": [
    "# Creates the base model \n",
    "new_model = get_compiled_model()"
   ]
  },
  {
   "cell_type": "code",
   "execution_count": 28,
   "metadata": {},
   "outputs": [
    {
     "name": "stdout",
     "output_type": "stream",
     "text": [
      "12/12 [==============================] - 2s 29ms/step - loss: 4.1626 - accuracy: 0.0350\n"
     ]
    },
    {
     "data": {
      "text/plain": [
       "[4.162576675415039, 0.0350230410695076]"
      ]
     },
     "execution_count": 28,
     "metadata": {},
     "output_type": "execute_result"
    }
   ],
   "source": [
    "# The base model only gets about ~20% accuracy as it is not trained at all \n",
    "# This is to show that the base model before loading the weights is not trained\n",
    "# and its accuracy is not good.\n",
    "new_model.evaluate(X_test, y_test, batch_size=batch_size)"
   ]
  },
  {
   "cell_type": "code",
   "execution_count": 29,
   "metadata": {},
   "outputs": [
    {
     "name": "stdout",
     "output_type": "stream",
     "text": [
      "model_weights/weights.epoch:[21]-val_acc:[0.49].hdf5\n"
     ]
    }
   ],
   "source": [
    "# This loads the weights of the model that was saved at a certain epoch and val_accuracy\n",
    "epoch = np.argmax(history.history['val_accuracy'])\n",
    "val_accuracy = history.history['val_accuracy'][epoch]\n",
    "epoch = epoch+1\n",
    "\n",
    "path = f\"model_weights/weights.epoch:[{epoch:02d}]-val_acc:[{val_accuracy:.2f}].hdf5\"\n",
    "print(path)\n",
    "new_model.load_weights(path)"
   ]
  },
  {
   "cell_type": "code",
   "execution_count": 30,
   "metadata": {},
   "outputs": [
    {
     "name": "stdout",
     "output_type": "stream",
     "text": [
      "12/12 [==============================] - 0s 30ms/step - loss: 1.3568 - accuracy: 0.4719\n",
      "loss: 1.3568, accuracy: 0.4719\n"
     ]
    }
   ],
   "source": [
    "# After loading the weights of a previously trained model, the accuracy matches the\n",
    "# best version of the model that the checkpoints were saved from\n",
    "loss, acc = new_model.evaluate(X_test, y_test, batch_size=batch_size)\n",
    "print(f'loss: {loss:.4f}, accuracy: {acc:.4f}')"
   ]
  },
  {
   "cell_type": "code",
   "execution_count": 31,
   "metadata": {},
   "outputs": [
    {
     "name": "stdout",
     "output_type": "stream",
     "text": [
      "12/12 [==============================] - 0s 31ms/step - loss: 1.7385 - accuracy: 0.4631\n",
      "loss: 1.7385, accuracy: 0.4631\n"
     ]
    }
   ],
   "source": [
    "# This is to show that the accuracy is higher than the the last epoch of the model with loaded weights.\n",
    "loss, acc = model.evaluate(X_test, y_test, batch_size=batch_size)\n",
    "print(f'loss: {loss:.4f}, accuracy: {acc:.4f}')"
   ]
  },
  {
   "cell_type": "markdown",
   "metadata": {},
   "source": [
    "### Training Plots"
   ]
  },
  {
   "cell_type": "code",
   "execution_count": 32,
   "metadata": {
    "scrolled": true
   },
   "outputs": [
    {
     "data": {
      "text/plain": [
       "0.7632627487182617"
      ]
     },
     "execution_count": 32,
     "metadata": {},
     "output_type": "execute_result"
    },
    {
     "data": {
      "image/png": "[encoded data removed]",
      "text/plain": [
       "<Figure size 432x288 with 1 Axes>"
      ]
     },
     "metadata": {
      "needs_background": "light"
     },
     "output_type": "display_data"
    }
   ],
   "source": [
    "plt.title('Accuracy')\n",
    "plt.xlabel('Epochs')\n",
    "plt.ylabel('Accuracy')\n",
    "plt.plot(history.history['accuracy'], label='Train Accuracy')\n",
    "plt.plot(history.history['val_accuracy'], label='Validation Accuracy')\n",
    "plt.legend()\n",
    "\n",
    "history.history['accuracy'][np.argmax(history.history['accuracy'])]"
   ]
  },
  {
   "cell_type": "code",
   "execution_count": 33,
   "metadata": {
    "scrolled": true
   },
   "outputs": [
    {
     "data": {
      "text/plain": [
       "2.3569395542144775"
      ]
     },
     "execution_count": 33,
     "metadata": {},
     "output_type": "execute_result"
    },
    {
     "data": {
      "image/png": "[encoded data removed]",
      "text/plain": [
       "<Figure size 432x288 with 1 Axes>"
      ]
     },
     "metadata": {
      "needs_background": "light"
     },
     "output_type": "display_data"
    }
   ],
   "source": [
    "plt.title('Loss')\n",
    "plt.xlabel('Epochs')\n",
    "plt.ylabel('Loss')\n",
    "#plt.axis([75, 200, 1.2, 2.2])\n",
    "plt.plot(history.history['loss'], label='Train Loss')\n",
    "plt.plot(history.history['val_loss'], label='Validation Loss')\n",
    "plt.legend()\n",
    "\n",
    "history.history['loss'][np.argmax(history.history['loss'])]"
   ]
  },
  {
   "cell_type": "code",
   "execution_count": 34,
   "metadata": {
    "scrolled": true
   },
   "outputs": [
    {
     "name": "stdout",
     "output_type": "stream",
     "text": [
      "100.0\n"
     ]
    },
    {
     "data": {
      "text/plain": [
       "<matplotlib.legend.Legend at 0x7fd99c069d30>"
      ]
     },
     "execution_count": 34,
     "metadata": {},
     "output_type": "execute_result"
    },
    {
     "data": {
      "image/png": "[encoded data removed]",
      "text/plain": [
       "<Figure size 432x288 with 1 Axes>"
      ]
     },
     "metadata": {
      "needs_background": "light"
     },
     "output_type": "display_data"
    }
   ],
   "source": [
    "learning_rate = CustomSchedule(d_model)\n",
    "steps_per_epoch = np.ceil((np.shape(X_train)[0]/batch_size))\n",
    "print(steps_per_epoch)\n",
    "lr = np.array([])\n",
    "for i in range(1, np.maximum(epochs+10, 30)):\n",
    "    lr = np.append(lr, learning_rate.__call__(i*steps_per_epoch))\n",
    "plt.title('Learning Rate')\n",
    "plt.xlabel('Epoch')\n",
    "plt.ylabel('Learning Rate')\n",
    "plt.plot(lr, label='Learning Rate')\n",
    "plt.legend()\n"
   ]
  },
  {
   "cell_type": "markdown",
   "metadata": {},
   "source": [
    "### Model Evaluation"
   ]
  },
  {
   "cell_type": "code",
   "execution_count": 35,
   "metadata": {},
   "outputs": [
    {
     "name": "stdout",
     "output_type": "stream",
     "text": [
      "best epoch: 21, loss: 1.1932, accuracy: 0.4998, val_loss: 1.3302, val_accuracy: 0.4947\n"
     ]
    }
   ],
   "source": [
    "epoch = np.argmax(history.history['val_accuracy'])\n",
    "loss = history.history['loss'][epoch]\n",
    "accuracy = history.history['accuracy'][epoch]\n",
    "val_loss = history.history['val_loss'][epoch]\n",
    "val_accuracy = history.history['val_accuracy'][epoch]\n",
    "epoch += 1\n",
    "\n",
    "print(f'best epoch: {epoch}, loss: {loss:.4f}, accuracy: {accuracy:.4f}, val_loss: {val_loss:.4f}, val_accuracy: {val_accuracy:.4f}')"
   ]
  },
  {
   "cell_type": "code",
   "execution_count": 36,
   "metadata": {},
   "outputs": [
    {
     "name": "stdout",
     "output_type": "stream",
     "text": [
      "model_weights/weights.epoch:[21]-val_acc:[0.49].hdf5\n"
     ]
    }
   ],
   "source": [
    "path = f\"model_weights/weights.epoch:[{epoch:02d}]-val_acc:[{val_accuracy:.2f}].hdf5\"\n",
    "print(path)\n",
    "test_model = get_compiled_model()\n",
    "test_model.build((19072,22))\n",
    "test_model.load_weights(path)"
   ]
  },
  {
   "cell_type": "code",
   "execution_count": 37,
   "metadata": {
    "scrolled": false
   },
   "outputs": [
    {
     "name": "stdout",
     "output_type": "stream",
     "text": [
      "68/68 [==============================] - 1s 11ms/step\n"
     ]
    }
   ],
   "source": [
    "pred = test_model.predict(X_test)"
   ]
  },
  {
   "cell_type": "code",
   "execution_count": 38,
   "metadata": {},
   "outputs": [],
   "source": [
    "def norm_cm(cm):\n",
    "    return np.array([cm[i] / np.sum(cm[i]) for i in range(len(cm))])\n",
    "def un_norm_cm(norm_cm):\n",
    "    np.array([\n",
    "        cm[i] / np.sum(cm[i]) for i in range(len(cm))\n",
    "    ])\n",
    "    \n",
    "def accuracy(cm):\n",
    "    return cm.diagonal().sum() / cm.sum()\n",
    "def top_1_accuracy(cm):\n",
    "    return (cm.diagonal(-1).sum() + cm.diagonal(0).sum() + cm.diagonal(1).sum()) / cm.sum()\n",
    "def top_2_accuracy(cm):\n",
    "    return (cm.diagonal(-2).sum() + cm.diagonal(-1).sum() + cm.diagonal(0).sum() + cm.diagonal(1).sum() +\n",
    "                 cm.diagonal(2).sum()) / cm.sum()"
   ]
  },
  {
   "cell_type": "code",
   "execution_count": 39,
   "metadata": {},
   "outputs": [
    {
     "name": "stdout",
     "output_type": "stream",
     "text": [
      "accuracy 0.471889400921659\n",
      "+-1 accuracy 0.8073732718894009\n",
      "+-2 accuracy 0.9447004608294931\n"
     ]
    }
   ],
   "source": [
    "cm = confusion_matrix(y_test, np.argmax(pred, axis=1))\n",
    "normalized_cm = norm_cm(cm)\n",
    "print('accuracy', accuracy(cm))\n",
    "print('+-1 accuracy', top_1_accuracy(cm))\n",
    "print('+-2 accuracy', top_2_accuracy(cm))"
   ]
  },
  {
   "cell_type": "markdown",
   "metadata": {},
   "source": [
    "Heatmap"
   ]
  },
  {
   "cell_type": "code",
   "execution_count": 40,
   "metadata": {
    "scrolled": false
   },
   "outputs": [
    {
     "data": {
      "text/plain": [
       "<AxesSubplot:>"
      ]
     },
     "execution_count": 40,
     "metadata": {},
     "output_type": "execute_result"
    },
    {
     "data": {
      "image/png": "[encoded data removed]",
      "text/plain": [
       "<Figure size 432x288 with 2 Axes>"
      ]
     },
     "metadata": {
      "needs_background": "light"
     },
     "output_type": "display_data"
    }
   ],
   "source": [
    "sns.heatmap(cm, xticklabels=range(2, 11), yticklabels=range(2, 11), annot=True, fmt='g', square=True)"
   ]
  },
  {
   "cell_type": "markdown",
   "metadata": {},
   "source": [
    "Normalized Heatmap"
   ]
  },
  {
   "cell_type": "code",
   "execution_count": 41,
   "metadata": {
    "scrolled": false
   },
   "outputs": [
    {
     "data": {
      "text/plain": [
       "<AxesSubplot:>"
      ]
     },
     "execution_count": 41,
     "metadata": {},
     "output_type": "execute_result"
    },
    {
     "data": {
      "image/png": "[encoded data removed]",
      "text/plain": [
       "<Figure size 432x288 with 2 Axes>"
      ]
     },
     "metadata": {
      "needs_background": "light"
     },
     "output_type": "display_data"
    }
   ],
   "source": [
    "sns.heatmap(normalized_cm, xticklabels=range(2, 11), yticklabels=range(2, 11), annot=True, fmt='.2f', square=True)"
   ]
  },
  {
   "cell_type": "code",
   "execution_count": null,
   "metadata": {},
   "outputs": [],
   "source": []
  }
 ],
 "metadata": {
  "kernelspec": {
   "display_name": "Python 3 (ipykernel)",
   "language": "python",
   "name": "python3"
  },
  "language_info": {
   "codemirror_mode": {
    "name": "ipython",
    "version": 3
   },
   "file_extension": ".py",
   "mimetype": "text/x-python",
   "name": "python",
   "nbconvert_exporter": "python",
   "pygments_lexer": "ipython3",
   "version": "3.8.10"
  },
  "vscode": {
   "interpreter": {
    "hash": "11938c6bc6919ae2720b4d5011047913343b08a43b18698fd82dedb0d4417594"
   }
  }
 },
 "nbformat": 4,
 "nbformat_minor": 2
}
