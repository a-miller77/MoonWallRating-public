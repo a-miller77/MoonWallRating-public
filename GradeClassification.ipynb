{
 "cells": [
  {
   "cell_type": "code",
   "execution_count": 2,
   "metadata": {
    "scrolled": true
   },
   "outputs": [],
   "source": [
    "from sklearn.metrics import confusion_matrix\n",
    "from sklearn.utils import class_weight\n",
    "from preprocessing import vocab_size\n",
    "import matplotlib.pyplot as plt\n",
    "from tensorflow import keras\n",
    "from model_definition import *\n",
    "import tensorflow as tf\n",
    "import seaborn as sns\n",
    "import pandas as pd\n",
    "import numpy as np\n",
    "import pickle"
   ]
  },
  {
   "cell_type": "markdown",
   "metadata": {},
   "source": [
    "### Import the Data"
   ]
  },
  {
   "cell_type": "markdown",
   "metadata": {},
   "source": [
    "Load in different data splits from files"
   ]
  },
  {
   "cell_type": "code",
   "execution_count": 3,
   "metadata": {},
   "outputs": [],
   "source": [
    "with open('./data/train_preprocessed_routes', 'rb') as f:\n",
    "    X_train, y_train = pickle.load(f).values()\n",
    "with open('./data/test_preprocessed_routes', 'rb') as f:\n",
    "    X_test, y_test = pickle.load(f).values()\n",
    "with open('./data/val_preprocessed_routes', 'rb') as f:\n",
    "    X_val, y_val = pickle.load(f).values()"
   ]
  },
  {
   "cell_type": "markdown",
   "metadata": {},
   "source": [
    "Mask Grade with CLS token"
   ]
  },
  {
   "cell_type": "code",
   "execution_count": 4,
   "metadata": {},
   "outputs": [],
   "source": [
    "X_train[:, 0] = 3\n",
    "X_test[:, 0] = 3\n",
    "X_val[:, 0] = 3"
   ]
  },
  {
   "cell_type": "code",
   "execution_count": 5,
   "metadata": {},
   "outputs": [
    {
     "data": {
      "text/plain": [
       "(19076, 22)"
      ]
     },
     "execution_count": 5,
     "metadata": {},
     "output_type": "execute_result"
    }
   ],
   "source": [
    "np.shape(X_train)"
   ]
  },
  {
   "cell_type": "code",
   "execution_count": 6,
   "metadata": {},
   "outputs": [
    {
     "data": {
      "text/plain": [
       "array([  3,   5,   7,  75,  74, 106, 128, 170, 183, 215,   0,   0,   0,\n",
       "         0,   0,   0,   0,   0,   0,   0,   0,   0])"
      ]
     },
     "execution_count": 6,
     "metadata": {},
     "output_type": "execute_result"
    }
   ],
   "source": [
    "X_train[0]"
   ]
  },
  {
   "cell_type": "markdown",
   "metadata": {},
   "source": [
    "### Model Training"
   ]
  },
  {
   "cell_type": "code",
   "execution_count": 9,
   "metadata": {},
   "outputs": [],
   "source": [
    "num_layers = 3\n",
    "d_model = 128\n",
    "dff = 736\n",
    "num_heads = 8\n",
    "dropout_rate = 0.2\n",
    "epochs = 100\n",
    "warmup_steps = 3250\n",
    "\n",
    "num_classes = len(np.unique(y_train))\n",
    "batch_size = 64\n",
    "class_weights = class_weight.compute_class_weight(class_weight='balanced',\n",
    "                                                  classes=np.unique(y_train),\n",
    "                                                  y=y_train) \n",
    "class_weights=dict(zip(np.unique(y_train), class_weights))"
   ]
  },
  {
   "cell_type": "code",
   "execution_count": 10,
   "metadata": {
    "scrolled": false
   },
   "outputs": [],
   "source": [
    "train_dataset = tf.data.Dataset.from_tensor_slices((X_train, y_train)).batch(batch_size)\n",
    "val_dataset = tf.data.Dataset.from_tensor_slices((X_val, y_val)).batch(batch_size)"
   ]
  },
  {
   "cell_type": "code",
   "execution_count": 11,
   "metadata": {},
   "outputs": [],
   "source": [
    "def get_compiled_model():    \n",
    "    learning_rate = CustomSchedule(d_model, warmup_steps=warmup_steps)\n",
    "        \n",
    "    optimizer = tf.keras.optimizers.Adam(learning_rate, beta_1=0.79, beta_2=0.98, epsilon=6.36e-8)\n",
    "    \n",
    "    model = EncoderClassifier(\n",
    "        num_layers=num_layers,\n",
    "        d_model=d_model,\n",
    "        num_heads=num_heads,\n",
    "        dff=dff,\n",
    "        vocab_size=vocab_size,\n",
    "        num_classes=num_classes,\n",
    "        dropout_rate=dropout_rate,\n",
    "        activation='relu'\n",
    "    )\n",
    "    \n",
    "    model.compile(\n",
    "            loss=tf.keras.losses.SparseCategoricalCrossentropy(),\n",
    "            optimizer=optimizer,\n",
    "            metrics=['accuracy'])\n",
    "    \n",
    "    return model"
   ]
  },
  {
   "cell_type": "code",
   "execution_count": 12,
   "metadata": {},
   "outputs": [],
   "source": [
    "import os\n",
    "checkpoint_path = \"model_weights/weights.epoch:[{epoch:02d}]-val_acc:[{val_accuracy:.2f}].hdf5\"\n",
    "checkpoint_dir = os.path.dirname(checkpoint_path)\n",
    "my_callback = tf.keras.callbacks.ModelCheckpoint(\n",
    "            checkpoint_path, \n",
    "            save_weights_only=True,\n",
    "            monitor='val_accuracy',\n",
    "            save_best_only=True,\n",
    "            initial_value_threshold=0.47,\n",
    "            verbose=1)"
   ]
  },
  {
   "cell_type": "code",
   "execution_count": 13,
   "metadata": {
    "scrolled": true
   },
   "outputs": [
    {
     "name": "stdout",
     "output_type": "stream",
     "text": [
      "Epoch 1/100\n"
     ]
    },
    {
     "name": "stderr",
     "output_type": "stream",
     "text": [
      "2023-03-17 23:41:41.691227: I tensorflow/compiler/xla/stream_executor/cuda/cuda_dnn.cc:428] Loaded cuDNN version 8401\n",
      "2023-03-17 23:41:41.777642: I tensorflow/compiler/xla/service/service.cc:173] XLA service 0x287a05d0 initialized for platform CUDA (this does not guarantee that XLA will be used). Devices:\n",
      "2023-03-17 23:41:41.777711: I tensorflow/compiler/xla/service/service.cc:181]   StreamExecutor device (0): Tesla T4, Compute Capability 7.5\n",
      "2023-03-17 23:41:41.777729: I tensorflow/compiler/xla/service/service.cc:181]   StreamExecutor device (1): Tesla T4, Compute Capability 7.5\n",
      "2023-03-17 23:41:41.788988: I tensorflow/compiler/mlir/tensorflow/utils/dump_mlir_util.cc:268] disabling MLIR crash reproducer, set env var `MLIR_CRASH_REPRODUCER_DIRECTORY` to enable.\n",
      "2023-03-17 23:41:41.904697: I tensorflow/compiler/jit/xla_compilation_cache.cc:477] Compiled cluster using XLA!  This line is logged at most once for the lifetime of the process.\n"
     ]
    },
    {
     "name": "stdout",
     "output_type": "stream",
     "text": [
      "299/299 [==============================] - ETA: 0s - loss: 1.9686 - accuracy: 0.2352\n",
      "Epoch 1: val_accuracy did not improve from 0.47000\n",
      "299/299 [==============================] - 20s 38ms/step - loss: 1.9686 - accuracy: 0.2352 - val_loss: 1.4791 - val_accuracy: 0.4292\n",
      "Epoch 2/100\n",
      "298/299 [============================>.] - ETA: 0s - loss: 1.4790 - accuracy: 0.3773\n",
      "Epoch 2: val_accuracy did not improve from 0.47000\n",
      "299/299 [==============================] - 7s 22ms/step - loss: 1.4791 - accuracy: 0.3773 - val_loss: 1.3476 - val_accuracy: 0.4500\n",
      "Epoch 3/100\n",
      "298/299 [============================>.] - ETA: 0s - loss: 1.4072 - accuracy: 0.4028\n",
      "Epoch 3: val_accuracy did not improve from 0.47000\n",
      "299/299 [==============================] - 7s 22ms/step - loss: 1.4072 - accuracy: 0.4028 - val_loss: 1.5167 - val_accuracy: 0.3887\n",
      "Epoch 4/100\n",
      "298/299 [============================>.] - ETA: 0s - loss: 1.3788 - accuracy: 0.4047\n",
      "Epoch 4: val_accuracy did not improve from 0.47000\n",
      "299/299 [==============================] - 7s 22ms/step - loss: 1.3787 - accuracy: 0.4047 - val_loss: 1.3625 - val_accuracy: 0.4647\n",
      "Epoch 5/100\n",
      "297/299 [============================>.] - ETA: 0s - loss: 1.3607 - accuracy: 0.4171\n",
      "Epoch 5: val_accuracy did not improve from 0.47000\n",
      "299/299 [==============================] - 7s 23ms/step - loss: 1.3606 - accuracy: 0.4172 - val_loss: 1.3144 - val_accuracy: 0.4394\n",
      "Epoch 6/100\n",
      "298/299 [============================>.] - ETA: 0s - loss: 1.3481 - accuracy: 0.4301\n",
      "Epoch 6: val_accuracy did not improve from 0.47000\n",
      "299/299 [==============================] - 7s 22ms/step - loss: 1.3480 - accuracy: 0.4301 - val_loss: 1.2767 - val_accuracy: 0.4666\n",
      "Epoch 7/100\n",
      "298/299 [============================>.] - ETA: 0s - loss: 1.3349 - accuracy: 0.4305\n",
      "Epoch 7: val_accuracy improved from 0.47000 to 0.47441, saving model to model_weights/weights.epoch:[07]-val_acc:[0.47].hdf5\n",
      "299/299 [==============================] - 7s 22ms/step - loss: 1.3349 - accuracy: 0.4306 - val_loss: 1.2946 - val_accuracy: 0.4744\n",
      "Epoch 8/100\n",
      "298/299 [============================>.] - ETA: 0s - loss: 1.3303 - accuracy: 0.4372\n",
      "Epoch 8: val_accuracy did not improve from 0.47441\n",
      "299/299 [==============================] - 7s 22ms/step - loss: 1.3303 - accuracy: 0.4371 - val_loss: 1.2923 - val_accuracy: 0.4670\n",
      "Epoch 9/100\n",
      "298/299 [============================>.] - ETA: 0s - loss: 1.3141 - accuracy: 0.4357\n",
      "Epoch 9: val_accuracy did not improve from 0.47441\n",
      "299/299 [==============================] - 7s 22ms/step - loss: 1.3141 - accuracy: 0.4357 - val_loss: 1.3063 - val_accuracy: 0.4624\n",
      "Epoch 10/100\n",
      "297/299 [============================>.] - ETA: 0s - loss: 1.3040 - accuracy: 0.4403\n",
      "Epoch 10: val_accuracy did not improve from 0.47441\n",
      "299/299 [==============================] - 7s 22ms/step - loss: 1.3041 - accuracy: 0.4403 - val_loss: 1.2865 - val_accuracy: 0.4698\n",
      "Epoch 11/100\n",
      "298/299 [============================>.] - ETA: 0s - loss: 1.2794 - accuracy: 0.4502\n",
      "Epoch 11: val_accuracy improved from 0.47441 to 0.47948, saving model to model_weights/weights.epoch:[11]-val_acc:[0.48].hdf5\n",
      "299/299 [==============================] - 7s 22ms/step - loss: 1.2794 - accuracy: 0.4501 - val_loss: 1.2868 - val_accuracy: 0.4795\n",
      "Epoch 12/100\n",
      "298/299 [============================>.] - ETA: 0s - loss: 1.2588 - accuracy: 0.4572\n",
      "Epoch 12: val_accuracy did not improve from 0.47948\n",
      "299/299 [==============================] - 7s 22ms/step - loss: 1.2587 - accuracy: 0.4572 - val_loss: 1.3744 - val_accuracy: 0.4564\n",
      "Epoch 13/100\n",
      "298/299 [============================>.] - ETA: 0s - loss: 1.2418 - accuracy: 0.4662\n",
      "Epoch 13: val_accuracy did not improve from 0.47948\n",
      "299/299 [==============================] - 7s 22ms/step - loss: 1.2418 - accuracy: 0.4662 - val_loss: 1.3208 - val_accuracy: 0.4716\n",
      "Epoch 14/100\n",
      "298/299 [============================>.] - ETA: 0s - loss: 1.2145 - accuracy: 0.4770\n",
      "Epoch 14: val_accuracy did not improve from 0.47948\n",
      "299/299 [==============================] - 7s 23ms/step - loss: 1.2145 - accuracy: 0.4771 - val_loss: 1.2933 - val_accuracy: 0.4763\n",
      "Epoch 15/100\n",
      "298/299 [============================>.] - ETA: 0s - loss: 1.1856 - accuracy: 0.4878\n",
      "Epoch 15: val_accuracy improved from 0.47948 to 0.49331, saving model to model_weights/weights.epoch:[15]-val_acc:[0.49].hdf5\n",
      "299/299 [==============================] - 7s 23ms/step - loss: 1.1856 - accuracy: 0.4878 - val_loss: 1.2945 - val_accuracy: 0.4933\n",
      "Epoch 16/100\n",
      "297/299 [============================>.] - ETA: 0s - loss: 1.1596 - accuracy: 0.4977\n",
      "Epoch 16: val_accuracy did not improve from 0.49331\n",
      "299/299 [==============================] - 7s 22ms/step - loss: 1.1596 - accuracy: 0.4975 - val_loss: 1.3194 - val_accuracy: 0.4822\n",
      "Epoch 17/100\n",
      "298/299 [============================>.] - ETA: 0s - loss: 1.1479 - accuracy: 0.5004\n",
      "Epoch 17: val_accuracy did not improve from 0.49331\n",
      "299/299 [==============================] - 7s 22ms/step - loss: 1.1479 - accuracy: 0.5005 - val_loss: 1.3522 - val_accuracy: 0.4822\n",
      "Epoch 18/100\n",
      "297/299 [============================>.] - ETA: 0s - loss: 1.1378 - accuracy: 0.5098\n",
      "Epoch 18: val_accuracy did not improve from 0.49331\n",
      "299/299 [==============================] - 7s 23ms/step - loss: 1.1376 - accuracy: 0.5101 - val_loss: 1.3911 - val_accuracy: 0.4933\n",
      "Epoch 19/100\n",
      "298/299 [============================>.] - ETA: 0s - loss: 1.1226 - accuracy: 0.5169\n",
      "Epoch 19: val_accuracy improved from 0.49331 to 0.50207, saving model to model_weights/weights.epoch:[19]-val_acc:[0.50].hdf5\n",
      "299/299 [==============================] - 7s 22ms/step - loss: 1.1225 - accuracy: 0.5170 - val_loss: 1.3263 - val_accuracy: 0.5021\n",
      "Epoch 20/100\n",
      "298/299 [============================>.] - ETA: 0s - loss: 1.1088 - accuracy: 0.5280\n",
      "Epoch 20: val_accuracy did not improve from 0.50207\n",
      "299/299 [==============================] - 7s 23ms/step - loss: 1.1087 - accuracy: 0.5281 - val_loss: 1.3837 - val_accuracy: 0.4850\n",
      "Epoch 21/100\n",
      "298/299 [============================>.] - ETA: 0s - loss: 1.0965 - accuracy: 0.5348\n",
      "Epoch 21: val_accuracy did not improve from 0.50207\n",
      "299/299 [==============================] - 7s 22ms/step - loss: 1.0965 - accuracy: 0.5348 - val_loss: 1.3342 - val_accuracy: 0.4896\n",
      "Epoch 22/100\n",
      "298/299 [============================>.] - ETA: 0s - loss: 1.0887 - accuracy: 0.5361\n",
      "Epoch 22: val_accuracy did not improve from 0.50207\n",
      "299/299 [==============================] - 7s 22ms/step - loss: 1.0887 - accuracy: 0.5361 - val_loss: 1.4092 - val_accuracy: 0.4942\n",
      "Epoch 23/100\n",
      "298/299 [============================>.] - ETA: 0s - loss: 1.0757 - accuracy: 0.5429\n",
      "Epoch 23: val_accuracy did not improve from 0.50207\n",
      "299/299 [==============================] - 7s 22ms/step - loss: 1.0757 - accuracy: 0.5430 - val_loss: 1.3430 - val_accuracy: 0.4896\n",
      "Epoch 24/100\n",
      "297/299 [============================>.] - ETA: 0s - loss: 1.0708 - accuracy: 0.5430\n",
      "Epoch 24: val_accuracy did not improve from 0.50207\n",
      "299/299 [==============================] - 7s 22ms/step - loss: 1.0710 - accuracy: 0.5430 - val_loss: 1.4511 - val_accuracy: 0.4850\n",
      "Epoch 25/100\n",
      "298/299 [============================>.] - ETA: 0s - loss: 1.0650 - accuracy: 0.5427\n",
      "Epoch 25: val_accuracy did not improve from 0.50207\n",
      "299/299 [==============================] - 7s 22ms/step - loss: 1.0650 - accuracy: 0.5427 - val_loss: 1.4098 - val_accuracy: 0.4929\n",
      "Epoch 26/100\n",
      "298/299 [============================>.] - ETA: 0s - loss: 1.0580 - accuracy: 0.5529\n",
      "Epoch 26: val_accuracy did not improve from 0.50207\n",
      "299/299 [==============================] - 7s 22ms/step - loss: 1.0579 - accuracy: 0.5528 - val_loss: 1.4134 - val_accuracy: 0.4795\n",
      "Epoch 27/100\n",
      "298/299 [============================>.] - ETA: 0s - loss: 1.0575 - accuracy: 0.5527\n",
      "Epoch 27: val_accuracy did not improve from 0.50207\n",
      "299/299 [==============================] - 7s 22ms/step - loss: 1.0575 - accuracy: 0.5527 - val_loss: 1.4648 - val_accuracy: 0.4813\n",
      "Epoch 28/100\n",
      "298/299 [============================>.] - ETA: 0s - loss: 1.0417 - accuracy: 0.5619\n",
      "Epoch 28: val_accuracy did not improve from 0.50207\n",
      "299/299 [==============================] - 7s 22ms/step - loss: 1.0416 - accuracy: 0.5619 - val_loss: 1.3566 - val_accuracy: 0.4855\n",
      "Epoch 29/100\n"
     ]
    },
    {
     "name": "stdout",
     "output_type": "stream",
     "text": [
      "298/299 [============================>.] - ETA: 0s - loss: 1.0456 - accuracy: 0.5564\n",
      "Epoch 29: val_accuracy did not improve from 0.50207\n",
      "299/299 [==============================] - 7s 22ms/step - loss: 1.0456 - accuracy: 0.5564 - val_loss: 1.4241 - val_accuracy: 0.4772\n",
      "Epoch 30/100\n",
      "298/299 [============================>.] - ETA: 0s - loss: 1.0355 - accuracy: 0.5641\n",
      "Epoch 30: val_accuracy did not improve from 0.50207\n",
      "299/299 [==============================] - 7s 23ms/step - loss: 1.0355 - accuracy: 0.5641 - val_loss: 1.4317 - val_accuracy: 0.4818\n",
      "Epoch 31/100\n",
      "297/299 [============================>.] - ETA: 0s - loss: 1.0258 - accuracy: 0.5684\n",
      "Epoch 31: val_accuracy did not improve from 0.50207\n",
      "299/299 [==============================] - 7s 23ms/step - loss: 1.0259 - accuracy: 0.5681 - val_loss: 1.5152 - val_accuracy: 0.4749\n",
      "Epoch 32/100\n",
      "298/299 [============================>.] - ETA: 0s - loss: 1.0280 - accuracy: 0.5648\n",
      "Epoch 32: val_accuracy did not improve from 0.50207\n",
      "299/299 [==============================] - 7s 22ms/step - loss: 1.0279 - accuracy: 0.5647 - val_loss: 1.3855 - val_accuracy: 0.4716\n",
      "Epoch 33/100\n",
      "298/299 [============================>.] - ETA: 0s - loss: 1.0211 - accuracy: 0.5657\n",
      "Epoch 33: val_accuracy did not improve from 0.50207\n",
      "299/299 [==============================] - 7s 22ms/step - loss: 1.0210 - accuracy: 0.5658 - val_loss: 1.4120 - val_accuracy: 0.4804\n",
      "Epoch 34/100\n",
      "298/299 [============================>.] - ETA: 0s - loss: 1.0088 - accuracy: 0.5744\n",
      "Epoch 34: val_accuracy did not improve from 0.50207\n",
      "299/299 [==============================] - 7s 22ms/step - loss: 1.0087 - accuracy: 0.5744 - val_loss: 1.4928 - val_accuracy: 0.4813\n",
      "Epoch 35/100\n",
      "297/299 [============================>.] - ETA: 0s - loss: 1.0083 - accuracy: 0.5749\n",
      "Epoch 35: val_accuracy did not improve from 0.50207\n",
      "299/299 [==============================] - 7s 23ms/step - loss: 1.0086 - accuracy: 0.5747 - val_loss: 1.3656 - val_accuracy: 0.4689\n",
      "Epoch 36/100\n",
      "298/299 [============================>.] - ETA: 0s - loss: 1.0045 - accuracy: 0.5782\n",
      "Epoch 36: val_accuracy did not improve from 0.50207\n",
      "299/299 [==============================] - 7s 23ms/step - loss: 1.0044 - accuracy: 0.5783 - val_loss: 1.3888 - val_accuracy: 0.4832\n",
      "Epoch 37/100\n",
      "297/299 [============================>.] - ETA: 0s - loss: 0.9924 - accuracy: 0.5836\n",
      "Epoch 37: val_accuracy did not improve from 0.50207\n",
      "299/299 [==============================] - 7s 22ms/step - loss: 0.9927 - accuracy: 0.5837 - val_loss: 1.4411 - val_accuracy: 0.4776\n",
      "Epoch 38/100\n",
      "298/299 [============================>.] - ETA: 0s - loss: 0.9945 - accuracy: 0.5802\n",
      "Epoch 38: val_accuracy did not improve from 0.50207\n",
      "299/299 [==============================] - 7s 22ms/step - loss: 0.9945 - accuracy: 0.5803 - val_loss: 1.4508 - val_accuracy: 0.4878\n",
      "Epoch 39/100\n",
      "298/299 [============================>.] - ETA: 0s - loss: 0.9806 - accuracy: 0.5890\n",
      "Epoch 39: val_accuracy did not improve from 0.50207\n",
      "299/299 [==============================] - 7s 22ms/step - loss: 0.9807 - accuracy: 0.5890 - val_loss: 1.3907 - val_accuracy: 0.4836\n",
      "Epoch 40/100\n",
      "298/299 [============================>.] - ETA: 0s - loss: 0.9853 - accuracy: 0.5901\n",
      "Epoch 40: val_accuracy did not improve from 0.50207\n",
      "299/299 [==============================] - 7s 22ms/step - loss: 0.9852 - accuracy: 0.5901 - val_loss: 1.4532 - val_accuracy: 0.4822\n",
      "Epoch 41/100\n",
      "298/299 [============================>.] - ETA: 0s - loss: 0.9756 - accuracy: 0.5949\n",
      "Epoch 41: val_accuracy did not improve from 0.50207\n",
      "299/299 [==============================] - 7s 22ms/step - loss: 0.9755 - accuracy: 0.5950 - val_loss: 1.4679 - val_accuracy: 0.4767\n",
      "Epoch 42/100\n",
      "297/299 [============================>.] - ETA: 0s - loss: 0.9743 - accuracy: 0.5891\n",
      "Epoch 42: val_accuracy did not improve from 0.50207\n",
      "299/299 [==============================] - 7s 23ms/step - loss: 0.9739 - accuracy: 0.5893 - val_loss: 1.4180 - val_accuracy: 0.4855\n",
      "Epoch 43/100\n",
      "298/299 [============================>.] - ETA: 0s - loss: 0.9647 - accuracy: 0.5985\n",
      "Epoch 43: val_accuracy did not improve from 0.50207\n",
      "299/299 [==============================] - 7s 22ms/step - loss: 0.9647 - accuracy: 0.5985 - val_loss: 1.4986 - val_accuracy: 0.4878\n",
      "Epoch 44/100\n",
      "298/299 [============================>.] - ETA: 0s - loss: 0.9644 - accuracy: 0.5944\n",
      "Epoch 44: val_accuracy did not improve from 0.50207\n",
      "299/299 [==============================] - 7s 22ms/step - loss: 0.9644 - accuracy: 0.5944 - val_loss: 1.4839 - val_accuracy: 0.4763\n",
      "Epoch 45/100\n",
      "298/299 [============================>.] - ETA: 0s - loss: 0.9619 - accuracy: 0.6003\n",
      "Epoch 45: val_accuracy did not improve from 0.50207\n",
      "299/299 [==============================] - 7s 22ms/step - loss: 0.9618 - accuracy: 0.6004 - val_loss: 1.4782 - val_accuracy: 0.4841\n",
      "Epoch 46/100\n",
      "298/299 [============================>.] - ETA: 0s - loss: 0.9549 - accuracy: 0.6009\n",
      "Epoch 46: val_accuracy did not improve from 0.50207\n",
      "299/299 [==============================] - 7s 22ms/step - loss: 0.9549 - accuracy: 0.6010 - val_loss: 1.4686 - val_accuracy: 0.4633\n",
      "Epoch 47/100\n",
      "298/299 [============================>.] - ETA: 0s - loss: 0.9519 - accuracy: 0.6075\n",
      "Epoch 47: val_accuracy did not improve from 0.50207\n",
      "299/299 [==============================] - 7s 23ms/step - loss: 0.9518 - accuracy: 0.6076 - val_loss: 1.5131 - val_accuracy: 0.4615\n",
      "Epoch 48/100\n",
      "298/299 [============================>.] - ETA: 0s - loss: 0.9528 - accuracy: 0.6038\n",
      "Epoch 48: val_accuracy did not improve from 0.50207\n",
      "299/299 [==============================] - 7s 22ms/step - loss: 0.9528 - accuracy: 0.6038 - val_loss: 1.4789 - val_accuracy: 0.4730\n",
      "Epoch 49/100\n",
      "297/299 [============================>.] - ETA: 0s - loss: 0.9498 - accuracy: 0.6068\n",
      "Epoch 49: val_accuracy did not improve from 0.50207\n",
      "299/299 [==============================] - 7s 22ms/step - loss: 0.9497 - accuracy: 0.6067 - val_loss: 1.5125 - val_accuracy: 0.4624\n",
      "Epoch 50/100\n",
      "298/299 [============================>.] - ETA: 0s - loss: 0.9399 - accuracy: 0.6115\n",
      "Epoch 50: val_accuracy did not improve from 0.50207\n",
      "299/299 [==============================] - 7s 22ms/step - loss: 0.9399 - accuracy: 0.6115 - val_loss: 1.4953 - val_accuracy: 0.4680\n",
      "Epoch 51/100\n",
      "298/299 [============================>.] - ETA: 0s - loss: 0.9354 - accuracy: 0.6120\n",
      "Epoch 51: val_accuracy did not improve from 0.50207\n",
      "299/299 [==============================] - 7s 23ms/step - loss: 0.9353 - accuracy: 0.6121 - val_loss: 1.4976 - val_accuracy: 0.4744\n",
      "Epoch 52/100\n",
      "298/299 [============================>.] - ETA: 0s - loss: 0.9332 - accuracy: 0.6135\n",
      "Epoch 52: val_accuracy did not improve from 0.50207\n",
      "299/299 [==============================] - 7s 22ms/step - loss: 0.9332 - accuracy: 0.6136 - val_loss: 1.5473 - val_accuracy: 0.4735\n",
      "Epoch 53/100\n",
      "298/299 [============================>.] - ETA: 0s - loss: 0.9228 - accuracy: 0.6176\n",
      "Epoch 53: val_accuracy did not improve from 0.50207\n",
      "299/299 [==============================] - 7s 22ms/step - loss: 0.9227 - accuracy: 0.6177 - val_loss: 1.5601 - val_accuracy: 0.4758\n",
      "Epoch 54/100\n",
      "298/299 [============================>.] - ETA: 0s - loss: 0.9311 - accuracy: 0.6156\n",
      "Epoch 54: val_accuracy did not improve from 0.50207\n",
      "299/299 [==============================] - 7s 22ms/step - loss: 0.9311 - accuracy: 0.6156 - val_loss: 1.5370 - val_accuracy: 0.4786\n",
      "Epoch 55/100\n",
      "298/299 [============================>.] - ETA: 0s - loss: 0.9247 - accuracy: 0.6188\n",
      "Epoch 55: val_accuracy did not improve from 0.50207\n",
      "299/299 [==============================] - 7s 22ms/step - loss: 0.9247 - accuracy: 0.6188 - val_loss: 1.5303 - val_accuracy: 0.4735\n",
      "Epoch 56/100\n",
      "298/299 [============================>.] - ETA: 0s - loss: 0.9153 - accuracy: 0.6242\n",
      "Epoch 56: val_accuracy did not improve from 0.50207\n",
      "299/299 [==============================] - 7s 22ms/step - loss: 0.9152 - accuracy: 0.6242 - val_loss: 1.5864 - val_accuracy: 0.4680\n",
      "Epoch 57/100\n",
      "298/299 [============================>.] - ETA: 0s - loss: 0.9192 - accuracy: 0.6200\n",
      "Epoch 57: val_accuracy did not improve from 0.50207\n",
      "299/299 [==============================] - 7s 22ms/step - loss: 0.9192 - accuracy: 0.6200 - val_loss: 1.5548 - val_accuracy: 0.4684\n",
      "Epoch 58/100\n"
     ]
    },
    {
     "name": "stdout",
     "output_type": "stream",
     "text": [
      "298/299 [============================>.] - ETA: 0s - loss: 0.9136 - accuracy: 0.6254\n",
      "Epoch 58: val_accuracy did not improve from 0.50207\n",
      "299/299 [==============================] - 7s 22ms/step - loss: 0.9136 - accuracy: 0.6254 - val_loss: 1.5283 - val_accuracy: 0.4716\n",
      "Epoch 59/100\n",
      "298/299 [============================>.] - ETA: 0s - loss: 0.9127 - accuracy: 0.6232\n",
      "Epoch 59: val_accuracy did not improve from 0.50207\n",
      "299/299 [==============================] - 7s 23ms/step - loss: 0.9126 - accuracy: 0.6233 - val_loss: 1.5753 - val_accuracy: 0.4726\n",
      "Epoch 60/100\n",
      "298/299 [============================>.] - ETA: 0s - loss: 0.9071 - accuracy: 0.6288\n",
      "Epoch 60: val_accuracy did not improve from 0.50207\n",
      "299/299 [==============================] - 7s 22ms/step - loss: 0.9070 - accuracy: 0.6289 - val_loss: 1.5148 - val_accuracy: 0.4698\n",
      "Epoch 61/100\n",
      "298/299 [============================>.] - ETA: 0s - loss: 0.9067 - accuracy: 0.6283\n",
      "Epoch 61: val_accuracy did not improve from 0.50207\n",
      "299/299 [==============================] - 7s 22ms/step - loss: 0.9066 - accuracy: 0.6283 - val_loss: 1.5592 - val_accuracy: 0.4693\n",
      "Epoch 62/100\n",
      "298/299 [============================>.] - ETA: 0s - loss: 0.9033 - accuracy: 0.6308\n",
      "Epoch 62: val_accuracy did not improve from 0.50207\n",
      "299/299 [==============================] - 7s 22ms/step - loss: 0.9033 - accuracy: 0.6308 - val_loss: 1.5253 - val_accuracy: 0.4684\n",
      "Epoch 63/100\n",
      "299/299 [==============================] - ETA: 0s - loss: 0.9022 - accuracy: 0.6306\n",
      "Epoch 63: val_accuracy did not improve from 0.50207\n",
      "299/299 [==============================] - 7s 23ms/step - loss: 0.9022 - accuracy: 0.6306 - val_loss: 1.4876 - val_accuracy: 0.4661\n",
      "Epoch 64/100\n",
      "298/299 [============================>.] - ETA: 0s - loss: 0.8992 - accuracy: 0.6313\n",
      "Epoch 64: val_accuracy did not improve from 0.50207\n",
      "299/299 [==============================] - 7s 23ms/step - loss: 0.8991 - accuracy: 0.6314 - val_loss: 1.5762 - val_accuracy: 0.4647\n",
      "Epoch 65/100\n",
      "297/299 [============================>.] - ETA: 0s - loss: 0.8912 - accuracy: 0.6366\n",
      "Epoch 65: val_accuracy did not improve from 0.50207\n",
      "299/299 [==============================] - 7s 22ms/step - loss: 0.8914 - accuracy: 0.6366 - val_loss: 1.5685 - val_accuracy: 0.4652\n",
      "Epoch 66/100\n",
      "298/299 [============================>.] - ETA: 0s - loss: 0.8909 - accuracy: 0.6371\n",
      "Epoch 66: val_accuracy did not improve from 0.50207\n",
      "299/299 [==============================] - 7s 22ms/step - loss: 0.8909 - accuracy: 0.6372 - val_loss: 1.5406 - val_accuracy: 0.4633\n",
      "Epoch 67/100\n",
      "298/299 [============================>.] - ETA: 0s - loss: 0.8817 - accuracy: 0.6385\n",
      "Epoch 67: val_accuracy did not improve from 0.50207\n",
      "299/299 [==============================] - 7s 22ms/step - loss: 0.8816 - accuracy: 0.6386 - val_loss: 1.5621 - val_accuracy: 0.4716\n",
      "Epoch 68/100\n",
      "298/299 [============================>.] - ETA: 0s - loss: 0.8869 - accuracy: 0.6365\n",
      "Epoch 68: val_accuracy did not improve from 0.50207\n",
      "299/299 [==============================] - 7s 22ms/step - loss: 0.8868 - accuracy: 0.6365 - val_loss: 1.5606 - val_accuracy: 0.4675\n",
      "Epoch 69/100\n",
      "298/299 [============================>.] - ETA: 0s - loss: 0.8859 - accuracy: 0.6393\n",
      "Epoch 69: val_accuracy did not improve from 0.50207\n",
      "299/299 [==============================] - 7s 22ms/step - loss: 0.8858 - accuracy: 0.6394 - val_loss: 1.5861 - val_accuracy: 0.4707\n",
      "Epoch 70/100\n",
      "298/299 [============================>.] - ETA: 0s - loss: 0.8813 - accuracy: 0.6419\n",
      "Epoch 70: val_accuracy did not improve from 0.50207\n",
      "299/299 [==============================] - 7s 22ms/step - loss: 0.8813 - accuracy: 0.6419 - val_loss: 1.5791 - val_accuracy: 0.4587\n",
      "Epoch 71/100\n",
      "298/299 [============================>.] - ETA: 0s - loss: 0.8780 - accuracy: 0.6473\n",
      "Epoch 71: val_accuracy did not improve from 0.50207\n",
      "299/299 [==============================] - 7s 22ms/step - loss: 0.8780 - accuracy: 0.6474 - val_loss: 1.5500 - val_accuracy: 0.4661\n",
      "Epoch 72/100\n",
      "298/299 [============================>.] - ETA: 0s - loss: 0.8726 - accuracy: 0.6441\n",
      "Epoch 72: val_accuracy did not improve from 0.50207\n",
      "299/299 [==============================] - 7s 22ms/step - loss: 0.8725 - accuracy: 0.6442 - val_loss: 1.6311 - val_accuracy: 0.4620\n",
      "Epoch 73/100\n",
      "298/299 [============================>.] - ETA: 0s - loss: 0.8704 - accuracy: 0.6486\n",
      "Epoch 73: val_accuracy did not improve from 0.50207\n",
      "299/299 [==============================] - 7s 22ms/step - loss: 0.8703 - accuracy: 0.6487 - val_loss: 1.5965 - val_accuracy: 0.4698\n",
      "Epoch 74/100\n",
      "298/299 [============================>.] - ETA: 0s - loss: 0.8688 - accuracy: 0.6469\n",
      "Epoch 74: val_accuracy did not improve from 0.50207\n",
      "299/299 [==============================] - 7s 22ms/step - loss: 0.8687 - accuracy: 0.6469 - val_loss: 1.5600 - val_accuracy: 0.4661\n",
      "Epoch 75/100\n",
      "298/299 [============================>.] - ETA: 0s - loss: 0.8677 - accuracy: 0.6515\n",
      "Epoch 75: val_accuracy did not improve from 0.50207\n",
      "299/299 [==============================] - 7s 22ms/step - loss: 0.8676 - accuracy: 0.6516 - val_loss: 1.6351 - val_accuracy: 0.4537\n",
      "Epoch 76/100\n",
      "298/299 [============================>.] - ETA: 0s - loss: 0.8667 - accuracy: 0.6474\n",
      "Epoch 76: val_accuracy did not improve from 0.50207\n",
      "299/299 [==============================] - 7s 23ms/step - loss: 0.8667 - accuracy: 0.6474 - val_loss: 1.5460 - val_accuracy: 0.4532\n",
      "Epoch 77/100\n",
      "297/299 [============================>.] - ETA: 0s - loss: 0.8613 - accuracy: 0.6510\n",
      "Epoch 77: val_accuracy did not improve from 0.50207\n",
      "299/299 [==============================] - 7s 22ms/step - loss: 0.8616 - accuracy: 0.6511 - val_loss: 1.5715 - val_accuracy: 0.4670\n",
      "Epoch 78/100\n",
      "298/299 [============================>.] - ETA: 0s - loss: 0.8568 - accuracy: 0.6543\n",
      "Epoch 78: val_accuracy did not improve from 0.50207\n",
      "299/299 [==============================] - 7s 22ms/step - loss: 0.8567 - accuracy: 0.6543 - val_loss: 1.6396 - val_accuracy: 0.4550\n",
      "Epoch 79/100\n",
      "298/299 [============================>.] - ETA: 0s - loss: 0.8504 - accuracy: 0.6558\n",
      "Epoch 79: val_accuracy did not improve from 0.50207\n",
      "299/299 [==============================] - 7s 22ms/step - loss: 0.8504 - accuracy: 0.6559 - val_loss: 1.5707 - val_accuracy: 0.4633\n",
      "Epoch 80/100\n",
      "298/299 [============================>.] - ETA: 0s - loss: 0.8524 - accuracy: 0.6538\n",
      "Epoch 80: val_accuracy did not improve from 0.50207\n",
      "299/299 [==============================] - 7s 22ms/step - loss: 0.8523 - accuracy: 0.6539 - val_loss: 1.5984 - val_accuracy: 0.4574\n",
      "Epoch 81/100\n",
      "298/299 [============================>.] - ETA: 0s - loss: 0.8545 - accuracy: 0.6570\n",
      "Epoch 81: val_accuracy did not improve from 0.50207\n",
      "299/299 [==============================] - 7s 22ms/step - loss: 0.8544 - accuracy: 0.6571 - val_loss: 1.6327 - val_accuracy: 0.4583\n",
      "Epoch 82/100\n",
      "298/299 [============================>.] - ETA: 0s - loss: 0.8452 - accuracy: 0.6612\n",
      "Epoch 82: val_accuracy did not improve from 0.50207\n",
      "299/299 [==============================] - 7s 22ms/step - loss: 0.8451 - accuracy: 0.6612 - val_loss: 1.6780 - val_accuracy: 0.4661\n",
      "Epoch 83/100\n",
      "298/299 [============================>.] - ETA: 0s - loss: 0.8463 - accuracy: 0.6634\n",
      "Epoch 83: val_accuracy did not improve from 0.50207\n",
      "299/299 [==============================] - 7s 22ms/step - loss: 0.8463 - accuracy: 0.6635 - val_loss: 1.5712 - val_accuracy: 0.4643\n",
      "Epoch 84/100\n",
      "298/299 [============================>.] - ETA: 0s - loss: 0.8417 - accuracy: 0.6595\n",
      "Epoch 84: val_accuracy did not improve from 0.50207\n",
      "299/299 [==============================] - 7s 22ms/step - loss: 0.8416 - accuracy: 0.6595 - val_loss: 1.6664 - val_accuracy: 0.4712\n",
      "Epoch 85/100\n",
      "297/299 [============================>.] - ETA: 0s - loss: 0.8415 - accuracy: 0.6633\n",
      "Epoch 85: val_accuracy did not improve from 0.50207\n",
      "299/299 [==============================] - 7s 22ms/step - loss: 0.8415 - accuracy: 0.6631 - val_loss: 1.6611 - val_accuracy: 0.4735\n",
      "Epoch 86/100\n",
      "298/299 [============================>.] - ETA: 0s - loss: 0.8437 - accuracy: 0.6654\n",
      "Epoch 86: val_accuracy did not improve from 0.50207\n",
      "299/299 [==============================] - 7s 22ms/step - loss: 0.8436 - accuracy: 0.6654 - val_loss: 1.5407 - val_accuracy: 0.4698\n",
      "Epoch 87/100\n"
     ]
    },
    {
     "name": "stdout",
     "output_type": "stream",
     "text": [
      "298/299 [============================>.] - ETA: 0s - loss: 0.8384 - accuracy: 0.6626\n",
      "Epoch 87: val_accuracy did not improve from 0.50207\n",
      "299/299 [==============================] - 7s 22ms/step - loss: 0.8383 - accuracy: 0.6626 - val_loss: 1.5648 - val_accuracy: 0.4693\n",
      "Epoch 88/100\n",
      "298/299 [============================>.] - ETA: 0s - loss: 0.8361 - accuracy: 0.6644\n",
      "Epoch 88: val_accuracy did not improve from 0.50207\n",
      "299/299 [==============================] - 7s 22ms/step - loss: 0.8360 - accuracy: 0.6644 - val_loss: 1.5828 - val_accuracy: 0.4818\n",
      "Epoch 89/100\n",
      "298/299 [============================>.] - ETA: 0s - loss: 0.8298 - accuracy: 0.6641\n",
      "Epoch 89: val_accuracy did not improve from 0.50207\n",
      "299/299 [==============================] - 7s 22ms/step - loss: 0.8297 - accuracy: 0.6641 - val_loss: 1.6582 - val_accuracy: 0.4763\n",
      "Epoch 90/100\n",
      "298/299 [============================>.] - ETA: 0s - loss: 0.8252 - accuracy: 0.6700\n",
      "Epoch 90: val_accuracy did not improve from 0.50207\n",
      "299/299 [==============================] - 7s 23ms/step - loss: 0.8251 - accuracy: 0.6701 - val_loss: 1.7372 - val_accuracy: 0.4744\n",
      "Epoch 91/100\n",
      "298/299 [============================>.] - ETA: 0s - loss: 0.8312 - accuracy: 0.6682\n",
      "Epoch 91: val_accuracy did not improve from 0.50207\n",
      "299/299 [==============================] - 7s 22ms/step - loss: 0.8311 - accuracy: 0.6682 - val_loss: 1.5909 - val_accuracy: 0.4684\n",
      "Epoch 92/100\n",
      "298/299 [============================>.] - ETA: 0s - loss: 0.8250 - accuracy: 0.6710\n",
      "Epoch 92: val_accuracy did not improve from 0.50207\n",
      "299/299 [==============================] - 7s 23ms/step - loss: 0.8250 - accuracy: 0.6709 - val_loss: 1.6445 - val_accuracy: 0.4813\n",
      "Epoch 93/100\n",
      "299/299 [==============================] - ETA: 0s - loss: 0.8190 - accuracy: 0.6677\n",
      "Epoch 93: val_accuracy did not improve from 0.50207\n",
      "299/299 [==============================] - 7s 23ms/step - loss: 0.8190 - accuracy: 0.6677 - val_loss: 1.6584 - val_accuracy: 0.4832\n",
      "Epoch 94/100\n",
      "298/299 [============================>.] - ETA: 0s - loss: 0.8268 - accuracy: 0.6656\n",
      "Epoch 94: val_accuracy did not improve from 0.50207\n",
      "299/299 [==============================] - 7s 22ms/step - loss: 0.8267 - accuracy: 0.6656 - val_loss: 1.6754 - val_accuracy: 0.4795\n",
      "Epoch 95/100\n",
      "298/299 [============================>.] - ETA: 0s - loss: 0.8314 - accuracy: 0.6673\n",
      "Epoch 95: val_accuracy did not improve from 0.50207\n",
      "299/299 [==============================] - 7s 22ms/step - loss: 0.8313 - accuracy: 0.6673 - val_loss: 1.7369 - val_accuracy: 0.4643\n",
      "Epoch 96/100\n",
      "298/299 [============================>.] - ETA: 0s - loss: 0.8202 - accuracy: 0.6701\n",
      "Epoch 96: val_accuracy did not improve from 0.50207\n",
      "299/299 [==============================] - 7s 22ms/step - loss: 0.8201 - accuracy: 0.6702 - val_loss: 1.6615 - val_accuracy: 0.4744\n",
      "Epoch 97/100\n",
      "298/299 [============================>.] - ETA: 0s - loss: 0.8130 - accuracy: 0.6769\n",
      "Epoch 97: val_accuracy did not improve from 0.50207\n",
      "299/299 [==============================] - 7s 22ms/step - loss: 0.8129 - accuracy: 0.6769 - val_loss: 1.6561 - val_accuracy: 0.4813\n",
      "Epoch 98/100\n",
      "298/299 [============================>.] - ETA: 0s - loss: 0.8282 - accuracy: 0.6682\n",
      "Epoch 98: val_accuracy did not improve from 0.50207\n",
      "299/299 [==============================] - 7s 22ms/step - loss: 0.8282 - accuracy: 0.6683 - val_loss: 1.6050 - val_accuracy: 0.4846\n",
      "Epoch 99/100\n",
      "298/299 [============================>.] - ETA: 0s - loss: 0.8134 - accuracy: 0.6728\n",
      "Epoch 99: val_accuracy did not improve from 0.50207\n",
      "299/299 [==============================] - 7s 22ms/step - loss: 0.8133 - accuracy: 0.6729 - val_loss: 1.6847 - val_accuracy: 0.4864\n",
      "Epoch 100/100\n",
      "298/299 [============================>.] - ETA: 0s - loss: 0.8091 - accuracy: 0.6716\n",
      "Epoch 100: val_accuracy did not improve from 0.50207\n",
      "299/299 [==============================] - 7s 22ms/step - loss: 0.8091 - accuracy: 0.6716 - val_loss: 1.6662 - val_accuracy: 0.4740\n"
     ]
    }
   ],
   "source": [
    "model = get_compiled_model()\n",
    "history = model.fit(train_dataset, batch_size=batch_size, epochs=epochs, \\\n",
    "                        validation_data=val_dataset, verbose=1, callbacks = [my_callback])"
   ]
  },
  {
   "cell_type": "code",
   "execution_count": 14,
   "metadata": {},
   "outputs": [],
   "source": [
    "# Creates the base model \n",
    "new_model = get_compiled_model()"
   ]
  },
  {
   "cell_type": "code",
   "execution_count": 15,
   "metadata": {},
   "outputs": [
    {
     "name": "stdout",
     "output_type": "stream",
     "text": [
      "34/34 [==============================] - 2s 14ms/step - loss: 2.4499 - accuracy: 0.0083\n"
     ]
    },
    {
     "data": {
      "text/plain": [
       "[2.449878692626953, 0.008294930681586266]"
      ]
     },
     "execution_count": 15,
     "metadata": {},
     "output_type": "execute_result"
    }
   ],
   "source": [
    "# The base model only gets about ~20% accuracy as it is not trained at all \n",
    "# This is to show that the base model before loading the weights is not trained\n",
    "# and its accuracy is not good.\n",
    "new_model.evaluate(X_test, y_test, batch_size=batch_size)"
   ]
  },
  {
   "cell_type": "code",
   "execution_count": 16,
   "metadata": {},
   "outputs": [
    {
     "name": "stdout",
     "output_type": "stream",
     "text": [
      "model_weights/weights.epoch:[19]-val_acc:[0.50].hdf5\n"
     ]
    }
   ],
   "source": [
    "# This loads the weights of the model that was saved at a certain epoch and val_accuracy\n",
    "epoch = np.argmax(history.history['val_accuracy'])\n",
    "val_accuracy = history.history['val_accuracy'][epoch]\n",
    "epoch = epoch+1\n",
    "\n",
    "path = f\"model_weights/weights.epoch:[{epoch:02d}]-val_acc:[{val_accuracy:.2f}].hdf5\"\n",
    "print(path)\n",
    "new_model.load_weights(path)"
   ]
  },
  {
   "cell_type": "code",
   "execution_count": 17,
   "metadata": {},
   "outputs": [
    {
     "name": "stdout",
     "output_type": "stream",
     "text": [
      "34/34 [==============================] - 1s 14ms/step - loss: 1.3254 - accuracy: 0.4885\n",
      "loss: 1.3254, accuracy: 0.4885\n"
     ]
    }
   ],
   "source": [
    "# After loading the weights of a previously trained model, the accuracy matches the\n",
    "# best version of the model that the checkpoints were saved from\n",
    "loss, acc = new_model.evaluate(X_test, y_test, batch_size=batch_size)\n",
    "print(f'loss: {loss:.4f}, accuracy: {acc:.4f}')"
   ]
  },
  {
   "cell_type": "code",
   "execution_count": 18,
   "metadata": {},
   "outputs": [
    {
     "name": "stdout",
     "output_type": "stream",
     "text": [
      "34/34 [==============================] - 1s 14ms/step - loss: 1.6610 - accuracy: 0.4641\n",
      "loss: 1.6610, accuracy: 0.4641\n"
     ]
    }
   ],
   "source": [
    "# This is to show that the accuracy is higher than the the last epoch of the model with loaded weights.\n",
    "loss, acc = model.evaluate(X_test, y_test, batch_size=batch_size)\n",
    "print(f'loss: {loss:.4f}, accuracy: {acc:.4f}')"
   ]
  },
  {
   "cell_type": "markdown",
   "metadata": {},
   "source": [
    "### Training Plots"
   ]
  },
  {
   "cell_type": "code",
   "execution_count": 19,
   "metadata": {
    "scrolled": true
   },
   "outputs": [
    {
     "data": {
      "text/plain": [
       "0.6768714785575867"
      ]
     },
     "execution_count": 19,
     "metadata": {},
     "output_type": "execute_result"
    },
    {
     "data": {
      "image/png": "[encoded data removed]",
      "text/plain": [
       "<Figure size 432x288 with 1 Axes>"
      ]
     },
     "metadata": {
      "needs_background": "light"
     },
     "output_type": "display_data"
    }
   ],
   "source": [
    "plt.title('Accuracy')\n",
    "plt.xlabel('Epochs')\n",
    "plt.ylabel('Accuracy')\n",
    "plt.plot(history.history['accuracy'], label='Train Accuracy')\n",
    "plt.plot(history.history['val_accuracy'], label='Validation Accuracy')\n",
    "plt.legend()\n",
    "\n",
    "history.history['accuracy'][np.argmax(history.history['accuracy'])]"
   ]
  },
  {
   "cell_type": "code",
   "execution_count": 20,
   "metadata": {
    "scrolled": true
   },
   "outputs": [
    {
     "data": {
      "text/plain": [
       "1.9685947895050049"
      ]
     },
     "execution_count": 20,
     "metadata": {},
     "output_type": "execute_result"
    },
    {
     "data": {
      "image/png": "[encoded data removed]",
      "text/plain": [
       "<Figure size 432x288 with 1 Axes>"
      ]
     },
     "metadata": {
      "needs_background": "light"
     },
     "output_type": "display_data"
    }
   ],
   "source": [
    "plt.title('Loss')\n",
    "plt.xlabel('Epochs')\n",
    "plt.ylabel('Loss')\n",
    "#plt.axis([75, 200, 1.2, 2.2])\n",
    "plt.plot(history.history['loss'], label='Train Loss')\n",
    "plt.plot(history.history['val_loss'], label='Validation Loss')\n",
    "plt.legend()\n",
    "\n",
    "history.history['loss'][np.argmax(history.history['loss'])]"
   ]
  },
  {
   "cell_type": "code",
   "execution_count": 21,
   "metadata": {
    "scrolled": true
   },
   "outputs": [
    {
     "name": "stdout",
     "output_type": "stream",
     "text": [
      "299.0\n"
     ]
    },
    {
     "data": {
      "text/plain": [
       "<matplotlib.legend.Legend at 0x7f89a8527310>"
      ]
     },
     "execution_count": 21,
     "metadata": {},
     "output_type": "execute_result"
    },
    {
     "data": {
      "image/png": "[encoded data removed]",
      "text/plain": [
       "<Figure size 432x288 with 1 Axes>"
      ]
     },
     "metadata": {
      "needs_background": "light"
     },
     "output_type": "display_data"
    }
   ],
   "source": [
    "learning_rate = CustomSchedule(d_model)\n",
    "steps_per_epoch = np.ceil((np.shape(X_train)[0]/batch_size))\n",
    "print(steps_per_epoch)\n",
    "lr = np.array([])\n",
    "for i in range(1, np.maximum(epochs+10, 30)):\n",
    "    lr = np.append(lr, learning_rate.__call__(i*steps_per_epoch))\n",
    "plt.title('Learning Rate')\n",
    "plt.xlabel('Epoch')\n",
    "plt.ylabel('Learning Rate')\n",
    "plt.plot(lr, label='Learning Rate')\n",
    "plt.legend()\n"
   ]
  },
  {
   "cell_type": "markdown",
   "metadata": {},
   "source": [
    "### Model Evaluation"
   ]
  },
  {
   "cell_type": "code",
   "execution_count": 23,
   "metadata": {},
   "outputs": [
    {
     "name": "stdout",
     "output_type": "stream",
     "text": [
      "best epoch: 19, loss: 1.1225, accuracy: 0.5170, val_loss: 1.3263, val_accuracy: 0.5021\n"
     ]
    }
   ],
   "source": [
    "epoch = np.argmax(history.history['val_accuracy'])\n",
    "loss = history.history['loss'][epoch]\n",
    "accuracy = history.history['accuracy'][epoch]\n",
    "val_loss = history.history['val_loss'][epoch]\n",
    "val_accuracy = history.history['val_accuracy'][epoch]\n",
    "epoch += 1\n",
    "\n",
    "print(f'best epoch: {epoch}, loss: {loss:.4f}, accuracy: {accuracy:.4f}, val_loss: {val_loss:.4f}, val_accuracy: {val_accuracy:.4f}')"
   ]
  },
  {
   "cell_type": "code",
   "execution_count": 24,
   "metadata": {},
   "outputs": [
    {
     "name": "stdout",
     "output_type": "stream",
     "text": [
      "model_weights/weights.epoch:[19]-val_acc:[0.50].hdf5\n"
     ]
    }
   ],
   "source": [
    "path = f\"model_weights/weights.epoch:[{epoch:02d}]-val_acc:[{val_accuracy:.2f}].hdf5\"\n",
    "print(path)\n",
    "test_model = get_compiled_model()\n",
    "test_model.build((19072,22))\n",
    "test_model.load_weights(path)"
   ]
  },
  {
   "cell_type": "code",
   "execution_count": 43,
   "metadata": {
    "scrolled": false
   },
   "outputs": [
    {
     "name": "stdout",
     "output_type": "stream",
     "text": [
      "68/68 [==============================] - 1s 10ms/step\n"
     ]
    }
   ],
   "source": [
    "pred = test_model.predict(X_test)"
   ]
  },
  {
   "cell_type": "code",
   "execution_count": 44,
   "metadata": {},
   "outputs": [],
   "source": [
    "def norm_cm(cm):\n",
    "    return np.array([cm[i] / np.sum(cm[i]) for i in range(len(cm))])\n",
    "def un_norm_cm(norm_cm):\n",
    "    np.array([\n",
    "        cm[i] / np.sum(cm[i]) for i in range(len(cm))\n",
    "    ])\n",
    "    \n",
    "def accuracy(cm):\n",
    "    return cm.diagonal().sum() / cm.sum()\n",
    "def top_1_accuracy(cm):\n",
    "    return (cm.diagonal(-1).sum() + cm.diagonal(0).sum() + cm.diagonal(1).sum()) / cm.sum()\n",
    "def top_2_accuracy(cm):\n",
    "    return (cm.diagonal(-2).sum() + cm.diagonal(-1).sum() + cm.diagonal(0).sum() + cm.diagonal(1).sum() +\n",
    "                 cm.diagonal(2).sum()) / cm.sum()"
   ]
  },
  {
   "cell_type": "code",
   "execution_count": 45,
   "metadata": {},
   "outputs": [
    {
     "name": "stdout",
     "output_type": "stream",
     "text": [
      "accuracy 0.48847926267281105\n",
      "+-1 accuracy 0.8529953917050691\n",
      "+-2 accuracy 0.971889400921659\n"
     ]
    }
   ],
   "source": [
    "cm = confusion_matrix(y_test, np.argmax(pred, axis=1))\n",
    "normalized_cm = norm_cm(cm)\n",
    "print('accuracy', accuracy(cm))\n",
    "print('+-1 accuracy', top_1_accuracy(cm))\n",
    "print('+-2 accuracy', top_2_accuracy(cm))"
   ]
  },
  {
   "cell_type": "markdown",
   "metadata": {},
   "source": [
    "Heatmap"
   ]
  },
  {
   "cell_type": "code",
   "execution_count": 46,
   "metadata": {
    "scrolled": false
   },
   "outputs": [
    {
     "data": {
      "text/plain": [
       "<AxesSubplot:>"
      ]
     },
     "execution_count": 46,
     "metadata": {},
     "output_type": "execute_result"
    },
    {
     "data": {
      "image/png": "[encoded data removed]",
      "text/plain": [
       "<Figure size 432x288 with 2 Axes>"
      ]
     },
     "metadata": {
      "needs_background": "light"
     },
     "output_type": "display_data"
    }
   ],
   "source": [
    "sns.heatmap(cm, xticklabels=range(2, 11), yticklabels=range(2, 11), annot=True, fmt='g', square=True)"
   ]
  },
  {
   "cell_type": "markdown",
   "metadata": {},
   "source": [
    "Normalized Heatmap"
   ]
  },
  {
   "cell_type": "code",
   "execution_count": 47,
   "metadata": {
    "scrolled": false
   },
   "outputs": [
    {
     "data": {
      "text/plain": [
       "<AxesSubplot:>"
      ]
     },
     "execution_count": 47,
     "metadata": {},
     "output_type": "execute_result"
    },
    {
     "data": {
      "image/png": "[encoded data removed]",
      "text/plain": [
       "<Figure size 432x288 with 2 Axes>"
      ]
     },
     "metadata": {
      "needs_background": "light"
     },
     "output_type": "display_data"
    }
   ],
   "source": [
    "sns.heatmap(normalized_cm, xticklabels=range(2, 11), yticklabels=range(2, 11), annot=True, fmt='.2f', square=True)"
   ]
  },
  {
   "cell_type": "code",
   "execution_count": null,
   "metadata": {},
   "outputs": [],
   "source": []
  }
 ],
 "metadata": {
  "kernelspec": {
   "display_name": "Python 3 (ipykernel)",
   "language": "python",
   "name": "python3"
  },
  "language_info": {
   "codemirror_mode": {
    "name": "ipython",
    "version": 3
   },
   "file_extension": ".py",
   "mimetype": "text/x-python",
   "name": "python",
   "nbconvert_exporter": "python",
   "pygments_lexer": "ipython3",
   "version": "3.8.10"
  },
  "vscode": {
   "interpreter": {
    "hash": "11938c6bc6919ae2720b4d5011047913343b08a43b18698fd82dedb0d4417594"
   }
  }
 },
 "nbformat": 4,
 "nbformat_minor": 2
}
