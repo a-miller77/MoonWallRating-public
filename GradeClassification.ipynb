{
 "cells": [
  {
   "cell_type": "code",
   "execution_count": 2,
   "metadata": {
    "scrolled": true
   },
   "outputs": [],
   "source": [
    "from sklearn.model_selection import train_test_split\n",
    "from sklearn.metrics import confusion_matrix\n",
    "from preprocessing import vocab_size\n",
    "from tensorflow.keras import layers\n",
    "import matplotlib.pyplot as plt\n",
    "from tensorflow import keras\n",
    "import tensorflow as tf\n",
    "import seaborn as sns\n",
    "import pandas as pd\n",
    "import numpy as np\n",
    "import pickle"
   ]
  },
  {
   "cell_type": "markdown",
   "metadata": {},
   "source": [
    "### Import the Data"
   ]
  },
  {
   "cell_type": "markdown",
   "metadata": {},
   "source": [
    "Load in different data splits from files"
   ]
  },
  {
   "cell_type": "code",
   "execution_count": 3,
   "metadata": {},
   "outputs": [],
   "source": [
    "with open('./data/train_preprocessed_routes', 'rb') as f:\n",
    "    X_train, y_train = pickle.load(f).values()\n",
    "with open('./data/test_preprocessed_routes', 'rb') as f:\n",
    "    X_test, y_test = pickle.load(f).values()\n",
    "with open('./data/val_preprocessed_routes', 'rb') as f:\n",
    "    X_val, y_val = pickle.load(f).values()"
   ]
  },
  {
   "cell_type": "markdown",
   "metadata": {},
   "source": [
    "Mask Grade with CLS token"
   ]
  },
  {
   "cell_type": "code",
   "execution_count": 4,
   "metadata": {},
   "outputs": [],
   "source": [
    "X_train[:, 0] = 3\n",
    "X_test[:, 0] = 3\n",
    "X_val[:, 0] = 3"
   ]
  },
  {
   "cell_type": "code",
   "execution_count": 5,
   "metadata": {},
   "outputs": [
    {
     "data": {
      "text/plain": [
       "(19076, 22)"
      ]
     },
     "execution_count": 5,
     "metadata": {},
     "output_type": "execute_result"
    }
   ],
   "source": [
    "np.shape(X_train)"
   ]
  },
  {
   "cell_type": "markdown",
   "metadata": {},
   "source": [
    "### Model Definition"
   ]
  },
  {
   "cell_type": "code",
   "execution_count": 6,
   "metadata": {},
   "outputs": [],
   "source": [
    "def positional_encoding(length, depth):\n",
    "    depth = depth/2\n",
    "\n",
    "    positions = np.arange(length)[:, np.newaxis]     # (seq, 1)\n",
    "    depths = np.arange(depth)[np.newaxis, :]/depth   # (1, depth)\n",
    "\n",
    "    angle_rates = 1 / (10000**depths)         # (1, depth)\n",
    "    angle_rads = positions * angle_rates      # (pos, depth)\n",
    "\n",
    "    pos_encoding = np.concatenate(\n",
    "      [np.sin(angle_rads), np.cos(angle_rads)],\n",
    "      axis=-1) \n",
    "\n",
    "    return tf.cast(pos_encoding, dtype=tf.float32)"
   ]
  },
  {
   "cell_type": "code",
   "execution_count": 7,
   "metadata": {},
   "outputs": [],
   "source": [
    "class PositionalEmbedding(tf.keras.layers.Layer):\n",
    "    def __init__(self, vocab_size, d_model):\n",
    "        super().__init__()\n",
    "        self.d_model = d_model\n",
    "        self.embedding = tf.keras.layers.Embedding(vocab_size, d_model, mask_zero=True) \n",
    "        self.pos_encoding = positional_encoding(length=2048, depth=d_model)\n",
    "\n",
    "    def compute_mask(self, *args, **kwargs):\n",
    "        return self.embedding.compute_mask(*args, **kwargs)\n",
    "\n",
    "    def call(self, x):\n",
    "        length = tf.shape(x)[1]\n",
    "        x = self.embedding(x)\n",
    "        # This factor sets the relative scale of the embedding and positonal_encoding.\n",
    "        x *= tf.math.sqrt(tf.cast(self.d_model, tf.float32))\n",
    "        x = x + self.pos_encoding[tf.newaxis, :length, :]\n",
    "        return x"
   ]
  },
  {
   "cell_type": "code",
   "execution_count": 8,
   "metadata": {},
   "outputs": [],
   "source": [
    "class BaseAttention(tf.keras.layers.Layer):\n",
    "    def __init__(self, **kwargs):\n",
    "        super().__init__()\n",
    "        self.mha = tf.keras.layers.MultiHeadAttention(**kwargs)\n",
    "        self.layernorm = tf.keras.layers.LayerNormalization()\n",
    "        self.add = tf.keras.layers.Add()\n",
    "\n",
    "class GlobalSelfAttention(BaseAttention):\n",
    "    def call(self, x):\n",
    "        attn_output = self.mha(\n",
    "            query=x,\n",
    "            value=x,\n",
    "            key=x)\n",
    "        x = self.add([x, attn_output])\n",
    "        x = self.layernorm(x)\n",
    "        return x"
   ]
  },
  {
   "cell_type": "code",
   "execution_count": 9,
   "metadata": {},
   "outputs": [],
   "source": [
    "class FeedForward(tf.keras.layers.Layer):\n",
    "    def __init__(self, d_model, dff, dropout_rate=0.1):\n",
    "        super().__init__()\n",
    "        self.seq = tf.keras.Sequential([\n",
    "          tf.keras.layers.Dense(dff, activation='relu'),\n",
    "          tf.keras.layers.Dense(d_model),\n",
    "          tf.keras.layers.Dropout(dropout_rate)\n",
    "        ])\n",
    "        self.add = tf.keras.layers.Add()\n",
    "        self.layer_norm = tf.keras.layers.LayerNormalization()\n",
    "\n",
    "    def call(self, x):\n",
    "        x = self.add([x, self.seq(x)])\n",
    "        x = self.layer_norm(x) \n",
    "        return x"
   ]
  },
  {
   "cell_type": "code",
   "execution_count": 10,
   "metadata": {},
   "outputs": [],
   "source": [
    "class EncoderLayer(tf.keras.layers.Layer):\n",
    "    def __init__(self,*, d_model, num_heads, dff, dropout_rate=0.1):\n",
    "        super().__init__()\n",
    "\n",
    "        self.self_attention = GlobalSelfAttention(\n",
    "            num_heads=num_heads,\n",
    "            key_dim=d_model,\n",
    "            dropout=dropout_rate)\n",
    "\n",
    "        self.ffn = FeedForward(d_model, dff)\n",
    "\n",
    "    def call(self, x):\n",
    "        x = self.self_attention(x)\n",
    "        x = self.ffn(x)\n",
    "        return x"
   ]
  },
  {
   "cell_type": "code",
   "execution_count": 11,
   "metadata": {},
   "outputs": [],
   "source": [
    "class Encoder(tf.keras.layers.Layer):\n",
    "    def __init__(self, *, num_layers, d_model, num_heads,\n",
    "               dff, vocab_size, dropout_rate=0.1):\n",
    "        super().__init__()\n",
    "\n",
    "        self.d_model = d_model\n",
    "        self.num_layers = num_layers\n",
    "\n",
    "        self.pos_embedding = PositionalEmbedding(\n",
    "            vocab_size=vocab_size, d_model=d_model)\n",
    "\n",
    "        self.enc_layers = [\n",
    "            EncoderLayer(d_model=d_model,\n",
    "                         num_heads=num_heads,\n",
    "                         dff=dff,\n",
    "                         dropout_rate=dropout_rate)\n",
    "            for _ in range(num_layers)]\n",
    "        self.dropout = tf.keras.layers.Dropout(dropout_rate)\n",
    "\n",
    "    def call(self, x):\n",
    "        # `x` is token-IDs shape: (batch, seq_len)\n",
    "        x = self.pos_embedding(x)  # Shape `(batch_size, seq_len, d_model)`.\n",
    "\n",
    "        # Add dropout.\n",
    "        x = self.dropout(x)\n",
    "\n",
    "        for i in range(self.num_layers):\n",
    "            x = self.enc_layers[i](x)\n",
    "\n",
    "        return x  # Shape `(batch_size, seq_len, d_model)`."
   ]
  },
  {
   "cell_type": "code",
   "execution_count": 12,
   "metadata": {},
   "outputs": [],
   "source": [
    "class EncoderClassifier(tf.keras.Model):\n",
    "    def __init__(self, *, num_layers, d_model, num_heads, dff, vocab_size, num_classes, dropout_rate=0.1):\n",
    "        super().__init__()\n",
    "        self.encoder = Encoder(num_layers=num_layers, d_model=d_model, num_heads=num_heads, dff=dff, \\\n",
    "                               vocab_size=vocab_size, dropout_rate=dropout_rate)\n",
    "        self.seq = tf.keras.Sequential([\n",
    "          tf.keras.layers.Dense(256, activation='relu'),\n",
    "          tf.keras.layers.Dense(128, activation='relu'),\n",
    "          tf.keras.layers.Dropout(dropout_rate)\n",
    "        ])\n",
    "        self.final_layer = tf.keras.layers.Dense(num_classes, activation='softmax')\n",
    "\n",
    "    def call(self, x):\n",
    "        x = self.encoder(x)\n",
    "        x = self.seq(x)\n",
    "        logits = self.final_layer(x[:, 0, :])\n",
    "\n",
    "        try:\n",
    "            del logits._keras_mask\n",
    "        except AttributeError:\n",
    "            pass\n",
    "\n",
    "        return logits"
   ]
  },
  {
   "cell_type": "code",
   "execution_count": 13,
   "metadata": {},
   "outputs": [],
   "source": [
    "class CustomSchedule(tf.keras.optimizers.schedules.LearningRateSchedule):\n",
    "    def __init__(self, d_model, warmup_steps=3500):\n",
    "        super().__init__()\n",
    "\n",
    "        self.d_model = d_model\n",
    "        self.d_model = tf.cast(self.d_model, tf.float32)\n",
    "\n",
    "        self.warmup_steps = warmup_steps\n",
    "\n",
    "    def __call__(self, step):\n",
    "        step = tf.cast(step, dtype=tf.float32)\n",
    "        arg1 = tf.math.rsqrt(step)\n",
    "        arg2 = step * (self.warmup_steps ** -1.5)\n",
    "        return tf.math.rsqrt(self.d_model) * tf.math.minimum(arg1, arg2)\n",
    "    \n",
    "    def get_config(self):\n",
    "        return {\n",
    "            \"d_model\": self.d_model,\n",
    "            \"warmup_steps\": self.warmup_steps,\n",
    "        }\n",
    "    \n",
    "    def from_config(cls, config):\n",
    "         return cls(**config)"
   ]
  },
  {
   "cell_type": "code",
   "execution_count": 14,
   "metadata": {},
   "outputs": [],
   "source": [
    "#Doesn't work, don't run\n",
    "class MultiGPU(tf.keras.optimizers.schedules.LearningRateSchedule):    \n",
    "    def __init__(self, d_model, step_stages, step_mult, epochs_step):\n",
    "        super().__init__()\n",
    "        \n",
    "        init_lr = np.array([\n",
    "            #1-20: good, slightly high\n",
    "            step_stages[0] * (4000 ** -1.5),\n",
    "            #20-75: low\n",
    "            step_stages[1] * (4000 ** -1.5),\n",
    "            #75-120: good\n",
    "            step_stages[2] * step_mult ** tf.math.floor(step_stages[2] / epochs_step),\n",
    "            #120-200: low\n",
    "            step_stages[3] * 0.08 * (4000 ** -1.5)])\n",
    "\n",
    "        self.d_model = d_model\n",
    "        self.d_model = tf.cast(self.d_model, tf.float32)\n",
    "\n",
    "        self.step_stages = step_stages\n",
    "        self.step_mult = step_mult\n",
    "        self.epochs_step = epochs_step\n",
    "        self.init_lr = init_lr\n",
    "        \n",
    "\n",
    "    def __call__(self, step):\n",
    "        step = tf.cast(step, dtype=tf.float32)\n",
    "        #print(step)\n",
    "        #print(step.numpy)\n",
    "        #print(np.array(step))\n",
    "        step_stages = self.step_stages\n",
    "        step_mult = self.step_mult\n",
    "        epochs_step = self.epochs_step\n",
    "        init_lr = self.init_lr\n",
    "        \n",
    "        #0-20: good, slightly high\n",
    "        if np.array(step) < step_stages[1]:\n",
    "            arg = step * (4000 ** -1.5)\n",
    "        #20-75: low\n",
    "        elif np.array(step) < step_stages[2]:\n",
    "            initial = tf.cast(init_lr[1], dtype=tf.float32)\n",
    "            arg = initial * step_mult[0] ** tf.math.floor(step / epochs_step)\n",
    "        #75-120: good\n",
    "        elif np.array(step) < step_stages[3]:\n",
    "            arg = step * (4000 ** -1.5)\n",
    "        #120+: low\n",
    "        elif np.array(step) < step_stages[4]:\n",
    "            initial =  tf.cast(init_lr[3], dtype=tf.float32)\n",
    "            arg = initial * step_mult[1] ** tf.math.floor(step / epochs_step)\n",
    "                    \n",
    "        #arg1 = tf.math.rsqrt(step)\n",
    "        #arg2 = step * (self.warmup_steps ** -1.5)\n",
    "        return tf.math.rsqrt(self.d_model) * tf.cast(arg, tf.float32)\n",
    "    \n",
    "    def get_config(self):\n",
    "        return {\n",
    "            \"d_model\" : self.d_model,\n",
    "            \"step_stages\" : self.step_stages,\n",
    "            \"step_mult\" : self.step_mult,\n",
    "            \"epochs_step\" : self.epochs_step,\n",
    "            \"init_lr\" : self.init_lr,\n",
    "        }\n",
    "    \n",
    "    def from_config(cls, config):\n",
    "         return cls(**config)"
   ]
  },
  {
   "cell_type": "markdown",
   "metadata": {},
   "source": [
    "### Model Training"
   ]
  },
  {
   "cell_type": "code",
   "execution_count": 15,
   "metadata": {},
   "outputs": [],
   "source": [
    "num_layers = 2\n",
    "d_model = 64\n",
    "dff = 768\n",
    "num_heads = 10\n",
    "dropout_rate = 0.1\n",
    "epochs = 100\n",
    "num_classes = len(np.unique(y_train))\n",
    "batch_size = 128\n",
    "multi_gpu = False #If true, distrubutes over all GPUS allocated. If false, runs on 1 gpu"
   ]
  },
  {
   "cell_type": "code",
   "execution_count": 17,
   "metadata": {
    "scrolled": true
   },
   "outputs": [],
   "source": [
    "train_dataset = tf.data.Dataset.from_tensor_slices((X_train, y_train)).batch(batch_size)\n",
    "val_dataset = tf.data.Dataset.from_tensor_slices((X_val, y_val)).batch(batch_size)"
   ]
  },
  {
   "cell_type": "code",
   "execution_count": 18,
   "metadata": {},
   "outputs": [],
   "source": [
    "def get_compiled_model():    \n",
    "    #if(multi_gpu):\n",
    "        #learning_rate = MultiGPU(d_model, \n",
    "                         #step_stages=np.array([1, 20, 75, 120, 200]), \n",
    "                         #step_mult=np.array([1.3, 1.2]), \n",
    "                         #epochs_step=10.0)\n",
    "    #else:\n",
    "    learning_rate = CustomSchedule(d_model)\n",
    "        \n",
    "    optimizer = tf.keras.optimizers.Adam(learning_rate, beta_1=0.9, beta_2=0.98, epsilon=1e-9)\n",
    "    \n",
    "    model = EncoderClassifier(\n",
    "        num_layers=num_layers,\n",
    "        d_model=d_model,\n",
    "        num_heads=num_heads,\n",
    "        dff=dff,\n",
    "        vocab_size=vocab_size,\n",
    "        num_classes=num_classes,\n",
    "        dropout_rate=dropout_rate\n",
    "    )\n",
    "    \n",
    "    model.compile(\n",
    "            loss=tf.keras.losses.SparseCategoricalCrossentropy(),\n",
    "            optimizer=optimizer,\n",
    "            metrics=['accuracy'])\n",
    "    \n",
    "    return model"
   ]
  },
  {
   "cell_type": "code",
   "execution_count": 19,
   "metadata": {},
   "outputs": [],
   "source": [
    "def define_workers(strategy):\n",
    "    replicas = strategy.num_replicas_in_sync\n",
    "    replica_batch = global_batch/replicas\n",
    "    return replicas, replica_batch"
   ]
  },
  {
   "cell_type": "code",
   "execution_count": 20,
   "metadata": {},
   "outputs": [],
   "source": [
    "def distribute_dataset(strategy):\n",
    "    #train_dataset = tf.data.Dataset.from_tensor_slices((X_train, y_train)).batch(global_batch)\n",
    "    #val_dataset = tf.data.Dataset.from_tensor_slices((X_val, y_val)).batch(global_batch)\n",
    "    #train_dataset = train_dataset.batch(global_batch)\n",
    "    #val_dataset = val_dataset.batch(global_batch)\n",
    "\n",
    "    train_dist = strategy.experimental_distribute_dataset(train_dataset)\n",
    "    val_dist = strategy.experimental_distribute_dataset(val_dataset)\n",
    "    return train_dist, val_dist"
   ]
  },
  {
   "cell_type": "code",
   "execution_count": 21,
   "metadata": {},
   "outputs": [],
   "source": [
    "if(multi_gpu):\n",
    "    #Create a MirroredStrategy.\n",
    "    strategy = tf.distribute.MirroredStrategy()\n",
    "    print(\"Number of devices: {}\".format(strategy.num_replicas_in_sync))\n",
    "\n",
    "    #Open a strategy scope.\n",
    "    with strategy.scope():\n",
    "        #Everything that creates variables should be under the strategy scope.\n",
    "        #In general this is only model construction & `compile()`.\n",
    "        model = get_compiled_model()\n",
    "\n",
    "    replicas, replica_batch = define_workers(strategy)\n",
    "    train_dist, val_dist = distribute_dataset(strategy)\n",
    "else:\n",
    "    model = get_compiled_model()"
   ]
  },
  {
   "cell_type": "code",
   "execution_count": 31,
   "metadata": {},
   "outputs": [
    {
     "name": "stdout",
     "output_type": "stream",
     "text": [
      "Name: tensorflow\n",
      "Version: 2.11.0\n",
      "Summary: TensorFlow is an open source machine learning framework for everyone.\n",
      "Home-page: https://www.tensorflow.org/\n",
      "Author: Google Inc.\n",
      "Author-email: packages@tensorflow.org\n",
      "License: Apache 2.0\n",
      "Location: /home/milleraa/.local/lib/python3.8/site-packages\n",
      "Requires: absl-py, astunparse, flatbuffers, gast, google-pasta, grpcio, h5py, keras, libclang, numpy, opt-einsum, packaging, protobuf, setuptools, six, tensorboard, tensorflow-estimator, tensorflow-io-gcs-filesystem, termcolor, typing-extensions, wrapt\n",
      "Required-by: keras-tuner\n",
      "Note: you may need to restart the kernel to use updated packages.\n"
     ]
    }
   ],
   "source": [
    "pip show tensorflow\n",
    "$ python /home/milleraa/.local/lib/python3.8/site-packages/tensorflow/tensorboard/tensorboard.py --logdir=/milleraa/projects/MoonWallRating/TensorBoard"
   ]
  },
  {
   "cell_type": "code",
   "execution_count": 59,
   "metadata": {},
   "outputs": [
    {
     "name": "stdout",
     "output_type": "stream",
     "text": [
      "Epoch 1/100\n",
      "224/224 [==============================] - 14s 37ms/step - loss: 2.0325 - accuracy: 0.2273 - val_loss: 1.4931 - val_accuracy: 0.4227\n",
      "Epoch 2/100\n",
      "224/224 [==============================] - 4s 20ms/step - loss: 1.4975 - accuracy: 0.3738 - val_loss: 1.3193 - val_accuracy: 0.4379\n",
      "Epoch 3/100\n",
      "224/224 [==============================] - 5s 20ms/step - loss: 1.3629 - accuracy: 0.4215 - val_loss: 1.2679 - val_accuracy: 0.4621\n",
      "Epoch 4/100\n",
      "224/224 [==============================] - 4s 20ms/step - loss: 1.3298 - accuracy: 0.4343 - val_loss: 1.2668 - val_accuracy: 0.4628\n",
      "Epoch 5/100\n",
      "224/224 [==============================] - 5s 20ms/step - loss: 1.3051 - accuracy: 0.4433 - val_loss: 1.2837 - val_accuracy: 0.4506\n",
      "Epoch 6/100\n",
      "224/224 [==============================] - 5s 20ms/step - loss: 1.2757 - accuracy: 0.4610 - val_loss: 1.2873 - val_accuracy: 0.4460\n",
      "Epoch 7/100\n",
      "224/224 [==============================] - 4s 20ms/step - loss: 1.2571 - accuracy: 0.4697 - val_loss: 1.2752 - val_accuracy: 0.4552\n",
      "Epoch 8/100\n",
      "224/224 [==============================] - 5s 20ms/step - loss: 1.2318 - accuracy: 0.4819 - val_loss: 1.3118 - val_accuracy: 0.4351\n",
      "Epoch 9/100\n",
      "224/224 [==============================] - 5s 20ms/step - loss: 1.2008 - accuracy: 0.4963 - val_loss: 1.3308 - val_accuracy: 0.4367\n",
      "Epoch 10/100\n",
      "224/224 [==============================] - 5s 21ms/step - loss: 1.1675 - accuracy: 0.5109 - val_loss: 1.3807 - val_accuracy: 0.4155\n",
      "Epoch 11/100\n",
      "224/224 [==============================] - 4s 20ms/step - loss: 1.1300 - accuracy: 0.5316 - val_loss: 1.3792 - val_accuracy: 0.4413\n",
      "Epoch 12/100\n",
      "224/224 [==============================] - 4s 20ms/step - loss: 1.0941 - accuracy: 0.5503 - val_loss: 1.3622 - val_accuracy: 0.4430\n",
      "Epoch 13/100\n",
      "224/224 [==============================] - 4s 20ms/step - loss: 1.0627 - accuracy: 0.5660 - val_loss: 1.4107 - val_accuracy: 0.4291\n",
      "Epoch 14/100\n",
      "224/224 [==============================] - 4s 20ms/step - loss: 1.0280 - accuracy: 0.5810 - val_loss: 1.4342 - val_accuracy: 0.4522\n",
      "Epoch 15/100\n",
      "224/224 [==============================] - 4s 20ms/step - loss: 1.0043 - accuracy: 0.5973 - val_loss: 1.4240 - val_accuracy: 0.4513\n",
      "Epoch 16/100\n",
      "224/224 [==============================] - 5s 20ms/step - loss: 0.9754 - accuracy: 0.6112 - val_loss: 1.3941 - val_accuracy: 0.4596\n",
      "Epoch 17/100\n",
      "224/224 [==============================] - 4s 20ms/step - loss: 0.9376 - accuracy: 0.6295 - val_loss: 1.4302 - val_accuracy: 0.4559\n",
      "Epoch 18/100\n",
      "224/224 [==============================] - 5s 20ms/step - loss: 0.8799 - accuracy: 0.6514 - val_loss: 1.5303 - val_accuracy: 0.4540\n",
      "Epoch 19/100\n",
      "224/224 [==============================] - 5s 20ms/step - loss: 0.8490 - accuracy: 0.6664 - val_loss: 1.4859 - val_accuracy: 0.4471\n",
      "Epoch 20/100\n",
      "224/224 [==============================] - 4s 20ms/step - loss: 0.8074 - accuracy: 0.6833 - val_loss: 1.5392 - val_accuracy: 0.4667\n",
      "Epoch 21/100\n",
      "224/224 [==============================] - 5s 20ms/step - loss: 0.7635 - accuracy: 0.7073 - val_loss: 1.5594 - val_accuracy: 0.4639\n",
      "Epoch 22/100\n",
      "224/224 [==============================] - 4s 20ms/step - loss: 0.7270 - accuracy: 0.7185 - val_loss: 1.5977 - val_accuracy: 0.4630\n",
      "Epoch 23/100\n",
      "224/224 [==============================] - 5s 20ms/step - loss: 0.6932 - accuracy: 0.7354 - val_loss: 1.6333 - val_accuracy: 0.4672\n",
      "Epoch 24/100\n",
      "224/224 [==============================] - 4s 20ms/step - loss: 0.6628 - accuracy: 0.7516 - val_loss: 1.6064 - val_accuracy: 0.4630\n",
      "Epoch 25/100\n",
      "224/224 [==============================] - 5s 20ms/step - loss: 0.6262 - accuracy: 0.7643 - val_loss: 1.6844 - val_accuracy: 0.4616\n",
      "Epoch 26/100\n",
      "224/224 [==============================] - 5s 20ms/step - loss: 0.6033 - accuracy: 0.7757 - val_loss: 1.7064 - val_accuracy: 0.4702\n",
      "Epoch 27/100\n",
      "224/224 [==============================] - 5s 20ms/step - loss: 0.5735 - accuracy: 0.7920 - val_loss: 1.7312 - val_accuracy: 0.4593\n",
      "Epoch 28/100\n",
      "224/224 [==============================] - 5s 20ms/step - loss: 0.5542 - accuracy: 0.7955 - val_loss: 1.7777 - val_accuracy: 0.4704\n",
      "Epoch 29/100\n",
      "224/224 [==============================] - 5s 20ms/step - loss: 0.5275 - accuracy: 0.8081 - val_loss: 1.7760 - val_accuracy: 0.4655\n",
      "Epoch 30/100\n",
      "224/224 [==============================] - 5s 20ms/step - loss: 0.4985 - accuracy: 0.8208 - val_loss: 1.8694 - val_accuracy: 0.4662\n",
      "Epoch 31/100\n",
      "224/224 [==============================] - 5s 20ms/step - loss: 0.4780 - accuracy: 0.8269 - val_loss: 1.8124 - val_accuracy: 0.4630\n",
      "Epoch 32/100\n",
      "224/224 [==============================] - 5s 21ms/step - loss: 0.4597 - accuracy: 0.8337 - val_loss: 1.9244 - val_accuracy: 0.4602\n",
      "Epoch 33/100\n",
      "224/224 [==============================] - 5s 20ms/step - loss: 0.4451 - accuracy: 0.8401 - val_loss: 1.8127 - val_accuracy: 0.4642\n",
      "Epoch 34/100\n",
      "224/224 [==============================] - 5s 20ms/step - loss: 0.4240 - accuracy: 0.8482 - val_loss: 1.9762 - val_accuracy: 0.4612\n",
      "Epoch 35/100\n",
      "224/224 [==============================] - 5s 20ms/step - loss: 0.4075 - accuracy: 0.8575 - val_loss: 1.9658 - val_accuracy: 0.4543\n",
      "Epoch 36/100\n",
      "224/224 [==============================] - 5s 20ms/step - loss: 0.3906 - accuracy: 0.8621 - val_loss: 1.9807 - val_accuracy: 0.4519\n",
      "Epoch 37/100\n",
      "224/224 [==============================] - 4s 20ms/step - loss: 0.3780 - accuracy: 0.8682 - val_loss: 2.0671 - val_accuracy: 0.4630\n",
      "Epoch 38/100\n",
      "224/224 [==============================] - 5s 20ms/step - loss: 0.3670 - accuracy: 0.8694 - val_loss: 2.0573 - val_accuracy: 0.4547\n",
      "Epoch 39/100\n",
      "224/224 [==============================] - 5s 20ms/step - loss: 0.3639 - accuracy: 0.8713 - val_loss: 1.9507 - val_accuracy: 0.4619\n",
      "Epoch 40/100\n",
      "224/224 [==============================] - 5s 20ms/step - loss: 0.3410 - accuracy: 0.8829 - val_loss: 2.0191 - val_accuracy: 0.4704\n",
      "Epoch 41/100\n",
      "224/224 [==============================] - 5s 20ms/step - loss: 0.3350 - accuracy: 0.8827 - val_loss: 2.1121 - val_accuracy: 0.4545\n",
      "Epoch 42/100\n",
      "224/224 [==============================] - 5s 20ms/step - loss: 0.3178 - accuracy: 0.8897 - val_loss: 2.1228 - val_accuracy: 0.4688\n",
      "Epoch 43/100\n",
      "224/224 [==============================] - 4s 20ms/step - loss: 0.3092 - accuracy: 0.8912 - val_loss: 2.2275 - val_accuracy: 0.4549\n",
      "Epoch 44/100\n",
      "224/224 [==============================] - 5s 21ms/step - loss: 0.3129 - accuracy: 0.8917 - val_loss: 2.2900 - val_accuracy: 0.4531\n",
      "Epoch 45/100\n",
      "224/224 [==============================] - 5s 21ms/step - loss: 0.2933 - accuracy: 0.8987 - val_loss: 2.1917 - val_accuracy: 0.4612\n",
      "Epoch 46/100\n",
      "224/224 [==============================] - 5s 20ms/step - loss: 0.2887 - accuracy: 0.9012 - val_loss: 2.2547 - val_accuracy: 0.4506\n",
      "Epoch 47/100\n",
      "224/224 [==============================] - 4s 20ms/step - loss: 0.2851 - accuracy: 0.9027 - val_loss: 2.3436 - val_accuracy: 0.4543\n",
      "Epoch 48/100\n",
      "224/224 [==============================] - 5s 20ms/step - loss: 0.2712 - accuracy: 0.9051 - val_loss: 2.3304 - val_accuracy: 0.4621\n",
      "Epoch 49/100\n",
      "224/224 [==============================] - 5s 20ms/step - loss: 0.2674 - accuracy: 0.9082 - val_loss: 2.3681 - val_accuracy: 0.4619\n",
      "Epoch 50/100\n",
      "224/224 [==============================] - 5s 20ms/step - loss: 0.2574 - accuracy: 0.9121 - val_loss: 2.3887 - val_accuracy: 0.4630\n",
      "Epoch 51/100\n",
      "224/224 [==============================] - 5s 20ms/step - loss: 0.2496 - accuracy: 0.9147 - val_loss: 2.3952 - val_accuracy: 0.4517\n",
      "Epoch 52/100\n",
      "224/224 [==============================] - 5s 20ms/step - loss: 0.2523 - accuracy: 0.9135 - val_loss: 2.4704 - val_accuracy: 0.4552\n",
      "Epoch 53/100\n",
      "224/224 [==============================] - 5s 20ms/step - loss: 0.2397 - accuracy: 0.9172 - val_loss: 2.6422 - val_accuracy: 0.4480\n",
      "Epoch 54/100\n",
      "224/224 [==============================] - 4s 20ms/step - loss: 0.2399 - accuracy: 0.9180 - val_loss: 2.5003 - val_accuracy: 0.4623\n",
      "Epoch 55/100\n",
      "224/224 [==============================] - 5s 21ms/step - loss: 0.2288 - accuracy: 0.9225 - val_loss: 2.4558 - val_accuracy: 0.4549\n",
      "Epoch 56/100\n",
      "224/224 [==============================] - 5s 21ms/step - loss: 0.2236 - accuracy: 0.9232 - val_loss: 2.5005 - val_accuracy: 0.4526\n",
      "Epoch 57/100\n",
      "224/224 [==============================] - 5s 20ms/step - loss: 0.2233 - accuracy: 0.9226 - val_loss: 2.4881 - val_accuracy: 0.4619\n",
      "Epoch 58/100\n",
      "224/224 [==============================] - 5s 20ms/step - loss: 0.2139 - accuracy: 0.9263 - val_loss: 2.4404 - val_accuracy: 0.4586\n",
      "Epoch 59/100\n",
      "224/224 [==============================] - 5s 20ms/step - loss: 0.2091 - accuracy: 0.9294 - val_loss: 2.6339 - val_accuracy: 0.4575\n",
      "Epoch 60/100\n",
      "224/224 [==============================] - 5s 20ms/step - loss: 0.2070 - accuracy: 0.9295 - val_loss: 2.6081 - val_accuracy: 0.4494\n",
      "Epoch 61/100\n",
      "224/224 [==============================] - 5s 20ms/step - loss: 0.1968 - accuracy: 0.9333 - val_loss: 2.7908 - val_accuracy: 0.4503\n",
      "Epoch 62/100\n",
      "224/224 [==============================] - 4s 20ms/step - loss: 0.2017 - accuracy: 0.9314 - val_loss: 2.6252 - val_accuracy: 0.4577\n",
      "Epoch 63/100\n",
      "224/224 [==============================] - 5s 21ms/step - loss: 0.1982 - accuracy: 0.9316 - val_loss: 2.5321 - val_accuracy: 0.4524\n",
      "Epoch 64/100\n",
      "224/224 [==============================] - 4s 20ms/step - loss: 0.1884 - accuracy: 0.9357 - val_loss: 2.6422 - val_accuracy: 0.4471\n",
      "Epoch 65/100\n",
      "224/224 [==============================] - 4s 20ms/step - loss: 0.1819 - accuracy: 0.9379 - val_loss: 2.6723 - val_accuracy: 0.4614\n",
      "Epoch 66/100\n",
      "224/224 [==============================] - 4s 20ms/step - loss: 0.1876 - accuracy: 0.9353 - val_loss: 2.6323 - val_accuracy: 0.4568\n",
      "Epoch 67/100\n",
      "224/224 [==============================] - 5s 21ms/step - loss: 0.1826 - accuracy: 0.9390 - val_loss: 2.8333 - val_accuracy: 0.4589\n",
      "Epoch 68/100\n",
      "224/224 [==============================] - 4s 20ms/step - loss: 0.1817 - accuracy: 0.9371 - val_loss: 2.7520 - val_accuracy: 0.4490\n",
      "Epoch 69/100\n",
      "224/224 [==============================] - 4s 20ms/step - loss: 0.1780 - accuracy: 0.9406 - val_loss: 2.6547 - val_accuracy: 0.4519\n",
      "Epoch 70/100\n",
      "224/224 [==============================] - 4s 20ms/step - loss: 0.1734 - accuracy: 0.9394 - val_loss: 2.6843 - val_accuracy: 0.4572\n",
      "Epoch 71/100\n",
      "224/224 [==============================] - 5s 20ms/step - loss: 0.1721 - accuracy: 0.9414 - val_loss: 2.6626 - val_accuracy: 0.4480\n",
      "Epoch 72/100\n",
      "224/224 [==============================] - 4s 20ms/step - loss: 0.1665 - accuracy: 0.9434 - val_loss: 2.7662 - val_accuracy: 0.4602\n",
      "Epoch 73/100\n",
      "224/224 [==============================] - 4s 20ms/step - loss: 0.1709 - accuracy: 0.9421 - val_loss: 2.6297 - val_accuracy: 0.4531\n",
      "Epoch 74/100\n",
      "224/224 [==============================] - 5s 20ms/step - loss: 0.1627 - accuracy: 0.9445 - val_loss: 2.8542 - val_accuracy: 0.4584\n",
      "Epoch 75/100\n",
      "224/224 [==============================] - 5s 20ms/step - loss: 0.1579 - accuracy: 0.9481 - val_loss: 2.6707 - val_accuracy: 0.4582\n",
      "Epoch 76/100\n",
      "224/224 [==============================] - 5s 20ms/step - loss: 0.1536 - accuracy: 0.9470 - val_loss: 2.9158 - val_accuracy: 0.4625\n",
      "Epoch 77/100\n",
      "224/224 [==============================] - 5s 20ms/step - loss: 0.1569 - accuracy: 0.9486 - val_loss: 2.7340 - val_accuracy: 0.4584\n",
      "Epoch 78/100\n",
      "224/224 [==============================] - 4s 20ms/step - loss: 0.1489 - accuracy: 0.9501 - val_loss: 2.8028 - val_accuracy: 0.4577\n",
      "Epoch 79/100\n",
      "224/224 [==============================] - 4s 20ms/step - loss: 0.1460 - accuracy: 0.9504 - val_loss: 2.9096 - val_accuracy: 0.4503\n",
      "Epoch 80/100\n",
      "224/224 [==============================] - 5s 20ms/step - loss: 0.1476 - accuracy: 0.9501 - val_loss: 2.8831 - val_accuracy: 0.4448\n",
      "Epoch 81/100\n",
      "224/224 [==============================] - 4s 20ms/step - loss: 0.1437 - accuracy: 0.9513 - val_loss: 2.9796 - val_accuracy: 0.4554\n",
      "Epoch 82/100\n",
      "224/224 [==============================] - 4s 20ms/step - loss: 0.1420 - accuracy: 0.9526 - val_loss: 2.9852 - val_accuracy: 0.4524\n",
      "Epoch 83/100\n",
      "224/224 [==============================] - 4s 20ms/step - loss: 0.1453 - accuracy: 0.9507 - val_loss: 2.7838 - val_accuracy: 0.4416\n",
      "Epoch 84/100\n",
      "224/224 [==============================] - 4s 20ms/step - loss: 0.1338 - accuracy: 0.9546 - val_loss: 2.8653 - val_accuracy: 0.4471\n",
      "Epoch 85/100\n",
      "224/224 [==============================] - 4s 20ms/step - loss: 0.1400 - accuracy: 0.9518 - val_loss: 2.8756 - val_accuracy: 0.4575\n",
      "Epoch 86/100\n",
      "224/224 [==============================] - 5s 20ms/step - loss: 0.1367 - accuracy: 0.9529 - val_loss: 3.1447 - val_accuracy: 0.4552\n",
      "Epoch 87/100\n",
      "224/224 [==============================] - 5s 20ms/step - loss: 0.1380 - accuracy: 0.9530 - val_loss: 2.9357 - val_accuracy: 0.4457\n",
      "Epoch 88/100\n",
      "224/224 [==============================] - 5s 20ms/step - loss: 0.1313 - accuracy: 0.9565 - val_loss: 2.9307 - val_accuracy: 0.4683\n",
      "Epoch 89/100\n",
      "224/224 [==============================] - 4s 20ms/step - loss: 0.1367 - accuracy: 0.9548 - val_loss: 2.9971 - val_accuracy: 0.4566\n",
      "Epoch 90/100\n",
      "224/224 [==============================] - 4s 20ms/step - loss: 0.1283 - accuracy: 0.9571 - val_loss: 3.0245 - val_accuracy: 0.4720\n",
      "Epoch 91/100\n",
      "224/224 [==============================] - 5s 20ms/step - loss: 0.1225 - accuracy: 0.9591 - val_loss: 3.2018 - val_accuracy: 0.4722\n",
      "Epoch 92/100\n",
      "224/224 [==============================] - 4s 20ms/step - loss: 0.1298 - accuracy: 0.9562 - val_loss: 3.1785 - val_accuracy: 0.4536\n",
      "Epoch 93/100\n",
      "224/224 [==============================] - 5s 21ms/step - loss: 0.1254 - accuracy: 0.9584 - val_loss: 2.8497 - val_accuracy: 0.4614\n",
      "Epoch 94/100\n",
      "224/224 [==============================] - 5s 20ms/step - loss: 0.1169 - accuracy: 0.9603 - val_loss: 3.0673 - val_accuracy: 0.4478\n",
      "Epoch 95/100\n",
      "224/224 [==============================] - 5s 20ms/step - loss: 0.1249 - accuracy: 0.9579 - val_loss: 3.1739 - val_accuracy: 0.4589\n",
      "Epoch 96/100\n",
      "224/224 [==============================] - 4s 20ms/step - loss: 0.1194 - accuracy: 0.9600 - val_loss: 3.0972 - val_accuracy: 0.4526\n",
      "Epoch 97/100\n",
      "224/224 [==============================] - 4s 20ms/step - loss: 0.1165 - accuracy: 0.9619 - val_loss: 3.2661 - val_accuracy: 0.4517\n",
      "Epoch 98/100\n",
      "224/224 [==============================] - 5s 20ms/step - loss: 0.1168 - accuracy: 0.9613 - val_loss: 2.8973 - val_accuracy: 0.4616\n",
      "Epoch 99/100\n",
      "224/224 [==============================] - 5s 20ms/step - loss: 0.1194 - accuracy: 0.9594 - val_loss: 3.0135 - val_accuracy: 0.4579\n",
      "Epoch 100/100\n",
      "224/224 [==============================] - 4s 20ms/step - loss: 0.1212 - accuracy: 0.9590 - val_loss: 2.8805 - val_accuracy: 0.4669\n"
     ]
    }
   ],
   "source": [
    "if(multi_gpu):\n",
    "    #Havings issues, doesn't return correct data. Evalutes in 2-3m thought\n",
    "    history = model.fit(train_dist, batch_size=replica_batch, epochs=epochs, \n",
    "                        validation_data=val_dist, steps_per_epoch=replicas*8, validation_steps=replicas, verbose=1)\n",
    "else:\n",
    "    history = model.fit(train_dataset, batch_size=batch_size, epochs=epochs, validation_data=val_dataset, verbose=1)"
   ]
  },
  {
   "cell_type": "code",
   "execution_count": 21,
   "metadata": {},
   "outputs": [],
   "source": [
    "#model.save(\"1gpu_batch64_epoch150_dmodel164_drop25\")"
   ]
  },
  {
   "cell_type": "code",
   "execution_count": 22,
   "metadata": {},
   "outputs": [],
   "source": [
    "#model = tf.saved_model.load(\"1gpu_batch48_epoch300_dmodel64_drop25\")"
   ]
  },
  {
   "cell_type": "markdown",
   "metadata": {},
   "source": [
    "### Keras Tuner"
   ]
  },
  {
   "cell_type": "code",
   "execution_count": 44,
   "metadata": {},
   "outputs": [],
   "source": [
    "import keras_tuner\n",
    "# Variables:\n",
    "\n",
    "#constant\n",
    "num_classes = 10\n",
    "epochs = 30\n",
    "# Iteration one, 68 trials :\n",
    "\n",
    "# num_layers   =  2    -  8,   step 2   ->   2\n",
    "# d_model      =  64   -  512, step 64  ->   64\n",
    "# dff          =  512  -  2048, step 256 ->  768\n",
    "# num_heads    =  4    -  10,   step 2   ->  10\n",
    "# dropout_rate =  0.1  -  0.4,  step 0.1 ->  0.1\n",
    "# warmup_steps =  2500 -  5500, step 500 ->  3500\n",
    "\n",
    "\n",
    "\n",
    "# Iteration two, 100(?) trials:\n",
    "\n",
    "# num_layers   =  1    -  4,   step 1   ->  \n",
    "# d_model      =  16   -  128, step 8  ->\n",
    "# dff          =  512  -  1024, step 32 ->\n",
    "# num_heads    =  8    -  14,   step 1   ->\n",
    "# dropout_rate =  0.04 -  0.24,  step 0.02 ->\n",
    "# warmup_steps =  2500 -  4750, step 250 ->\n",
    "# beta_1       =  0.79 -  0.95, step 0.02\n",
    "# beta_2       =  0.95 -  0.99, step 0.005\n",
    "# epsilon      = 1e-11 -  1e-7, step NA   ->\n",
    "\n",
    "\n",
    "# Implement:\n",
    "# global_batch =  16   -  128,  step 16  ->\n",
    "\n",
    "# learning_rate = CustomSchedule(d_model, warmup_steps=warmup_steps)\n",
    "# ptimizer = tf.keras.optimizers.Adam(learning_rate, beta_1=0.9, beta_2=0.98, epsilon=1e-9)"
   ]
  },
  {
   "cell_type": "code",
   "execution_count": 48,
   "metadata": {},
   "outputs": [],
   "source": [
    "def build_model(hp):  \n",
    "    num_layers = hp.Int(\"num_layers\", min_value=1, max_value=4, step=1)\n",
    "    d_model = hp.Int(\"d_model\", min_value=16, max_value=128, step=8)\n",
    "    dff = hp.Int(\"dff\", min_value=512, max_value=1024, step=32)\n",
    "    num_heads = hp.Int(\"num_heads\", min_value=8, max_value=14, step=1)\n",
    "    dropout_rate = hp.Float(\"dropout_rate\", min_value=0.04, max_value=0.24, step=0.02)\n",
    "    warmup_steps = hp.Int(\"warmup_steps\", min_value=2500, max_value=4750, step=250)\n",
    "    #batch_size = hp.Int(\"batch_size\", min_value=16, max_value=128, step=16)\n",
    "    \n",
    "    num_classes = 10\n",
    "    \n",
    "    learning_rate = CustomSchedule(d_model, warmup_steps=warmup_steps)\n",
    "    optimizer = tf.keras.optimizers.Adam(learning_rate, \n",
    "                                         beta_1=hp.Float(\"beta_1\", min_value=0.79, max_value=0.95, step=0.02),\n",
    "                                         beta_2=hp.Float(\"beta_2\", min_value=0.95, max_value=0.99, step=0.005),\n",
    "                                         epsilon=hp.Float(\"epsilon\", min_value=1e-11, max_value=1e-7))\n",
    "    \n",
    "    model = EncoderClassifier(\n",
    "        num_layers=num_layers,\n",
    "        d_model=d_model,\n",
    "        num_heads=num_heads,\n",
    "        dff=dff,\n",
    "        vocab_size=vocab_size,\n",
    "        num_classes=num_classes,\n",
    "        dropout_rate=dropout_rate\n",
    "    )\n",
    "    \n",
    "    model.compile(\n",
    "            loss=tf.keras.losses.SparseCategoricalCrossentropy(),\n",
    "            optimizer=optimizer,\n",
    "            metrics=['accuracy'])\n",
    "    \n",
    "    return model"
   ]
  },
  {
   "cell_type": "code",
   "execution_count": 49,
   "metadata": {},
   "outputs": [],
   "source": [
    "tuner = keras_tuner.BayesianOptimization(\n",
    "    build_model,\n",
    "    max_trials=100,\n",
    "    # Do not resume the previous search in the same directory.\n",
    "    overwrite=True,\n",
    "    objective=\"val_accuracy\",\n",
    "    # Set a directory to store the intermediate results.\n",
    ")"
   ]
  },
  {
   "cell_type": "code",
   "execution_count": 50,
   "metadata": {},
   "outputs": [],
   "source": [
    "build_model(keras_tuner.HyperParameters())\n",
    "hp = keras_tuner.HyperParameters()"
   ]
  },
  {
   "cell_type": "code",
   "execution_count": null,
   "metadata": {
    "scrolled": true
   },
   "outputs": [
    {
     "name": "stdout",
     "output_type": "stream",
     "text": [
      "Trial 27 Complete [00h 01m 49s]\n",
      "val_accuracy: 0.5034578442573547\n",
      "\n",
      "Best val_accuracy So Far: 0.5034578442573547\n",
      "Total elapsed time: 00h 54m 28s\n",
      "\n",
      "Search: Running Trial #28\n",
      "\n",
      "Value             |Best Value So Far |Hyperparameter\n",
      "2                 |2                 |num_layers\n",
      "72                |64                |d_model\n",
      "864               |864               |dff\n",
      "14                |14                |num_heads\n",
      "0.18              |0.16              |dropout_rate\n",
      "3000              |2750              |warmup_steps\n",
      "0.81              |0.81              |beta_1\n",
      "0.96              |0.97              |beta_2\n",
      "5.3361e-08        |3.8093e-08        |epsilon\n",
      "\n",
      "Epoch 1/30\n",
      "150/150 [==============================] - 14s 48ms/step - loss: 2.2216 - accuracy: 0.1690 - val_loss: 1.8610 - val_accuracy: 0.3402\n",
      "Epoch 2/30\n",
      " 43/150 [=======>......................] - ETA: 2s - loss: 1.9972 - accuracy: 0.2435"
     ]
    }
   ],
   "source": [
    "tuner.search(train_dataset, epochs=30, batch_size=64, validation_data=val_dataset)\n",
    "best_model = tuner.get_best_models()[5]"
   ]
  },
  {
   "cell_type": "markdown",
   "metadata": {},
   "source": [
    "### Training Plots"
   ]
  },
  {
   "cell_type": "code",
   "execution_count": 39,
   "metadata": {
    "scrolled": false
   },
   "outputs": [
    {
     "data": {
      "text/plain": [
       "<matplotlib.legend.Legend at 0x7febd48dd3d0>"
      ]
     },
     "execution_count": 39,
     "metadata": {},
     "output_type": "execute_result"
    },
    {
     "data": {
      "image/png": "[encoded data removed]",
      "text/plain": [
       "<Figure size 432x288 with 1 Axes>"
      ]
     },
     "metadata": {
      "needs_background": "light"
     },
     "output_type": "display_data"
    }
   ],
   "source": [
    "plt.title('Accuracy')\n",
    "plt.xlabel('Epochs')\n",
    "plt.ylabel('Accuracy')\n",
    "plt.plot(history.history['accuracy'], label='Train Accuracy')\n",
    "plt.plot(history.history['val_accuracy'], label='Validation Accuracy')\n",
    "plt.legend()"
   ]
  },
  {
   "cell_type": "code",
   "execution_count": 40,
   "metadata": {
    "scrolled": false
   },
   "outputs": [
    {
     "data": {
      "text/plain": [
       "<matplotlib.legend.Legend at 0x7febd482c850>"
      ]
     },
     "execution_count": 40,
     "metadata": {},
     "output_type": "execute_result"
    },
    {
     "data": {
      "image/png": "[encoded data removed]",
      "text/plain": [
       "<Figure size 432x288 with 1 Axes>"
      ]
     },
     "metadata": {
      "needs_background": "light"
     },
     "output_type": "display_data"
    }
   ],
   "source": [
    "plt.title('Loss')\n",
    "plt.xlabel('Epochs')\n",
    "plt.ylabel('Loss')\n",
    "#plt.axis([75, 200, 1.2, 2.2])\n",
    "plt.plot(history.history['loss'], label='Train Loss')\n",
    "plt.plot(history.history['val_loss'], label='Validation Loss')\n",
    "plt.legend()"
   ]
  },
  {
   "cell_type": "code",
   "execution_count": 41,
   "metadata": {
    "scrolled": false
   },
   "outputs": [
    {
     "data": {
      "text/plain": [
       "<matplotlib.legend.Legend at 0x7febd48afe80>"
      ]
     },
     "execution_count": 41,
     "metadata": {},
     "output_type": "execute_result"
    },
    {
     "data": {
      "image/png": "[encoded data removed]",
      "text/plain": [
       "<Figure size 432x288 with 1 Axes>"
      ]
     },
     "metadata": {
      "needs_background": "light"
     },
     "output_type": "display_data"
    }
   ],
   "source": [
    "#learning_rate = MultiGPU(d_model, \n",
    "                         #step_stages=np.array([1, 20, 75, 120, 200]), \n",
    "                         #step_mult=np.array([1.3, 1.2]), \n",
    "                         #epochs_step=10.0)\n",
    "learning_rate = CustomSchedule(d_model)\n",
    "lr = np.array([])\n",
    "for i in range(1, 100):\n",
    "    lr = np.append(lr, learning_rate.__call__(i*298))\n",
    "    #print(learning_rate.__call__(i).numpy())\n",
    "plt.title('Learning Rate')\n",
    "plt.xlabel('Epoch')\n",
    "plt.ylabel('Learning Rate')\n",
    "plt.plot(lr, label='Learning Rate')\n",
    "#plt.axis([0, 300, 0, 0.000125])\n",
    "plt.legend()\n"
   ]
  },
  {
   "cell_type": "markdown",
   "metadata": {},
   "source": [
    "### Model Evaluation"
   ]
  },
  {
   "cell_type": "code",
   "execution_count": 47,
   "metadata": {
    "scrolled": false
   },
   "outputs": [
    {
     "name": "stdout",
     "output_type": "stream",
     "text": [
      "68/68 [==============================] - 0s 7ms/step\n"
     ]
    }
   ],
   "source": [
    "pred = model.predict(X_test)"
   ]
  },
  {
   "cell_type": "code",
   "execution_count": 48,
   "metadata": {},
   "outputs": [],
   "source": [
    "def norm_cm(cm):\n",
    "    return np.array([cm[i] / np.sum(cm[i]) for i in range(len(cm))])\n",
    "def un_norm_cm(norm_cm):\n",
    "    np.array([\n",
    "        cm[i] / np.sum(cm[i]) for i in range(len(cm))\n",
    "    ])\n",
    "    \n",
    "def accuracy(cm):\n",
    "    return cm.diagonal().sum() / cm.sum()\n",
    "def top_1_accuracy(cm):\n",
    "    return (cm.diagonal(-1).sum() + cm.diagonal(0).sum() + cm.diagonal(1).sum()) / cm.sum()\n",
    "def top_2_accuracy(cm):\n",
    "    return (cm.diagonal(-2).sum() + cm.diagonal(-1).sum() + cm.diagonal(0).sum() + cm.diagonal(1).sum() +\n",
    "                 cm.diagonal(2).sum()) / cm.sum()"
   ]
  },
  {
   "cell_type": "code",
   "execution_count": 49,
   "metadata": {},
   "outputs": [
    {
     "name": "stdout",
     "output_type": "stream",
     "text": [
      "accuracy 0.49078341013824883\n",
      "+-1 accuracy 0.8474654377880184\n",
      "+-2 accuracy 0.9612903225806452\n"
     ]
    }
   ],
   "source": [
    "cm = confusion_matrix(y_test, np.argmax(pred, axis=1))\n",
    "normalized_cm = norm_cm(cm)\n",
    "print('accuracy', accuracy(cm))\n",
    "print('+-1 accuracy', top_1_accuracy(cm))\n",
    "print('+-2 accuracy', top_2_accuracy(cm))"
   ]
  },
  {
   "cell_type": "markdown",
   "metadata": {},
   "source": [
    "Heatmap"
   ]
  },
  {
   "cell_type": "code",
   "execution_count": 45,
   "metadata": {
    "scrolled": true
   },
   "outputs": [
    {
     "data": {
      "text/plain": [
       "<AxesSubplot:>"
      ]
     },
     "execution_count": 45,
     "metadata": {},
     "output_type": "execute_result"
    },
    {
     "data": {
      "image/png": "[encoded data removed]",
      "text/plain": [
       "<Figure size 432x288 with 2 Axes>"
      ]
     },
     "metadata": {
      "needs_background": "light"
     },
     "output_type": "display_data"
    }
   ],
   "source": [
    "sns.heatmap(cm, xticklabels=range(2, 11), yticklabels=range(2, 11), annot=True, fmt='g', square=True)"
   ]
  },
  {
   "cell_type": "markdown",
   "metadata": {},
   "source": [
    "Normalized Heatmap"
   ]
  },
  {
   "cell_type": "code",
   "execution_count": 46,
   "metadata": {
    "scrolled": false
   },
   "outputs": [
    {
     "data": {
      "text/plain": [
       "<AxesSubplot:>"
      ]
     },
     "execution_count": 46,
     "metadata": {},
     "output_type": "execute_result"
    },
    {
     "data": {
      "image/png": "[encoded data removed]",
      "text/plain": [
       "<Figure size 432x288 with 2 Axes>"
      ]
     },
     "metadata": {
      "needs_background": "light"
     },
     "output_type": "display_data"
    }
   ],
   "source": [
    "sns.heatmap(normalized_cm, xticklabels=range(2, 11), yticklabels=range(2, 11), annot=True, fmt='.2f', square=True)"
   ]
  },
  {
   "cell_type": "code",
   "execution_count": 114,
   "metadata": {},
   "outputs": [
    {
     "name": "stdout",
     "output_type": "stream",
     "text": [
      "accuracy 0.21877188886294655\n",
      "+-1 accuracy 0.5626897034788699\n",
      "+-2 accuracy 0.7555451786131216\n"
     ]
    }
   ],
   "source": [
    "GCNcm = np.array([\n",
    "    [263, 58, 32, 7, 5, 3, 1, 2, 2, 0, 0],\n",
    "    [175, 98, 64, 19, 22, 20, 4, 3, 6, 0, 4],\n",
    "    [66, 132, 79, 25, 31, 29, 3, 16, 11, 0, 3],\n",
    "    [29, 78, 62, 37, 53, 51, 36, 23, 6, 3, 13],\n",
    "    [29, 55, 43, 24, 35, 62, 33, 63, 9, 2, 23],\n",
    "    [10, 38, 46, 26, 62, 41, 73, 99, 11, 0, 12],\n",
    "    [0, 25, 19, 19, 10, 34, 112, 158, 14, 6, 11],\n",
    "    [45, 0, 63, 0, 27, 82, 0, 89, 59, 0, 0],\n",
    "    [0, 0, 0, 0, 0, 0, 242, 87, 183, 86, 0],\n",
    "    [0, 0, 0, 0, 0, 0, 141, 0, 133, 0, 126],\n",
    "    [142, 0, 0, 0, 0, 0, 0, 0, 0, 0, 0]\n",
    "])\n",
    "#normalized_GCNcm = norm_cm(GCNcm)\n",
    "print('accuracy', accuracy(GCNcm))\n",
    "#print('accuracy', accuracy(normalized_GCNcm))\n",
    "print('+-1 accuracy', top_1_accuracy(GCNcm))\n",
    "#print('+-1 accuracy', top_1_accuracy(normalized_GCNcm))\n",
    "print('+-2 accuracy', top_2_accuracy(GCNcm))\n",
    "#print('+-2 accuracy', top_2_accuracy(normalized_GCNcm))"
   ]
  }
 ],
 "metadata": {
  "kernelspec": {
   "display_name": "Python 3 (ipykernel)",
   "language": "python",
   "name": "python3"
  },
  "language_info": {
   "codemirror_mode": {
    "name": "ipython",
    "version": 3
   },
   "file_extension": ".py",
   "mimetype": "text/x-python",
   "name": "python",
   "nbconvert_exporter": "python",
   "pygments_lexer": "ipython3",
   "version": "3.8.10"
  },
  "vscode": {
   "interpreter": {
    "hash": "11938c6bc6919ae2720b4d5011047913343b08a43b18698fd82dedb0d4417594"
   }
  }
 },
 "nbformat": 4,
 "nbformat_minor": 2
}
